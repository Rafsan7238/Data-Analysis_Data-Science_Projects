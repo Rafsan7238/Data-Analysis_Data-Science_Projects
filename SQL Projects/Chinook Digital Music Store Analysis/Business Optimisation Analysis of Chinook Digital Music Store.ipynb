{
    "metadata": {
        "kernelspec": {
            "name": "SQL",
            "display_name": "SQL",
            "language": "sql"
        },
        "language_info": {
            "name": "sql",
            "version": ""
        }
    },
    "nbformat_minor": 2,
    "nbformat": 4,
    "cells": [
        {
            "cell_type": "markdown",
            "source": [
                "# **Business Optimisation Analysis of Chinook Digital Music Store**\n",
                "\n",
                "Business optimisation is the process of improving the efficiency, productivity and performance of an organisation. It is the idea of consistently striving for better outcomes. This can apply both to internal operations and external products. Key elements of business optimisation include:\n",
                "\n",
                "- Measurement of productivity, efficiency and performance\n",
                "- Identifying areas for improvement\n",
                "- Introducing new methods and processes\n",
                "- Measuring and comparing results\n",
                "- Repeating the cycle\n",
                "\n",
                "Some examples of business optimisation include:\n",
                "\n",
                "- Introducing new methods, practices and systems that reduce turnaround time\n",
                "- Reducing costs while improving performance\n",
                "- Automation of repetitive tasks\n",
                "- Increasing sales through enhancing customer satisfaction etc.\n",
                "\n",
                "Hence, in this project I have conducted an analysis for Chinook, an imaginary digital music store, to help optimise their business. The database has been collected from the <a href=\"https://github.com/lerocha/chinook-database\" target=\"_blank\">github repo</a> of <a href=\"https://github.com/lerocha\" target=\"_blank\">Luis Rocha</a>."
            ],
            "metadata": {
                "azdata_cell_guid": "21e5d8d8-516d-43cf-9ecc-ed29f3c828d7"
            },
            "attachments": {}
        }
    ]
}