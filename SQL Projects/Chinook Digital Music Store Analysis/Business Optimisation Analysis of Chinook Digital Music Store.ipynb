{
    "metadata": {
        "kernelspec": {
            "name": "SQL",
            "display_name": "SQL",
            "language": "sql"
        },
        "language_info": {
            "name": "sql",
            "version": ""
        }
    },
    "nbformat_minor": 2,
    "nbformat": 4,
    "cells": [
        {
            "cell_type": "markdown",
            "source": [
                "# **Business Optimisation Analysis of Chinook Digital Music Store**\n",
                "\n",
                "Business optimisation is the process of improving the efficiency, productivity and performance of an organisation. It is the idea of consistently striving for better outcomes. This can apply both to internal operations and external products. Key elements of business optimisation include:\n",
                "\n",
                "- Measurement of productivity, efficiency and performance\n",
                "- Identifying areas for improvement\n",
                "- Introducing new methods and processes\n",
                "- Measuring and comparing results\n",
                "- Repeating the cycle\n",
                "\n",
                "Some examples of business optimisation include:\n",
                "\n",
                "- Introducing new methods, practices and systems that reduce turnaround time\n",
                "- Reducing costs while improving performance\n",
                "- Automation of repetitive tasks\n",
                "- Increasing sales through enhancing customer satisfaction etc.\n",
                "\n",
                "Hence, in this project I have conducted an analysis for Chinook, an imaginary digital music store, to help optimise their business. The database has been collected from the <a href=\"https://github.com/lerocha/chinook-database\" target=\"_blank\">github repo</a> of <a href=\"https://github.com/lerocha\" target=\"_blank\">Luis Rocha</a>."
            ],
            "metadata": {
                "azdata_cell_guid": "21e5d8d8-516d-43cf-9ecc-ed29f3c828d7"
            },
            "attachments": {}
        },
        {
            "cell_type": "markdown",
            "source": [
                "## \\*\\*Use Chinook Database\\*\\*"
            ],
            "metadata": {
                "azdata_cell_guid": "9ba58500-bf5f-4294-92ca-028336eb90cc"
            },
            "attachments": {}
        },
        {
            "cell_type": "code",
            "source": [
                "USE Chinook;\n",
                "GO"
            ],
            "metadata": {
                "azdata_cell_guid": "d011f7a0-e647-47ff-ae84-f9254e02ea86",
                "language": "sql"
            },
            "outputs": [
                {
                    "output_type": "display_data",
                    "data": {
                        "text/html": "Commands completed successfully."
                    },
                    "metadata": {}
                },
                {
                    "output_type": "display_data",
                    "data": {
                        "text/html": "Total execution time: 00:00:00.004"
                    },
                    "metadata": {}
                }
            ],
            "execution_count": 10
        },
        {
            "cell_type": "markdown",
            "source": [
                "## Most Profitable Genres\n",
                "\n",
                "The Chinook record store has just signed a deal with a new record label, and we need to select the first three albums that will be added to the store, from a list of four. All four albums are by artists that don't have any tracks in the store right now - we have the artist names, and the genre of music they produce:\n",
                "\n",
                "- Regal _Hip-Hop_\n",
                "- Red Tone _Punk_\n",
                "- Meteor and the Girls _Pop_\n",
                "- Slim Jim Bites _Blues_\n",
                "\n",
                "Let's find the top genres in Chinook."
            ],
            "metadata": {
                "language": "sql",
                "azdata_cell_guid": "b3fe6651-f632-4a79-bbe8-9c14d707dac3"
            },
            "attachments": {}
        },
        {
            "cell_type": "code",
            "source": [
                "SELECT Genre.Name AS genre, SUM(InvoiceLine.Quantity) AS tracks_sold, SUM(InvoiceLine.UnitPrice * InvoiceLine.Quantity) AS total_sales_USD\n",
                "FROM InvoiceLine\n",
                "JOIN Track \n",
                "ON InvoiceLine.TrackId = Track.TrackId \n",
                "JOIN Genre \n",
                "ON Track.GenreId = Genre.GenreId\n",
                "GROUP BY Genre.Name\n",
                "ORDER BY tracks_sold DESC;"
            ],
            "metadata": {
                "language": "sql",
                "azdata_cell_guid": "48c3c1f1-0b77-486e-a3ff-80a69d8685c3"
            },
            "outputs": [
                {
                    "output_type": "display_data",
                    "data": {
                        "text/html": "(24 rows affected)"
                    },
                    "metadata": {}
                },
                {
                    "output_type": "display_data",
                    "data": {
                        "text/html": "Total execution time: 00:00:00.098"
                    },
                    "metadata": {}
                },
                {
                    "output_type": "execute_result",
                    "metadata": {},
                    "execution_count": 13,
                    "data": {
                        "application/vnd.dataresource+json": {
                            "schema": {
                                "fields": [
                                    {
                                        "name": "genre"
                                    },
                                    {
                                        "name": "tracks_sold"
                                    },
                                    {
                                        "name": "total_sales_USD"
                                    }
                                ]
                            },
                            "data": [
                                {
                                    "0": "Rock",
                                    "1": "835",
                                    "2": "826.65"
                                },
                                {
                                    "0": "Latin",
                                    "1": "386",
                                    "2": "382.14"
                                },
                                {
                                    "0": "Metal",
                                    "1": "264",
                                    "2": "261.36"
                                },
                                {
                                    "0": "Alternative & Punk",
                                    "1": "244",
                                    "2": "241.56"
                                },
                                {
                                    "0": "Jazz",
                                    "1": "80",
                                    "2": "79.20"
                                },
                                {
                                    "0": "Blues",
                                    "1": "61",
                                    "2": "60.39"
                                },
                                {
                                    "0": "TV Shows",
                                    "1": "47",
                                    "2": "93.53"
                                },
                                {
                                    "0": "R&B/Soul",
                                    "1": "41",
                                    "2": "40.59"
                                },
                                {
                                    "0": "Classical",
                                    "1": "41",
                                    "2": "40.59"
                                },
                                {
                                    "0": "Reggae",
                                    "1": "30",
                                    "2": "29.70"
                                },
                                {
                                    "0": "Drama",
                                    "1": "29",
                                    "2": "57.71"
                                },
                                {
                                    "0": "Pop",
                                    "1": "28",
                                    "2": "27.72"
                                },
                                {
                                    "0": "Sci Fi & Fantasy",
                                    "1": "20",
                                    "2": "39.80"
                                },
                                {
                                    "0": "Soundtrack",
                                    "1": "20",
                                    "2": "19.80"
                                },
                                {
                                    "0": "Hip Hop/Rap",
                                    "1": "17",
                                    "2": "16.83"
                                },
                                {
                                    "0": "Bossa Nova",
                                    "1": "15",
                                    "2": "14.85"
                                },
                                {
                                    "0": "Alternative",
                                    "1": "14",
                                    "2": "13.86"
                                },
                                {
                                    "0": "World",
                                    "1": "13",
                                    "2": "12.87"
                                },
                                {
                                    "0": "Electronica/Dance",
                                    "1": "12",
                                    "2": "11.88"
                                },
                                {
                                    "0": "Heavy Metal",
                                    "1": "12",
                                    "2": "11.88"
                                },
                                {
                                    "0": "Easy Listening",
                                    "1": "10",
                                    "2": "9.90"
                                },
                                {
                                    "0": "Comedy",
                                    "1": "9",
                                    "2": "17.91"
                                },
                                {
                                    "0": "Science Fiction",
                                    "1": "6",
                                    "2": "11.94"
                                },
                                {
                                    "0": "Rock And Roll",
                                    "1": "6",
                                    "2": "5.94"
                                }
                            ]
                        },
                        "text/html": [
                            "<table>",
                            "<tr><th>genre</th><th>tracks_sold</th><th>total_sales_USD</th></tr>",
                            "<tr><td>Rock</td><td>835</td><td>826.65</td></tr>",
                            "<tr><td>Latin</td><td>386</td><td>382.14</td></tr>",
                            "<tr><td>Metal</td><td>264</td><td>261.36</td></tr>",
                            "<tr><td>Alternative &amp; Punk</td><td>244</td><td>241.56</td></tr>",
                            "<tr><td>Jazz</td><td>80</td><td>79.20</td></tr>",
                            "<tr><td>Blues</td><td>61</td><td>60.39</td></tr>",
                            "<tr><td>TV Shows</td><td>47</td><td>93.53</td></tr>",
                            "<tr><td>R&amp;B/Soul</td><td>41</td><td>40.59</td></tr>",
                            "<tr><td>Classical</td><td>41</td><td>40.59</td></tr>",
                            "<tr><td>Reggae</td><td>30</td><td>29.70</td></tr>",
                            "<tr><td>Drama</td><td>29</td><td>57.71</td></tr>",
                            "<tr><td>Pop</td><td>28</td><td>27.72</td></tr>",
                            "<tr><td>Sci Fi &amp; Fantasy</td><td>20</td><td>39.80</td></tr>",
                            "<tr><td>Soundtrack</td><td>20</td><td>19.80</td></tr>",
                            "<tr><td>Hip Hop/Rap</td><td>17</td><td>16.83</td></tr>",
                            "<tr><td>Bossa Nova</td><td>15</td><td>14.85</td></tr>",
                            "<tr><td>Alternative</td><td>14</td><td>13.86</td></tr>",
                            "<tr><td>World</td><td>13</td><td>12.87</td></tr>",
                            "<tr><td>Electronica/Dance</td><td>12</td><td>11.88</td></tr>",
                            "<tr><td>Heavy Metal</td><td>12</td><td>11.88</td></tr>",
                            "<tr><td>Easy Listening</td><td>10</td><td>9.90</td></tr>",
                            "<tr><td>Comedy</td><td>9</td><td>17.91</td></tr>",
                            "<tr><td>Science Fiction</td><td>6</td><td>11.94</td></tr>",
                            "<tr><td>Rock And Roll</td><td>6</td><td>5.94</td></tr>",
                            "</table>"
                        ]
                    }
                }
            ],
            "execution_count": 13
        },
        {
            "cell_type": "markdown",
            "source": [
                "Based on the sales of tracks across different genres, we should definitely add the album by Red Tone (Punk), and may also add the albums by Slim Jim Bites (Blues) and Meteor and the Girls (Pop)."
            ],
            "metadata": {
                "azdata_cell_guid": "1055bbef-a3e4-422c-99ec-55ceb5027219"
            },
            "attachments": {}
        },
        {
            "cell_type": "markdown",
            "source": [
                "## Performance of Sales Support Agents\n",
                "\n",
                "Each customer for the Chinook store gets assigned to a sales support agent within the company when they first make a purchase. We need to analyze the purchases of customers belonging to each employee to see if any sales support agent is performing either better or worse than the others."
            ],
            "metadata": {
                "azdata_cell_guid": "7c703f97-c727-42ee-848b-92dce1704e9c"
            },
            "attachments": {}
        },
        {
            "cell_type": "code",
            "source": [
                "WITH total_sales_rep AS \n",
                "(\n",
                "    SELECT c.SupportRepId, SUM(i.Total) AS total_sales\n",
                "    FROM Customer c\n",
                "    LEFT JOIN Invoice i\n",
                "    ON c.CustomerId = i.CustomerId \n",
                "    GROUP BY c.SupportRepId \n",
                ")\n",
                "\n",
                "SELECT (e.FirstName + ' ' +  e.LastName) AS Name, e.Title, e.HireDate, ts.total_sales \n",
                "FROM Employee e\n",
                "JOIN total_sales_rep ts\n",
                "ON e.EmployeeId = ts.SupportRepId \n",
                "ORDER BY ts.total_sales DESC;"
            ],
            "metadata": {
                "azdata_cell_guid": "ef0973fb-e560-40b5-9688-d28d2b55f551",
                "language": "sql"
            },
            "outputs": [
                {
                    "output_type": "display_data",
                    "data": {
                        "text/html": "(3 rows affected)"
                    },
                    "metadata": {}
                },
                {
                    "output_type": "display_data",
                    "data": {
                        "text/html": "Total execution time: 00:00:00.030"
                    },
                    "metadata": {}
                },
                {
                    "output_type": "execute_result",
                    "metadata": {},
                    "execution_count": 16,
                    "data": {
                        "application/vnd.dataresource+json": {
                            "schema": {
                                "fields": [
                                    {
                                        "name": "Name"
                                    },
                                    {
                                        "name": "Title"
                                    },
                                    {
                                        "name": "HireDate"
                                    },
                                    {
                                        "name": "total_sales"
                                    }
                                ]
                            },
                            "data": [
                                {
                                    "0": "Jane Peacock",
                                    "1": "Sales Support Agent",
                                    "2": "2002-04-01 00:00:00.000",
                                    "3": "833.04"
                                },
                                {
                                    "0": "Margaret Park",
                                    "1": "Sales Support Agent",
                                    "2": "2003-05-03 00:00:00.000",
                                    "3": "775.40"
                                },
                                {
                                    "0": "Steve Johnson",
                                    "1": "Sales Support Agent",
                                    "2": "2003-10-17 00:00:00.000",
                                    "3": "720.16"
                                }
                            ]
                        },
                        "text/html": [
                            "<table>",
                            "<tr><th>Name</th><th>Title</th><th>HireDate</th><th>total_sales</th></tr>",
                            "<tr><td>Jane Peacock</td><td>Sales Support Agent</td><td>2002-04-01 00:00:00.000</td><td>833.04</td></tr>",
                            "<tr><td>Margaret Park</td><td>Sales Support Agent</td><td>2003-05-03 00:00:00.000</td><td>775.40</td></tr>",
                            "<tr><td>Steve Johnson</td><td>Sales Support Agent</td><td>2003-10-17 00:00:00.000</td><td>720.16</td></tr>",
                            "</table>"
                        ]
                    }
                }
            ],
            "execution_count": 16
        },
        {
            "cell_type": "markdown",
            "source": [
                "While there is about 14% difference in sales between Jane (the top employee) and Steve (the bottom employee), the difference roughly corresponds with the differences in their hiring dates."
            ],
            "metadata": {
                "azdata_cell_guid": "15d0b568-b53e-4abc-93f2-c5e926d131f0"
            },
            "attachments": {}
        }
    ]
}