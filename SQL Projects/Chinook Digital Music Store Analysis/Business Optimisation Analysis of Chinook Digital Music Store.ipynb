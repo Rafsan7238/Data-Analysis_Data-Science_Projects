{
    "metadata": {
        "kernelspec": {
            "name": "SQL",
            "display_name": "SQL",
            "language": "sql"
        },
        "language_info": {
            "name": "sql",
            "version": ""
        }
    },
    "nbformat_minor": 2,
    "nbformat": 4,
    "cells": [
        {
            "cell_type": "markdown",
            "source": [
                "# **Business Optimisation Analysis of Chinook Digital Music Store**\n",
                "\n",
                "Business optimisation is the process of improving the efficiency, productivity and performance of an organisation. It is the idea of consistently striving for better outcomes. This can apply both to internal operations and external products. Key elements of business optimisation include:\n",
                "\n",
                "- Measurement of productivity, efficiency and performance\n",
                "- Identifying areas for improvement\n",
                "- Introducing new methods and processes\n",
                "- Measuring and comparing results\n",
                "- Repeating the cycle\n",
                "\n",
                "Some examples of business optimisation include:\n",
                "\n",
                "- Introducing new methods, practices and systems that reduce turnaround time\n",
                "- Reducing costs while improving performance\n",
                "- Automation of repetitive tasks\n",
                "- Increasing sales through enhancing customer satisfaction etc.\n",
                "\n",
                "Hence, in this project I have conducted an analysis for Chinook, an imaginary digital music store, to help optimise their business. The database has been collected from the <a href=\"https://github.com/lerocha/chinook-database\" target=\"_blank\">github repo</a> of <a href=\"https://github.com/lerocha\" target=\"_blank\">Luis Rocha</a>."
            ],
            "metadata": {
                "azdata_cell_guid": "21e5d8d8-516d-43cf-9ecc-ed29f3c828d7"
            },
            "attachments": {}
        },
        {
            "cell_type": "markdown",
            "source": [
                "## \\*\\*Use Chinook Database\\*\\*"
            ],
            "metadata": {
                "azdata_cell_guid": "9ba58500-bf5f-4294-92ca-028336eb90cc"
            },
            "attachments": {}
        },
        {
            "cell_type": "code",
            "source": [
                "USE Chinook;\n",
                "GO"
            ],
            "metadata": {
                "azdata_cell_guid": "d011f7a0-e647-47ff-ae84-f9254e02ea86",
                "language": "sql"
            },
            "outputs": [
                {
                    "output_type": "display_data",
                    "data": {
                        "text/html": "Commands completed successfully."
                    },
                    "metadata": {}
                },
                {
                    "output_type": "display_data",
                    "data": {
                        "text/html": "Total execution time: 00:00:00.004"
                    },
                    "metadata": {}
                }
            ],
            "execution_count": 10
        },
        {
            "cell_type": "markdown",
            "source": [
                "## Most Profitable Genres\n",
                "\n",
                "The Chinook record store has just signed a deal with a new record label, and we need to select the first three albums that will be added to the store, from a list of four. All four albums are by artists that don't have any tracks in the store right now - we have the artist names, and the genre of music they produce:\n",
                "\n",
                "- Regal _Hip-Hop_\n",
                "- Red Tone _Punk_\n",
                "- Meteor and the Girls _Pop_\n",
                "- Slim Jim Bites _Blues_\n",
                "\n",
                "Let's find the top genres in Chinook."
            ],
            "metadata": {
                "language": "sql",
                "azdata_cell_guid": "b3fe6651-f632-4a79-bbe8-9c14d707dac3"
            },
            "attachments": {}
        },
        {
            "cell_type": "code",
            "source": [
                "SELECT Genre.Name AS genre, SUM(InvoiceLine.Quantity) AS tracks_sold, SUM(InvoiceLine.UnitPrice * InvoiceLine.Quantity) AS total_sales_USD\n",
                "FROM InvoiceLine\n",
                "JOIN Track \n",
                "ON InvoiceLine.TrackId = Track.TrackId \n",
                "JOIN Genre \n",
                "ON Track.GenreId = Genre.GenreId\n",
                "GROUP BY Genre.Name\n",
                "ORDER BY tracks_sold DESC;"
            ],
            "metadata": {
                "language": "sql",
                "azdata_cell_guid": "48c3c1f1-0b77-486e-a3ff-80a69d8685c3"
            },
            "outputs": [
                {
                    "output_type": "display_data",
                    "data": {
                        "text/html": "(24 rows affected)"
                    },
                    "metadata": {}
                },
                {
                    "output_type": "display_data",
                    "data": {
                        "text/html": "Total execution time: 00:00:00.098"
                    },
                    "metadata": {}
                },
                {
                    "output_type": "execute_result",
                    "metadata": {},
                    "execution_count": 13,
                    "data": {
                        "application/vnd.dataresource+json": {
                            "schema": {
                                "fields": [
                                    {
                                        "name": "genre"
                                    },
                                    {
                                        "name": "tracks_sold"
                                    },
                                    {
                                        "name": "total_sales_USD"
                                    }
                                ]
                            },
                            "data": [
                                {
                                    "0": "Rock",
                                    "1": "835",
                                    "2": "826.65"
                                },
                                {
                                    "0": "Latin",
                                    "1": "386",
                                    "2": "382.14"
                                },
                                {
                                    "0": "Metal",
                                    "1": "264",
                                    "2": "261.36"
                                },
                                {
                                    "0": "Alternative & Punk",
                                    "1": "244",
                                    "2": "241.56"
                                },
                                {
                                    "0": "Jazz",
                                    "1": "80",
                                    "2": "79.20"
                                },
                                {
                                    "0": "Blues",
                                    "1": "61",
                                    "2": "60.39"
                                },
                                {
                                    "0": "TV Shows",
                                    "1": "47",
                                    "2": "93.53"
                                },
                                {
                                    "0": "R&B/Soul",
                                    "1": "41",
                                    "2": "40.59"
                                },
                                {
                                    "0": "Classical",
                                    "1": "41",
                                    "2": "40.59"
                                },
                                {
                                    "0": "Reggae",
                                    "1": "30",
                                    "2": "29.70"
                                },
                                {
                                    "0": "Drama",
                                    "1": "29",
                                    "2": "57.71"
                                },
                                {
                                    "0": "Pop",
                                    "1": "28",
                                    "2": "27.72"
                                },
                                {
                                    "0": "Sci Fi & Fantasy",
                                    "1": "20",
                                    "2": "39.80"
                                },
                                {
                                    "0": "Soundtrack",
                                    "1": "20",
                                    "2": "19.80"
                                },
                                {
                                    "0": "Hip Hop/Rap",
                                    "1": "17",
                                    "2": "16.83"
                                },
                                {
                                    "0": "Bossa Nova",
                                    "1": "15",
                                    "2": "14.85"
                                },
                                {
                                    "0": "Alternative",
                                    "1": "14",
                                    "2": "13.86"
                                },
                                {
                                    "0": "World",
                                    "1": "13",
                                    "2": "12.87"
                                },
                                {
                                    "0": "Electronica/Dance",
                                    "1": "12",
                                    "2": "11.88"
                                },
                                {
                                    "0": "Heavy Metal",
                                    "1": "12",
                                    "2": "11.88"
                                },
                                {
                                    "0": "Easy Listening",
                                    "1": "10",
                                    "2": "9.90"
                                },
                                {
                                    "0": "Comedy",
                                    "1": "9",
                                    "2": "17.91"
                                },
                                {
                                    "0": "Science Fiction",
                                    "1": "6",
                                    "2": "11.94"
                                },
                                {
                                    "0": "Rock And Roll",
                                    "1": "6",
                                    "2": "5.94"
                                }
                            ]
                        },
                        "text/html": [
                            "<table>",
                            "<tr><th>genre</th><th>tracks_sold</th><th>total_sales_USD</th></tr>",
                            "<tr><td>Rock</td><td>835</td><td>826.65</td></tr>",
                            "<tr><td>Latin</td><td>386</td><td>382.14</td></tr>",
                            "<tr><td>Metal</td><td>264</td><td>261.36</td></tr>",
                            "<tr><td>Alternative &amp; Punk</td><td>244</td><td>241.56</td></tr>",
                            "<tr><td>Jazz</td><td>80</td><td>79.20</td></tr>",
                            "<tr><td>Blues</td><td>61</td><td>60.39</td></tr>",
                            "<tr><td>TV Shows</td><td>47</td><td>93.53</td></tr>",
                            "<tr><td>R&amp;B/Soul</td><td>41</td><td>40.59</td></tr>",
                            "<tr><td>Classical</td><td>41</td><td>40.59</td></tr>",
                            "<tr><td>Reggae</td><td>30</td><td>29.70</td></tr>",
                            "<tr><td>Drama</td><td>29</td><td>57.71</td></tr>",
                            "<tr><td>Pop</td><td>28</td><td>27.72</td></tr>",
                            "<tr><td>Sci Fi &amp; Fantasy</td><td>20</td><td>39.80</td></tr>",
                            "<tr><td>Soundtrack</td><td>20</td><td>19.80</td></tr>",
                            "<tr><td>Hip Hop/Rap</td><td>17</td><td>16.83</td></tr>",
                            "<tr><td>Bossa Nova</td><td>15</td><td>14.85</td></tr>",
                            "<tr><td>Alternative</td><td>14</td><td>13.86</td></tr>",
                            "<tr><td>World</td><td>13</td><td>12.87</td></tr>",
                            "<tr><td>Electronica/Dance</td><td>12</td><td>11.88</td></tr>",
                            "<tr><td>Heavy Metal</td><td>12</td><td>11.88</td></tr>",
                            "<tr><td>Easy Listening</td><td>10</td><td>9.90</td></tr>",
                            "<tr><td>Comedy</td><td>9</td><td>17.91</td></tr>",
                            "<tr><td>Science Fiction</td><td>6</td><td>11.94</td></tr>",
                            "<tr><td>Rock And Roll</td><td>6</td><td>5.94</td></tr>",
                            "</table>"
                        ]
                    }
                }
            ],
            "execution_count": 13
        },
        {
            "cell_type": "markdown",
            "source": [
                "Based on the sales of tracks across different genres, we should definitely add the album by Red Tone (Punk), and may also add the albums by Slim Jim Bites (Blues) and Meteor and the Girls (Pop)."
            ],
            "metadata": {
                "azdata_cell_guid": "1055bbef-a3e4-422c-99ec-55ceb5027219"
            },
            "attachments": {}
        },
        {
            "cell_type": "markdown",
            "source": [
                "## Performance of Sales Support Agents\n",
                "\n",
                "Each customer for the Chinook store gets assigned to a sales support agent within the company when they first make a purchase. We need to analyze the purchases of customers belonging to each employee to see if any sales support agent is performing either better or worse than the others."
            ],
            "metadata": {
                "azdata_cell_guid": "7c703f97-c727-42ee-848b-92dce1704e9c"
            },
            "attachments": {}
        },
        {
            "cell_type": "code",
            "source": [
                "WITH total_sales_rep AS \n",
                "(\n",
                "    SELECT c.SupportRepId, SUM(i.Total) AS total_sales_USD\n",
                "    FROM Customer c\n",
                "    LEFT JOIN Invoice i\n",
                "    ON c.CustomerId = i.CustomerId \n",
                "    GROUP BY c.SupportRepId \n",
                ")\n",
                "\n",
                "SELECT (e.FirstName + ' ' +  e.LastName) AS Name, e.Title, e.HireDate, ts.total_sales_USD\n",
                "FROM Employee e\n",
                "JOIN total_sales_rep ts\n",
                "ON e.EmployeeId = ts.SupportRepId \n",
                "ORDER BY ts.total_sales_USD DESC;"
            ],
            "metadata": {
                "azdata_cell_guid": "ef0973fb-e560-40b5-9688-d28d2b55f551",
                "language": "sql"
            },
            "outputs": [
                {
                    "output_type": "display_data",
                    "data": {
                        "text/html": "(3 rows affected)"
                    },
                    "metadata": {}
                },
                {
                    "output_type": "display_data",
                    "data": {
                        "text/html": "Total execution time: 00:00:00.030"
                    },
                    "metadata": {}
                },
                {
                    "output_type": "execute_result",
                    "metadata": {},
                    "execution_count": 18,
                    "data": {
                        "application/vnd.dataresource+json": {
                            "schema": {
                                "fields": [
                                    {
                                        "name": "Name"
                                    },
                                    {
                                        "name": "Title"
                                    },
                                    {
                                        "name": "HireDate"
                                    },
                                    {
                                        "name": "total_sales_USD"
                                    }
                                ]
                            },
                            "data": [
                                {
                                    "0": "Jane Peacock",
                                    "1": "Sales Support Agent",
                                    "2": "2002-04-01 00:00:00.000",
                                    "3": "833.04"
                                },
                                {
                                    "0": "Margaret Park",
                                    "1": "Sales Support Agent",
                                    "2": "2003-05-03 00:00:00.000",
                                    "3": "775.40"
                                },
                                {
                                    "0": "Steve Johnson",
                                    "1": "Sales Support Agent",
                                    "2": "2003-10-17 00:00:00.000",
                                    "3": "720.16"
                                }
                            ]
                        },
                        "text/html": [
                            "<table>",
                            "<tr><th>Name</th><th>Title</th><th>HireDate</th><th>total_sales_USD</th></tr>",
                            "<tr><td>Jane Peacock</td><td>Sales Support Agent</td><td>2002-04-01 00:00:00.000</td><td>833.04</td></tr>",
                            "<tr><td>Margaret Park</td><td>Sales Support Agent</td><td>2003-05-03 00:00:00.000</td><td>775.40</td></tr>",
                            "<tr><td>Steve Johnson</td><td>Sales Support Agent</td><td>2003-10-17 00:00:00.000</td><td>720.16</td></tr>",
                            "</table>"
                        ]
                    }
                }
            ],
            "execution_count": 18
        },
        {
            "cell_type": "markdown",
            "source": [
                "While there is about 14% difference in sales between Jane (the top employee) and Steve (the bottom employee), the difference roughly corresponds with the differences in their hiring dates."
            ],
            "metadata": {
                "azdata_cell_guid": "15d0b568-b53e-4abc-93f2-c5e926d131f0"
            },
            "attachments": {}
        },
        {
            "cell_type": "markdown",
            "source": [
                "## Country Sales Analytics\n",
                "\n",
                "We wish to find the least profitable countries, i.e. countries that generated the least revenue, so that we can run a marketing campaign to boost sales there."
            ],
            "metadata": {
                "azdata_cell_guid": "64752726-9b08-4ce4-acec-eca10ed4b569"
            },
            "attachments": {}
        },
        {
            "cell_type": "code",
            "source": [
                "SELECT BillingCountry AS Country, COUNT(*) AS total_invoices, SUM(Total) AS total_sales_USD\n",
                "FROM Invoice\n",
                "GROUP BY BillingCountry\n",
                "ORDER BY total_sales_USD DESC;"
            ],
            "metadata": {
                "azdata_cell_guid": "64696c5c-5679-4689-9304-9f460d2f413c",
                "language": "sql"
            },
            "outputs": [
                {
                    "output_type": "display_data",
                    "data": {
                        "text/html": "(24 rows affected)"
                    },
                    "metadata": {}
                },
                {
                    "output_type": "display_data",
                    "data": {
                        "text/html": "Total execution time: 00:00:00.037"
                    },
                    "metadata": {}
                },
                {
                    "output_type": "execute_result",
                    "metadata": {},
                    "execution_count": 20,
                    "data": {
                        "application/vnd.dataresource+json": {
                            "schema": {
                                "fields": [
                                    {
                                        "name": "Country"
                                    },
                                    {
                                        "name": "total_invoices"
                                    },
                                    {
                                        "name": "total_sales_USD"
                                    }
                                ]
                            },
                            "data": [
                                {
                                    "0": "USA",
                                    "1": "91",
                                    "2": "523.06"
                                },
                                {
                                    "0": "Canada",
                                    "1": "56",
                                    "2": "303.96"
                                },
                                {
                                    "0": "France",
                                    "1": "35",
                                    "2": "195.10"
                                },
                                {
                                    "0": "Brazil",
                                    "1": "35",
                                    "2": "190.10"
                                },
                                {
                                    "0": "Germany",
                                    "1": "28",
                                    "2": "156.48"
                                },
                                {
                                    "0": "United Kingdom",
                                    "1": "21",
                                    "2": "112.86"
                                },
                                {
                                    "0": "Czech Republic",
                                    "1": "14",
                                    "2": "90.24"
                                },
                                {
                                    "0": "Portugal",
                                    "1": "14",
                                    "2": "77.24"
                                },
                                {
                                    "0": "India",
                                    "1": "13",
                                    "2": "75.26"
                                },
                                {
                                    "0": "Chile",
                                    "1": "7",
                                    "2": "46.62"
                                },
                                {
                                    "0": "Ireland",
                                    "1": "7",
                                    "2": "45.62"
                                },
                                {
                                    "0": "Hungary",
                                    "1": "7",
                                    "2": "45.62"
                                },
                                {
                                    "0": "Austria",
                                    "1": "7",
                                    "2": "42.62"
                                },
                                {
                                    "0": "Finland",
                                    "1": "7",
                                    "2": "41.62"
                                },
                                {
                                    "0": "Netherlands",
                                    "1": "7",
                                    "2": "40.62"
                                },
                                {
                                    "0": "Norway",
                                    "1": "7",
                                    "2": "39.62"
                                },
                                {
                                    "0": "Sweden",
                                    "1": "7",
                                    "2": "38.62"
                                },
                                {
                                    "0": "Spain",
                                    "1": "7",
                                    "2": "37.62"
                                },
                                {
                                    "0": "Poland",
                                    "1": "7",
                                    "2": "37.62"
                                },
                                {
                                    "0": "Italy",
                                    "1": "7",
                                    "2": "37.62"
                                },
                                {
                                    "0": "Belgium",
                                    "1": "7",
                                    "2": "37.62"
                                },
                                {
                                    "0": "Argentina",
                                    "1": "7",
                                    "2": "37.62"
                                },
                                {
                                    "0": "Australia",
                                    "1": "7",
                                    "2": "37.62"
                                },
                                {
                                    "0": "Denmark",
                                    "1": "7",
                                    "2": "37.62"
                                }
                            ]
                        },
                        "text/html": [
                            "<table>",
                            "<tr><th>Country</th><th>total_invoices</th><th>total_sales_USD</th></tr>",
                            "<tr><td>USA</td><td>91</td><td>523.06</td></tr>",
                            "<tr><td>Canada</td><td>56</td><td>303.96</td></tr>",
                            "<tr><td>France</td><td>35</td><td>195.10</td></tr>",
                            "<tr><td>Brazil</td><td>35</td><td>190.10</td></tr>",
                            "<tr><td>Germany</td><td>28</td><td>156.48</td></tr>",
                            "<tr><td>United Kingdom</td><td>21</td><td>112.86</td></tr>",
                            "<tr><td>Czech Republic</td><td>14</td><td>90.24</td></tr>",
                            "<tr><td>Portugal</td><td>14</td><td>77.24</td></tr>",
                            "<tr><td>India</td><td>13</td><td>75.26</td></tr>",
                            "<tr><td>Chile</td><td>7</td><td>46.62</td></tr>",
                            "<tr><td>Ireland</td><td>7</td><td>45.62</td></tr>",
                            "<tr><td>Hungary</td><td>7</td><td>45.62</td></tr>",
                            "<tr><td>Austria</td><td>7</td><td>42.62</td></tr>",
                            "<tr><td>Finland</td><td>7</td><td>41.62</td></tr>",
                            "<tr><td>Netherlands</td><td>7</td><td>40.62</td></tr>",
                            "<tr><td>Norway</td><td>7</td><td>39.62</td></tr>",
                            "<tr><td>Sweden</td><td>7</td><td>38.62</td></tr>",
                            "<tr><td>Spain</td><td>7</td><td>37.62</td></tr>",
                            "<tr><td>Poland</td><td>7</td><td>37.62</td></tr>",
                            "<tr><td>Italy</td><td>7</td><td>37.62</td></tr>",
                            "<tr><td>Belgium</td><td>7</td><td>37.62</td></tr>",
                            "<tr><td>Argentina</td><td>7</td><td>37.62</td></tr>",
                            "<tr><td>Australia</td><td>7</td><td>37.62</td></tr>",
                            "<tr><td>Denmark</td><td>7</td><td>37.62</td></tr>",
                            "</table>"
                        ]
                    }
                }
            ],
            "execution_count": 20
        },
        {
            "cell_type": "markdown",
            "source": [
                "From the table, we can find a lot of ties for the country with least revenue. The sales manager wishes to target any country generating less than $40 for the marketing campaign."
            ],
            "metadata": {
                "azdata_cell_guid": "4a07235e-461b-44fc-a1d3-a2b29fcc1798"
            },
            "attachments": {}
        },
        {
            "cell_type": "markdown",
            "source": [
                "## Music Festival\n",
                "\n",
                "The investors of Chinook would like to throw a promotional Music Festival in the city they made the most money. Let's find the city with the highest sales."
            ],
            "metadata": {
                "azdata_cell_guid": "13e62dd2-1f46-4f81-ac9f-797923eeac34"
            },
            "attachments": {}
        },
        {
            "cell_type": "code",
            "source": [
                "SELECT TOP(1) WITH TIES BillingCity AS City, BillingCountry AS Country, SUM(Total) AS total_sales_USD\n",
                "FROM Invoice\n",
                "GROUP BY BillingCity, BillingCountry\n",
                "ORDER BY total_sales_USD DESC;"
            ],
            "metadata": {
                "azdata_cell_guid": "15f16b6f-f9f0-448d-9b64-e02be2a26e20",
                "language": "sql"
            },
            "outputs": [
                {
                    "output_type": "display_data",
                    "data": {
                        "text/html": "(1 row affected)"
                    },
                    "metadata": {}
                },
                {
                    "output_type": "display_data",
                    "data": {
                        "text/html": "Total execution time: 00:00:00.012"
                    },
                    "metadata": {}
                },
                {
                    "output_type": "execute_result",
                    "metadata": {},
                    "execution_count": 23,
                    "data": {
                        "application/vnd.dataresource+json": {
                            "schema": {
                                "fields": [
                                    {
                                        "name": "City"
                                    },
                                    {
                                        "name": "Country"
                                    },
                                    {
                                        "name": "total_sales_USD"
                                    }
                                ]
                            },
                            "data": [
                                {
                                    "0": "Prague",
                                    "1": "Czech Republic",
                                    "2": "90.24"
                                }
                            ]
                        },
                        "text/html": [
                            "<table>",
                            "<tr><th>City</th><th>Country</th><th>total_sales_USD</th></tr>",
                            "<tr><td>Prague</td><td>Czech Republic</td><td>90.24</td></tr>",
                            "</table>"
                        ]
                    }
                }
            ],
            "execution_count": 23
        },
        {
            "cell_type": "markdown",
            "source": [
                "Congratulations Prague! You guys got yourself a night to remember as appreciation for your support for Chinook."
            ],
            "metadata": {
                "azdata_cell_guid": "34f58619-d44b-4eb1-b1f0-2f393139709b"
            },
            "attachments": {}
        },
        {
            "cell_type": "markdown",
            "source": [
                "## Changing Purchase Strategy\n",
                "\n",
                "The Chinook store allows customer to make purchases in one of the two ways:\n",
                "\n",
                "- purchase a whole album\n",
                "- purchase a collection of one or more individual tracks\n",
                "\n",
                "The store does not let customers purchase a whole album, and then add individual tracks to that same purchase (unless they do that by choosing each track manually). When customers purchase albums they are charged the same price as if they had purchased each of those tracks separately.\n",
                "\n",
                "Management are currently considering changing their purchasing strategy to save money. The strategy they are considering is to purchase only the most popular tracks from each album from record companies, instead of purchasing every track from an album.\n",
                "\n",
                "We have been asked to find out what percentage of purchases are individual tracks vs whole albums, so that management can use this data to understand the effect this decision might have on overall revenue."
            ],
            "metadata": {
                "azdata_cell_guid": "71d57d73-d524-43c9-bb7a-1966dd633513"
            },
            "attachments": {}
        },
        {
            "cell_type": "code",
            "source": [
                "-- no. of tracks bought per album per invoice\n",
                "WITH invoice_track_album AS \n",
                "(\n",
                "    SELECT il.InvoiceId, t.AlbumId, COUNT(*) AS tracks_bought\n",
                "    FROM InvoiceLine il \n",
                "    JOIN Track t \n",
                "    ON il.TrackId = t.TrackId\n",
                "    GROUP BY il.InvoiceId, t.AlbumId\n",
                "),\n",
                "\n",
                "-- no. of tracks per album\n",
                "album_tracks AS\n",
                "(\n",
                "    SELECT AlbumId, COUNT(*) AS total_tracks\n",
                "    FROM Track\n",
                "    GROUP By AlbumId\n",
                "),\n",
                "\n",
                "-- full or partial album per invoice\n",
                "partial_full AS \n",
                "(\n",
                "    SELECT ita.InvoiceId, ita.AlbumId,\n",
                "    CASE WHEN (\n",
                "        SELECT(at.total_tracks - ita.tracks_bought)\n",
                "    ) = 0 THEN 'full'\n",
                "    ELSE 'partial'\n",
                "    END AS category\n",
                "    FROM invoice_track_album ita\n",
                "    JOIN album_tracks at\n",
                "    ON ita.AlbumId = at.AlbumId\n",
                ")\n",
                "\n",
                "SELECT \n",
                "    category, \n",
                "    COUNT(*) AS number_sold, \n",
                "    ROUND(1.0 * COUNT(*) / (SELECT COUNT(*) FROM partial_full) * 100, 2) AS percent_sold \n",
                "    FROM partial_full\n",
                "    GROUP BY category;"
            ],
            "metadata": {
                "azdata_cell_guid": "5ac20ab5-5d2e-40bb-a648-cafeb4b70069",
                "language": "sql"
            },
            "outputs": [
                {
                    "output_type": "display_data",
                    "data": {
                        "text/html": "(2 rows affected)"
                    },
                    "metadata": {}
                },
                {
                    "output_type": "display_data",
                    "data": {
                        "text/html": "Total execution time: 00:00:00.046"
                    },
                    "metadata": {}
                },
                {
                    "output_type": "execute_result",
                    "metadata": {},
                    "execution_count": 85,
                    "data": {
                        "application/vnd.dataresource+json": {
                            "schema": {
                                "fields": [
                                    {
                                        "name": "category"
                                    },
                                    {
                                        "name": "number_sold"
                                    },
                                    {
                                        "name": "percent_sold"
                                    }
                                ]
                            },
                            "data": [
                                {
                                    "0": "partial",
                                    "1": "1254",
                                    "2": "96.240000000000"
                                },
                                {
                                    "0": "full",
                                    "1": "49",
                                    "2": "3.760000000000"
                                }
                            ]
                        },
                        "text/html": [
                            "<table>",
                            "<tr><th>category</th><th>number_sold</th><th>percent_sold</th></tr>",
                            "<tr><td>partial</td><td>1254</td><td>96.240000000000</td></tr>",
                            "<tr><td>full</td><td>49</td><td>3.760000000000</td></tr>",
                            "</table>"
                        ]
                    }
                }
            ],
            "execution_count": 85
        },
        {
            "cell_type": "markdown",
            "source": [
                "Album purchases account for only 3.76% of total purchases. <span style=\"color: rgba(0, 0, 0, 0.7); font-family: Inter, sans-serif; background-color: rgb(255, 255, 255);\">Based on this data, it's possible to recommend purchasing&nbsp;</span> <span style=\"color: rgba(0, 0, 0, 0.7); font-family: Inter, sans-serif; background-color: rgb(255, 255, 255);\">only select tracks from albums from record companies as there will be less to lose.</span>"
            ],
            "metadata": {
                "azdata_cell_guid": "5d6e155b-21bb-4a50-aaf3-b2b8f6db8963"
            },
            "attachments": {}
        }
    ]
}