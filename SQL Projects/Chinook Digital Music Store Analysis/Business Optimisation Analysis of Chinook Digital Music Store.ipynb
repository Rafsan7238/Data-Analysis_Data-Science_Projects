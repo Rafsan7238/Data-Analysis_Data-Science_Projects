{
    "metadata": {
        "kernelspec": {
            "name": "SQL",
            "display_name": "SQL",
            "language": "sql"
        },
        "language_info": {
            "name": "sql",
            "version": ""
        }
    },
    "nbformat_minor": 2,
    "nbformat": 4,
    "cells": [
        {
            "cell_type": "markdown",
            "source": [
                "# **Business Optimisation Analysis of Chinook Digital Music Store**\n",
                "\n",
                "Business optimisation is the process of improving the efficiency, productivity and performance of an organisation. It is the idea of consistently striving for better outcomes. This can apply both to internal operations and external products. Key elements of business optimisation include:\n",
                "\n",
                "- Measurement of productivity, efficiency and performance\n",
                "- Identifying areas for improvement\n",
                "- Introducing new methods and processes\n",
                "- Measuring and comparing results\n",
                "- Repeating the cycle\n",
                "\n",
                "Some examples of business optimisation include:\n",
                "\n",
                "- Introducing new methods, practices and systems that reduce turnaround time\n",
                "- Reducing costs while improving performance\n",
                "- Automation of repetitive tasks\n",
                "- Increasing sales through enhancing customer satisfaction etc.\n",
                "\n",
                "Hence, in this project I have conducted an analysis for Chinook, an imaginary digital music store, to help optimise their business. The database has been collected from the [github repo](https://github.com/lerocha/chinook-database) of [Luis Rocha](https://github.com/lerocha).\n",
                "\n",
                "The analysis done can help the company in identifying:\n",
                "\n",
                "- Most profitable genres\n",
                "- Performance of sales support agents\n",
                "- Suitable marketing campaign to boost sales in least profitable countries\n",
                "- Best city to organise a music festival in\n",
                "- Effect of changing purchasing strategy to save money\n",
                "- Sales boosting strategy through highest selling artists\n",
                "- Type of concert to hold and the artists to invite that would maximise participation\n",
                "- Customer reward system for the top spenders in each country"
            ],
            "metadata": {
                "azdata_cell_guid": "21e5d8d8-516d-43cf-9ecc-ed29f3c828d7"
            },
            "attachments": {}
        },
        {
            "cell_type": "markdown",
            "source": [
                "## \\*\\*Use Chinook Database\\*\\*"
            ],
            "metadata": {
                "azdata_cell_guid": "9ba58500-bf5f-4294-92ca-028336eb90cc"
            },
            "attachments": {}
        },
        {
            "cell_type": "code",
            "source": [
                "USE Chinook;\n",
                "GO"
            ],
            "metadata": {
                "azdata_cell_guid": "d011f7a0-e647-47ff-ae84-f9254e02ea86",
                "language": "sql"
            },
            "outputs": [
                {
                    "output_type": "display_data",
                    "data": {
                        "text/html": "Commands completed successfully."
                    },
                    "metadata": {}
                },
                {
                    "output_type": "display_data",
                    "data": {
                        "text/html": "Total execution time: 00:00:00.034"
                    },
                    "metadata": {}
                }
            ],
            "execution_count": 1
        },
        {
            "cell_type": "markdown",
            "source": [
                "## Most Profitable Genres\n",
                "\n",
                "The Chinook record store has just signed a deal with a new record label, and we need to select the first three albums that will be added to the store, from a list of four. All four albums are by artists that don't have any tracks in the store right now - we have the artist names, and the genre of music they produce:\n",
                "\n",
                "- Regal _Hip-Hop_\n",
                "- Red Tone _Punk_\n",
                "- Meteor and the Girls _Pop_\n",
                "- Slim Jim Bites _Blues_\n",
                "\n",
                "Let's find the top genres in Chinook."
            ],
            "metadata": {
                "language": "sql",
                "azdata_cell_guid": "b3fe6651-f632-4a79-bbe8-9c14d707dac3"
            },
            "attachments": {}
        },
        {
            "cell_type": "code",
            "source": [
                "SELECT Genre.Name AS genre, SUM(InvoiceLine.Quantity) AS tracks_sold, SUM(InvoiceLine.UnitPrice * InvoiceLine.Quantity) AS total_sales_USD\n",
                "FROM InvoiceLine\n",
                "JOIN Track \n",
                "ON InvoiceLine.TrackId = Track.TrackId \n",
                "JOIN Genre \n",
                "ON Track.GenreId = Genre.GenreId\n",
                "GROUP BY Genre.Name\n",
                "ORDER BY tracks_sold DESC;"
            ],
            "metadata": {
                "language": "sql",
                "azdata_cell_guid": "48c3c1f1-0b77-486e-a3ff-80a69d8685c3"
            },
            "outputs": [
                {
                    "output_type": "display_data",
                    "data": {
                        "text/html": "(24 rows affected)"
                    },
                    "metadata": {}
                },
                {
                    "output_type": "display_data",
                    "data": {
                        "text/html": "Total execution time: 00:00:00.202"
                    },
                    "metadata": {}
                },
                {
                    "output_type": "execute_result",
                    "metadata": {},
                    "execution_count": 2,
                    "data": {
                        "application/vnd.dataresource+json": {
                            "schema": {
                                "fields": [
                                    {
                                        "name": "genre"
                                    },
                                    {
                                        "name": "tracks_sold"
                                    },
                                    {
                                        "name": "total_sales_USD"
                                    }
                                ]
                            },
                            "data": [
                                {
                                    "0": "Rock",
                                    "1": "835",
                                    "2": "826.65"
                                },
                                {
                                    "0": "Latin",
                                    "1": "386",
                                    "2": "382.14"
                                },
                                {
                                    "0": "Metal",
                                    "1": "264",
                                    "2": "261.36"
                                },
                                {
                                    "0": "Alternative & Punk",
                                    "1": "244",
                                    "2": "241.56"
                                },
                                {
                                    "0": "Jazz",
                                    "1": "80",
                                    "2": "79.20"
                                },
                                {
                                    "0": "Blues",
                                    "1": "61",
                                    "2": "60.39"
                                },
                                {
                                    "0": "TV Shows",
                                    "1": "47",
                                    "2": "93.53"
                                },
                                {
                                    "0": "R&B/Soul",
                                    "1": "41",
                                    "2": "40.59"
                                },
                                {
                                    "0": "Classical",
                                    "1": "41",
                                    "2": "40.59"
                                },
                                {
                                    "0": "Reggae",
                                    "1": "30",
                                    "2": "29.70"
                                },
                                {
                                    "0": "Drama",
                                    "1": "29",
                                    "2": "57.71"
                                },
                                {
                                    "0": "Pop",
                                    "1": "28",
                                    "2": "27.72"
                                },
                                {
                                    "0": "Sci Fi & Fantasy",
                                    "1": "20",
                                    "2": "39.80"
                                },
                                {
                                    "0": "Soundtrack",
                                    "1": "20",
                                    "2": "19.80"
                                },
                                {
                                    "0": "Hip Hop/Rap",
                                    "1": "17",
                                    "2": "16.83"
                                },
                                {
                                    "0": "Bossa Nova",
                                    "1": "15",
                                    "2": "14.85"
                                },
                                {
                                    "0": "Alternative",
                                    "1": "14",
                                    "2": "13.86"
                                },
                                {
                                    "0": "World",
                                    "1": "13",
                                    "2": "12.87"
                                },
                                {
                                    "0": "Electronica/Dance",
                                    "1": "12",
                                    "2": "11.88"
                                },
                                {
                                    "0": "Heavy Metal",
                                    "1": "12",
                                    "2": "11.88"
                                },
                                {
                                    "0": "Easy Listening",
                                    "1": "10",
                                    "2": "9.90"
                                },
                                {
                                    "0": "Comedy",
                                    "1": "9",
                                    "2": "17.91"
                                },
                                {
                                    "0": "Science Fiction",
                                    "1": "6",
                                    "2": "11.94"
                                },
                                {
                                    "0": "Rock And Roll",
                                    "1": "6",
                                    "2": "5.94"
                                }
                            ]
                        },
                        "text/html": [
                            "<table>",
                            "<tr><th>genre</th><th>tracks_sold</th><th>total_sales_USD</th></tr>",
                            "<tr><td>Rock</td><td>835</td><td>826.65</td></tr>",
                            "<tr><td>Latin</td><td>386</td><td>382.14</td></tr>",
                            "<tr><td>Metal</td><td>264</td><td>261.36</td></tr>",
                            "<tr><td>Alternative &amp; Punk</td><td>244</td><td>241.56</td></tr>",
                            "<tr><td>Jazz</td><td>80</td><td>79.20</td></tr>",
                            "<tr><td>Blues</td><td>61</td><td>60.39</td></tr>",
                            "<tr><td>TV Shows</td><td>47</td><td>93.53</td></tr>",
                            "<tr><td>R&amp;B/Soul</td><td>41</td><td>40.59</td></tr>",
                            "<tr><td>Classical</td><td>41</td><td>40.59</td></tr>",
                            "<tr><td>Reggae</td><td>30</td><td>29.70</td></tr>",
                            "<tr><td>Drama</td><td>29</td><td>57.71</td></tr>",
                            "<tr><td>Pop</td><td>28</td><td>27.72</td></tr>",
                            "<tr><td>Sci Fi &amp; Fantasy</td><td>20</td><td>39.80</td></tr>",
                            "<tr><td>Soundtrack</td><td>20</td><td>19.80</td></tr>",
                            "<tr><td>Hip Hop/Rap</td><td>17</td><td>16.83</td></tr>",
                            "<tr><td>Bossa Nova</td><td>15</td><td>14.85</td></tr>",
                            "<tr><td>Alternative</td><td>14</td><td>13.86</td></tr>",
                            "<tr><td>World</td><td>13</td><td>12.87</td></tr>",
                            "<tr><td>Electronica/Dance</td><td>12</td><td>11.88</td></tr>",
                            "<tr><td>Heavy Metal</td><td>12</td><td>11.88</td></tr>",
                            "<tr><td>Easy Listening</td><td>10</td><td>9.90</td></tr>",
                            "<tr><td>Comedy</td><td>9</td><td>17.91</td></tr>",
                            "<tr><td>Science Fiction</td><td>6</td><td>11.94</td></tr>",
                            "<tr><td>Rock And Roll</td><td>6</td><td>5.94</td></tr>",
                            "</table>"
                        ]
                    }
                }
            ],
            "execution_count": 2
        },
        {
            "cell_type": "markdown",
            "source": [
                "Based on the sales of tracks across different genres, we should definitely add the album by Red Tone (Punk), and may also add the albums by Slim Jim Bites (Blues) and Meteor and the Girls (Pop)."
            ],
            "metadata": {
                "azdata_cell_guid": "1055bbef-a3e4-422c-99ec-55ceb5027219"
            },
            "attachments": {}
        },
        {
            "cell_type": "markdown",
            "source": [
                "## Performance of Sales Support Agents\n",
                "\n",
                "Each customer for the Chinook store gets assigned to a sales support agent within the company when they first make a purchase. We need to analyze the purchases of customers belonging to each employee to see if any sales support agent is performing either better or worse than the others."
            ],
            "metadata": {
                "azdata_cell_guid": "7c703f97-c727-42ee-848b-92dce1704e9c"
            },
            "attachments": {}
        },
        {
            "cell_type": "code",
            "source": [
                "WITH total_sales_rep AS \n",
                "(\n",
                "    SELECT c.SupportRepId, SUM(i.Total) AS total_sales_USD\n",
                "    FROM Customer c\n",
                "    LEFT JOIN Invoice i\n",
                "    ON c.CustomerId = i.CustomerId \n",
                "    GROUP BY c.SupportRepId \n",
                ")\n",
                "\n",
                "SELECT (e.FirstName + ' ' +  e.LastName) AS Name, e.Title, e.HireDate, ts.total_sales_USD\n",
                "FROM Employee e\n",
                "JOIN total_sales_rep ts\n",
                "ON e.EmployeeId = ts.SupportRepId \n",
                "ORDER BY ts.total_sales_USD DESC;"
            ],
            "metadata": {
                "azdata_cell_guid": "ef0973fb-e560-40b5-9688-d28d2b55f551",
                "language": "sql"
            },
            "outputs": [
                {
                    "output_type": "display_data",
                    "data": {
                        "text/html": "(3 rows affected)"
                    },
                    "metadata": {}
                },
                {
                    "output_type": "display_data",
                    "data": {
                        "text/html": "Total execution time: 00:00:00.035"
                    },
                    "metadata": {}
                },
                {
                    "output_type": "execute_result",
                    "metadata": {},
                    "execution_count": 3,
                    "data": {
                        "application/vnd.dataresource+json": {
                            "schema": {
                                "fields": [
                                    {
                                        "name": "Name"
                                    },
                                    {
                                        "name": "Title"
                                    },
                                    {
                                        "name": "HireDate"
                                    },
                                    {
                                        "name": "total_sales_USD"
                                    }
                                ]
                            },
                            "data": [
                                {
                                    "0": "Jane Peacock",
                                    "1": "Sales Support Agent",
                                    "2": "2002-04-01 00:00:00.000",
                                    "3": "833.04"
                                },
                                {
                                    "0": "Margaret Park",
                                    "1": "Sales Support Agent",
                                    "2": "2003-05-03 00:00:00.000",
                                    "3": "775.40"
                                },
                                {
                                    "0": "Steve Johnson",
                                    "1": "Sales Support Agent",
                                    "2": "2003-10-17 00:00:00.000",
                                    "3": "720.16"
                                }
                            ]
                        },
                        "text/html": [
                            "<table>",
                            "<tr><th>Name</th><th>Title</th><th>HireDate</th><th>total_sales_USD</th></tr>",
                            "<tr><td>Jane Peacock</td><td>Sales Support Agent</td><td>2002-04-01 00:00:00.000</td><td>833.04</td></tr>",
                            "<tr><td>Margaret Park</td><td>Sales Support Agent</td><td>2003-05-03 00:00:00.000</td><td>775.40</td></tr>",
                            "<tr><td>Steve Johnson</td><td>Sales Support Agent</td><td>2003-10-17 00:00:00.000</td><td>720.16</td></tr>",
                            "</table>"
                        ]
                    }
                }
            ],
            "execution_count": 3
        },
        {
            "cell_type": "markdown",
            "source": [
                "While there is about 14% difference in sales between Jane (the top employee) and Steve (the bottom employee), the difference roughly corresponds with the differences in their hiring dates."
            ],
            "metadata": {
                "azdata_cell_guid": "15d0b568-b53e-4abc-93f2-c5e926d131f0"
            },
            "attachments": {}
        },
        {
            "cell_type": "markdown",
            "source": [
                "## Country Sales Analytics\n",
                "\n",
                "We wish to find the least profitable countries, i.e. countries that generated the least revenue, so that we can run a marketing campaign to boost sales there."
            ],
            "metadata": {
                "azdata_cell_guid": "64752726-9b08-4ce4-acec-eca10ed4b569"
            },
            "attachments": {}
        },
        {
            "cell_type": "code",
            "source": [
                "SELECT BillingCountry AS Country, COUNT(*) AS total_invoices, SUM(Total) AS total_sales_USD\n",
                "FROM Invoice\n",
                "GROUP BY BillingCountry\n",
                "ORDER BY total_sales_USD DESC;"
            ],
            "metadata": {
                "azdata_cell_guid": "64696c5c-5679-4689-9304-9f460d2f413c",
                "language": "sql"
            },
            "outputs": [
                {
                    "output_type": "display_data",
                    "data": {
                        "text/html": "(24 rows affected)"
                    },
                    "metadata": {}
                },
                {
                    "output_type": "display_data",
                    "data": {
                        "text/html": "Total execution time: 00:00:00.007"
                    },
                    "metadata": {}
                },
                {
                    "output_type": "execute_result",
                    "metadata": {},
                    "execution_count": 4,
                    "data": {
                        "application/vnd.dataresource+json": {
                            "schema": {
                                "fields": [
                                    {
                                        "name": "Country"
                                    },
                                    {
                                        "name": "total_invoices"
                                    },
                                    {
                                        "name": "total_sales_USD"
                                    }
                                ]
                            },
                            "data": [
                                {
                                    "0": "USA",
                                    "1": "91",
                                    "2": "523.06"
                                },
                                {
                                    "0": "Canada",
                                    "1": "56",
                                    "2": "303.96"
                                },
                                {
                                    "0": "France",
                                    "1": "35",
                                    "2": "195.10"
                                },
                                {
                                    "0": "Brazil",
                                    "1": "35",
                                    "2": "190.10"
                                },
                                {
                                    "0": "Germany",
                                    "1": "28",
                                    "2": "156.48"
                                },
                                {
                                    "0": "United Kingdom",
                                    "1": "21",
                                    "2": "112.86"
                                },
                                {
                                    "0": "Czech Republic",
                                    "1": "14",
                                    "2": "90.24"
                                },
                                {
                                    "0": "Portugal",
                                    "1": "14",
                                    "2": "77.24"
                                },
                                {
                                    "0": "India",
                                    "1": "13",
                                    "2": "75.26"
                                },
                                {
                                    "0": "Chile",
                                    "1": "7",
                                    "2": "46.62"
                                },
                                {
                                    "0": "Ireland",
                                    "1": "7",
                                    "2": "45.62"
                                },
                                {
                                    "0": "Hungary",
                                    "1": "7",
                                    "2": "45.62"
                                },
                                {
                                    "0": "Austria",
                                    "1": "7",
                                    "2": "42.62"
                                },
                                {
                                    "0": "Finland",
                                    "1": "7",
                                    "2": "41.62"
                                },
                                {
                                    "0": "Netherlands",
                                    "1": "7",
                                    "2": "40.62"
                                },
                                {
                                    "0": "Norway",
                                    "1": "7",
                                    "2": "39.62"
                                },
                                {
                                    "0": "Sweden",
                                    "1": "7",
                                    "2": "38.62"
                                },
                                {
                                    "0": "Spain",
                                    "1": "7",
                                    "2": "37.62"
                                },
                                {
                                    "0": "Poland",
                                    "1": "7",
                                    "2": "37.62"
                                },
                                {
                                    "0": "Italy",
                                    "1": "7",
                                    "2": "37.62"
                                },
                                {
                                    "0": "Belgium",
                                    "1": "7",
                                    "2": "37.62"
                                },
                                {
                                    "0": "Argentina",
                                    "1": "7",
                                    "2": "37.62"
                                },
                                {
                                    "0": "Australia",
                                    "1": "7",
                                    "2": "37.62"
                                },
                                {
                                    "0": "Denmark",
                                    "1": "7",
                                    "2": "37.62"
                                }
                            ]
                        },
                        "text/html": [
                            "<table>",
                            "<tr><th>Country</th><th>total_invoices</th><th>total_sales_USD</th></tr>",
                            "<tr><td>USA</td><td>91</td><td>523.06</td></tr>",
                            "<tr><td>Canada</td><td>56</td><td>303.96</td></tr>",
                            "<tr><td>France</td><td>35</td><td>195.10</td></tr>",
                            "<tr><td>Brazil</td><td>35</td><td>190.10</td></tr>",
                            "<tr><td>Germany</td><td>28</td><td>156.48</td></tr>",
                            "<tr><td>United Kingdom</td><td>21</td><td>112.86</td></tr>",
                            "<tr><td>Czech Republic</td><td>14</td><td>90.24</td></tr>",
                            "<tr><td>Portugal</td><td>14</td><td>77.24</td></tr>",
                            "<tr><td>India</td><td>13</td><td>75.26</td></tr>",
                            "<tr><td>Chile</td><td>7</td><td>46.62</td></tr>",
                            "<tr><td>Ireland</td><td>7</td><td>45.62</td></tr>",
                            "<tr><td>Hungary</td><td>7</td><td>45.62</td></tr>",
                            "<tr><td>Austria</td><td>7</td><td>42.62</td></tr>",
                            "<tr><td>Finland</td><td>7</td><td>41.62</td></tr>",
                            "<tr><td>Netherlands</td><td>7</td><td>40.62</td></tr>",
                            "<tr><td>Norway</td><td>7</td><td>39.62</td></tr>",
                            "<tr><td>Sweden</td><td>7</td><td>38.62</td></tr>",
                            "<tr><td>Spain</td><td>7</td><td>37.62</td></tr>",
                            "<tr><td>Poland</td><td>7</td><td>37.62</td></tr>",
                            "<tr><td>Italy</td><td>7</td><td>37.62</td></tr>",
                            "<tr><td>Belgium</td><td>7</td><td>37.62</td></tr>",
                            "<tr><td>Argentina</td><td>7</td><td>37.62</td></tr>",
                            "<tr><td>Australia</td><td>7</td><td>37.62</td></tr>",
                            "<tr><td>Denmark</td><td>7</td><td>37.62</td></tr>",
                            "</table>"
                        ]
                    }
                }
            ],
            "execution_count": 4
        },
        {
            "cell_type": "markdown",
            "source": [
                "From the table, we can find a lot of ties for the country with least revenue. The sales manager wishes to target any country generating less than $40 for the marketing campaign."
            ],
            "metadata": {
                "azdata_cell_guid": "4a07235e-461b-44fc-a1d3-a2b29fcc1798"
            },
            "attachments": {}
        },
        {
            "cell_type": "markdown",
            "source": [
                "## Music Festival\n",
                "\n",
                "The investors of Chinook would like to throw a promotional Music Festival in the city they made the most money. Let's find the city with the highest sales."
            ],
            "metadata": {
                "azdata_cell_guid": "13e62dd2-1f46-4f81-ac9f-797923eeac34"
            },
            "attachments": {}
        },
        {
            "cell_type": "code",
            "source": [
                "SELECT TOP(1) WITH TIES BillingCity AS City, BillingCountry AS Country, SUM(Total) AS total_sales_USD\n",
                "FROM Invoice\n",
                "GROUP BY BillingCity, BillingCountry\n",
                "ORDER BY total_sales_USD DESC;"
            ],
            "metadata": {
                "azdata_cell_guid": "15f16b6f-f9f0-448d-9b64-e02be2a26e20",
                "language": "sql"
            },
            "outputs": [
                {
                    "output_type": "display_data",
                    "data": {
                        "text/html": "(1 row affected)"
                    },
                    "metadata": {}
                },
                {
                    "output_type": "display_data",
                    "data": {
                        "text/html": "Total execution time: 00:00:00.023"
                    },
                    "metadata": {}
                },
                {
                    "output_type": "execute_result",
                    "metadata": {},
                    "execution_count": 5,
                    "data": {
                        "application/vnd.dataresource+json": {
                            "schema": {
                                "fields": [
                                    {
                                        "name": "City"
                                    },
                                    {
                                        "name": "Country"
                                    },
                                    {
                                        "name": "total_sales_USD"
                                    }
                                ]
                            },
                            "data": [
                                {
                                    "0": "Prague",
                                    "1": "Czech Republic",
                                    "2": "90.24"
                                }
                            ]
                        },
                        "text/html": [
                            "<table>",
                            "<tr><th>City</th><th>Country</th><th>total_sales_USD</th></tr>",
                            "<tr><td>Prague</td><td>Czech Republic</td><td>90.24</td></tr>",
                            "</table>"
                        ]
                    }
                }
            ],
            "execution_count": 5
        },
        {
            "cell_type": "markdown",
            "source": [
                "Congratulations Prague! You guys got yourself a night to remember as appreciation for your support for Chinook."
            ],
            "metadata": {
                "azdata_cell_guid": "34f58619-d44b-4eb1-b1f0-2f393139709b"
            },
            "attachments": {}
        },
        {
            "cell_type": "markdown",
            "source": [
                "## Changing Purchase Strategy\n",
                "\n",
                "The Chinook store allows customer to make purchases in one of the two ways:\n",
                "\n",
                "- purchase a whole album\n",
                "- purchase a collection of one or more individual tracks\n",
                "\n",
                "The store does not let customers purchase a whole album, and then add individual tracks to that same purchase (unless they do that by choosing each track manually). When customers purchase albums they are charged the same price as if they had purchased each of those tracks separately.\n",
                "\n",
                "Management are currently considering changing their purchasing strategy to save money. The strategy they are considering is to purchase only the most popular tracks from each album from record companies, instead of purchasing every track from an album.\n",
                "\n",
                "We have been asked to find out what percentage of purchases are individual tracks vs whole albums, so that management can use this data to understand the effect this decision might have on overall revenue."
            ],
            "metadata": {
                "azdata_cell_guid": "71d57d73-d524-43c9-bb7a-1966dd633513"
            },
            "attachments": {}
        },
        {
            "cell_type": "code",
            "source": [
                "-- no. of tracks bought per album per invoice\n",
                "WITH invoice_track_album AS \n",
                "(\n",
                "    SELECT il.InvoiceId, t.AlbumId, COUNT(*) AS tracks_bought\n",
                "    FROM InvoiceLine il \n",
                "    JOIN Track t \n",
                "    ON il.TrackId = t.TrackId\n",
                "    GROUP BY il.InvoiceId, t.AlbumId\n",
                "),\n",
                "\n",
                "-- no. of tracks per album\n",
                "album_tracks AS\n",
                "(\n",
                "    SELECT AlbumId, COUNT(*) AS total_tracks\n",
                "    FROM Track\n",
                "    GROUP By AlbumId\n",
                "),\n",
                "\n",
                "-- full or partial album per invoice\n",
                "partial_full AS \n",
                "(\n",
                "    SELECT ita.InvoiceId, ita.AlbumId,\n",
                "    CASE WHEN (\n",
                "        SELECT(at.total_tracks - ita.tracks_bought)\n",
                "    ) = 0 THEN 'full'\n",
                "    ELSE 'partial'\n",
                "    END AS category\n",
                "    FROM invoice_track_album ita\n",
                "    JOIN album_tracks at\n",
                "    ON ita.AlbumId = at.AlbumId\n",
                ")\n",
                "\n",
                "SELECT \n",
                "    category, \n",
                "    COUNT(*) AS number_sold, \n",
                "    ROUND(1.0 * COUNT(*) / (SELECT COUNT(*) FROM partial_full) * 100, 2) AS percent_sold \n",
                "    FROM partial_full\n",
                "    GROUP BY category;"
            ],
            "metadata": {
                "azdata_cell_guid": "5ac20ab5-5d2e-40bb-a648-cafeb4b70069",
                "language": "sql"
            },
            "outputs": [
                {
                    "output_type": "display_data",
                    "data": {
                        "text/html": "(2 rows affected)"
                    },
                    "metadata": {}
                },
                {
                    "output_type": "display_data",
                    "data": {
                        "text/html": "Total execution time: 00:00:00.016"
                    },
                    "metadata": {}
                },
                {
                    "output_type": "execute_result",
                    "metadata": {},
                    "execution_count": 6,
                    "data": {
                        "application/vnd.dataresource+json": {
                            "schema": {
                                "fields": [
                                    {
                                        "name": "category"
                                    },
                                    {
                                        "name": "number_sold"
                                    },
                                    {
                                        "name": "percent_sold"
                                    }
                                ]
                            },
                            "data": [
                                {
                                    "0": "partial",
                                    "1": "1254",
                                    "2": "96.240000000000"
                                },
                                {
                                    "0": "full",
                                    "1": "49",
                                    "2": "3.760000000000"
                                }
                            ]
                        },
                        "text/html": [
                            "<table>",
                            "<tr><th>category</th><th>number_sold</th><th>percent_sold</th></tr>",
                            "<tr><td>partial</td><td>1254</td><td>96.240000000000</td></tr>",
                            "<tr><td>full</td><td>49</td><td>3.760000000000</td></tr>",
                            "</table>"
                        ]
                    }
                }
            ],
            "execution_count": 6
        },
        {
            "cell_type": "markdown",
            "source": [
                "Album purchases account for only 3.76% of total purchases. <span style=\"color: rgba(0, 0, 0, 0.7); font-family: Inter, sans-serif; background-color: rgb(255, 255, 255);\">Based on this data, it's possible to recommend purchasing&nbsp;</span> <span style=\"color: rgba(0, 0, 0, 0.7); font-family: Inter, sans-serif; background-color: rgb(255, 255, 255);\">only select tracks from albums from record companies as there will be less to lose.</span>"
            ],
            "metadata": {
                "azdata_cell_guid": "5d6e155b-21bb-4a50-aaf3-b2b8f6db8963"
            },
            "attachments": {}
        },
        {
            "cell_type": "markdown",
            "source": [
                "## Popular Playlist Artists\n",
                "\n",
                "To boost growth, the management of Chinook wishes to add tracks from albums of artists who are most popular in customers' playlists, so that there are more purchases of popular artists. Let's help them by finding the top 5 artists who are more popular among the customers."
            ],
            "metadata": {
                "azdata_cell_guid": "61dca023-2a01-409f-bf5f-b9fafedb8650"
            },
            "attachments": {}
        },
        {
            "cell_type": "code",
            "source": [
                "SELECT TOP(5) ar.Name, COUNT(*) AS time_in_playlists\n",
                "FROM PlaylistTrack pt \n",
                "JOIN Track t \n",
                "ON pt.TrackId = t.TrackId\n",
                "JOIN Album al \n",
                "ON t.AlbumId = al.AlbumId\n",
                "JOIN Artist ar \n",
                "ON ar.ArtistId = al.ArtistId\n",
                "GROUP BY ar.Name\n",
                "ORDER BY time_in_playlists DESC;"
            ],
            "metadata": {
                "azdata_cell_guid": "e8a786cc-0a51-4cd3-b4be-e7ed4a65ece0",
                "language": "sql"
            },
            "outputs": [
                {
                    "output_type": "display_data",
                    "data": {
                        "text/html": "(5 rows affected)"
                    },
                    "metadata": {}
                },
                {
                    "output_type": "display_data",
                    "data": {
                        "text/html": "Total execution time: 00:00:00.014"
                    },
                    "metadata": {}
                },
                {
                    "output_type": "execute_result",
                    "metadata": {},
                    "execution_count": 7,
                    "data": {
                        "application/vnd.dataresource+json": {
                            "schema": {
                                "fields": [
                                    {
                                        "name": "Name"
                                    },
                                    {
                                        "name": "time_in_playlists"
                                    }
                                ]
                            },
                            "data": [
                                {
                                    "0": "Iron Maiden",
                                    "1": "516"
                                },
                                {
                                    "0": "U2",
                                    "1": "333"
                                },
                                {
                                    "0": "Metallica",
                                    "1": "296"
                                },
                                {
                                    "0": "Led Zeppelin",
                                    "1": "252"
                                },
                                {
                                    "0": "Deep Purple",
                                    "1": "226"
                                }
                            ]
                        },
                        "text/html": [
                            "<table>",
                            "<tr><th>Name</th><th>time_in_playlists</th></tr>",
                            "<tr><td>Iron Maiden</td><td>516</td></tr>",
                            "<tr><td>U2</td><td>333</td></tr>",
                            "<tr><td>Metallica</td><td>296</td></tr>",
                            "<tr><td>Led Zeppelin</td><td>252</td></tr>",
                            "<tr><td>Deep Purple</td><td>226</td></tr>",
                            "</table>"
                        ]
                    }
                }
            ],
            "execution_count": 7
        },
        {
            "cell_type": "markdown",
            "source": [
                "We have our top artists. Time to approach them for more songs to boost our sales."
            ],
            "metadata": {
                "language": "sql",
                "azdata_cell_guid": "e91740c2-f996-43a1-be89-4248f4a90169"
            },
            "attachments": {}
        },
        {
            "cell_type": "markdown",
            "source": [
                "## Countrywise Popular Genre\n",
                "\n",
                "The management of Chinook wishes to find the most popular song genre in each country in order to do some further analytics regarding which genre to invest more on marketing in each country. We determine the most popular genre as the genre with the highest number of purchases."
            ],
            "metadata": {
                "language": "sql",
                "azdata_cell_guid": "c5af93a9-4f3e-463f-a195-520b6ee6299b"
            },
            "attachments": {}
        },
        {
            "cell_type": "code",
            "source": [
                "WITH pop_genre_country AS \n",
                "(\n",
                "    SELECT \n",
                "        c.Country, \n",
                "        g.Name, \n",
                "        COUNT(*) AS total_sold, \n",
                "        RANK() OVER(PARTITION BY c.Country ORDER BY COUNT(*) DESC) AS rnk\n",
                "        FROM CUSTOMER c \n",
                "        JOIN Invoice i \n",
                "        ON c.CustomerId = i.CustomerId\n",
                "        JOIN InvoiceLine il \n",
                "        ON i.InvoiceId = il.InvoiceId\n",
                "        JOIN Track t \n",
                "        ON il.TrackId = t.TrackId\n",
                "        JOIN Genre g \n",
                "        ON t.GenreId = g.GenreId\n",
                "\n",
                "    GROUP BY c.Country, g.GenreId, g.Name\n",
                ")\n",
                "\n",
                "SELECT Country, Name AS GenreName, total_sold\n",
                "FROM pop_genre_country pgc \n",
                "WHERE rnk = 1\n",
                "ORDER BY Country ASC, total_sold DESC;"
            ],
            "metadata": {
                "language": "sql",
                "azdata_cell_guid": "c207e7f0-96fc-44ae-b1a5-34eb175c467a"
            },
            "outputs": [
                {
                    "output_type": "display_data",
                    "data": {
                        "text/html": "(25 rows affected)"
                    },
                    "metadata": {}
                },
                {
                    "output_type": "display_data",
                    "data": {
                        "text/html": "Total execution time: 00:00:00.033"
                    },
                    "metadata": {}
                },
                {
                    "output_type": "execute_result",
                    "metadata": {},
                    "execution_count": 8,
                    "data": {
                        "application/vnd.dataresource+json": {
                            "schema": {
                                "fields": [
                                    {
                                        "name": "Country"
                                    },
                                    {
                                        "name": "GenreName"
                                    },
                                    {
                                        "name": "total_sold"
                                    }
                                ]
                            },
                            "data": [
                                {
                                    "0": "Argentina",
                                    "1": "Rock",
                                    "2": "9"
                                },
                                {
                                    "0": "Argentina",
                                    "1": "Alternative & Punk",
                                    "2": "9"
                                },
                                {
                                    "0": "Australia",
                                    "1": "Rock",
                                    "2": "22"
                                },
                                {
                                    "0": "Austria",
                                    "1": "Rock",
                                    "2": "15"
                                },
                                {
                                    "0": "Belgium",
                                    "1": "Rock",
                                    "2": "21"
                                },
                                {
                                    "0": "Brazil",
                                    "1": "Rock",
                                    "2": "81"
                                },
                                {
                                    "0": "Canada",
                                    "1": "Rock",
                                    "2": "107"
                                },
                                {
                                    "0": "Chile",
                                    "1": "Rock",
                                    "2": "9"
                                },
                                {
                                    "0": "Czech Republic",
                                    "1": "Rock",
                                    "2": "25"
                                },
                                {
                                    "0": "Denmark",
                                    "1": "Rock",
                                    "2": "21"
                                },
                                {
                                    "0": "Finland",
                                    "1": "Rock",
                                    "2": "18"
                                },
                                {
                                    "0": "France",
                                    "1": "Rock",
                                    "2": "65"
                                },
                                {
                                    "0": "Germany",
                                    "1": "Rock",
                                    "2": "62"
                                },
                                {
                                    "0": "Hungary",
                                    "1": "Rock",
                                    "2": "11"
                                },
                                {
                                    "0": "India",
                                    "1": "Rock",
                                    "2": "25"
                                },
                                {
                                    "0": "Ireland",
                                    "1": "Rock",
                                    "2": "12"
                                },
                                {
                                    "0": "Italy",
                                    "1": "Rock",
                                    "2": "18"
                                },
                                {
                                    "0": "Netherlands",
                                    "1": "Rock",
                                    "2": "18"
                                },
                                {
                                    "0": "Norway",
                                    "1": "Rock",
                                    "2": "17"
                                },
                                {
                                    "0": "Poland",
                                    "1": "Rock",
                                    "2": "22"
                                },
                                {
                                    "0": "Portugal",
                                    "1": "Rock",
                                    "2": "31"
                                },
                                {
                                    "0": "Spain",
                                    "1": "Rock",
                                    "2": "22"
                                },
                                {
                                    "0": "Sweden",
                                    "1": "Latin",
                                    "2": "12"
                                },
                                {
                                    "0": "United Kingdom",
                                    "1": "Rock",
                                    "2": "37"
                                },
                                {
                                    "0": "USA",
                                    "1": "Rock",
                                    "2": "157"
                                }
                            ]
                        },
                        "text/html": [
                            "<table>",
                            "<tr><th>Country</th><th>GenreName</th><th>total_sold</th></tr>",
                            "<tr><td>Argentina</td><td>Rock</td><td>9</td></tr>",
                            "<tr><td>Argentina</td><td>Alternative &amp; Punk</td><td>9</td></tr>",
                            "<tr><td>Australia</td><td>Rock</td><td>22</td></tr>",
                            "<tr><td>Austria</td><td>Rock</td><td>15</td></tr>",
                            "<tr><td>Belgium</td><td>Rock</td><td>21</td></tr>",
                            "<tr><td>Brazil</td><td>Rock</td><td>81</td></tr>",
                            "<tr><td>Canada</td><td>Rock</td><td>107</td></tr>",
                            "<tr><td>Chile</td><td>Rock</td><td>9</td></tr>",
                            "<tr><td>Czech Republic</td><td>Rock</td><td>25</td></tr>",
                            "<tr><td>Denmark</td><td>Rock</td><td>21</td></tr>",
                            "<tr><td>Finland</td><td>Rock</td><td>18</td></tr>",
                            "<tr><td>France</td><td>Rock</td><td>65</td></tr>",
                            "<tr><td>Germany</td><td>Rock</td><td>62</td></tr>",
                            "<tr><td>Hungary</td><td>Rock</td><td>11</td></tr>",
                            "<tr><td>India</td><td>Rock</td><td>25</td></tr>",
                            "<tr><td>Ireland</td><td>Rock</td><td>12</td></tr>",
                            "<tr><td>Italy</td><td>Rock</td><td>18</td></tr>",
                            "<tr><td>Netherlands</td><td>Rock</td><td>18</td></tr>",
                            "<tr><td>Norway</td><td>Rock</td><td>17</td></tr>",
                            "<tr><td>Poland</td><td>Rock</td><td>22</td></tr>",
                            "<tr><td>Portugal</td><td>Rock</td><td>31</td></tr>",
                            "<tr><td>Spain</td><td>Rock</td><td>22</td></tr>",
                            "<tr><td>Sweden</td><td>Latin</td><td>12</td></tr>",
                            "<tr><td>United Kingdom</td><td>Rock</td><td>37</td></tr>",
                            "<tr><td>USA</td><td>Rock</td><td>157</td></tr>",
                            "</table>"
                        ]
                    }
                }
            ],
            "execution_count": 8
        },
        {
            "cell_type": "markdown",
            "source": [
                "From the table above, it can be seen that the most popular genre in almost all the countries is Rock. How about we organise a Global Rock Concert for the customer in USA (where total sales of the genre is highest)? I bet we can gather a lot of people in it."
            ],
            "metadata": {
                "azdata_cell_guid": "529dd806-c410-4ea0-bc33-e139fbce088d"
            },
            "attachments": {}
        },
        {
            "cell_type": "markdown",
            "source": [
                "## Rock Fest Artists\n",
                "\n",
                "Now that we have decided on organising a Rock Concert in USA, we can decide which musicians to invite to play at the concert. Let's invite the top 10 artists who have written the most rock music in our music store."
            ],
            "metadata": {
                "azdata_cell_guid": "96a7087c-caed-470d-bbe1-54597e481e1a"
            },
            "attachments": {}
        },
        {
            "cell_type": "code",
            "source": [
                "SELECT TOP(10) a.Name AS Artist, COUNT(*) AS number_of_songs\n",
                "FROM Artist a \n",
                "JOIN Album al \n",
                "ON a.ArtistId = al.ArtistId\n",
                "JOIN Track t \n",
                "ON al.AlbumId = t.AlbumId \n",
                "JOIN Genre g \n",
                "ON t.GenreId = g.GenreId\n",
                "WHERE g.Name = 'Rock'\n",
                "GROUP BY a.Name \n",
                "ORDER BY number_of_songs DESC;"
            ],
            "metadata": {
                "azdata_cell_guid": "c07ac766-7b0a-47c3-946e-553819039c35",
                "language": "sql"
            },
            "outputs": [
                {
                    "output_type": "display_data",
                    "data": {
                        "text/html": "(10 rows affected)"
                    },
                    "metadata": {}
                },
                {
                    "output_type": "display_data",
                    "data": {
                        "text/html": "Total execution time: 00:00:00.011"
                    },
                    "metadata": {}
                },
                {
                    "output_type": "execute_result",
                    "metadata": {},
                    "execution_count": 9,
                    "data": {
                        "application/vnd.dataresource+json": {
                            "schema": {
                                "fields": [
                                    {
                                        "name": "Artist"
                                    },
                                    {
                                        "name": "number_of_songs"
                                    }
                                ]
                            },
                            "data": [
                                {
                                    "0": "Led Zeppelin",
                                    "1": "114"
                                },
                                {
                                    "0": "U2",
                                    "1": "112"
                                },
                                {
                                    "0": "Deep Purple",
                                    "1": "92"
                                },
                                {
                                    "0": "Iron Maiden",
                                    "1": "81"
                                },
                                {
                                    "0": "Pearl Jam",
                                    "1": "54"
                                },
                                {
                                    "0": "Van Halen",
                                    "1": "52"
                                },
                                {
                                    "0": "Queen",
                                    "1": "45"
                                },
                                {
                                    "0": "The Rolling Stones",
                                    "1": "41"
                                },
                                {
                                    "0": "Creedence Clearwater Revival",
                                    "1": "40"
                                },
                                {
                                    "0": "Kiss",
                                    "1": "35"
                                }
                            ]
                        },
                        "text/html": [
                            "<table>",
                            "<tr><th>Artist</th><th>number_of_songs</th></tr>",
                            "<tr><td>Led Zeppelin</td><td>114</td></tr>",
                            "<tr><td>U2</td><td>112</td></tr>",
                            "<tr><td>Deep Purple</td><td>92</td></tr>",
                            "<tr><td>Iron Maiden</td><td>81</td></tr>",
                            "<tr><td>Pearl Jam</td><td>54</td></tr>",
                            "<tr><td>Van Halen</td><td>52</td></tr>",
                            "<tr><td>Queen</td><td>45</td></tr>",
                            "<tr><td>The Rolling Stones</td><td>41</td></tr>",
                            "<tr><td>Creedence Clearwater Revival</td><td>40</td></tr>",
                            "<tr><td>Kiss</td><td>35</td></tr>",
                            "</table>"
                        ]
                    }
                }
            ],
            "execution_count": 9
        },
        {
            "cell_type": "markdown",
            "source": [
                "We can see the artists we should call at the concert. Better be sending those invites away soon."
            ],
            "metadata": {
                "azdata_cell_guid": "d65e8a63-eb50-49cb-ad62-137130bd3480"
            },
            "attachments": {}
        },
        {
            "cell_type": "markdown",
            "source": [
                "## Customer Reward System\n",
                "\n",
                "The management of Chinook wishes to reward the customers from each country who has spent the most on our platform with credit vouchers to encourage continued support and brand loyalty. Let's find who these customers are."
            ],
            "metadata": {
                "azdata_cell_guid": "311c0c4d-e5c2-4efc-8281-80608818c485"
            },
            "attachments": {}
        },
        {
            "cell_type": "code",
            "source": [
                "WITH customer_country AS \n",
                "(\n",
                "    SELECT \n",
                "        c.Country, \n",
                "        c.CustomerId, \n",
                "        c.FirstName, \n",
                "        c.LastName,\n",
                "        SUM(i.Total) AS total_spent,\n",
                "        RANK() OVER(PARTITION BY c.Country ORDER BY SUM(i.Total) DESC) AS rnk\n",
                "\n",
                "    FROM Customer c \n",
                "    JOIN Invoice i \n",
                "    ON c.CustomerId = i.CustomerId\n",
                "    GROUP BY c.Country, c.CustomerId, c.FirstName, c.LastName\n",
                ")\n",
                "\n",
                "SELECT Country, CustomerId, (FirstName + ' ' + LastName) AS CustomerName, total_spent\n",
                "FROM customer_country cc \n",
                "WHERE rnk = 1\n",
                "ORDER BY Country, total_spent DESC;"
            ],
            "metadata": {
                "azdata_cell_guid": "66576ac1-d3a8-49de-a284-a4ad43945a27",
                "language": "sql"
            },
            "outputs": [
                {
                    "output_type": "display_data",
                    "data": {
                        "text/html": "(26 rows affected)"
                    },
                    "metadata": {}
                },
                {
                    "output_type": "display_data",
                    "data": {
                        "text/html": "Total execution time: 00:00:00.011"
                    },
                    "metadata": {}
                },
                {
                    "output_type": "execute_result",
                    "metadata": {},
                    "execution_count": 10,
                    "data": {
                        "application/vnd.dataresource+json": {
                            "schema": {
                                "fields": [
                                    {
                                        "name": "Country"
                                    },
                                    {
                                        "name": "CustomerId"
                                    },
                                    {
                                        "name": "CustomerName"
                                    },
                                    {
                                        "name": "total_spent"
                                    }
                                ]
                            },
                            "data": [
                                {
                                    "0": "Argentina",
                                    "1": "56",
                                    "2": "Diego Gutiérrez",
                                    "3": "37.62"
                                },
                                {
                                    "0": "Australia",
                                    "1": "55",
                                    "2": "Mark Taylor",
                                    "3": "37.62"
                                },
                                {
                                    "0": "Austria",
                                    "1": "7",
                                    "2": "Astrid Gruber",
                                    "3": "42.62"
                                },
                                {
                                    "0": "Belgium",
                                    "1": "8",
                                    "2": "Daan Peeters",
                                    "3": "37.62"
                                },
                                {
                                    "0": "Brazil",
                                    "1": "1",
                                    "2": "Luís Gonçalves",
                                    "3": "39.62"
                                },
                                {
                                    "0": "Canada",
                                    "1": "3",
                                    "2": "François Tremblay",
                                    "3": "39.62"
                                },
                                {
                                    "0": "Chile",
                                    "1": "57",
                                    "2": "Luis Rojas",
                                    "3": "46.62"
                                },
                                {
                                    "0": "Czech Republic",
                                    "1": "6",
                                    "2": "Helena Holý",
                                    "3": "49.62"
                                },
                                {
                                    "0": "Denmark",
                                    "1": "9",
                                    "2": "Kara Nielsen",
                                    "3": "37.62"
                                },
                                {
                                    "0": "Finland",
                                    "1": "44",
                                    "2": "Terhi Hämäläinen",
                                    "3": "41.62"
                                },
                                {
                                    "0": "France",
                                    "1": "43",
                                    "2": "Isabelle Mercier",
                                    "3": "40.62"
                                },
                                {
                                    "0": "Germany",
                                    "1": "37",
                                    "2": "Fynn Zimmermann",
                                    "3": "43.62"
                                },
                                {
                                    "0": "Hungary",
                                    "1": "45",
                                    "2": "Ladislav Kovács",
                                    "3": "45.62"
                                },
                                {
                                    "0": "India",
                                    "1": "58",
                                    "2": "Manoj Pareek",
                                    "3": "38.62"
                                },
                                {
                                    "0": "Ireland",
                                    "1": "46",
                                    "2": "Hugh O'Reilly",
                                    "3": "45.62"
                                },
                                {
                                    "0": "Italy",
                                    "1": "47",
                                    "2": "Lucas Mancini",
                                    "3": "37.62"
                                },
                                {
                                    "0": "Netherlands",
                                    "1": "48",
                                    "2": "Johannes Van der Berg",
                                    "3": "40.62"
                                },
                                {
                                    "0": "Norway",
                                    "1": "4",
                                    "2": "Bjørn Hansen",
                                    "3": "39.62"
                                },
                                {
                                    "0": "Poland",
                                    "1": "49",
                                    "2": "Stanisław Wójcik",
                                    "3": "37.62"
                                },
                                {
                                    "0": "Portugal",
                                    "1": "34",
                                    "2": "João Fernandes",
                                    "3": "39.62"
                                },
                                {
                                    "0": "Spain",
                                    "1": "50",
                                    "2": "Enrique Muñoz",
                                    "3": "37.62"
                                },
                                {
                                    "0": "Sweden",
                                    "1": "51",
                                    "2": "Joakim Johansson",
                                    "3": "38.62"
                                },
                                {
                                    "0": "United Kingdom",
                                    "1": "52",
                                    "2": "Emma Jones",
                                    "3": "37.62"
                                },
                                {
                                    "0": "United Kingdom",
                                    "1": "53",
                                    "2": "Phil Hughes",
                                    "3": "37.62"
                                },
                                {
                                    "0": "United Kingdom",
                                    "1": "54",
                                    "2": "Steve Murray",
                                    "3": "37.62"
                                },
                                {
                                    "0": "USA",
                                    "1": "26",
                                    "2": "Richard Cunningham",
                                    "3": "47.62"
                                }
                            ]
                        },
                        "text/html": [
                            "<table>",
                            "<tr><th>Country</th><th>CustomerId</th><th>CustomerName</th><th>total_spent</th></tr>",
                            "<tr><td>Argentina</td><td>56</td><td>Diego Gutiérrez</td><td>37.62</td></tr>",
                            "<tr><td>Australia</td><td>55</td><td>Mark Taylor</td><td>37.62</td></tr>",
                            "<tr><td>Austria</td><td>7</td><td>Astrid Gruber</td><td>42.62</td></tr>",
                            "<tr><td>Belgium</td><td>8</td><td>Daan Peeters</td><td>37.62</td></tr>",
                            "<tr><td>Brazil</td><td>1</td><td>Luís Gonçalves</td><td>39.62</td></tr>",
                            "<tr><td>Canada</td><td>3</td><td>François Tremblay</td><td>39.62</td></tr>",
                            "<tr><td>Chile</td><td>57</td><td>Luis Rojas</td><td>46.62</td></tr>",
                            "<tr><td>Czech Republic</td><td>6</td><td>Helena Holý</td><td>49.62</td></tr>",
                            "<tr><td>Denmark</td><td>9</td><td>Kara Nielsen</td><td>37.62</td></tr>",
                            "<tr><td>Finland</td><td>44</td><td>Terhi Hämäläinen</td><td>41.62</td></tr>",
                            "<tr><td>France</td><td>43</td><td>Isabelle Mercier</td><td>40.62</td></tr>",
                            "<tr><td>Germany</td><td>37</td><td>Fynn Zimmermann</td><td>43.62</td></tr>",
                            "<tr><td>Hungary</td><td>45</td><td>Ladislav Kovács</td><td>45.62</td></tr>",
                            "<tr><td>India</td><td>58</td><td>Manoj Pareek</td><td>38.62</td></tr>",
                            "<tr><td>Ireland</td><td>46</td><td>Hugh O'Reilly</td><td>45.62</td></tr>",
                            "<tr><td>Italy</td><td>47</td><td>Lucas Mancini</td><td>37.62</td></tr>",
                            "<tr><td>Netherlands</td><td>48</td><td>Johannes Van der Berg</td><td>40.62</td></tr>",
                            "<tr><td>Norway</td><td>4</td><td>Bjørn Hansen</td><td>39.62</td></tr>",
                            "<tr><td>Poland</td><td>49</td><td>Stanisław Wójcik</td><td>37.62</td></tr>",
                            "<tr><td>Portugal</td><td>34</td><td>João Fernandes</td><td>39.62</td></tr>",
                            "<tr><td>Spain</td><td>50</td><td>Enrique Muñoz</td><td>37.62</td></tr>",
                            "<tr><td>Sweden</td><td>51</td><td>Joakim Johansson</td><td>38.62</td></tr>",
                            "<tr><td>United Kingdom</td><td>52</td><td>Emma Jones</td><td>37.62</td></tr>",
                            "<tr><td>United Kingdom</td><td>53</td><td>Phil Hughes</td><td>37.62</td></tr>",
                            "<tr><td>United Kingdom</td><td>54</td><td>Steve Murray</td><td>37.62</td></tr>",
                            "<tr><td>USA</td><td>26</td><td>Richard Cunningham</td><td>47.62</td></tr>",
                            "</table>"
                        ]
                    }
                }
            ],
            "execution_count": 10
        },
        {
            "cell_type": "markdown",
            "source": [
                "So these were the top spenders in our platform from each country. Let's send 26 gift vuchers to these people as gratitude."
            ],
            "metadata": {
                "azdata_cell_guid": "89779289-b241-42bb-aad1-5819e0acea43"
            },
            "attachments": {}
        }
    ]
}