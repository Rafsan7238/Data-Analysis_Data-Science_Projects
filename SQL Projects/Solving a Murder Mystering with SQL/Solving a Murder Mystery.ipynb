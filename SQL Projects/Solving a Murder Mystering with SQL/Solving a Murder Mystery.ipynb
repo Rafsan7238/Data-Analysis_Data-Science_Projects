{
    "metadata": {
        "kernelspec": {
            "name": "SQL",
            "display_name": "SQL",
            "language": "sql"
        },
        "language_info": {
            "name": "sql",
            "version": ""
        }
    },
    "nbformat_minor": 2,
    "nbformat": 4,
    "cells": [
        {
            "cell_type": "markdown",
            "source": [
                "# Solving a Murder Mystery using SQL"
            ],
            "metadata": {
                "azdata_cell_guid": "34baa06f-a625-4208-a583-61f9b1ca3d13"
            },
            "attachments": {}
        },
        {
            "cell_type": "markdown",
            "source": [
                "## The Prompt:\n",
                "\n",
                "A crime has taken place and the detective needs your help. The detective gave you the crime scene report, but you somehow lost it. You vaguely remember that the crime was a murder that occurred sometime on Jan. 15, 2018 and that it took place in SQL City. All the clues to this mystery are buried in a huge database, and you need to use SQL to navigate through this vast network of information. Your first step to solving the mystery is to retrieve the corresponding crime scene report from the police department's database."
            ],
            "metadata": {
                "azdata_cell_guid": "e96a0ca6-edec-4105-a7c9-c1fe8c22d5dd"
            },
            "attachments": {}
        },
        {
            "cell_type": "markdown",
            "source": [
                "## The Project:\n",
                "\n",
                "The project prompt and the data has been collected from <a href=\"https://github.com/NUKnightLab/sql-mysteries\">NUKnightLab's GitHub Repository</a>."
            ],
            "metadata": {
                "language": "sql",
                "azdata_cell_guid": "2a68f547-e788-4688-8224-51a9ba17e87a"
            },
            "attachments": {}
        },
        {
            "cell_type": "code",
            "source": [
                ""
            ],
            "metadata": {
                "azdata_cell_guid": "b7b76e24-ef1f-4de9-8c2f-3ce9f3c64857",
                "language": "sql"
            },
            "outputs": [],
            "execution_count": null
        }
    ]
}