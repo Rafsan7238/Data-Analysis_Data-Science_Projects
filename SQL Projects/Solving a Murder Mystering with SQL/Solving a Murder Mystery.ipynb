{
    "metadata": {
        "kernelspec": {
            "name": "SQL",
            "display_name": "SQL",
            "language": "sql"
        },
        "language_info": {
            "name": "sql",
            "version": ""
        }
    },
    "nbformat_minor": 2,
    "nbformat": 4,
    "cells": [
        {
            "cell_type": "markdown",
            "source": [
                "# Solving a Murder Mystery using SQL"
            ],
            "metadata": {
                "azdata_cell_guid": "34baa06f-a625-4208-a583-61f9b1ca3d13"
            },
            "attachments": {}
        },
        {
            "cell_type": "markdown",
            "source": [
                "## The Prompt:\n",
                "\n",
                "A crime has taken place and the detective needs your help. The detective gave you the crime scene report, but you somehow lost it. You vaguely remember that the crime was a murder that occurred sometime on Jan. 15, 2018 and that it took place in SQL City. All the clues to this mystery are buried in a huge database, and you need to use SQL to navigate through this vast network of information. Your first step to solving the mystery is to retrieve the corresponding crime scene report from the police department's database."
            ],
            "metadata": {
                "azdata_cell_guid": "e96a0ca6-edec-4105-a7c9-c1fe8c22d5dd"
            },
            "attachments": {}
        },
        {
            "cell_type": "markdown",
            "source": [
                "## The Project:\n",
                "\n",
                "The project prompt and the data has been collected from <a href=\"https://github.com/NUKnightLab/sql-mysteries\">NUKnightLab's GitHub Repository</a>."
            ],
            "metadata": {
                "language": "sql",
                "azdata_cell_guid": "2a68f547-e788-4688-8224-51a9ba17e87a"
            },
            "attachments": {}
        },
        {
            "cell_type": "markdown",
            "source": [
                "## \\*\\*USE murder Database\\*\\*"
            ],
            "metadata": {
                "azdata_cell_guid": "b7b76e24-ef1f-4de9-8c2f-3ce9f3c64857",
                "language": ""
            },
            "attachments": {}
        },
        {
            "cell_type": "code",
            "source": [
                "USE murder;\n",
                "GO"
            ],
            "metadata": {
                "azdata_cell_guid": "0aaa40ea-4240-4627-b1bc-841d2191c175",
                "language": "sql"
            },
            "outputs": [
                {
                    "output_type": "display_data",
                    "data": {
                        "text/html": "Commands completed successfully."
                    },
                    "metadata": {}
                },
                {
                    "output_type": "display_data",
                    "data": {
                        "text/html": "Total execution time: 00:00:00.016"
                    },
                    "metadata": {}
                }
            ],
            "execution_count": 2
        },
        {
            "cell_type": "markdown",
            "source": [
                "## Crime Scene Report:\n",
                "\n",
                "It has been said that the crime happened on 15th January 2018 in SQL City and that it was a murder. Let's look into the crime scene report to start the investigation."
            ],
            "metadata": {
                "language": "sql",
                "azdata_cell_guid": "c3517141-67bf-4cbe-bc40-01dee497e027"
            },
            "attachments": {}
        },
        {
            "cell_type": "code",
            "source": [
                "SELECT * FROM crime_scene_report \n",
                "WHERE date = 20180115 AND type = 'murder' AND city = 'SQL City';"
            ],
            "metadata": {
                "language": "sql",
                "azdata_cell_guid": "e6aa981f-d4ad-4404-865a-70e44ccc9662"
            },
            "outputs": [
                {
                    "output_type": "display_data",
                    "data": {
                        "text/html": "(1 row affected)"
                    },
                    "metadata": {}
                },
                {
                    "output_type": "display_data",
                    "data": {
                        "text/html": "Total execution time: 00:00:00.036"
                    },
                    "metadata": {}
                },
                {
                    "output_type": "execute_result",
                    "metadata": {},
                    "execution_count": 4,
                    "data": {
                        "application/vnd.dataresource+json": {
                            "schema": {
                                "fields": [
                                    {
                                        "name": "date"
                                    },
                                    {
                                        "name": "type"
                                    },
                                    {
                                        "name": "description"
                                    },
                                    {
                                        "name": "city"
                                    }
                                ]
                            },
                            "data": [
                                {
                                    "0": "20180115",
                                    "1": "murder",
                                    "2": "Security footage shows that there were 2 witnesses. The first witness lives at the last house on \"Northwestern Dr\". The second witness, named Annabel, lives somewhere on \"Franklin Ave\".",
                                    "3": "SQL City"
                                }
                            ]
                        },
                        "text/html": [
                            "<table>",
                            "<tr><th>date</th><th>type</th><th>description</th><th>city</th></tr>",
                            "<tr><td>20180115</td><td>murder</td><td>Security footage shows that there were 2 witnesses. The first witness lives at the last house on &quot;Northwestern Dr&quot;. The second witness, named Annabel, lives somewhere on &quot;Franklin Ave&quot;.</td><td>SQL City</td></tr>",
                            "</table>"
                        ]
                    }
                }
            ],
            "execution_count": 4
        },
        {
            "cell_type": "markdown",
            "source": [
                "### **The Report:**\n",
                "\n",
                "'Security footage shows that there were 2 witnesses. The first witness lives at the last house on \"Northwestern Dr\". The second witness, named Annabel, lives somewhere on \"Franklin Ave\".'"
            ],
            "metadata": {
                "language": "sql",
                "azdata_cell_guid": "79ad94a0-2680-421c-89a9-12bb6f15c77c"
            },
            "attachments": {}
        },
        {
            "cell_type": "markdown",
            "source": [
                "According to the report, there were two witnesses:\n",
                "\n",
                "- The first witness lives at the last house on Northwestern Dr\n",
                "- The second witness, named Annabel, lives somewhere on Franklin Ave\n",
                "\n",
                "Let's find the interview of these witnesses."
            ],
            "metadata": {
                "language": "sql",
                "azdata_cell_guid": "7cb6114c-7ee2-419d-b597-1d07737ec754"
            },
            "attachments": {}
        },
        {
            "cell_type": "markdown",
            "source": [
                "## Find the Witnesses:\n",
                "\n",
                "Let's look for both the witnesses in the \\`person\\` table. \n",
                "\n",
                "The first one lives at the last house on Northwestern Drive."
            ],
            "metadata": {
                "language": "sql",
                "azdata_cell_guid": "eb6ea0fd-7da9-4951-b3df-ffc21d9b36f0"
            },
            "attachments": {}
        },
        {
            "cell_type": "code",
            "source": [
                "SELECT TOP(1) * FROM person \n",
                "WHERE address_street_name = 'Northwestern Dr'\n",
                "ORDER BY address_number DESC;"
            ],
            "metadata": {
                "language": "sql",
                "azdata_cell_guid": "190cba73-dc04-4211-8d81-9e6b2b996276",
                "tags": []
            },
            "outputs": [
                {
                    "output_type": "display_data",
                    "data": {
                        "text/html": "(1 row affected)"
                    },
                    "metadata": {}
                },
                {
                    "output_type": "display_data",
                    "data": {
                        "text/html": "Total execution time: 00:00:00.028"
                    },
                    "metadata": {}
                },
                {
                    "output_type": "execute_result",
                    "metadata": {},
                    "execution_count": 6,
                    "data": {
                        "application/vnd.dataresource+json": {
                            "schema": {
                                "fields": [
                                    {
                                        "name": "id"
                                    },
                                    {
                                        "name": "name"
                                    },
                                    {
                                        "name": "license_id"
                                    },
                                    {
                                        "name": "address_number"
                                    },
                                    {
                                        "name": "address_street_name"
                                    },
                                    {
                                        "name": "ssn"
                                    }
                                ]
                            },
                            "data": [
                                {
                                    "0": "14887",
                                    "1": "Morty Schapiro",
                                    "2": "118009",
                                    "3": "4919",
                                    "4": "Northwestern Dr",
                                    "5": "111564949"
                                }
                            ]
                        },
                        "text/html": [
                            "<table>",
                            "<tr><th>id</th><th>name</th><th>license_id</th><th>address_number</th><th>address_street_name</th><th>ssn</th></tr>",
                            "<tr><td>14887</td><td>Morty Schapiro</td><td>118009</td><td>4919</td><td>Northwestern Dr</td><td>111564949</td></tr>",
                            "</table>"
                        ]
                    }
                }
            ],
            "execution_count": 6
        },
        {
            "cell_type": "markdown",
            "source": [
                "So, the first witness is Morty Schapiro. Now, let's look for the other witness whose name is Annabel and lives somewhere on Franklin Ave."
            ],
            "metadata": {
                "language": "sql",
                "azdata_cell_guid": "dc62c78c-1552-4f68-9d5c-0b5f1d21b0de"
            },
            "attachments": {}
        },
        {
            "cell_type": "code",
            "source": [
                "SELECT * FROM person \n",
                "WHERE name LIKE '%Annabel%' AND address_street_name = 'Franklin Ave';"
            ],
            "metadata": {
                "language": "sql",
                "azdata_cell_guid": "132ac882-9c4f-49c9-85bb-5aff18fb16f4"
            },
            "outputs": [
                {
                    "output_type": "display_data",
                    "data": {
                        "text/html": "(1 row affected)"
                    },
                    "metadata": {}
                },
                {
                    "output_type": "display_data",
                    "data": {
                        "text/html": "Total execution time: 00:00:00.044"
                    },
                    "metadata": {}
                },
                {
                    "output_type": "execute_result",
                    "metadata": {},
                    "execution_count": 7,
                    "data": {
                        "application/vnd.dataresource+json": {
                            "schema": {
                                "fields": [
                                    {
                                        "name": "id"
                                    },
                                    {
                                        "name": "name"
                                    },
                                    {
                                        "name": "license_id"
                                    },
                                    {
                                        "name": "address_number"
                                    },
                                    {
                                        "name": "address_street_name"
                                    },
                                    {
                                        "name": "ssn"
                                    }
                                ]
                            },
                            "data": [
                                {
                                    "0": "16371",
                                    "1": "Annabel Miller",
                                    "2": "490173",
                                    "3": "103",
                                    "4": "Franklin Ave",
                                    "5": "318771143"
                                }
                            ]
                        },
                        "text/html": [
                            "<table>",
                            "<tr><th>id</th><th>name</th><th>license_id</th><th>address_number</th><th>address_street_name</th><th>ssn</th></tr>",
                            "<tr><td>16371</td><td>Annabel Miller</td><td>490173</td><td>103</td><td>Franklin Ave</td><td>318771143</td></tr>",
                            "</table>"
                        ]
                    }
                }
            ],
            "execution_count": 7
        },
        {
            "cell_type": "markdown",
            "source": [
                "We have also found the the second witness named Annabel Miller."
            ],
            "metadata": {
                "language": "sql",
                "azdata_cell_guid": "6263cada-c7f9-4f07-bd62-ae70926d0928"
            },
            "attachments": {}
        },
        {
            "cell_type": "markdown",
            "source": [
                "## Witness Interviews:\n",
                "\n",
                "Now that we know who our two witnesses are, let's look into their interviews to find clues about the culprit. \n",
                "\n",
                "  \n",
                "\n",
                "Let's start with Morty Schapiro's report."
            ],
            "metadata": {
                "language": "sql",
                "azdata_cell_guid": "e3e9c510-6420-4ea2-931a-0a524b089565"
            },
            "attachments": {}
        },
        {
            "cell_type": "code",
            "source": [
                "SELECT * FROM interview\n",
                "WHERE person_id IN (14887, 16371);"
            ],
            "metadata": {
                "language": "sql",
                "azdata_cell_guid": "12354ddd-c3b5-4467-90c7-0dbfbe75ed51"
            },
            "outputs": [
                {
                    "output_type": "display_data",
                    "data": {
                        "text/html": "(2 rows affected)"
                    },
                    "metadata": {}
                },
                {
                    "output_type": "display_data",
                    "data": {
                        "text/html": "Total execution time: 00:00:00.015"
                    },
                    "metadata": {}
                },
                {
                    "output_type": "execute_result",
                    "metadata": {},
                    "execution_count": 11,
                    "data": {
                        "application/vnd.dataresource+json": {
                            "schema": {
                                "fields": [
                                    {
                                        "name": "person_id"
                                    },
                                    {
                                        "name": "transcript"
                                    }
                                ]
                            },
                            "data": [
                                {
                                    "0": "14887",
                                    "1": "I heard a gunshot and then saw a man run out. He had a \"Get Fit Now Gym\" bag. The membership number on the bag started with \"48Z\". Only gold members have those bags. The man got into a car with a plate that included \"H42W\"."
                                },
                                {
                                    "0": "16371",
                                    "1": "I saw the murder happen, and I recognized the killer from my gym when I was working out last week on January the 9th."
                                }
                            ]
                        },
                        "text/html": [
                            "<table>",
                            "<tr><th>person_id</th><th>transcript</th></tr>",
                            "<tr><td>14887</td><td>I heard a gunshot and then saw a man run out. He had a &quot;Get Fit Now Gym&quot; bag. The membership number on the bag started with &quot;48Z&quot;. Only gold members have those bags. The man got into a car with a plate that included &quot;H42W&quot;.</td></tr>",
                            "<tr><td>16371</td><td>I saw the murder happen, and I recognized the killer from my gym when I was working out last week on January the 9th.</td></tr>",
                            "</table>"
                        ]
                    }
                }
            ],
            "execution_count": 11
        },
        {
            "cell_type": "markdown",
            "source": [
                "### **The Interview Transcript:**\n",
                "\n",
                "- **Witness 1:** 'I heard a gunshot and then saw a man run out. He had a \"Get Fit Now Gym\" bag. The membership number on the bag started with \"48Z\". Only gold members have those bags. The man got into a car with a plate that included \"H42W\".'\n",
                "- **Witness 2:** 'I saw the murder happen, and I recognized the killer from my gym when I was working out last week on January the 9th.'"
            ],
            "metadata": {
                "language": "sql",
                "azdata_cell_guid": "04ff4ad0-23bd-4bbf-9047-ee5ecff45c90"
            },
            "attachments": {}
        },
        {
            "cell_type": "markdown",
            "source": [
                "Both the witnesses seem to have seen the same person. Some key information we can gather from the interviews are:\n",
                "\n",
                "- The killer is a male\n",
                "- The killer is a member of 'Get Fit Now' gym\n",
                "- Killer's membership number started with '48Z'\n",
                "- Killer is a gold member\n",
                "- Killer's car plate has the number 'H42W'\n",
                "- Killer checked into the gym on January 9th 2018"
            ],
            "metadata": {
                "language": "sql",
                "azdata_cell_guid": "cdb3edf2-959a-40db-98f9-2cfc2204754d"
            },
            "attachments": {}
        },
        {
            "cell_type": "markdown",
            "source": [
                "## Search for Gym Member:\n",
                "\n",
                "Since we know the killer is a 'Get Fit Now' gold member with the membership no. starting with '48Z', let's begin our search for the suspect from there."
            ],
            "metadata": {
                "language": "sql",
                "azdata_cell_guid": "f066318b-f599-4a28-81f3-0259f5a6aea3"
            },
            "attachments": {}
        },
        {
            "cell_type": "code",
            "source": [
                "SELECT * FROM get_fit_now_member \n",
                "WHERE id LIKE '48Z%' AND membership_status = 'gold';"
            ],
            "metadata": {
                "language": "sql",
                "azdata_cell_guid": "71a7188c-b051-468a-b22c-1ddd61a9c1a0",
                "tags": []
            },
            "outputs": [
                {
                    "output_type": "display_data",
                    "data": {
                        "text/html": "(2 rows affected)"
                    },
                    "metadata": {}
                },
                {
                    "output_type": "display_data",
                    "data": {
                        "text/html": "Total execution time: 00:00:00.043"
                    },
                    "metadata": {}
                },
                {
                    "output_type": "execute_result",
                    "metadata": {},
                    "execution_count": 12,
                    "data": {
                        "application/vnd.dataresource+json": {
                            "schema": {
                                "fields": [
                                    {
                                        "name": "id"
                                    },
                                    {
                                        "name": "person_id"
                                    },
                                    {
                                        "name": "name"
                                    },
                                    {
                                        "name": "membership_start_date"
                                    },
                                    {
                                        "name": "membership_status"
                                    }
                                ]
                            },
                            "data": [
                                {
                                    "0": "48Z7A",
                                    "1": "28819",
                                    "2": "Joe Germuska",
                                    "3": "20160305",
                                    "4": "gold"
                                },
                                {
                                    "0": "48Z55",
                                    "1": "67318",
                                    "2": "Jeremy Bowers",
                                    "3": "20160101",
                                    "4": "gold"
                                }
                            ]
                        },
                        "text/html": [
                            "<table>",
                            "<tr><th>id</th><th>person_id</th><th>name</th><th>membership_start_date</th><th>membership_status</th></tr>",
                            "<tr><td>48Z7A</td><td>28819</td><td>Joe Germuska</td><td>20160305</td><td>gold</td></tr>",
                            "<tr><td>48Z55</td><td>67318</td><td>Jeremy Bowers</td><td>20160101</td><td>gold</td></tr>",
                            "</table>"
                        ]
                    }
                }
            ],
            "execution_count": 12
        },
        {
            "cell_type": "markdown",
            "source": [
                "According to the witness description about the gym member, we have two suspects: Joe Germuska and Jeremy Bowers."
            ],
            "metadata": {
                "language": "sql",
                "azdata_cell_guid": "b2e89862-7506-4d67-8ffb-38cbb8242e5f"
            },
            "attachments": {}
        },
        {
            "cell_type": "markdown",
            "source": [
                "## Cross Check with Licence Plate:\n",
                "\n",
                "We also know that the killer, who was a male, has a car containing the licence plate number 'H42W'. Let's cross check that information with the information received from the gym member data."
            ],
            "metadata": {
                "language": "sql",
                "azdata_cell_guid": "f095e91a-5f29-43f9-8e58-48730637d2a2"
            },
            "attachments": {}
        },
        {
            "cell_type": "code",
            "source": [
                "SELECT\n",
                "    p.id AS person_id,\n",
                "    name,\n",
                "    dl.id AS license_id,\n",
                "    gender,\n",
                "    plate_number\n",
                "FROM drivers_license dl \n",
                "INNER JOIN person p \n",
                "ON dl.id = p.license_id \n",
                "WHERE dl.gender = 'male' AND dl.plate_number LIKE '%H42W%';"
            ],
            "metadata": {
                "language": "sql",
                "azdata_cell_guid": "b5f05689-1b15-4734-a5c1-c20dec35addc"
            },
            "outputs": [
                {
                    "output_type": "display_data",
                    "data": {
                        "text/html": "(2 rows affected)"
                    },
                    "metadata": {}
                },
                {
                    "output_type": "display_data",
                    "data": {
                        "text/html": "Total execution time: 00:00:00.031"
                    },
                    "metadata": {}
                },
                {
                    "output_type": "execute_result",
                    "metadata": {},
                    "execution_count": 14,
                    "data": {
                        "application/vnd.dataresource+json": {
                            "schema": {
                                "fields": [
                                    {
                                        "name": "person_id"
                                    },
                                    {
                                        "name": "name"
                                    },
                                    {
                                        "name": "license_id"
                                    },
                                    {
                                        "name": "gender"
                                    },
                                    {
                                        "name": "plate_number"
                                    }
                                ]
                            },
                            "data": [
                                {
                                    "0": "51739",
                                    "1": "Tushar Chandra",
                                    "2": "664760",
                                    "3": "male",
                                    "4": "4H42WR"
                                },
                                {
                                    "0": "67318",
                                    "1": "Jeremy Bowers",
                                    "2": "423327",
                                    "3": "male",
                                    "4": "0H42W2"
                                }
                            ]
                        },
                        "text/html": [
                            "<table>",
                            "<tr><th>person_id</th><th>name</th><th>license_id</th><th>gender</th><th>plate_number</th></tr>",
                            "<tr><td>51739</td><td>Tushar Chandra</td><td>664760</td><td>male</td><td>4H42WR</td></tr>",
                            "<tr><td>67318</td><td>Jeremy Bowers</td><td>423327</td><td>male</td><td>0H42W2</td></tr>",
                            "</table>"
                        ]
                    }
                }
            ],
            "execution_count": 14
        },
        {
            "cell_type": "markdown",
            "source": [
                "We again have two suspects who were male and had car with the plate number containing 'H42W'. Among these two, Jeremy Bowers is also a suspect based on our previous search. Hence, he is our prime suspect for now."
            ],
            "metadata": {
                "language": "sql",
                "azdata_cell_guid": "569327b3-5456-4ff8-b8c4-ad8f1276a30e"
            },
            "attachments": {}
        },
        {
            "cell_type": "markdown",
            "source": [
                "## Search Gym Check In Data:\n",
                "\n",
                "Finally, according to the second witness of the case, the killer checked in at the 'Get Fit Now' gym on January 9th 2018 before Annabel Miller as she saw him working out while she was there. Let's use this information and find out who checked in on January 9th 2018 before Annabel and checked out after she checked in."
            ],
            "metadata": {
                "language": "sql",
                "azdata_cell_guid": "e0e18bef-d2a1-42b1-aadd-77738a5dc651"
            },
            "attachments": {}
        },
        {
            "cell_type": "code",
            "source": [
                "WITH annabel_check_in AS (\n",
                "    SELECT * FROM get_fit_now_check_in\n",
                "    WHERE membership_id = (\n",
                "        SELECT id FROM get_fit_now_member \n",
                "        WHERE person_id = 16371\n",
                "    )\n",
                "    AND check_in_date = 20180109\n",
                ")\n",
                "\n",
                "SELECT gfm.name, gfm.person_id, gfc.membership_id, gfc.check_in_date, gfc.check_in_time, gfc.check_out_time\n",
                "FROM get_fit_now_check_in gfc\n",
                "INNER JOIN get_fit_now_member gfm\n",
                "ON gfc.membership_id = gfm.id \n",
                "INNER JOIN annabel_check_in ac \n",
                "ON gfc.check_in_date = ac.check_in_date \n",
                "WHERE gfc.check_in_time <= ac.check_in_time AND gfc.check_out_time >= ac.check_in_time;"
            ],
            "metadata": {
                "language": "sql",
                "azdata_cell_guid": "9ee7a71c-7d88-4a70-9409-bc5d34c50146"
            },
            "outputs": [
                {
                    "output_type": "display_data",
                    "data": {
                        "text/html": "(3 rows affected)"
                    },
                    "metadata": {}
                },
                {
                    "output_type": "display_data",
                    "data": {
                        "text/html": "Total execution time: 00:00:00.036"
                    },
                    "metadata": {}
                },
                {
                    "output_type": "execute_result",
                    "metadata": {},
                    "execution_count": 19,
                    "data": {
                        "application/vnd.dataresource+json": {
                            "schema": {
                                "fields": [
                                    {
                                        "name": "name"
                                    },
                                    {
                                        "name": "person_id"
                                    },
                                    {
                                        "name": "membership_id"
                                    },
                                    {
                                        "name": "check_in_date"
                                    },
                                    {
                                        "name": "check_in_time"
                                    },
                                    {
                                        "name": "check_out_time"
                                    }
                                ]
                            },
                            "data": [
                                {
                                    "0": "Joe Germuska",
                                    "1": "28819",
                                    "2": "48Z7A",
                                    "3": "20180109",
                                    "4": "1600",
                                    "5": "1730"
                                },
                                {
                                    "0": "Jeremy Bowers",
                                    "1": "67318",
                                    "2": "48Z55",
                                    "3": "20180109",
                                    "4": "1530",
                                    "5": "1700"
                                },
                                {
                                    "0": "Annabel Miller",
                                    "1": "16371",
                                    "2": "90081",
                                    "3": "20180109",
                                    "4": "1600",
                                    "5": "1700"
                                }
                            ]
                        },
                        "text/html": [
                            "<table>",
                            "<tr><th>name</th><th>person_id</th><th>membership_id</th><th>check_in_date</th><th>check_in_time</th><th>check_out_time</th></tr>",
                            "<tr><td>Joe Germuska</td><td>28819</td><td>48Z7A</td><td>20180109</td><td>1600</td><td>1730</td></tr>",
                            "<tr><td>Jeremy Bowers</td><td>67318</td><td>48Z55</td><td>20180109</td><td>1530</td><td>1700</td></tr>",
                            "<tr><td>Annabel Miller</td><td>16371</td><td>90081</td><td>20180109</td><td>1600</td><td>1700</td></tr>",
                            "</table>"
                        ]
                    }
                }
            ],
            "execution_count": 19
        }
    ]
}