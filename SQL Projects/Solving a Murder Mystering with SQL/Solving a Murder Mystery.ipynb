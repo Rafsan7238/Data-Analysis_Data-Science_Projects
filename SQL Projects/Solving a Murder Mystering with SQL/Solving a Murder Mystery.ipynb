{
    "metadata": {
        "kernelspec": {
            "name": "SQL",
            "display_name": "SQL",
            "language": "sql"
        },
        "language_info": {
            "name": "sql",
            "version": ""
        }
    },
    "nbformat_minor": 2,
    "nbformat": 4,
    "cells": [
        {
            "cell_type": "markdown",
            "source": [
                "# Solving a Murder Mystery using SQL"
            ],
            "metadata": {
                "azdata_cell_guid": "34baa06f-a625-4208-a583-61f9b1ca3d13"
            },
            "attachments": {}
        },
        {
            "cell_type": "markdown",
            "source": [
                "## The Prompt:\n",
                "\n",
                "A crime has taken place and the detective needs your help. The detective gave you the crime scene report, but you somehow lost it. You vaguely remember that the crime was a murder that occurred sometime on Jan. 15, 2018 and that it took place in SQL City. All the clues to this mystery are buried in a huge database, and you need to use SQL to navigate through this vast network of information. Your first step to solving the mystery is to retrieve the corresponding crime scene report from the police department's database."
            ],
            "metadata": {
                "azdata_cell_guid": "e96a0ca6-edec-4105-a7c9-c1fe8c22d5dd"
            },
            "attachments": {}
        },
        {
            "cell_type": "markdown",
            "source": [
                "## The Project:\n",
                "\n",
                "The project prompt and the data has been collected from <a href=\"https://github.com/NUKnightLab/sql-mysteries\">NUKnightLab's GitHub Repository</a>."
            ],
            "metadata": {
                "language": "sql",
                "azdata_cell_guid": "2a68f547-e788-4688-8224-51a9ba17e87a"
            },
            "attachments": {}
        },
        {
            "cell_type": "markdown",
            "source": [
                "## \\*\\*USE murder Database\\*\\*"
            ],
            "metadata": {
                "azdata_cell_guid": "b7b76e24-ef1f-4de9-8c2f-3ce9f3c64857",
                "language": ""
            },
            "attachments": {}
        },
        {
            "cell_type": "code",
            "source": [
                "USE murder;\n",
                "GO"
            ],
            "metadata": {
                "azdata_cell_guid": "0aaa40ea-4240-4627-b1bc-841d2191c175",
                "language": "sql"
            },
            "outputs": [
                {
                    "output_type": "display_data",
                    "data": {
                        "text/html": "Commands completed successfully."
                    },
                    "metadata": {}
                },
                {
                    "output_type": "display_data",
                    "data": {
                        "text/html": "Total execution time: 00:00:00.016"
                    },
                    "metadata": {}
                }
            ],
            "execution_count": 2
        },
        {
            "cell_type": "markdown",
            "source": [
                "## Crime Scene Report:\n",
                "\n",
                "It has been said that the crime happened on 15th January 2018 in SQL City and that it was a murder. Let's look into the crime scene report to start the investigation."
            ],
            "metadata": {
                "language": "sql",
                "azdata_cell_guid": "c3517141-67bf-4cbe-bc40-01dee497e027"
            },
            "attachments": {}
        },
        {
            "cell_type": "code",
            "source": [
                "SELECT * FROM crime_scene_report \n",
                "WHERE date = 20180115 AND type = 'murder' AND city = 'SQL City';"
            ],
            "metadata": {
                "language": "sql",
                "azdata_cell_guid": "e6aa981f-d4ad-4404-865a-70e44ccc9662"
            },
            "outputs": [
                {
                    "output_type": "display_data",
                    "data": {
                        "text/html": "(1 row affected)"
                    },
                    "metadata": {}
                },
                {
                    "output_type": "display_data",
                    "data": {
                        "text/html": "Total execution time: 00:00:00.036"
                    },
                    "metadata": {}
                },
                {
                    "output_type": "execute_result",
                    "metadata": {},
                    "execution_count": 4,
                    "data": {
                        "application/vnd.dataresource+json": {
                            "schema": {
                                "fields": [
                                    {
                                        "name": "date"
                                    },
                                    {
                                        "name": "type"
                                    },
                                    {
                                        "name": "description"
                                    },
                                    {
                                        "name": "city"
                                    }
                                ]
                            },
                            "data": [
                                {
                                    "0": "20180115",
                                    "1": "murder",
                                    "2": "Security footage shows that there were 2 witnesses. The first witness lives at the last house on \"Northwestern Dr\". The second witness, named Annabel, lives somewhere on \"Franklin Ave\".",
                                    "3": "SQL City"
                                }
                            ]
                        },
                        "text/html": [
                            "<table>",
                            "<tr><th>date</th><th>type</th><th>description</th><th>city</th></tr>",
                            "<tr><td>20180115</td><td>murder</td><td>Security footage shows that there were 2 witnesses. The first witness lives at the last house on &quot;Northwestern Dr&quot;. The second witness, named Annabel, lives somewhere on &quot;Franklin Ave&quot;.</td><td>SQL City</td></tr>",
                            "</table>"
                        ]
                    }
                }
            ],
            "execution_count": 4
        },
        {
            "cell_type": "markdown",
            "source": [
                "### **The Report:**\n",
                "\n",
                "'Security footage shows that there were 2 witnesses. The first witness lives at the last house on \"Northwestern Dr\". The second witness, named Annabel, lives somewhere on \"Franklin Ave\".'"
            ],
            "metadata": {
                "language": "sql",
                "azdata_cell_guid": "79ad94a0-2680-421c-89a9-12bb6f15c77c"
            },
            "attachments": {}
        },
        {
            "cell_type": "markdown",
            "source": [
                "According to the report, there were two witnesses:\n",
                "\n",
                "- The first witness lives at the last house on Northwestern Dr\n",
                "- The second witness, named Annabel, lives somewhere on Franklin Ave\n",
                "\n",
                "Let's find the interview of these witnesses."
            ],
            "metadata": {
                "language": "sql",
                "azdata_cell_guid": "7cb6114c-7ee2-419d-b597-1d07737ec754"
            },
            "attachments": {}
        },
        {
            "cell_type": "markdown",
            "source": [
                "## Find the Witnesses:\n",
                "\n",
                "Let's look for both the witnesses in the \\`person\\` table. \n",
                "\n",
                "The first one lives at the last house on Northwestern Drive."
            ],
            "metadata": {
                "language": "sql",
                "azdata_cell_guid": "eb6ea0fd-7da9-4951-b3df-ffc21d9b36f0"
            },
            "attachments": {}
        },
        {
            "cell_type": "code",
            "source": [
                "SELECT TOP(1) * FROM person \n",
                "WHERE address_street_name = 'Northwestern Dr'\n",
                "ORDER BY address_number DESC;"
            ],
            "metadata": {
                "language": "sql",
                "azdata_cell_guid": "190cba73-dc04-4211-8d81-9e6b2b996276",
                "tags": []
            },
            "outputs": [
                {
                    "output_type": "display_data",
                    "data": {
                        "text/html": "(1 row affected)"
                    },
                    "metadata": {}
                },
                {
                    "output_type": "display_data",
                    "data": {
                        "text/html": "Total execution time: 00:00:00.028"
                    },
                    "metadata": {}
                },
                {
                    "output_type": "execute_result",
                    "metadata": {},
                    "execution_count": 6,
                    "data": {
                        "application/vnd.dataresource+json": {
                            "schema": {
                                "fields": [
                                    {
                                        "name": "id"
                                    },
                                    {
                                        "name": "name"
                                    },
                                    {
                                        "name": "license_id"
                                    },
                                    {
                                        "name": "address_number"
                                    },
                                    {
                                        "name": "address_street_name"
                                    },
                                    {
                                        "name": "ssn"
                                    }
                                ]
                            },
                            "data": [
                                {
                                    "0": "14887",
                                    "1": "Morty Schapiro",
                                    "2": "118009",
                                    "3": "4919",
                                    "4": "Northwestern Dr",
                                    "5": "111564949"
                                }
                            ]
                        },
                        "text/html": [
                            "<table>",
                            "<tr><th>id</th><th>name</th><th>license_id</th><th>address_number</th><th>address_street_name</th><th>ssn</th></tr>",
                            "<tr><td>14887</td><td>Morty Schapiro</td><td>118009</td><td>4919</td><td>Northwestern Dr</td><td>111564949</td></tr>",
                            "</table>"
                        ]
                    }
                }
            ],
            "execution_count": 6
        }
    ]
}