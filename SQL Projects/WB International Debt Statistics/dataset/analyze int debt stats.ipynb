{
    "metadata": {
        "kernelspec": {
            "name": "SQL",
            "display_name": "SQL",
            "language": "sql"
        },
        "language_info": {
            "name": "sql",
            "version": ""
        }
    },
    "nbformat_minor": 2,
    "nbformat": 4,
    "cells": [
        {
            "cell_type": "markdown",
            "source": [
                "# **The World Bank's International Debt Data**"
            ],
            "metadata": {
                "azdata_cell_guid": "859e4be9-3185-44e7-9b38-38f588e62e8c"
            },
            "attachments": {}
        },
        {
            "cell_type": "markdown",
            "source": [
                "<span style=\"color: rgba(0, 0, 0, 0.87); font-family: -apple-system, system-ui, &quot;Segoe UI&quot;, Helvetica, Arial, sans-serif, &quot;Apple Color Emoji&quot;, &quot;Segoe UI Emoji&quot;, &quot;Segoe UI Symbol&quot;; background-color: rgb(255, 255, 255);\">It's not that we humans only take debts to manage our necessities. A country may also take debt to manage its economy. For example, infrastructure spending is one costly ingredient required for a country's citizens to lead comfortable lives.&nbsp;</span> [The World Bank](https://www.worldbank.org/en/home) <span style=\"color: rgba(0, 0, 0, 0.87); font-family: -apple-system, system-ui, &quot;Segoe UI&quot;, Helvetica, Arial, sans-serif, &quot;Apple Color Emoji&quot;, &quot;Segoe UI Emoji&quot;, &quot;Segoe UI Symbol&quot;; background-color: rgb(255, 255, 255);\">&nbsp;is the organization that provides debt to countries.</span>\n",
                "\n",
                "In this notebook, we are going to analyze international debt data collected by The World Bank. The dataset contains information about the amount of debt (in USD) owed by developing countries across several categories. We are going to find the answers to questions like:\n",
                "\n",
                "- What is the total amount of debt that is owed by the countries listed in the dataset?\n",
                "- Which country owns the maximum amount of debt and what does that amount look like?\n",
                "- What is the average amount of debt owed by countries across different debt indicators?\n",
                "\n",
                "This is part of [datacamp](/Users/rafsanalmamun/Downloads/Data-Analysis_Data-Science_Projects/SQL%20Projects/WB%20International%20Debt%20Statistics/dataset/www.datacamp.com)'s \"[Analyze International Debt Statistics](https://www.datacamp.com/projects/754)\" project."
            ],
            "metadata": {
                "azdata_cell_guid": "ec060a0f-d018-4105-8ab9-1bf8f0f543e9"
            },
            "attachments": {}
        },
        {
            "cell_type": "markdown",
            "source": [
                "### **\\*\\* Use the IDS Database \\*\\***"
            ],
            "metadata": {
                "azdata_cell_guid": "8f1d8e41-5e0c-4b30-948f-14437f1e93df"
            },
            "attachments": {}
        },
        {
            "cell_type": "code",
            "source": [
                "USE IDS;\n",
                "GO"
            ],
            "metadata": {
                "azdata_cell_guid": "d1715b1f-6c5f-4b77-a257-841dab9d097b",
                "language": "sql",
                "tags": [
                    "hide_input"
                ]
            },
            "outputs": [
                {
                    "output_type": "display_data",
                    "data": {
                        "text/html": "Commands completed successfully."
                    },
                    "metadata": {}
                },
                {
                    "output_type": "display_data",
                    "data": {
                        "text/html": "Total execution time: 00:00:00.009"
                    },
                    "metadata": {}
                }
            ],
            "execution_count": 2
        },
        {
            "cell_type": "markdown",
            "source": [
                "## 1\\. Overview of the 'international\\_debt' Table\n",
                "\n",
                "<span style=\"color: rgba(0, 0, 0, 0.87); font-family: -apple-system, system-ui, &quot;Segoe UI&quot;, Helvetica, Arial, sans-serif, &quot;Apple Color Emoji&quot;, &quot;Segoe UI Emoji&quot;, &quot;Segoe UI Symbol&quot;; background-color: rgb(255, 255, 255);\">Let's first&nbsp;</span> `SELECT` _all_ <span style=\"color: rgba(0, 0, 0, 0.87); font-family: -apple-system, system-ui, &quot;Segoe UI&quot;, Helvetica, Arial, sans-serif, &quot;Apple Color Emoji&quot;, &quot;Segoe UI Emoji&quot;, &quot;Segoe UI Symbol&quot;; background-color: rgb(255, 255, 255);\">of the columns from the&nbsp;</span> `international_debt` <span style=\"color: rgba(0, 0, 0, 0.87); font-family: -apple-system, system-ui, &quot;Segoe UI&quot;, Helvetica, Arial, sans-serif, &quot;Apple Color Emoji&quot;, &quot;Segoe UI Emoji&quot;, &quot;Segoe UI Symbol&quot;; background-color: rgb(255, 255, 255);\">table. Also, we'll limit the output to the first ten rows to keep the output clean.</span>"
            ],
            "metadata": {
                "language": "sql",
                "azdata_cell_guid": "486e129d-ea6e-4ebd-be24-bb61b8096f1a"
            },
            "attachments": {}
        },
        {
            "cell_type": "code",
            "source": [
                "SELECT TOP(10) * FROM international_debt;"
            ],
            "metadata": {
                "language": "sql",
                "azdata_cell_guid": "7588ce1e-d7f6-4d05-a4c7-064fccb779a7"
            },
            "outputs": [
                {
                    "output_type": "display_data",
                    "data": {
                        "text/html": "(10 rows affected)"
                    },
                    "metadata": {}
                },
                {
                    "output_type": "display_data",
                    "data": {
                        "text/html": "Total execution time: 00:00:00.026"
                    },
                    "metadata": {}
                },
                {
                    "output_type": "execute_result",
                    "metadata": {},
                    "execution_count": 4,
                    "data": {
                        "application/vnd.dataresource+json": {
                            "schema": {
                                "fields": [
                                    {
                                        "name": "country_name"
                                    },
                                    {
                                        "name": "country_code"
                                    },
                                    {
                                        "name": "indicator_name"
                                    },
                                    {
                                        "name": "indicator_code"
                                    },
                                    {
                                        "name": "debt"
                                    }
                                ]
                            },
                            "data": [
                                {
                                    "0": "Afghanistan",
                                    "1": "AFG",
                                    "2": "PPG, bilateral (AMT, current US$)",
                                    "3": "DT.AMT.BLAT.CD",
                                    "4": "61739336.9"
                                },
                                {
                                    "0": "Afghanistan",
                                    "1": "AFG",
                                    "2": "Principal repayments on external debt, long-term (AMT, current US$)",
                                    "3": "DT.AMT.DLXF.CD",
                                    "4": "100847181.9"
                                },
                                {
                                    "0": "Afghanistan",
                                    "1": "AFG",
                                    "2": "PPG, multilateral (AMT, current US$)",
                                    "3": "DT.AMT.MLAT.CD",
                                    "4": "39107845"
                                },
                                {
                                    "0": "Afghanistan",
                                    "1": "AFG",
                                    "2": "PPG, official creditors (AMT, current US$)",
                                    "3": "DT.AMT.OFFT.CD",
                                    "4": "100847181.9"
                                },
                                {
                                    "0": "Afghanistan",
                                    "1": "AFG",
                                    "2": "PPG, bilateral (DIS, current US$)",
                                    "3": "DT.DIS.BLAT.CD",
                                    "4": "49114729.4"
                                },
                                {
                                    "0": "Afghanistan",
                                    "1": "AFG",
                                    "2": "Disbursements on external debt, long-term (DIS, current US$)",
                                    "3": "DT.DIS.DLXF.CD",
                                    "4": "72894453.7"
                                },
                                {
                                    "0": "Afghanistan",
                                    "1": "AFG",
                                    "2": "PPG, multilateral (DIS, current US$)",
                                    "3": "DT.DIS.MLAT.CD",
                                    "4": "23779724.3"
                                },
                                {
                                    "0": "Afghanistan",
                                    "1": "AFG",
                                    "2": "PPG, official creditors (DIS, current US$)",
                                    "3": "DT.DIS.OFFT.CD",
                                    "4": "72894453.7"
                                },
                                {
                                    "0": "Afghanistan",
                                    "1": "AFG",
                                    "2": "PPG, bilateral (INT, current US$)",
                                    "3": "DT.INT.BLAT.CD",
                                    "4": "39903620.1"
                                },
                                {
                                    "0": "Afghanistan",
                                    "1": "AFG",
                                    "2": "Interest payments on external debt, long-term (INT, current US$)",
                                    "3": "DT.INT.DLXF.CD",
                                    "4": "53239440.1"
                                }
                            ]
                        },
                        "text/html": [
                            "<table>",
                            "<tr><th>country_name</th><th>country_code</th><th>indicator_name</th><th>indicator_code</th><th>debt</th></tr>",
                            "<tr><td>Afghanistan</td><td>AFG</td><td>PPG, bilateral (AMT, current US$)</td><td>DT.AMT.BLAT.CD</td><td>61739336.9</td></tr>",
                            "<tr><td>Afghanistan</td><td>AFG</td><td>Principal repayments on external debt, long-term (AMT, current US$)</td><td>DT.AMT.DLXF.CD</td><td>100847181.9</td></tr>",
                            "<tr><td>Afghanistan</td><td>AFG</td><td>PPG, multilateral (AMT, current US$)</td><td>DT.AMT.MLAT.CD</td><td>39107845</td></tr>",
                            "<tr><td>Afghanistan</td><td>AFG</td><td>PPG, official creditors (AMT, current US$)</td><td>DT.AMT.OFFT.CD</td><td>100847181.9</td></tr>",
                            "<tr><td>Afghanistan</td><td>AFG</td><td>PPG, bilateral (DIS, current US$)</td><td>DT.DIS.BLAT.CD</td><td>49114729.4</td></tr>",
                            "<tr><td>Afghanistan</td><td>AFG</td><td>Disbursements on external debt, long-term (DIS, current US$)</td><td>DT.DIS.DLXF.CD</td><td>72894453.7</td></tr>",
                            "<tr><td>Afghanistan</td><td>AFG</td><td>PPG, multilateral (DIS, current US$)</td><td>DT.DIS.MLAT.CD</td><td>23779724.3</td></tr>",
                            "<tr><td>Afghanistan</td><td>AFG</td><td>PPG, official creditors (DIS, current US$)</td><td>DT.DIS.OFFT.CD</td><td>72894453.7</td></tr>",
                            "<tr><td>Afghanistan</td><td>AFG</td><td>PPG, bilateral (INT, current US$)</td><td>DT.INT.BLAT.CD</td><td>39903620.1</td></tr>",
                            "<tr><td>Afghanistan</td><td>AFG</td><td>Interest payments on external debt, long-term (INT, current US$)</td><td>DT.INT.DLXF.CD</td><td>53239440.1</td></tr>",
                            "</table>"
                        ]
                    }
                }
            ],
            "execution_count": 4
        },
        {
            "cell_type": "markdown",
            "source": [
                "## 2\\. Finding the Number of Distinct Countries\n",
                "\n",
                "From the first ten rows, we can see the amount of debt owed by _Afghanistan_ in the different debt indicators. But we do not know the number of different countries we have on the table. There are repetitions in the country names because a country is most likely to have debt in more than one debt indicator.\n",
                "\n",
                "Without a count of unique countries, we will not be able to perform our statistical analyses holistically. In this section, we are going to extract the number of unique countries present in the table."
            ],
            "metadata": {
                "language": "",
                "azdata_cell_guid": "0bd509f6-6f7b-471b-9691-d77b4aa8a53e"
            },
            "attachments": {}
        },
        {
            "cell_type": "code",
            "source": [
                "SELECT COUNT(DISTINCT country_name) AS total_num_countries \n",
                "FROM international_debt;"
            ],
            "metadata": {
                "azdata_cell_guid": "562414fc-771e-4a93-8a2a-cdfe2e094be1",
                "language": "sql"
            },
            "outputs": [
                {
                    "output_type": "display_data",
                    "data": {
                        "text/html": "(1 row affected)"
                    },
                    "metadata": {}
                },
                {
                    "output_type": "display_data",
                    "data": {
                        "text/html": "Total execution time: 00:00:00.052"
                    },
                    "metadata": {}
                },
                {
                    "output_type": "execute_result",
                    "metadata": {},
                    "execution_count": 5,
                    "data": {
                        "application/vnd.dataresource+json": {
                            "schema": {
                                "fields": [
                                    {
                                        "name": "total_num_countries"
                                    }
                                ]
                            },
                            "data": [
                                {
                                    "0": "124"
                                }
                            ]
                        },
                        "text/html": [
                            "<table>",
                            "<tr><th>total_num_countries</th></tr>",
                            "<tr><td>124</td></tr>",
                            "</table>"
                        ]
                    }
                }
            ],
            "execution_count": 5
        },
        {
            "cell_type": "markdown",
            "source": [
                "## 3\\. Finding Out the Distinct Debt Indicators\n",
                "\n",
                "We can see there are a total of 124 countries present on the table. As we saw in the first section, there is a column called `indicator_name` that briefly specifies the purpose of taking the debt. Just beside that column, there is another column called `indicator_code` which symbolizes the category of these debts. Knowing about these various debt indicators will help us to understand the areas in which a country can possibly be indebted to."
            ],
            "metadata": {
                "language": "sql",
                "azdata_cell_guid": "30442c3b-a330-4c02-b137-b677576ea4a7"
            },
            "attachments": {}
        },
        {
            "cell_type": "code",
            "source": [
                "SELECT DISTINCT indicator_code AS debt_indicators\n",
                "FROM international_debt\n",
                "ORDER BY debt_indicators;"
            ],
            "metadata": {
                "language": "sql",
                "azdata_cell_guid": "b6a598f3-70c8-4f2b-8c03-5274b8b6801a"
            },
            "outputs": [
                {
                    "output_type": "display_data",
                    "data": {
                        "text/html": "(25 rows affected)"
                    },
                    "metadata": {}
                },
                {
                    "output_type": "display_data",
                    "data": {
                        "text/html": "Total execution time: 00:00:00.032"
                    },
                    "metadata": {}
                },
                {
                    "output_type": "execute_result",
                    "metadata": {},
                    "execution_count": 6,
                    "data": {
                        "application/vnd.dataresource+json": {
                            "schema": {
                                "fields": [
                                    {
                                        "name": "debt_indicators"
                                    }
                                ]
                            },
                            "data": [
                                {
                                    "0": "DT.AMT.BLAT.CD"
                                },
                                {
                                    "0": "DT.AMT.DLXF.CD"
                                },
                                {
                                    "0": "DT.AMT.DPNG.CD"
                                },
                                {
                                    "0": "DT.AMT.MLAT.CD"
                                },
                                {
                                    "0": "DT.AMT.OFFT.CD"
                                },
                                {
                                    "0": "DT.AMT.PBND.CD"
                                },
                                {
                                    "0": "DT.AMT.PCBK.CD"
                                },
                                {
                                    "0": "DT.AMT.PROP.CD"
                                },
                                {
                                    "0": "DT.AMT.PRVT.CD"
                                },
                                {
                                    "0": "DT.DIS.BLAT.CD"
                                },
                                {
                                    "0": "DT.DIS.DLXF.CD"
                                },
                                {
                                    "0": "DT.DIS.MLAT.CD"
                                },
                                {
                                    "0": "DT.DIS.OFFT.CD"
                                },
                                {
                                    "0": "DT.DIS.PCBK.CD"
                                },
                                {
                                    "0": "DT.DIS.PROP.CD"
                                },
                                {
                                    "0": "DT.DIS.PRVT.CD"
                                },
                                {
                                    "0": "DT.INT.BLAT.CD"
                                },
                                {
                                    "0": "DT.INT.DLXF.CD"
                                },
                                {
                                    "0": "DT.INT.DPNG.CD"
                                },
                                {
                                    "0": "DT.INT.MLAT.CD"
                                },
                                {
                                    "0": "DT.INT.OFFT.CD"
                                },
                                {
                                    "0": "DT.INT.PBND.CD"
                                },
                                {
                                    "0": "DT.INT.PCBK.CD"
                                },
                                {
                                    "0": "DT.INT.PROP.CD"
                                },
                                {
                                    "0": "DT.INT.PRVT.CD"
                                }
                            ]
                        },
                        "text/html": [
                            "<table>",
                            "<tr><th>debt_indicators</th></tr>",
                            "<tr><td>DT.AMT.BLAT.CD</td></tr>",
                            "<tr><td>DT.AMT.DLXF.CD</td></tr>",
                            "<tr><td>DT.AMT.DPNG.CD</td></tr>",
                            "<tr><td>DT.AMT.MLAT.CD</td></tr>",
                            "<tr><td>DT.AMT.OFFT.CD</td></tr>",
                            "<tr><td>DT.AMT.PBND.CD</td></tr>",
                            "<tr><td>DT.AMT.PCBK.CD</td></tr>",
                            "<tr><td>DT.AMT.PROP.CD</td></tr>",
                            "<tr><td>DT.AMT.PRVT.CD</td></tr>",
                            "<tr><td>DT.DIS.BLAT.CD</td></tr>",
                            "<tr><td>DT.DIS.DLXF.CD</td></tr>",
                            "<tr><td>DT.DIS.MLAT.CD</td></tr>",
                            "<tr><td>DT.DIS.OFFT.CD</td></tr>",
                            "<tr><td>DT.DIS.PCBK.CD</td></tr>",
                            "<tr><td>DT.DIS.PROP.CD</td></tr>",
                            "<tr><td>DT.DIS.PRVT.CD</td></tr>",
                            "<tr><td>DT.INT.BLAT.CD</td></tr>",
                            "<tr><td>DT.INT.DLXF.CD</td></tr>",
                            "<tr><td>DT.INT.DPNG.CD</td></tr>",
                            "<tr><td>DT.INT.MLAT.CD</td></tr>",
                            "<tr><td>DT.INT.OFFT.CD</td></tr>",
                            "<tr><td>DT.INT.PBND.CD</td></tr>",
                            "<tr><td>DT.INT.PCBK.CD</td></tr>",
                            "<tr><td>DT.INT.PROP.CD</td></tr>",
                            "<tr><td>DT.INT.PRVT.CD</td></tr>",
                            "</table>"
                        ]
                    }
                }
            ],
            "execution_count": 6
        },
        {
            "cell_type": "markdown",
            "source": [
                "## 4\\. Totaling the Amount of Debt Owed by the Countries\n",
                "\n",
                "As mentioned earlier, the financial debt of a particular country represents its economic state. But if we were to project this on an overall global scale, how will we approach it?\n",
                "\n",
                "Let's switch gears from the debt indicators now and find out the total amount of debt (in USD) that is owed by the different countries. This will give us a sense of how the overall economy of the entire world is holding up."
            ],
            "metadata": {
                "azdata_cell_guid": "e2637ac8-8524-4306-a55b-0e61f05137da"
            },
            "attachments": {}
        },
        {
            "cell_type": "code",
            "source": [
                "SELECT SUM(debt) as total_debt_USD\n",
                "FROM international_debt;"
            ],
            "metadata": {
                "azdata_cell_guid": "e60b9aa9-c2db-4093-9a07-bb40a8605f25",
                "language": "sql"
            },
            "outputs": [
                {
                    "output_type": "display_data",
                    "data": {
                        "text/html": "(1 row affected)"
                    },
                    "metadata": {}
                },
                {
                    "output_type": "display_data",
                    "data": {
                        "text/html": "Total execution time: 00:00:00.018"
                    },
                    "metadata": {}
                },
                {
                    "output_type": "execute_result",
                    "metadata": {},
                    "execution_count": 8,
                    "data": {
                        "application/vnd.dataresource+json": {
                            "schema": {
                                "fields": [
                                    {
                                        "name": "total_debt_USD"
                                    }
                                ]
                            },
                            "data": [
                                {
                                    "0": "3079734487675.79"
                                }
                            ]
                        },
                        "text/html": [
                            "<table>",
                            "<tr><th>total_debt_USD</th></tr>",
                            "<tr><td>3079734487675.79</td></tr>",
                            "</table>"
                        ]
                    }
                }
            ],
            "execution_count": 8
        },
        {
            "cell_type": "markdown",
            "source": [
                "## 5\\. Country with the Highest Debt\n",
                "\n",
                "\"Human beings cannot comprehend very large or very small numbers. It would be useful for us to acknowledge that fact.\" - [Daniel Kahneman](https://en.wikipedia.org/wiki/Daniel_Kahneman). That is more than _3 million **million**_ USD, an amount which is really hard for us to fathom.\n",
                "\n",
                "Now that we have the exact total of the amounts of debt owed by several countries, let's now find out the country that owns the highest amount of debt along with the amount. **Note** that this debt is the sum of different debts owed by a country across several categories. This will help to understand more about the country in terms of its socio-economic scenarios. We can also find out the category in which the country owns its highest debt. But we will leave that for now."
            ],
            "metadata": {
                "language": "sql",
                "azdata_cell_guid": "50e6537c-cf4e-4074-8354-3df7db848359"
            },
            "attachments": {}
        },
        {
            "cell_type": "code",
            "source": [
                "SELECT TOP(1) WITH TIES country_name, ROUND(SUM(debt/1000000000), 2) AS total_debt_Billion_USD\n",
                "FROM international_debt\n",
                "GROUP BY country_name\n",
                "ORDER BY total_debt_Billion_USD DESC;"
            ],
            "metadata": {
                "language": "sql",
                "azdata_cell_guid": "b06e0a6e-ad7e-4e45-9d4b-4f06909c0429"
            },
            "outputs": [
                {
                    "output_type": "display_data",
                    "data": {
                        "text/html": "(1 row affected)"
                    },
                    "metadata": {}
                },
                {
                    "output_type": "display_data",
                    "data": {
                        "text/html": "Total execution time: 00:00:00.019"
                    },
                    "metadata": {}
                },
                {
                    "output_type": "execute_result",
                    "metadata": {},
                    "execution_count": 11,
                    "data": {
                        "application/vnd.dataresource+json": {
                            "schema": {
                                "fields": [
                                    {
                                        "name": "country_name"
                                    },
                                    {
                                        "name": "total_debt_Billion_USD"
                                    }
                                ]
                            },
                            "data": [
                                {
                                    "0": "China",
                                    "1": "285.79"
                                }
                            ]
                        },
                        "text/html": [
                            "<table>",
                            "<tr><th>country_name</th><th>total_debt_Billion_USD</th></tr>",
                            "<tr><td>China</td><td>285.79</td></tr>",
                            "</table>"
                        ]
                    }
                }
            ],
            "execution_count": 11
        }
    ]
}