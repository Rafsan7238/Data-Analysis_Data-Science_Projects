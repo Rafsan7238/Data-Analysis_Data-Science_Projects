{
    "metadata": {
        "kernelspec": {
            "name": "SQL",
            "display_name": "SQL",
            "language": "sql"
        },
        "language_info": {
            "name": "sql",
            "version": ""
        }
    },
    "nbformat_minor": 2,
    "nbformat": 4,
    "cells": [
        {
            "cell_type": "markdown",
            "source": [
                "# **The World Bank's International Debt Data**"
            ],
            "metadata": {
                "azdata_cell_guid": "859e4be9-3185-44e7-9b38-38f588e62e8c"
            },
            "attachments": {}
        },
        {
            "cell_type": "markdown",
            "source": [
                "<span style=\"color: rgba(0, 0, 0, 0.87); font-family: -apple-system, system-ui, &quot;Segoe UI&quot;, Helvetica, Arial, sans-serif, &quot;Apple Color Emoji&quot;, &quot;Segoe UI Emoji&quot;, &quot;Segoe UI Symbol&quot;; background-color: rgb(255, 255, 255);\">It's not that we humans only take debts to manage our necessities. A country may also take debt to manage its economy. For example, infrastructure spending is one costly ingredient required for a country's citizens to lead comfortable lives.&nbsp;</span> [The World Bank](https://www.worldbank.org/en/home) <span style=\"color: rgba(0, 0, 0, 0.87); font-family: -apple-system, system-ui, &quot;Segoe UI&quot;, Helvetica, Arial, sans-serif, &quot;Apple Color Emoji&quot;, &quot;Segoe UI Emoji&quot;, &quot;Segoe UI Symbol&quot;; background-color: rgb(255, 255, 255);\">&nbsp;is the organization that provides debt to countries.</span>\n",
                "\n",
                "In this notebook, we are going to analyze international debt data collected by The World Bank. The dataset contains information about the amount of debt (in USD) owed by developing countries across several categories. We are going to find the answers to questions like:\n",
                "\n",
                "- What is the total amount of debt that is owed by the countries listed in the dataset?\n",
                "- Which country owns the maximum amount of debt and what does that amount look like?\n",
                "- What is the average amount of debt owed by countries across different debt indicators?\n",
                "\n",
                "This is part of [datacamp](/Users/rafsanalmamun/Downloads/Data-Analysis_Data-Science_Projects/SQL%20Projects/WB%20International%20Debt%20Statistics/dataset/www.datacamp.com)'s \"[Analyze International Debt Statistics](https://www.datacamp.com/projects/754)\" project."
            ],
            "metadata": {
                "azdata_cell_guid": "ec060a0f-d018-4105-8ab9-1bf8f0f543e9"
            },
            "attachments": {}
        },
        {
            "cell_type": "markdown",
            "source": [
                "### **\\*\\* Use the IDS Database \\*\\***"
            ],
            "metadata": {
                "azdata_cell_guid": "8f1d8e41-5e0c-4b30-948f-14437f1e93df"
            },
            "attachments": {}
        },
        {
            "cell_type": "code",
            "source": [
                "USE IDS;\n",
                "GO"
            ],
            "metadata": {
                "azdata_cell_guid": "d1715b1f-6c5f-4b77-a257-841dab9d097b",
                "language": "sql",
                "tags": [
                    "hide_input"
                ]
            },
            "outputs": [
                {
                    "output_type": "display_data",
                    "data": {
                        "text/html": "Commands completed successfully."
                    },
                    "metadata": {}
                },
                {
                    "output_type": "display_data",
                    "data": {
                        "text/html": "Total execution time: 00:00:00.009"
                    },
                    "metadata": {}
                }
            ],
            "execution_count": 2
        },
        {
            "cell_type": "markdown",
            "source": [
                "## 1\\. Overview of the 'international\\_debt' Table\n",
                "\n",
                "<span style=\"color: rgba(0, 0, 0, 0.87); font-family: -apple-system, system-ui, &quot;Segoe UI&quot;, Helvetica, Arial, sans-serif, &quot;Apple Color Emoji&quot;, &quot;Segoe UI Emoji&quot;, &quot;Segoe UI Symbol&quot;; background-color: rgb(255, 255, 255);\">Let's first&nbsp;</span> `SELECT` _all_ <span style=\"color: rgba(0, 0, 0, 0.87); font-family: -apple-system, system-ui, &quot;Segoe UI&quot;, Helvetica, Arial, sans-serif, &quot;Apple Color Emoji&quot;, &quot;Segoe UI Emoji&quot;, &quot;Segoe UI Symbol&quot;; background-color: rgb(255, 255, 255);\">of the columns from the&nbsp;</span> `international_debt` <span style=\"color: rgba(0, 0, 0, 0.87); font-family: -apple-system, system-ui, &quot;Segoe UI&quot;, Helvetica, Arial, sans-serif, &quot;Apple Color Emoji&quot;, &quot;Segoe UI Emoji&quot;, &quot;Segoe UI Symbol&quot;; background-color: rgb(255, 255, 255);\">table. Also, we'll limit the output to the first ten rows to keep the output clean.</span>"
            ],
            "metadata": {
                "language": "sql",
                "azdata_cell_guid": "486e129d-ea6e-4ebd-be24-bb61b8096f1a"
            },
            "attachments": {}
        },
        {
            "cell_type": "code",
            "source": [
                "SELECT TOP(10) * FROM international_debt;"
            ],
            "metadata": {
                "language": "sql",
                "azdata_cell_guid": "7588ce1e-d7f6-4d05-a4c7-064fccb779a7"
            },
            "outputs": [
                {
                    "output_type": "display_data",
                    "data": {
                        "text/html": "(10 rows affected)"
                    },
                    "metadata": {}
                },
                {
                    "output_type": "display_data",
                    "data": {
                        "text/html": "Total execution time: 00:00:00.026"
                    },
                    "metadata": {}
                },
                {
                    "output_type": "execute_result",
                    "metadata": {},
                    "execution_count": 4,
                    "data": {
                        "application/vnd.dataresource+json": {
                            "schema": {
                                "fields": [
                                    {
                                        "name": "country_name"
                                    },
                                    {
                                        "name": "country_code"
                                    },
                                    {
                                        "name": "indicator_name"
                                    },
                                    {
                                        "name": "indicator_code"
                                    },
                                    {
                                        "name": "debt"
                                    }
                                ]
                            },
                            "data": [
                                {
                                    "0": "Afghanistan",
                                    "1": "AFG",
                                    "2": "PPG, bilateral (AMT, current US$)",
                                    "3": "DT.AMT.BLAT.CD",
                                    "4": "61739336.9"
                                },
                                {
                                    "0": "Afghanistan",
                                    "1": "AFG",
                                    "2": "Principal repayments on external debt, long-term (AMT, current US$)",
                                    "3": "DT.AMT.DLXF.CD",
                                    "4": "100847181.9"
                                },
                                {
                                    "0": "Afghanistan",
                                    "1": "AFG",
                                    "2": "PPG, multilateral (AMT, current US$)",
                                    "3": "DT.AMT.MLAT.CD",
                                    "4": "39107845"
                                },
                                {
                                    "0": "Afghanistan",
                                    "1": "AFG",
                                    "2": "PPG, official creditors (AMT, current US$)",
                                    "3": "DT.AMT.OFFT.CD",
                                    "4": "100847181.9"
                                },
                                {
                                    "0": "Afghanistan",
                                    "1": "AFG",
                                    "2": "PPG, bilateral (DIS, current US$)",
                                    "3": "DT.DIS.BLAT.CD",
                                    "4": "49114729.4"
                                },
                                {
                                    "0": "Afghanistan",
                                    "1": "AFG",
                                    "2": "Disbursements on external debt, long-term (DIS, current US$)",
                                    "3": "DT.DIS.DLXF.CD",
                                    "4": "72894453.7"
                                },
                                {
                                    "0": "Afghanistan",
                                    "1": "AFG",
                                    "2": "PPG, multilateral (DIS, current US$)",
                                    "3": "DT.DIS.MLAT.CD",
                                    "4": "23779724.3"
                                },
                                {
                                    "0": "Afghanistan",
                                    "1": "AFG",
                                    "2": "PPG, official creditors (DIS, current US$)",
                                    "3": "DT.DIS.OFFT.CD",
                                    "4": "72894453.7"
                                },
                                {
                                    "0": "Afghanistan",
                                    "1": "AFG",
                                    "2": "PPG, bilateral (INT, current US$)",
                                    "3": "DT.INT.BLAT.CD",
                                    "4": "39903620.1"
                                },
                                {
                                    "0": "Afghanistan",
                                    "1": "AFG",
                                    "2": "Interest payments on external debt, long-term (INT, current US$)",
                                    "3": "DT.INT.DLXF.CD",
                                    "4": "53239440.1"
                                }
                            ]
                        },
                        "text/html": [
                            "<table>",
                            "<tr><th>country_name</th><th>country_code</th><th>indicator_name</th><th>indicator_code</th><th>debt</th></tr>",
                            "<tr><td>Afghanistan</td><td>AFG</td><td>PPG, bilateral (AMT, current US$)</td><td>DT.AMT.BLAT.CD</td><td>61739336.9</td></tr>",
                            "<tr><td>Afghanistan</td><td>AFG</td><td>Principal repayments on external debt, long-term (AMT, current US$)</td><td>DT.AMT.DLXF.CD</td><td>100847181.9</td></tr>",
                            "<tr><td>Afghanistan</td><td>AFG</td><td>PPG, multilateral (AMT, current US$)</td><td>DT.AMT.MLAT.CD</td><td>39107845</td></tr>",
                            "<tr><td>Afghanistan</td><td>AFG</td><td>PPG, official creditors (AMT, current US$)</td><td>DT.AMT.OFFT.CD</td><td>100847181.9</td></tr>",
                            "<tr><td>Afghanistan</td><td>AFG</td><td>PPG, bilateral (DIS, current US$)</td><td>DT.DIS.BLAT.CD</td><td>49114729.4</td></tr>",
                            "<tr><td>Afghanistan</td><td>AFG</td><td>Disbursements on external debt, long-term (DIS, current US$)</td><td>DT.DIS.DLXF.CD</td><td>72894453.7</td></tr>",
                            "<tr><td>Afghanistan</td><td>AFG</td><td>PPG, multilateral (DIS, current US$)</td><td>DT.DIS.MLAT.CD</td><td>23779724.3</td></tr>",
                            "<tr><td>Afghanistan</td><td>AFG</td><td>PPG, official creditors (DIS, current US$)</td><td>DT.DIS.OFFT.CD</td><td>72894453.7</td></tr>",
                            "<tr><td>Afghanistan</td><td>AFG</td><td>PPG, bilateral (INT, current US$)</td><td>DT.INT.BLAT.CD</td><td>39903620.1</td></tr>",
                            "<tr><td>Afghanistan</td><td>AFG</td><td>Interest payments on external debt, long-term (INT, current US$)</td><td>DT.INT.DLXF.CD</td><td>53239440.1</td></tr>",
                            "</table>"
                        ]
                    }
                }
            ],
            "execution_count": 4
        },
        {
            "cell_type": "markdown",
            "source": [
                "## 2\\. Finding the Number of Distinct Countries\n",
                "\n",
                "From the first ten rows, we can see the amount of debt owed by _Afghanistan_ in the different debt indicators. But we do not know the number of different countries we have on the table. There are repetitions in the country names because a country is most likely to have debt in more than one debt indicator.\n",
                "\n",
                "Without a count of unique countries, we will not be able to perform our statistical analyses holistically. In this section, we are going to extract the number of unique countries present in the table."
            ],
            "metadata": {
                "language": "",
                "azdata_cell_guid": "0bd509f6-6f7b-471b-9691-d77b4aa8a53e"
            },
            "attachments": {}
        },
        {
            "cell_type": "code",
            "source": [
                "SELECT COUNT(DISTINCT country_name) AS total_num_countries \n",
                "FROM international_debt;"
            ],
            "metadata": {
                "azdata_cell_guid": "562414fc-771e-4a93-8a2a-cdfe2e094be1",
                "language": "sql"
            },
            "outputs": [
                {
                    "output_type": "display_data",
                    "data": {
                        "text/html": "(1 row affected)"
                    },
                    "metadata": {}
                },
                {
                    "output_type": "display_data",
                    "data": {
                        "text/html": "Total execution time: 00:00:00.052"
                    },
                    "metadata": {}
                },
                {
                    "output_type": "execute_result",
                    "metadata": {},
                    "execution_count": 5,
                    "data": {
                        "application/vnd.dataresource+json": {
                            "schema": {
                                "fields": [
                                    {
                                        "name": "total_num_countries"
                                    }
                                ]
                            },
                            "data": [
                                {
                                    "0": "124"
                                }
                            ]
                        },
                        "text/html": [
                            "<table>",
                            "<tr><th>total_num_countries</th></tr>",
                            "<tr><td>124</td></tr>",
                            "</table>"
                        ]
                    }
                }
            ],
            "execution_count": 5
        },
        {
            "cell_type": "markdown",
            "source": [
                "## 3\\. Finding Out the Distinct Debt Indicators\n",
                "\n",
                "We can see there are a total of 124 countries present on the table. As we saw in the first section, there is a column called `indicator_name` that briefly specifies the purpose of taking the debt. Just beside that column, there is another column called `indicator_code` which symbolizes the category of these debts. Knowing about these various debt indicators will help us to understand the areas in which a country can possibly be indebted to."
            ],
            "metadata": {
                "language": "sql",
                "azdata_cell_guid": "30442c3b-a330-4c02-b137-b677576ea4a7"
            },
            "attachments": {}
        },
        {
            "cell_type": "code",
            "source": [
                "SELECT DISTINCT indicator_code AS debt_indicators\n",
                "FROM international_debt\n",
                "ORDER BY debt_indicators;"
            ],
            "metadata": {
                "language": "sql",
                "azdata_cell_guid": "b6a598f3-70c8-4f2b-8c03-5274b8b6801a"
            },
            "outputs": [
                {
                    "output_type": "display_data",
                    "data": {
                        "text/html": "(25 rows affected)"
                    },
                    "metadata": {}
                },
                {
                    "output_type": "display_data",
                    "data": {
                        "text/html": "Total execution time: 00:00:00.032"
                    },
                    "metadata": {}
                },
                {
                    "output_type": "execute_result",
                    "metadata": {},
                    "execution_count": 6,
                    "data": {
                        "application/vnd.dataresource+json": {
                            "schema": {
                                "fields": [
                                    {
                                        "name": "debt_indicators"
                                    }
                                ]
                            },
                            "data": [
                                {
                                    "0": "DT.AMT.BLAT.CD"
                                },
                                {
                                    "0": "DT.AMT.DLXF.CD"
                                },
                                {
                                    "0": "DT.AMT.DPNG.CD"
                                },
                                {
                                    "0": "DT.AMT.MLAT.CD"
                                },
                                {
                                    "0": "DT.AMT.OFFT.CD"
                                },
                                {
                                    "0": "DT.AMT.PBND.CD"
                                },
                                {
                                    "0": "DT.AMT.PCBK.CD"
                                },
                                {
                                    "0": "DT.AMT.PROP.CD"
                                },
                                {
                                    "0": "DT.AMT.PRVT.CD"
                                },
                                {
                                    "0": "DT.DIS.BLAT.CD"
                                },
                                {
                                    "0": "DT.DIS.DLXF.CD"
                                },
                                {
                                    "0": "DT.DIS.MLAT.CD"
                                },
                                {
                                    "0": "DT.DIS.OFFT.CD"
                                },
                                {
                                    "0": "DT.DIS.PCBK.CD"
                                },
                                {
                                    "0": "DT.DIS.PROP.CD"
                                },
                                {
                                    "0": "DT.DIS.PRVT.CD"
                                },
                                {
                                    "0": "DT.INT.BLAT.CD"
                                },
                                {
                                    "0": "DT.INT.DLXF.CD"
                                },
                                {
                                    "0": "DT.INT.DPNG.CD"
                                },
                                {
                                    "0": "DT.INT.MLAT.CD"
                                },
                                {
                                    "0": "DT.INT.OFFT.CD"
                                },
                                {
                                    "0": "DT.INT.PBND.CD"
                                },
                                {
                                    "0": "DT.INT.PCBK.CD"
                                },
                                {
                                    "0": "DT.INT.PROP.CD"
                                },
                                {
                                    "0": "DT.INT.PRVT.CD"
                                }
                            ]
                        },
                        "text/html": [
                            "<table>",
                            "<tr><th>debt_indicators</th></tr>",
                            "<tr><td>DT.AMT.BLAT.CD</td></tr>",
                            "<tr><td>DT.AMT.DLXF.CD</td></tr>",
                            "<tr><td>DT.AMT.DPNG.CD</td></tr>",
                            "<tr><td>DT.AMT.MLAT.CD</td></tr>",
                            "<tr><td>DT.AMT.OFFT.CD</td></tr>",
                            "<tr><td>DT.AMT.PBND.CD</td></tr>",
                            "<tr><td>DT.AMT.PCBK.CD</td></tr>",
                            "<tr><td>DT.AMT.PROP.CD</td></tr>",
                            "<tr><td>DT.AMT.PRVT.CD</td></tr>",
                            "<tr><td>DT.DIS.BLAT.CD</td></tr>",
                            "<tr><td>DT.DIS.DLXF.CD</td></tr>",
                            "<tr><td>DT.DIS.MLAT.CD</td></tr>",
                            "<tr><td>DT.DIS.OFFT.CD</td></tr>",
                            "<tr><td>DT.DIS.PCBK.CD</td></tr>",
                            "<tr><td>DT.DIS.PROP.CD</td></tr>",
                            "<tr><td>DT.DIS.PRVT.CD</td></tr>",
                            "<tr><td>DT.INT.BLAT.CD</td></tr>",
                            "<tr><td>DT.INT.DLXF.CD</td></tr>",
                            "<tr><td>DT.INT.DPNG.CD</td></tr>",
                            "<tr><td>DT.INT.MLAT.CD</td></tr>",
                            "<tr><td>DT.INT.OFFT.CD</td></tr>",
                            "<tr><td>DT.INT.PBND.CD</td></tr>",
                            "<tr><td>DT.INT.PCBK.CD</td></tr>",
                            "<tr><td>DT.INT.PROP.CD</td></tr>",
                            "<tr><td>DT.INT.PRVT.CD</td></tr>",
                            "</table>"
                        ]
                    }
                }
            ],
            "execution_count": 6
        },
        {
            "cell_type": "markdown",
            "source": [
                "## 4\\. Totaling the Amount of Debt Owed by the Countries\n",
                "\n",
                "As mentioned earlier, the financial debt of a particular country represents its economic state. But if we were to project this on an overall global scale, how will we approach it?\n",
                "\n",
                "Let's switch gears from the debt indicators now and find out the total amount of debt (in USD) that is owed by the different countries. This will give us a sense of how the overall economy of the entire world is holding up."
            ],
            "metadata": {
                "azdata_cell_guid": "e2637ac8-8524-4306-a55b-0e61f05137da"
            },
            "attachments": {}
        },
        {
            "cell_type": "code",
            "source": [
                "SELECT SUM(debt) as total_debt_USD\n",
                "FROM international_debt;"
            ],
            "metadata": {
                "azdata_cell_guid": "e60b9aa9-c2db-4093-9a07-bb40a8605f25",
                "language": "sql"
            },
            "outputs": [
                {
                    "output_type": "display_data",
                    "data": {
                        "text/html": "(1 row affected)"
                    },
                    "metadata": {}
                },
                {
                    "output_type": "display_data",
                    "data": {
                        "text/html": "Total execution time: 00:00:00.018"
                    },
                    "metadata": {}
                },
                {
                    "output_type": "execute_result",
                    "metadata": {},
                    "execution_count": 8,
                    "data": {
                        "application/vnd.dataresource+json": {
                            "schema": {
                                "fields": [
                                    {
                                        "name": "total_debt_USD"
                                    }
                                ]
                            },
                            "data": [
                                {
                                    "0": "3079734487675.79"
                                }
                            ]
                        },
                        "text/html": [
                            "<table>",
                            "<tr><th>total_debt_USD</th></tr>",
                            "<tr><td>3079734487675.79</td></tr>",
                            "</table>"
                        ]
                    }
                }
            ],
            "execution_count": 8
        },
        {
            "cell_type": "markdown",
            "source": [
                "## 5\\. Country with the Highest Debt\n",
                "\n",
                "\"Human beings cannot comprehend very large or very small numbers. It would be useful for us to acknowledge that fact.\" - [Daniel Kahneman](https://en.wikipedia.org/wiki/Daniel_Kahneman). That is more than _3 million **million**_ USD, an amount which is really hard for us to fathom.\n",
                "\n",
                "Now that we have the exact total of the amounts of debt owed by several countries, let's now find out the country that owns the highest amount of debt along with the amount. **Note** that this debt is the sum of different debts owed by a country across several categories. This will help to understand more about the country in terms of its socio-economic scenarios. We can also find out the category in which the country owns its highest debt. But we will leave that for now."
            ],
            "metadata": {
                "language": "sql",
                "azdata_cell_guid": "50e6537c-cf4e-4074-8354-3df7db848359"
            },
            "attachments": {}
        },
        {
            "cell_type": "code",
            "source": [
                "SELECT TOP(1) WITH TIES country_name, ROUND(SUM(debt/1000000000), 2) AS total_debt_Billion_USD\n",
                "FROM international_debt\n",
                "GROUP BY country_name\n",
                "ORDER BY total_debt_Billion_USD DESC;"
            ],
            "metadata": {
                "language": "sql",
                "azdata_cell_guid": "b06e0a6e-ad7e-4e45-9d4b-4f06909c0429"
            },
            "outputs": [
                {
                    "output_type": "display_data",
                    "data": {
                        "text/html": "(1 row affected)"
                    },
                    "metadata": {}
                },
                {
                    "output_type": "display_data",
                    "data": {
                        "text/html": "Total execution time: 00:00:00.019"
                    },
                    "metadata": {}
                },
                {
                    "output_type": "execute_result",
                    "metadata": {},
                    "execution_count": 11,
                    "data": {
                        "application/vnd.dataresource+json": {
                            "schema": {
                                "fields": [
                                    {
                                        "name": "country_name"
                                    },
                                    {
                                        "name": "total_debt_Billion_USD"
                                    }
                                ]
                            },
                            "data": [
                                {
                                    "0": "China",
                                    "1": "285.79"
                                }
                            ]
                        },
                        "text/html": [
                            "<table>",
                            "<tr><th>country_name</th><th>total_debt_Billion_USD</th></tr>",
                            "<tr><td>China</td><td>285.79</td></tr>",
                            "</table>"
                        ]
                    }
                }
            ],
            "execution_count": 11
        },
        {
            "cell_type": "markdown",
            "source": [
                "## 6\\. Average Amount of Debt Across Indicators\n",
                "\n",
                "So, it was _China_. A more in-depth breakdown of China's debts can be found [here](https://datatopics.worldbank.org/debt/ids/country/CHN).\n",
                "\n",
                "We now have a brief overview of the dataset and a few of its summary statistics. We already have an idea of the different debt indicators in which the countries owe their debts. We can dig even further to find out on an average how much debt a country owes? This will give us a better sense of the distribution of the amount of debt across different indicators."
            ],
            "metadata": {
                "language": "sql",
                "azdata_cell_guid": "e8a101b1-d0f3-4bcd-b8e4-104be1b7da75"
            },
            "attachments": {}
        },
        {
            "cell_type": "code",
            "source": [
                "SELECT indicator_code, indicator_name, ROUND(AVG(debt)/1000000000,2) as avg_debt_Billion_USD\n",
                "FROM international_debt\n",
                "GROUP BY indicator_code, indicator_name\n",
                "ORDER BY avg_debt_Billion_USD DESC;"
            ],
            "metadata": {
                "language": "sql",
                "azdata_cell_guid": "8c521693-49a4-4998-882a-de56f0234670"
            },
            "outputs": [
                {
                    "output_type": "display_data",
                    "data": {
                        "text/html": "(25 rows affected)"
                    },
                    "metadata": {}
                },
                {
                    "output_type": "display_data",
                    "data": {
                        "text/html": "Total execution time: 00:00:00.040"
                    },
                    "metadata": {}
                },
                {
                    "output_type": "execute_result",
                    "metadata": {},
                    "execution_count": 13,
                    "data": {
                        "application/vnd.dataresource+json": {
                            "schema": {
                                "fields": [
                                    {
                                        "name": "indicator_code"
                                    },
                                    {
                                        "name": "indicator_name"
                                    },
                                    {
                                        "name": "avg_debt_Billion_USD"
                                    }
                                ]
                            },
                            "data": [
                                {
                                    "0": "DT.AMT.DLXF.CD",
                                    "1": "Principal repayments on external debt, long-term (AMT, current US$)",
                                    "2": "5.9"
                                },
                                {
                                    "0": "DT.AMT.DPNG.CD",
                                    "1": "Principal repayments on external debt, private nonguaranteed (PNG) (AMT, current US$)",
                                    "2": "5.16"
                                },
                                {
                                    "0": "DT.DIS.DLXF.CD",
                                    "1": "Disbursements on external debt, long-term (DIS, current US$)",
                                    "2": "2.15"
                                },
                                {
                                    "0": "DT.DIS.OFFT.CD",
                                    "1": "PPG, official creditors (DIS, current US$)",
                                    "2": "1.96"
                                },
                                {
                                    "0": "DT.AMT.PRVT.CD",
                                    "1": "PPG, private creditors (AMT, current US$)",
                                    "2": "1.8"
                                },
                                {
                                    "0": "DT.INT.DLXF.CD",
                                    "1": "Interest payments on external debt, long-term (INT, current US$)",
                                    "2": "1.64"
                                },
                                {
                                    "0": "DT.INT.DPNG.CD",
                                    "1": "Interest payments on external debt, private nonguaranteed (PNG) (INT, current US$)",
                                    "2": "1.22"
                                },
                                {
                                    "0": "DT.DIS.BLAT.CD",
                                    "1": "PPG, bilateral (DIS, current US$)",
                                    "2": "1.22"
                                },
                                {
                                    "0": "DT.AMT.OFFT.CD",
                                    "1": "PPG, official creditors (AMT, current US$)",
                                    "2": "1.19"
                                },
                                {
                                    "0": "DT.AMT.PBND.CD",
                                    "1": "PPG, bonds (AMT, current US$)",
                                    "2": "1.08"
                                },
                                {
                                    "0": "DT.DIS.MLAT.CD",
                                    "1": "PPG, multilateral (DIS, current US$)",
                                    "2": "0.84"
                                },
                                {
                                    "0": "DT.INT.PBND.CD",
                                    "1": "PPG, bonds (INT, current US$)",
                                    "2": "0.8"
                                },
                                {
                                    "0": "DT.AMT.PROP.CD",
                                    "1": "PPG, other private creditors (AMT, current US$)",
                                    "2": "0.75"
                                },
                                {
                                    "0": "DT.AMT.PCBK.CD",
                                    "1": "PPG, commercial banks (AMT, current US$)",
                                    "2": "0.73"
                                },
                                {
                                    "0": "DT.INT.PRVT.CD",
                                    "1": "PPG, private creditors (INT, current US$)",
                                    "2": "0.72"
                                },
                                {
                                    "0": "DT.AMT.BLAT.CD",
                                    "1": "PPG, bilateral (AMT, current US$)",
                                    "2": "0.71"
                                },
                                {
                                    "0": "DT.AMT.MLAT.CD",
                                    "1": "PPG, multilateral (AMT, current US$)",
                                    "2": "0.49"
                                },
                                {
                                    "0": "DT.DIS.PRVT.CD",
                                    "1": "PPG, private creditors (DIS, current US$)",
                                    "2": "0.31"
                                },
                                {
                                    "0": "DT.INT.OFFT.CD",
                                    "1": "PPG, official creditors (INT, current US$)",
                                    "2": "0.3"
                                },
                                {
                                    "0": "DT.DIS.PCBK.CD",
                                    "1": "PPG, commercial banks (DIS, current US$)",
                                    "2": "0.29"
                                },
                                {
                                    "0": "DT.INT.PCBK.CD",
                                    "1": "PPG, commercial banks (INT, current US$)",
                                    "2": "0.16"
                                },
                                {
                                    "0": "DT.INT.BLAT.CD",
                                    "1": "PPG, bilateral (INT, current US$)",
                                    "2": "0.16"
                                },
                                {
                                    "0": "DT.INT.MLAT.CD",
                                    "1": "PPG, multilateral (INT, current US$)",
                                    "2": "0.14"
                                },
                                {
                                    "0": "DT.DIS.PROP.CD",
                                    "1": "PPG, other private creditors (DIS, current US$)",
                                    "2": "0.08"
                                },
                                {
                                    "0": "DT.INT.PROP.CD",
                                    "1": "PPG, other private creditors (INT, current US$)",
                                    "2": "0.03"
                                }
                            ]
                        },
                        "text/html": [
                            "<table>",
                            "<tr><th>indicator_code</th><th>indicator_name</th><th>avg_debt_Billion_USD</th></tr>",
                            "<tr><td>DT.AMT.DLXF.CD</td><td>Principal repayments on external debt, long-term (AMT, current US$)</td><td>5.9</td></tr>",
                            "<tr><td>DT.AMT.DPNG.CD</td><td>Principal repayments on external debt, private nonguaranteed (PNG) (AMT, current US$)</td><td>5.16</td></tr>",
                            "<tr><td>DT.DIS.DLXF.CD</td><td>Disbursements on external debt, long-term (DIS, current US$)</td><td>2.15</td></tr>",
                            "<tr><td>DT.DIS.OFFT.CD</td><td>PPG, official creditors (DIS, current US$)</td><td>1.96</td></tr>",
                            "<tr><td>DT.AMT.PRVT.CD</td><td>PPG, private creditors (AMT, current US$)</td><td>1.8</td></tr>",
                            "<tr><td>DT.INT.DLXF.CD</td><td>Interest payments on external debt, long-term (INT, current US$)</td><td>1.64</td></tr>",
                            "<tr><td>DT.INT.DPNG.CD</td><td>Interest payments on external debt, private nonguaranteed (PNG) (INT, current US$)</td><td>1.22</td></tr>",
                            "<tr><td>DT.DIS.BLAT.CD</td><td>PPG, bilateral (DIS, current US$)</td><td>1.22</td></tr>",
                            "<tr><td>DT.AMT.OFFT.CD</td><td>PPG, official creditors (AMT, current US$)</td><td>1.19</td></tr>",
                            "<tr><td>DT.AMT.PBND.CD</td><td>PPG, bonds (AMT, current US$)</td><td>1.08</td></tr>",
                            "<tr><td>DT.DIS.MLAT.CD</td><td>PPG, multilateral (DIS, current US$)</td><td>0.84</td></tr>",
                            "<tr><td>DT.INT.PBND.CD</td><td>PPG, bonds (INT, current US$)</td><td>0.8</td></tr>",
                            "<tr><td>DT.AMT.PROP.CD</td><td>PPG, other private creditors (AMT, current US$)</td><td>0.75</td></tr>",
                            "<tr><td>DT.AMT.PCBK.CD</td><td>PPG, commercial banks (AMT, current US$)</td><td>0.73</td></tr>",
                            "<tr><td>DT.INT.PRVT.CD</td><td>PPG, private creditors (INT, current US$)</td><td>0.72</td></tr>",
                            "<tr><td>DT.AMT.BLAT.CD</td><td>PPG, bilateral (AMT, current US$)</td><td>0.71</td></tr>",
                            "<tr><td>DT.AMT.MLAT.CD</td><td>PPG, multilateral (AMT, current US$)</td><td>0.49</td></tr>",
                            "<tr><td>DT.DIS.PRVT.CD</td><td>PPG, private creditors (DIS, current US$)</td><td>0.31</td></tr>",
                            "<tr><td>DT.INT.OFFT.CD</td><td>PPG, official creditors (INT, current US$)</td><td>0.3</td></tr>",
                            "<tr><td>DT.DIS.PCBK.CD</td><td>PPG, commercial banks (DIS, current US$)</td><td>0.29</td></tr>",
                            "<tr><td>DT.INT.PCBK.CD</td><td>PPG, commercial banks (INT, current US$)</td><td>0.16</td></tr>",
                            "<tr><td>DT.INT.BLAT.CD</td><td>PPG, bilateral (INT, current US$)</td><td>0.16</td></tr>",
                            "<tr><td>DT.INT.MLAT.CD</td><td>PPG, multilateral (INT, current US$)</td><td>0.14</td></tr>",
                            "<tr><td>DT.DIS.PROP.CD</td><td>PPG, other private creditors (DIS, current US$)</td><td>0.08</td></tr>",
                            "<tr><td>DT.INT.PROP.CD</td><td>PPG, other private creditors (INT, current US$)</td><td>0.03</td></tr>",
                            "</table>"
                        ]
                    }
                }
            ],
            "execution_count": 13
        },
        {
            "cell_type": "markdown",
            "source": [
                "## 7\\. The Highest Amount of Principal Repayments\n",
                "\n",
                "We can see that the indicator `DT.AMT.DLXF.CD` tops the chart of average debt. This category includes repayment of long term debts. Countries take on long-term debt to acquire immediate capital. More information about this category can be found [here](https://datacatalog.worldbank.org/principal-repayments-external-debt-long-term-amt-current-us-0).\n",
                "\n",
                "An interesting observation in the above finding is that there is a huge difference in the amounts of the indicators after the second one. This indicates that the first two indicators might be the most severe categories in which the countries owe their debts.\n",
                "\n",
                "We can investigate this a bit more so as to find out which countries owe the highest amount of debt in the category of long term debts (`DT.AMT.DLXF.CD`). Since not all the countries suffer from the same kind of economic disturbances, this finding will allow us to understand that particular country's economic condition a bit more specifically."
            ],
            "metadata": {
                "azdata_cell_guid": "3b016863-c41e-4eba-88d1-52b18952332e"
            },
            "attachments": {}
        },
        {
            "cell_type": "code",
            "source": [
                "SELECT TOP(5) WITH TIES country_name, ROUND(debt/1000000000,2) as principal_repayment_debt_Billion_USD\n",
                "FROM international_debt\n",
                "WHERE indicator_code = 'DT.AMT.DLXF.CD'\n",
                "ORDER BY debt DESC;"
            ],
            "metadata": {
                "azdata_cell_guid": "a7a5adc1-1850-45f7-a749-fac590b50653",
                "language": "sql"
            },
            "outputs": [
                {
                    "output_type": "display_data",
                    "data": {
                        "text/html": "(5 rows affected)"
                    },
                    "metadata": {}
                },
                {
                    "output_type": "display_data",
                    "data": {
                        "text/html": "Total execution time: 00:00:00.017"
                    },
                    "metadata": {}
                },
                {
                    "output_type": "execute_result",
                    "metadata": {},
                    "execution_count": 20,
                    "data": {
                        "application/vnd.dataresource+json": {
                            "schema": {
                                "fields": [
                                    {
                                        "name": "country_name"
                                    },
                                    {
                                        "name": "principal_repayment_debt_Billion_USD"
                                    }
                                ]
                            },
                            "data": [
                                {
                                    "0": "China",
                                    "1": "96.22"
                                },
                                {
                                    "0": "Brazil",
                                    "1": "90.04"
                                },
                                {
                                    "0": "Russian Federation",
                                    "1": "66.59"
                                },
                                {
                                    "0": "Turkey",
                                    "1": "51.56"
                                },
                                {
                                    "0": "South Asia",
                                    "1": "48.76"
                                }
                            ]
                        },
                        "text/html": [
                            "<table>",
                            "<tr><th>country_name</th><th>principal_repayment_debt_Billion_USD</th></tr>",
                            "<tr><td>China</td><td>96.22</td></tr>",
                            "<tr><td>Brazil</td><td>90.04</td></tr>",
                            "<tr><td>Russian Federation</td><td>66.59</td></tr>",
                            "<tr><td>Turkey</td><td>51.56</td></tr>",
                            "<tr><td>South Asia</td><td>48.76</td></tr>",
                            "</table>"
                        ]
                    }
                }
            ],
            "execution_count": 20
        },
        {
            "cell_type": "markdown",
            "source": [
                "## 8\\. The Most Common Debt Indicator\n",
                "\n",
                "China has the highest amount of debt in the long-term debt (`DT.AMT.DLXF.CD`) category. This is verified by [The World Bank](https://data.worldbank.org/indicator/DT.AMT.DLXF.CD?end=2018&most_recent_value_desc=true). It is often a good idea to verify our analyses like this since it validates that our investigations are correct.\n",
                "\n",
                "We saw that long-term debt is the topmost category when it comes to the average amount of debt. But is it the most common indicator in which the countries owe their debt? Let's find that out."
            ],
            "metadata": {
                "azdata_cell_guid": "c85f029f-b019-4bbf-992e-29122b6a3da4"
            },
            "attachments": {}
        },
        {
            "cell_type": "code",
            "source": [
                "SELECT TOP(1) WITH TIES indicator_code, COUNT(*) AS country_count\n",
                "FROM international_debt\n",
                "GROUP BY indicator_code \n",
                "ORDER BY country_count DESC;"
            ],
            "metadata": {
                "azdata_cell_guid": "45a080ed-e0fb-43a0-8e04-06ccfabe1309",
                "language": "sql"
            },
            "outputs": [
                {
                    "output_type": "display_data",
                    "data": {
                        "text/html": "(6 rows affected)"
                    },
                    "metadata": {}
                },
                {
                    "output_type": "display_data",
                    "data": {
                        "text/html": "Total execution time: 00:00:00.033"
                    },
                    "metadata": {}
                },
                {
                    "output_type": "execute_result",
                    "metadata": {},
                    "execution_count": 29,
                    "data": {
                        "application/vnd.dataresource+json": {
                            "schema": {
                                "fields": [
                                    {
                                        "name": "indicator_code"
                                    },
                                    {
                                        "name": "country_count"
                                    }
                                ]
                            },
                            "data": [
                                {
                                    "0": "DT.AMT.DLXF.CD",
                                    "1": "124"
                                },
                                {
                                    "0": "DT.AMT.MLAT.CD",
                                    "1": "124"
                                },
                                {
                                    "0": "DT.INT.OFFT.CD",
                                    "1": "124"
                                },
                                {
                                    "0": "DT.AMT.OFFT.CD",
                                    "1": "124"
                                },
                                {
                                    "0": "DT.INT.DLXF.CD",
                                    "1": "124"
                                },
                                {
                                    "0": "DT.INT.MLAT.CD",
                                    "1": "124"
                                }
                            ]
                        },
                        "text/html": [
                            "<table>",
                            "<tr><th>indicator_code</th><th>country_count</th></tr>",
                            "<tr><td>DT.AMT.DLXF.CD</td><td>124</td></tr>",
                            "<tr><td>DT.AMT.MLAT.CD</td><td>124</td></tr>",
                            "<tr><td>DT.INT.OFFT.CD</td><td>124</td></tr>",
                            "<tr><td>DT.AMT.OFFT.CD</td><td>124</td></tr>",
                            "<tr><td>DT.INT.DLXF.CD</td><td>124</td></tr>",
                            "<tr><td>DT.INT.MLAT.CD</td><td>124</td></tr>",
                            "</table>"
                        ]
                    }
                }
            ],
            "execution_count": 29
        },
        {
            "cell_type": "markdown",
            "source": [
                "## 9\\. Other Viable Debt Issues and Conclusion\n",
                "\n",
                "There are a total of six debt indicators in which all the countries listed in our dataset have taken debt. The indicator `DT.AMT.DLXF.CD` is also there in the list. So, this gives us a clue that all these countries are suffering from a common economic issue. But that is not the end of the story, a part of the story rather.\n",
                "\n",
                "Let's change tracks from `debt_indicator`s now and focus on the amount of debt again. Let's find out the maximum amount of debt across the indicators along with the respective country names. With this, we will be in a position to identify the other plausible economic issues a country might be going through. By the end of this section, we will have found out the debt indicators in which a country owes its highest debt."
            ],
            "metadata": {
                "language": "sql",
                "azdata_cell_guid": "46f4567f-a309-48ef-9fe6-10dbea90b0b0"
            },
            "attachments": {}
        },
        {
            "cell_type": "code",
            "source": [
                "WITH max_debt_country AS\n",
                "(\n",
                "    SELECT country_name, MAX(debt) as max_debt\n",
                "    FROM international_debt\n",
                "    GROUP BY country_name\n",
                ")\n",
                "SELECT i.country_name, i.indicator_code, ROUND(i.debt/1000000000,2) AS debt_Billion_USD\n",
                "FROM international_debt i\n",
                "INNER JOIN max_debt_country\n",
                "ON i.country_name = max_debt_country.country_name\n",
                "AND max_debt_country.max_debt = i.debt\n",
                "ORDER BY debt_Billion_USD DESC;"
            ],
            "metadata": {
                "language": "sql",
                "azdata_cell_guid": "d4f792a6-1118-4e6a-a062-f187e8c44fc5"
            },
            "outputs": [
                {
                    "output_type": "display_data",
                    "data": {
                        "text/html": "(166 rows affected)"
                    },
                    "metadata": {}
                },
                {
                    "output_type": "display_data",
                    "data": {
                        "text/html": "Total execution time: 00:00:00.027"
                    },
                    "metadata": {}
                },
                {
                    "output_type": "execute_result",
                    "metadata": {},
                    "execution_count": 39,
                    "data": {
                        "application/vnd.dataresource+json": {
                            "schema": {
                                "fields": [
                                    {
                                        "name": "country_name"
                                    },
                                    {
                                        "name": "indicator_code"
                                    },
                                    {
                                        "name": "debt_Billion_USD"
                                    }
                                ]
                            },
                            "data": [
                                {
                                    "0": "China",
                                    "1": "DT.AMT.DLXF.CD",
                                    "2": "96.22"
                                },
                                {
                                    "0": "Brazil",
                                    "1": "DT.AMT.DLXF.CD",
                                    "2": "90.04"
                                },
                                {
                                    "0": "Russian Federation",
                                    "1": "DT.AMT.DLXF.CD",
                                    "2": "66.59"
                                },
                                {
                                    "0": "Turkey",
                                    "1": "DT.AMT.DLXF.CD",
                                    "2": "51.56"
                                },
                                {
                                    "0": "South Asia",
                                    "1": "DT.AMT.DLXF.CD",
                                    "2": "48.76"
                                },
                                {
                                    "0": "Least developed countries: UN classification",
                                    "1": "DT.DIS.DLXF.CD",
                                    "2": "40.16"
                                },
                                {
                                    "0": "IDA only",
                                    "1": "DT.DIS.DLXF.CD",
                                    "2": "34.53"
                                },
                                {
                                    "0": "India",
                                    "1": "DT.AMT.DLXF.CD",
                                    "2": "31.92"
                                },
                                {
                                    "0": "Indonesia",
                                    "1": "DT.AMT.DLXF.CD",
                                    "2": "30.92"
                                },
                                {
                                    "0": "Kazakhstan",
                                    "1": "DT.AMT.DLXF.CD",
                                    "2": "27.48"
                                },
                                {
                                    "0": "Mexico",
                                    "1": "DT.AMT.DLXF.CD",
                                    "2": "25.22"
                                },
                                {
                                    "0": "Cameroon",
                                    "1": "DT.DIS.DLXF.CD",
                                    "2": "18.19"
                                },
                                {
                                    "0": "Romania",
                                    "1": "DT.AMT.DLXF.CD",
                                    "2": "14.01"
                                },
                                {
                                    "0": "Colombia",
                                    "1": "DT.AMT.DLXF.CD",
                                    "2": "11.99"
                                },
                                {
                                    "0": "Angola",
                                    "1": "DT.AMT.DLXF.CD",
                                    "2": "11.07"
                                },
                                {
                                    "0": "Venezuela, RB",
                                    "1": "DT.AMT.DLXF.CD",
                                    "2": "9.88"
                                },
                                {
                                    "0": "Egypt, Arab Rep.",
                                    "1": "DT.AMT.DLXF.CD",
                                    "2": "9.69"
                                },
                                {
                                    "0": "Lebanon",
                                    "1": "DT.AMT.DLXF.CD",
                                    "2": "9.51"
                                },
                                {
                                    "0": "South Africa",
                                    "1": "DT.AMT.DLXF.CD",
                                    "2": "9.47"
                                },
                                {
                                    "0": "Bangladesh",
                                    "1": "DT.DIS.DLXF.CD",
                                    "2": "9.05"
                                },
                                {
                                    "0": "Bangladesh",
                                    "1": "DT.DIS.OFFT.CD",
                                    "2": "9.05"
                                },
                                {
                                    "0": "Vietnam",
                                    "1": "DT.AMT.DLXF.CD",
                                    "2": "8.87"
                                },
                                {
                                    "0": "Pakistan",
                                    "1": "DT.AMT.DLXF.CD",
                                    "2": "8.34"
                                },
                                {
                                    "0": "Ukraine",
                                    "1": "DT.AMT.DLXF.CD",
                                    "2": "8.15"
                                },
                                {
                                    "0": "Philippines",
                                    "1": "DT.AMT.DLXF.CD",
                                    "2": "6.48"
                                },
                                {
                                    "0": "Thailand",
                                    "1": "DT.AMT.DLXF.CD",
                                    "2": "5.91"
                                },
                                {
                                    "0": "Peru",
                                    "1": "DT.AMT.DLXF.CD",
                                    "2": "5.88"
                                },
                                {
                                    "0": "Sri Lanka",
                                    "1": "DT.AMT.DLXF.CD",
                                    "2": "5.76"
                                },
                                {
                                    "0": "Morocco",
                                    "1": "DT.AMT.DLXF.CD",
                                    "2": "5.15"
                                },
                                {
                                    "0": "Belarus",
                                    "1": "DT.AMT.DLXF.CD",
                                    "2": "4.64"
                                },
                                {
                                    "0": "Kenya",
                                    "1": "DT.DIS.DLXF.CD",
                                    "2": "4.27"
                                },
                                {
                                    "0": "Ecuador",
                                    "1": "DT.AMT.DLXF.CD",
                                    "2": "3.62"
                                },
                                {
                                    "0": "Serbia",
                                    "1": "DT.AMT.DLXF.CD",
                                    "2": "3.41"
                                },
                                {
                                    "0": "Mongolia",
                                    "1": "DT.AMT.DLXF.CD",
                                    "2": "3.3"
                                },
                                {
                                    "0": "Georgia",
                                    "1": "DT.INT.DLXF.CD",
                                    "2": "3.09"
                                },
                                {
                                    "0": "Nigeria",
                                    "1": "DT.AMT.DLXF.CD",
                                    "2": "2.96"
                                },
                                {
                                    "0": "Guatemala",
                                    "1": "DT.AMT.DLXF.CD",
                                    "2": "2.91"
                                },
                                {
                                    "0": "Papua New Guinea",
                                    "1": "DT.AMT.DLXF.CD",
                                    "2": "2.84"
                                },
                                {
                                    "0": "Ethiopia",
                                    "1": "DT.DIS.DLXF.CD",
                                    "2": "2.68"
                                },
                                {
                                    "0": "El Salvador",
                                    "1": "DT.AMT.DLXF.CD",
                                    "2": "2.57"
                                },
                                {
                                    "0": "Tunisia",
                                    "1": "DT.AMT.DLXF.CD",
                                    "2": "2.42"
                                },
                                {
                                    "0": "Bosnia and Herzegovina",
                                    "1": "DT.AMT.DLXF.CD",
                                    "2": "2.11"
                                },
                                {
                                    "0": "Uzbekistan",
                                    "1": "DT.AMT.DLXF.CD",
                                    "2": "2.1"
                                },
                                {
                                    "0": "Jordan",
                                    "1": "DT.AMT.DLXF.CD",
                                    "2": "1.99"
                                },
                                {
                                    "0": "Dominican Republic",
                                    "1": "DT.AMT.DLXF.CD",
                                    "2": "1.98"
                                },
                                {
                                    "0": "Bulgaria",
                                    "1": "DT.AMT.DLXF.CD",
                                    "2": "1.88"
                                },
                                {
                                    "0": "Costa Rica",
                                    "1": "DT.AMT.DLXF.CD",
                                    "2": "1.78"
                                },
                                {
                                    "0": "Mauritius",
                                    "1": "DT.AMT.DLXF.CD",
                                    "2": "1.76"
                                },
                                {
                                    "0": "Ghana",
                                    "1": "DT.AMT.DLXF.CD",
                                    "2": "1.69"
                                },
                                {
                                    "0": "Senegal",
                                    "1": "DT.DIS.DLXF.CD",
                                    "2": "1.66"
                                },
                                {
                                    "0": "Lao PDR",
                                    "1": "DT.AMT.DLXF.CD",
                                    "2": "1.61"
                                },
                                {
                                    "0": "Paraguay",
                                    "1": "DT.AMT.DLXF.CD",
                                    "2": "1.53"
                                },
                                {
                                    "0": "Azerbaijan",
                                    "1": "DT.AMT.DLXF.CD",
                                    "2": "1.51"
                                },
                                {
                                    "0": "Zambia",
                                    "1": "DT.DIS.DLXF.CD",
                                    "2": "1.5"
                                },
                                {
                                    "0": "Bolivia",
                                    "1": "DT.DIS.DLXF.CD",
                                    "2": "1.42"
                                },
                                {
                                    "0": "Tanzania",
                                    "1": "DT.AMT.DLXF.CD",
                                    "2": "1.39"
                                },
                                {
                                    "0": "Uganda",
                                    "1": "DT.DIS.DLXF.CD",
                                    "2": "1.36"
                                },
                                {
                                    "0": "Myanmar",
                                    "1": "DT.DIS.DLXF.CD",
                                    "2": "1.25"
                                },
                                {
                                    "0": "Myanmar",
                                    "1": "DT.DIS.OFFT.CD",
                                    "2": "1.25"
                                },
                                {
                                    "0": "Nicaragua",
                                    "1": "DT.AMT.DLXF.CD",
                                    "2": "1.19"
                                },
                                {
                                    "0": "Cote d'Ivoire",
                                    "1": "DT.DIS.DLXF.CD",
                                    "2": "1.08"
                                },
                                {
                                    "0": "Cote d'Ivoire",
                                    "1": "DT.DIS.OFFT.CD",
                                    "2": "1.08"
                                },
                                {
                                    "0": "Macedonia, FYR",
                                    "1": "DT.AMT.DLXF.CD",
                                    "2": "0.88"
                                },
                                {
                                    "0": "Nepal",
                                    "1": "DT.DIS.DLXF.CD",
                                    "2": "0.85"
                                },
                                {
                                    "0": "Nepal",
                                    "1": "DT.DIS.OFFT.CD",
                                    "2": "0.85"
                                },
                                {
                                    "0": "Armenia",
                                    "1": "DT.AMT.DLXF.CD",
                                    "2": "0.85"
                                },
                                {
                                    "0": "Kyrgyz Republic",
                                    "1": "DT.DIS.DLXF.CD",
                                    "2": "0.84"
                                },
                                {
                                    "0": "Kyrgyz Republic",
                                    "1": "DT.DIS.OFFT.CD",
                                    "2": "0.84"
                                },
                                {
                                    "0": "Albania",
                                    "1": "DT.AMT.DLXF.CD",
                                    "2": "0.79"
                                },
                                {
                                    "0": "Cambodia",
                                    "1": "DT.AMT.DLXF.CD",
                                    "2": "0.78"
                                },
                                {
                                    "0": "Moldova",
                                    "1": "DT.AMT.DLXF.CD",
                                    "2": "0.77"
                                },
                                {
                                    "0": "Mozambique",
                                    "1": "DT.DIS.DLXF.CD",
                                    "2": "0.75"
                                },
                                {
                                    "0": "Sudan",
                                    "1": "DT.DIS.DLXF.CD",
                                    "2": "0.7"
                                },
                                {
                                    "0": "Sudan",
                                    "1": "DT.DIS.OFFT.CD",
                                    "2": "0.7"
                                },
                                {
                                    "0": "Jamaica",
                                    "1": "DT.INT.DLXF.CD",
                                    "2": "0.66"
                                },
                                {
                                    "0": "Montenegro",
                                    "1": "DT.AMT.DLXF.CD",
                                    "2": "0.65"
                                },
                                {
                                    "0": "Benin",
                                    "1": "DT.DIS.DLXF.CD",
                                    "2": "0.65"
                                },
                                {
                                    "0": "Burkina Faso",
                                    "1": "DT.DIS.DLXF.CD",
                                    "2": "0.62"
                                },
                                {
                                    "0": "Burkina Faso",
                                    "1": "DT.DIS.OFFT.CD",
                                    "2": "0.62"
                                },
                                {
                                    "0": "Niger",
                                    "1": "DT.DIS.DLXF.CD",
                                    "2": "0.61"
                                },
                                {
                                    "0": "Niger",
                                    "1": "DT.DIS.OFFT.CD",
                                    "2": "0.61"
                                },
                                {
                                    "0": "Mali",
                                    "1": "DT.DIS.DLXF.CD",
                                    "2": "0.6"
                                },
                                {
                                    "0": "Mali",
                                    "1": "DT.DIS.OFFT.CD",
                                    "2": "0.6"
                                },
                                {
                                    "0": "Mauritania",
                                    "1": "DT.DIS.DLXF.CD",
                                    "2": "0.59"
                                },
                                {
                                    "0": "Mauritania",
                                    "1": "DT.DIS.OFFT.CD",
                                    "2": "0.59"
                                },
                                {
                                    "0": "Gabon",
                                    "1": "DT.DIS.DLXF.CD",
                                    "2": "0.52"
                                },
                                {
                                    "0": "Tajikistan",
                                    "1": "DT.AMT.DLXF.CD",
                                    "2": "0.47"
                                },
                                {
                                    "0": "Zimbabwe",
                                    "1": "DT.AMT.DLXF.CD",
                                    "2": "0.46"
                                },
                                {
                                    "0": "Madagascar",
                                    "1": "DT.DIS.DLXF.CD",
                                    "2": "0.45"
                                },
                                {
                                    "0": "Honduras",
                                    "1": "DT.AMT.DLXF.CD",
                                    "2": "0.41"
                                },
                                {
                                    "0": "Yemen, Rep.",
                                    "1": "DT.DIS.OFFT.CD",
                                    "2": "0.4"
                                },
                                {
                                    "0": "Yemen, Rep.",
                                    "1": "DT.DIS.DLXF.CD",
                                    "2": "0.4"
                                },
                                {
                                    "0": "Congo, Dem. Rep.",
                                    "1": "DT.DIS.OFFT.CD",
                                    "2": "0.37"
                                },
                                {
                                    "0": "Congo, Dem. Rep.",
                                    "1": "DT.DIS.DLXF.CD",
                                    "2": "0.37"
                                },
                                {
                                    "0": "Rwanda",
                                    "1": "DT.DIS.DLXF.CD",
                                    "2": "0.33"
                                },
                                {
                                    "0": "Rwanda",
                                    "1": "DT.DIS.OFFT.CD",
                                    "2": "0.33"
                                },
                                {
                                    "0": "Maldives",
                                    "1": "DT.DIS.DLXF.CD",
                                    "2": "0.32"
                                },
                                {
                                    "0": "Syrian Arab Republic",
                                    "1": "DT.AMT.DLXF.CD",
                                    "2": "0.31"
                                },
                                {
                                    "0": "Syrian Arab Republic",
                                    "1": "DT.AMT.OFFT.CD",
                                    "2": "0.31"
                                },
                                {
                                    "0": "Congo, Rep.",
                                    "1": "DT.DIS.DLXF.CD",
                                    "2": "0.25"
                                },
                                {
                                    "0": "Congo, Rep.",
                                    "1": "DT.DIS.OFFT.CD",
                                    "2": "0.25"
                                },
                                {
                                    "0": "Togo",
                                    "1": "DT.DIS.DLXF.CD",
                                    "2": "0.24"
                                },
                                {
                                    "0": "Togo",
                                    "1": "DT.DIS.OFFT.CD",
                                    "2": "0.24"
                                },
                                {
                                    "0": "Kosovo",
                                    "1": "DT.AMT.DLXF.CD",
                                    "2": "0.23"
                                },
                                {
                                    "0": "Chad",
                                    "1": "DT.DIS.DLXF.CD",
                                    "2": "0.21"
                                },
                                {
                                    "0": "Chad",
                                    "1": "DT.DIS.OFFT.CD",
                                    "2": "0.21"
                                },
                                {
                                    "0": "Bhutan",
                                    "1": "DT.AMT.DLXF.CD",
                                    "2": "0.21"
                                },
                                {
                                    "0": "Djibouti",
                                    "1": "DT.DIS.OFFT.CD",
                                    "2": "0.18"
                                },
                                {
                                    "0": "Djibouti",
                                    "1": "DT.DIS.DLXF.CD",
                                    "2": "0.18"
                                },
                                {
                                    "0": "Guinea",
                                    "1": "DT.DIS.DLXF.CD",
                                    "2": "0.18"
                                },
                                {
                                    "0": "Guinea",
                                    "1": "DT.DIS.OFFT.CD",
                                    "2": "0.18"
                                },
                                {
                                    "0": "Algeria",
                                    "1": "DT.AMT.DLXF.CD",
                                    "2": "0.17"
                                },
                                {
                                    "0": "Liberia",
                                    "1": "DT.DIS.DLXF.CD",
                                    "2": "0.15"
                                },
                                {
                                    "0": "Liberia",
                                    "1": "DT.DIS.OFFT.CD",
                                    "2": "0.15"
                                },
                                {
                                    "0": "Botswana",
                                    "1": "DT.AMT.DLXF.CD",
                                    "2": "0.14"
                                },
                                {
                                    "0": "Malawi",
                                    "1": "DT.DIS.DLXF.CD",
                                    "2": "0.13"
                                },
                                {
                                    "0": "Malawi",
                                    "1": "DT.DIS.OFFT.CD",
                                    "2": "0.13"
                                },
                                {
                                    "0": "Iran, Islamic Rep.",
                                    "1": "DT.AMT.DLXF.CD",
                                    "2": "0.11"
                                },
                                {
                                    "0": "Guyana",
                                    "1": "DT.AMT.DLXF.CD",
                                    "2": "0.11"
                                },
                                {
                                    "0": "Eswatini",
                                    "1": "DT.DIS.DLXF.CD",
                                    "2": "0.11"
                                },
                                {
                                    "0": "Eswatini",
                                    "1": "DT.DIS.OFFT.CD",
                                    "2": "0.11"
                                },
                                {
                                    "0": "Cabo Verde",
                                    "1": "DT.DIS.DLXF.CD",
                                    "2": "0.11"
                                },
                                {
                                    "0": "Belize",
                                    "1": "DT.AMT.DLXF.CD",
                                    "2": "0.11"
                                },
                                {
                                    "0": "Afghanistan",
                                    "1": "DT.AMT.DLXF.CD",
                                    "2": "0.1"
                                },
                                {
                                    "0": "Afghanistan",
                                    "1": "DT.AMT.OFFT.CD",
                                    "2": "0.1"
                                },
                                {
                                    "0": "Sierra Leone",
                                    "1": "DT.DIS.DLXF.CD",
                                    "2": "0.1"
                                },
                                {
                                    "0": "Sierra Leone",
                                    "1": "DT.DIS.OFFT.CD",
                                    "2": "0.1"
                                },
                                {
                                    "0": "Gambia, The",
                                    "1": "DT.DIS.DLXF.CD",
                                    "2": "0.09"
                                },
                                {
                                    "0": "Gambia, The",
                                    "1": "DT.DIS.OFFT.CD",
                                    "2": "0.09"
                                },
                                {
                                    "0": "Lesotho",
                                    "1": "DT.DIS.DLXF.CD",
                                    "2": "0.08"
                                },
                                {
                                    "0": "Lesotho",
                                    "1": "DT.DIS.OFFT.CD",
                                    "2": "0.08"
                                },
                                {
                                    "0": "Fiji",
                                    "1": "DT.DIS.DLXF.CD",
                                    "2": "0.07"
                                },
                                {
                                    "0": "Fiji",
                                    "1": "DT.DIS.OFFT.CD",
                                    "2": "0.07"
                                },
                                {
                                    "0": "Burundi",
                                    "1": "DT.DIS.DLXF.CD",
                                    "2": "0.06"
                                },
                                {
                                    "0": "Burundi",
                                    "1": "DT.DIS.OFFT.CD",
                                    "2": "0.06"
                                },
                                {
                                    "0": "Haiti",
                                    "1": "DT.AMT.DLXF.CD",
                                    "2": "0.06"
                                },
                                {
                                    "0": "Haiti",
                                    "1": "DT.AMT.OFFT.CD",
                                    "2": "0.06"
                                },
                                {
                                    "0": "Guinea-Bissau",
                                    "1": "DT.DIS.DLXF.CD",
                                    "2": "0.05"
                                },
                                {
                                    "0": "Guinea-Bissau",
                                    "1": "DT.DIS.MLAT.CD",
                                    "2": "0.05"
                                },
                                {
                                    "0": "Guinea-Bissau",
                                    "1": "DT.DIS.OFFT.CD",
                                    "2": "0.05"
                                },
                                {
                                    "0": "Central African Republic",
                                    "1": "DT.DIS.DLXF.CD",
                                    "2": "0.05"
                                },
                                {
                                    "0": "Central African Republic",
                                    "1": "DT.DIS.OFFT.CD",
                                    "2": "0.05"
                                },
                                {
                                    "0": "Grenada",
                                    "1": "DT.DIS.DLXF.CD",
                                    "2": "0.04"
                                },
                                {
                                    "0": "Grenada",
                                    "1": "DT.DIS.OFFT.CD",
                                    "2": "0.04"
                                },
                                {
                                    "0": "St. Lucia",
                                    "1": "DT.DIS.DLXF.CD",
                                    "2": "0.04"
                                },
                                {
                                    "0": "St. Lucia",
                                    "1": "DT.DIS.OFFT.CD",
                                    "2": "0.04"
                                },
                                {
                                    "0": "Vanuatu",
                                    "1": "DT.DIS.DLXF.CD",
                                    "2": "0.04"
                                },
                                {
                                    "0": "Vanuatu",
                                    "1": "DT.DIS.OFFT.CD",
                                    "2": "0.04"
                                },
                                {
                                    "0": "Turkmenistan",
                                    "1": "DT.AMT.DLXF.CD",
                                    "2": "0.03"
                                },
                                {
                                    "0": "St. Vincent and the Grenadines",
                                    "1": "DT.DIS.DLXF.CD",
                                    "2": "0.03"
                                },
                                {
                                    "0": "St. Vincent and the Grenadines",
                                    "1": "DT.DIS.OFFT.CD",
                                    "2": "0.03"
                                },
                                {
                                    "0": "Somalia",
                                    "1": "DT.AMT.DLXF.CD",
                                    "2": "0.03"
                                },
                                {
                                    "0": "Somalia",
                                    "1": "DT.AMT.OFFT.CD",
                                    "2": "0.03"
                                },
                                {
                                    "0": "Solomon Islands",
                                    "1": "DT.AMT.DLXF.CD",
                                    "2": "0.03"
                                },
                                {
                                    "0": "Eritrea",
                                    "1": "DT.AMT.DLXF.CD",
                                    "2": "0.03"
                                },
                                {
                                    "0": "Eritrea",
                                    "1": "DT.AMT.OFFT.CD",
                                    "2": "0.03"
                                },
                                {
                                    "0": "Dominica",
                                    "1": "DT.AMT.DLXF.CD",
                                    "2": "0.02"
                                },
                                {
                                    "0": "Timor-Leste",
                                    "1": "DT.DIS.DLXF.CD",
                                    "2": "0.02"
                                },
                                {
                                    "0": "Timor-Leste",
                                    "1": "DT.DIS.OFFT.CD",
                                    "2": "0.02"
                                },
                                {
                                    "0": "Samoa",
                                    "1": "DT.AMT.DLXF.CD",
                                    "2": "0.02"
                                },
                                {
                                    "0": "Samoa",
                                    "1": "DT.AMT.OFFT.CD",
                                    "2": "0.02"
                                },
                                {
                                    "0": "Sao Tome and Principe",
                                    "1": "DT.DIS.DLXF.CD",
                                    "2": "0.01"
                                },
                                {
                                    "0": "Sao Tome and Principe",
                                    "1": "DT.DIS.OFFT.CD",
                                    "2": "0.01"
                                },
                                {
                                    "0": "Tonga",
                                    "1": "DT.AMT.DLXF.CD",
                                    "2": "0.01"
                                },
                                {
                                    "0": "Comoros",
                                    "1": "DT.DIS.DLXF.CD",
                                    "2": "0.01"
                                },
                                {
                                    "0": "Comoros",
                                    "1": "DT.DIS.OFFT.CD",
                                    "2": "0.01"
                                }
                            ]
                        },
                        "text/html": [
                            "<table>",
                            "<tr><th>country_name</th><th>indicator_code</th><th>debt_Billion_USD</th></tr>",
                            "<tr><td>China</td><td>DT.AMT.DLXF.CD</td><td>96.22</td></tr>",
                            "<tr><td>Brazil</td><td>DT.AMT.DLXF.CD</td><td>90.04</td></tr>",
                            "<tr><td>Russian Federation</td><td>DT.AMT.DLXF.CD</td><td>66.59</td></tr>",
                            "<tr><td>Turkey</td><td>DT.AMT.DLXF.CD</td><td>51.56</td></tr>",
                            "<tr><td>South Asia</td><td>DT.AMT.DLXF.CD</td><td>48.76</td></tr>",
                            "<tr><td>Least developed countries: UN classification</td><td>DT.DIS.DLXF.CD</td><td>40.16</td></tr>",
                            "<tr><td>IDA only</td><td>DT.DIS.DLXF.CD</td><td>34.53</td></tr>",
                            "<tr><td>India</td><td>DT.AMT.DLXF.CD</td><td>31.92</td></tr>",
                            "<tr><td>Indonesia</td><td>DT.AMT.DLXF.CD</td><td>30.92</td></tr>",
                            "<tr><td>Kazakhstan</td><td>DT.AMT.DLXF.CD</td><td>27.48</td></tr>",
                            "<tr><td>Mexico</td><td>DT.AMT.DLXF.CD</td><td>25.22</td></tr>",
                            "<tr><td>Cameroon</td><td>DT.DIS.DLXF.CD</td><td>18.19</td></tr>",
                            "<tr><td>Romania</td><td>DT.AMT.DLXF.CD</td><td>14.01</td></tr>",
                            "<tr><td>Colombia</td><td>DT.AMT.DLXF.CD</td><td>11.99</td></tr>",
                            "<tr><td>Angola</td><td>DT.AMT.DLXF.CD</td><td>11.07</td></tr>",
                            "<tr><td>Venezuela, RB</td><td>DT.AMT.DLXF.CD</td><td>9.88</td></tr>",
                            "<tr><td>Egypt, Arab Rep.</td><td>DT.AMT.DLXF.CD</td><td>9.69</td></tr>",
                            "<tr><td>Lebanon</td><td>DT.AMT.DLXF.CD</td><td>9.51</td></tr>",
                            "<tr><td>South Africa</td><td>DT.AMT.DLXF.CD</td><td>9.47</td></tr>",
                            "<tr><td>Bangladesh</td><td>DT.DIS.DLXF.CD</td><td>9.05</td></tr>",
                            "<tr><td>Bangladesh</td><td>DT.DIS.OFFT.CD</td><td>9.05</td></tr>",
                            "<tr><td>Vietnam</td><td>DT.AMT.DLXF.CD</td><td>8.87</td></tr>",
                            "<tr><td>Pakistan</td><td>DT.AMT.DLXF.CD</td><td>8.34</td></tr>",
                            "<tr><td>Ukraine</td><td>DT.AMT.DLXF.CD</td><td>8.15</td></tr>",
                            "<tr><td>Philippines</td><td>DT.AMT.DLXF.CD</td><td>6.48</td></tr>",
                            "<tr><td>Thailand</td><td>DT.AMT.DLXF.CD</td><td>5.91</td></tr>",
                            "<tr><td>Peru</td><td>DT.AMT.DLXF.CD</td><td>5.88</td></tr>",
                            "<tr><td>Sri Lanka</td><td>DT.AMT.DLXF.CD</td><td>5.76</td></tr>",
                            "<tr><td>Morocco</td><td>DT.AMT.DLXF.CD</td><td>5.15</td></tr>",
                            "<tr><td>Belarus</td><td>DT.AMT.DLXF.CD</td><td>4.64</td></tr>",
                            "<tr><td>Kenya</td><td>DT.DIS.DLXF.CD</td><td>4.27</td></tr>",
                            "<tr><td>Ecuador</td><td>DT.AMT.DLXF.CD</td><td>3.62</td></tr>",
                            "<tr><td>Serbia</td><td>DT.AMT.DLXF.CD</td><td>3.41</td></tr>",
                            "<tr><td>Mongolia</td><td>DT.AMT.DLXF.CD</td><td>3.3</td></tr>",
                            "<tr><td>Georgia</td><td>DT.INT.DLXF.CD</td><td>3.09</td></tr>",
                            "<tr><td>Nigeria</td><td>DT.AMT.DLXF.CD</td><td>2.96</td></tr>",
                            "<tr><td>Guatemala</td><td>DT.AMT.DLXF.CD</td><td>2.91</td></tr>",
                            "<tr><td>Papua New Guinea</td><td>DT.AMT.DLXF.CD</td><td>2.84</td></tr>",
                            "<tr><td>Ethiopia</td><td>DT.DIS.DLXF.CD</td><td>2.68</td></tr>",
                            "<tr><td>El Salvador</td><td>DT.AMT.DLXF.CD</td><td>2.57</td></tr>",
                            "<tr><td>Tunisia</td><td>DT.AMT.DLXF.CD</td><td>2.42</td></tr>",
                            "<tr><td>Bosnia and Herzegovina</td><td>DT.AMT.DLXF.CD</td><td>2.11</td></tr>",
                            "<tr><td>Uzbekistan</td><td>DT.AMT.DLXF.CD</td><td>2.1</td></tr>",
                            "<tr><td>Jordan</td><td>DT.AMT.DLXF.CD</td><td>1.99</td></tr>",
                            "<tr><td>Dominican Republic</td><td>DT.AMT.DLXF.CD</td><td>1.98</td></tr>",
                            "<tr><td>Bulgaria</td><td>DT.AMT.DLXF.CD</td><td>1.88</td></tr>",
                            "<tr><td>Costa Rica</td><td>DT.AMT.DLXF.CD</td><td>1.78</td></tr>",
                            "<tr><td>Mauritius</td><td>DT.AMT.DLXF.CD</td><td>1.76</td></tr>",
                            "<tr><td>Ghana</td><td>DT.AMT.DLXF.CD</td><td>1.69</td></tr>",
                            "<tr><td>Senegal</td><td>DT.DIS.DLXF.CD</td><td>1.66</td></tr>",
                            "<tr><td>Lao PDR</td><td>DT.AMT.DLXF.CD</td><td>1.61</td></tr>",
                            "<tr><td>Paraguay</td><td>DT.AMT.DLXF.CD</td><td>1.53</td></tr>",
                            "<tr><td>Azerbaijan</td><td>DT.AMT.DLXF.CD</td><td>1.51</td></tr>",
                            "<tr><td>Zambia</td><td>DT.DIS.DLXF.CD</td><td>1.5</td></tr>",
                            "<tr><td>Bolivia</td><td>DT.DIS.DLXF.CD</td><td>1.42</td></tr>",
                            "<tr><td>Tanzania</td><td>DT.AMT.DLXF.CD</td><td>1.39</td></tr>",
                            "<tr><td>Uganda</td><td>DT.DIS.DLXF.CD</td><td>1.36</td></tr>",
                            "<tr><td>Myanmar</td><td>DT.DIS.DLXF.CD</td><td>1.25</td></tr>",
                            "<tr><td>Myanmar</td><td>DT.DIS.OFFT.CD</td><td>1.25</td></tr>",
                            "<tr><td>Nicaragua</td><td>DT.AMT.DLXF.CD</td><td>1.19</td></tr>",
                            "<tr><td>Cote d'Ivoire</td><td>DT.DIS.DLXF.CD</td><td>1.08</td></tr>",
                            "<tr><td>Cote d'Ivoire</td><td>DT.DIS.OFFT.CD</td><td>1.08</td></tr>",
                            "<tr><td>Macedonia, FYR</td><td>DT.AMT.DLXF.CD</td><td>0.88</td></tr>",
                            "<tr><td>Nepal</td><td>DT.DIS.DLXF.CD</td><td>0.85</td></tr>",
                            "<tr><td>Nepal</td><td>DT.DIS.OFFT.CD</td><td>0.85</td></tr>",
                            "<tr><td>Armenia</td><td>DT.AMT.DLXF.CD</td><td>0.85</td></tr>",
                            "<tr><td>Kyrgyz Republic</td><td>DT.DIS.DLXF.CD</td><td>0.84</td></tr>",
                            "<tr><td>Kyrgyz Republic</td><td>DT.DIS.OFFT.CD</td><td>0.84</td></tr>",
                            "<tr><td>Albania</td><td>DT.AMT.DLXF.CD</td><td>0.79</td></tr>",
                            "<tr><td>Cambodia</td><td>DT.AMT.DLXF.CD</td><td>0.78</td></tr>",
                            "<tr><td>Moldova</td><td>DT.AMT.DLXF.CD</td><td>0.77</td></tr>",
                            "<tr><td>Mozambique</td><td>DT.DIS.DLXF.CD</td><td>0.75</td></tr>",
                            "<tr><td>Sudan</td><td>DT.DIS.DLXF.CD</td><td>0.7</td></tr>",
                            "<tr><td>Sudan</td><td>DT.DIS.OFFT.CD</td><td>0.7</td></tr>",
                            "<tr><td>Jamaica</td><td>DT.INT.DLXF.CD</td><td>0.66</td></tr>",
                            "<tr><td>Montenegro</td><td>DT.AMT.DLXF.CD</td><td>0.65</td></tr>",
                            "<tr><td>Benin</td><td>DT.DIS.DLXF.CD</td><td>0.65</td></tr>",
                            "<tr><td>Burkina Faso</td><td>DT.DIS.DLXF.CD</td><td>0.62</td></tr>",
                            "<tr><td>Burkina Faso</td><td>DT.DIS.OFFT.CD</td><td>0.62</td></tr>",
                            "<tr><td>Niger</td><td>DT.DIS.DLXF.CD</td><td>0.61</td></tr>",
                            "<tr><td>Niger</td><td>DT.DIS.OFFT.CD</td><td>0.61</td></tr>",
                            "<tr><td>Mali</td><td>DT.DIS.DLXF.CD</td><td>0.6</td></tr>",
                            "<tr><td>Mali</td><td>DT.DIS.OFFT.CD</td><td>0.6</td></tr>",
                            "<tr><td>Mauritania</td><td>DT.DIS.DLXF.CD</td><td>0.59</td></tr>",
                            "<tr><td>Mauritania</td><td>DT.DIS.OFFT.CD</td><td>0.59</td></tr>",
                            "<tr><td>Gabon</td><td>DT.DIS.DLXF.CD</td><td>0.52</td></tr>",
                            "<tr><td>Tajikistan</td><td>DT.AMT.DLXF.CD</td><td>0.47</td></tr>",
                            "<tr><td>Zimbabwe</td><td>DT.AMT.DLXF.CD</td><td>0.46</td></tr>",
                            "<tr><td>Madagascar</td><td>DT.DIS.DLXF.CD</td><td>0.45</td></tr>",
                            "<tr><td>Honduras</td><td>DT.AMT.DLXF.CD</td><td>0.41</td></tr>",
                            "<tr><td>Yemen, Rep.</td><td>DT.DIS.OFFT.CD</td><td>0.4</td></tr>",
                            "<tr><td>Yemen, Rep.</td><td>DT.DIS.DLXF.CD</td><td>0.4</td></tr>",
                            "<tr><td>Congo, Dem. Rep.</td><td>DT.DIS.OFFT.CD</td><td>0.37</td></tr>",
                            "<tr><td>Congo, Dem. Rep.</td><td>DT.DIS.DLXF.CD</td><td>0.37</td></tr>",
                            "<tr><td>Rwanda</td><td>DT.DIS.DLXF.CD</td><td>0.33</td></tr>",
                            "<tr><td>Rwanda</td><td>DT.DIS.OFFT.CD</td><td>0.33</td></tr>",
                            "<tr><td>Maldives</td><td>DT.DIS.DLXF.CD</td><td>0.32</td></tr>",
                            "<tr><td>Syrian Arab Republic</td><td>DT.AMT.DLXF.CD</td><td>0.31</td></tr>",
                            "<tr><td>Syrian Arab Republic</td><td>DT.AMT.OFFT.CD</td><td>0.31</td></tr>",
                            "<tr><td>Congo, Rep.</td><td>DT.DIS.DLXF.CD</td><td>0.25</td></tr>",
                            "<tr><td>Congo, Rep.</td><td>DT.DIS.OFFT.CD</td><td>0.25</td></tr>",
                            "<tr><td>Togo</td><td>DT.DIS.DLXF.CD</td><td>0.24</td></tr>",
                            "<tr><td>Togo</td><td>DT.DIS.OFFT.CD</td><td>0.24</td></tr>",
                            "<tr><td>Kosovo</td><td>DT.AMT.DLXF.CD</td><td>0.23</td></tr>",
                            "<tr><td>Chad</td><td>DT.DIS.DLXF.CD</td><td>0.21</td></tr>",
                            "<tr><td>Chad</td><td>DT.DIS.OFFT.CD</td><td>0.21</td></tr>",
                            "<tr><td>Bhutan</td><td>DT.AMT.DLXF.CD</td><td>0.21</td></tr>",
                            "<tr><td>Djibouti</td><td>DT.DIS.OFFT.CD</td><td>0.18</td></tr>",
                            "<tr><td>Djibouti</td><td>DT.DIS.DLXF.CD</td><td>0.18</td></tr>",
                            "<tr><td>Guinea</td><td>DT.DIS.DLXF.CD</td><td>0.18</td></tr>",
                            "<tr><td>Guinea</td><td>DT.DIS.OFFT.CD</td><td>0.18</td></tr>",
                            "<tr><td>Algeria</td><td>DT.AMT.DLXF.CD</td><td>0.17</td></tr>",
                            "<tr><td>Liberia</td><td>DT.DIS.DLXF.CD</td><td>0.15</td></tr>",
                            "<tr><td>Liberia</td><td>DT.DIS.OFFT.CD</td><td>0.15</td></tr>",
                            "<tr><td>Botswana</td><td>DT.AMT.DLXF.CD</td><td>0.14</td></tr>",
                            "<tr><td>Malawi</td><td>DT.DIS.DLXF.CD</td><td>0.13</td></tr>",
                            "<tr><td>Malawi</td><td>DT.DIS.OFFT.CD</td><td>0.13</td></tr>",
                            "<tr><td>Iran, Islamic Rep.</td><td>DT.AMT.DLXF.CD</td><td>0.11</td></tr>",
                            "<tr><td>Guyana</td><td>DT.AMT.DLXF.CD</td><td>0.11</td></tr>",
                            "<tr><td>Eswatini</td><td>DT.DIS.DLXF.CD</td><td>0.11</td></tr>",
                            "<tr><td>Eswatini</td><td>DT.DIS.OFFT.CD</td><td>0.11</td></tr>",
                            "<tr><td>Cabo Verde</td><td>DT.DIS.DLXF.CD</td><td>0.11</td></tr>",
                            "<tr><td>Belize</td><td>DT.AMT.DLXF.CD</td><td>0.11</td></tr>",
                            "<tr><td>Afghanistan</td><td>DT.AMT.DLXF.CD</td><td>0.1</td></tr>",
                            "<tr><td>Afghanistan</td><td>DT.AMT.OFFT.CD</td><td>0.1</td></tr>",
                            "<tr><td>Sierra Leone</td><td>DT.DIS.DLXF.CD</td><td>0.1</td></tr>",
                            "<tr><td>Sierra Leone</td><td>DT.DIS.OFFT.CD</td><td>0.1</td></tr>",
                            "<tr><td>Gambia, The</td><td>DT.DIS.DLXF.CD</td><td>0.09</td></tr>",
                            "<tr><td>Gambia, The</td><td>DT.DIS.OFFT.CD</td><td>0.09</td></tr>",
                            "<tr><td>Lesotho</td><td>DT.DIS.DLXF.CD</td><td>0.08</td></tr>",
                            "<tr><td>Lesotho</td><td>DT.DIS.OFFT.CD</td><td>0.08</td></tr>",
                            "<tr><td>Fiji</td><td>DT.DIS.DLXF.CD</td><td>0.07</td></tr>",
                            "<tr><td>Fiji</td><td>DT.DIS.OFFT.CD</td><td>0.07</td></tr>",
                            "<tr><td>Burundi</td><td>DT.DIS.DLXF.CD</td><td>0.06</td></tr>",
                            "<tr><td>Burundi</td><td>DT.DIS.OFFT.CD</td><td>0.06</td></tr>",
                            "<tr><td>Haiti</td><td>DT.AMT.DLXF.CD</td><td>0.06</td></tr>",
                            "<tr><td>Haiti</td><td>DT.AMT.OFFT.CD</td><td>0.06</td></tr>",
                            "<tr><td>Guinea-Bissau</td><td>DT.DIS.DLXF.CD</td><td>0.05</td></tr>",
                            "<tr><td>Guinea-Bissau</td><td>DT.DIS.MLAT.CD</td><td>0.05</td></tr>",
                            "<tr><td>Guinea-Bissau</td><td>DT.DIS.OFFT.CD</td><td>0.05</td></tr>",
                            "<tr><td>Central African Republic</td><td>DT.DIS.DLXF.CD</td><td>0.05</td></tr>",
                            "<tr><td>Central African Republic</td><td>DT.DIS.OFFT.CD</td><td>0.05</td></tr>",
                            "<tr><td>Grenada</td><td>DT.DIS.DLXF.CD</td><td>0.04</td></tr>",
                            "<tr><td>Grenada</td><td>DT.DIS.OFFT.CD</td><td>0.04</td></tr>",
                            "<tr><td>St. Lucia</td><td>DT.DIS.DLXF.CD</td><td>0.04</td></tr>",
                            "<tr><td>St. Lucia</td><td>DT.DIS.OFFT.CD</td><td>0.04</td></tr>",
                            "<tr><td>Vanuatu</td><td>DT.DIS.DLXF.CD</td><td>0.04</td></tr>",
                            "<tr><td>Vanuatu</td><td>DT.DIS.OFFT.CD</td><td>0.04</td></tr>",
                            "<tr><td>Turkmenistan</td><td>DT.AMT.DLXF.CD</td><td>0.03</td></tr>",
                            "<tr><td>St. Vincent and the Grenadines</td><td>DT.DIS.DLXF.CD</td><td>0.03</td></tr>",
                            "<tr><td>St. Vincent and the Grenadines</td><td>DT.DIS.OFFT.CD</td><td>0.03</td></tr>",
                            "<tr><td>Somalia</td><td>DT.AMT.DLXF.CD</td><td>0.03</td></tr>",
                            "<tr><td>Somalia</td><td>DT.AMT.OFFT.CD</td><td>0.03</td></tr>",
                            "<tr><td>Solomon Islands</td><td>DT.AMT.DLXF.CD</td><td>0.03</td></tr>",
                            "<tr><td>Eritrea</td><td>DT.AMT.DLXF.CD</td><td>0.03</td></tr>",
                            "<tr><td>Eritrea</td><td>DT.AMT.OFFT.CD</td><td>0.03</td></tr>",
                            "<tr><td>Dominica</td><td>DT.AMT.DLXF.CD</td><td>0.02</td></tr>",
                            "<tr><td>Timor-Leste</td><td>DT.DIS.DLXF.CD</td><td>0.02</td></tr>",
                            "<tr><td>Timor-Leste</td><td>DT.DIS.OFFT.CD</td><td>0.02</td></tr>",
                            "<tr><td>Samoa</td><td>DT.AMT.DLXF.CD</td><td>0.02</td></tr>",
                            "<tr><td>Samoa</td><td>DT.AMT.OFFT.CD</td><td>0.02</td></tr>",
                            "<tr><td>Sao Tome and Principe</td><td>DT.DIS.DLXF.CD</td><td>0.01</td></tr>",
                            "<tr><td>Sao Tome and Principe</td><td>DT.DIS.OFFT.CD</td><td>0.01</td></tr>",
                            "<tr><td>Tonga</td><td>DT.AMT.DLXF.CD</td><td>0.01</td></tr>",
                            "<tr><td>Comoros</td><td>DT.DIS.DLXF.CD</td><td>0.01</td></tr>",
                            "<tr><td>Comoros</td><td>DT.DIS.OFFT.CD</td><td>0.01</td></tr>",
                            "</table>"
                        ]
                    }
                }
            ],
            "execution_count": 39
        },
        {
            "cell_type": "markdown",
            "source": [
                ""
            ],
            "metadata": {
                "azdata_cell_guid": "84d573ed-0fd8-4fdf-b080-9b9b65ad11ef"
            },
            "attachments": {}
        }
    ]
}