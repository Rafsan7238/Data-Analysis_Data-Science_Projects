{
    "metadata": {
        "kernelspec": {
            "name": "SQL",
            "display_name": "SQL",
            "language": "sql"
        },
        "language_info": {
            "name": "sql",
            "version": ""
        }
    },
    "nbformat_minor": 2,
    "nbformat": 4,
    "cells": [
        {
            "cell_type": "markdown",
            "source": [
                "# Instagram Clone User Data Analysis"
            ],
            "metadata": {
                "azdata_cell_guid": "21a23fb1-f17d-4a63-a734-39656d1d8226"
            },
            "attachments": {}
        },
        {
            "cell_type": "markdown",
            "source": [
                "\\*\\*Use the ig\\_clone database\\*\\*"
            ],
            "metadata": {
                "azdata_cell_guid": "9d11fad0-ae14-4395-a447-6267a23f444b"
            },
            "attachments": {}
        },
        {
            "cell_type": "code",
            "source": [
                "USE ig_clone\n",
                "GO"
            ],
            "metadata": {
                "azdata_cell_guid": "af96f1b6-f662-47d0-8c8b-e8c5522f688d",
                "language": "sql"
            },
            "outputs": [
                {
                    "output_type": "display_data",
                    "data": {
                        "text/html": "Commands completed successfully."
                    },
                    "metadata": {}
                },
                {
                    "output_type": "display_data",
                    "data": {
                        "text/html": "Total execution time: 00:00:00.014"
                    },
                    "metadata": {}
                }
            ],
            "execution_count": 3
        },
        {
            "cell_type": "markdown",
            "source": [
                "## **Rewarding the Oldest Customers**\n",
                "\n",
                "Let's reward the Instagram users who have been around the longest. For that, we wish to find the 10 oldest customers and reward them."
            ],
            "metadata": {
                "azdata_cell_guid": "09905707-63ff-460f-9f76-4de44a7fab61"
            },
            "attachments": {}
        },
        {
            "cell_type": "code",
            "source": [
                "SELECT TOP(10) WITH TIES * FROM users \n",
                "ORDER BY created_at ASC;"
            ],
            "metadata": {
                "azdata_cell_guid": "2f5adb0f-40ef-4442-b8db-6ab6047aaad5",
                "language": "sql"
            },
            "outputs": [
                {
                    "output_type": "display_data",
                    "data": {
                        "text/html": "(10 rows affected)"
                    },
                    "metadata": {}
                },
                {
                    "output_type": "display_data",
                    "data": {
                        "text/html": "Total execution time: 00:00:00.032"
                    },
                    "metadata": {}
                },
                {
                    "output_type": "execute_result",
                    "metadata": {},
                    "execution_count": 5,
                    "data": {
                        "application/vnd.dataresource+json": {
                            "schema": {
                                "fields": [
                                    {
                                        "name": "id"
                                    },
                                    {
                                        "name": "username"
                                    },
                                    {
                                        "name": "created_at"
                                    }
                                ]
                            },
                            "data": [
                                {
                                    "0": "80",
                                    "1": "Darby_Herzog",
                                    "2": "2016-05-06 00:14:21.190"
                                },
                                {
                                    "0": "67",
                                    "1": "Emilio_Bernier52",
                                    "2": "2016-05-06 13:04:29.960"
                                },
                                {
                                    "0": "63",
                                    "1": "Elenor88",
                                    "2": "2016-05-08 01:30:40.677"
                                },
                                {
                                    "0": "95",
                                    "1": "Nicole71",
                                    "2": "2016-05-09 17:30:22.370"
                                },
                                {
                                    "0": "38",
                                    "1": "Jordyn.Jacobson2",
                                    "2": "2016-05-14 07:56:25.837"
                                },
                                {
                                    "0": "71",
                                    "1": "Nia_Haag",
                                    "2": "2016-05-14 15:38:50.230"
                                },
                                {
                                    "0": "40",
                                    "1": "Rafael.Hickle2",
                                    "2": "2016-05-19 09:51:25.780"
                                },
                                {
                                    "0": "58",
                                    "1": "Aurelie71",
                                    "2": "2016-05-31 06:20:56.910"
                                },
                                {
                                    "0": "88",
                                    "1": "Clint27",
                                    "2": "2016-06-02 21:40:09.557"
                                },
                                {
                                    "0": "91",
                                    "1": "Bethany20",
                                    "2": "2016-06-03 23:31:53.323"
                                }
                            ]
                        },
                        "text/html": [
                            "<table>",
                            "<tr><th>id</th><th>username</th><th>created_at</th></tr>",
                            "<tr><td>80</td><td>Darby_Herzog</td><td>2016-05-06 00:14:21.190</td></tr>",
                            "<tr><td>67</td><td>Emilio_Bernier52</td><td>2016-05-06 13:04:29.960</td></tr>",
                            "<tr><td>63</td><td>Elenor88</td><td>2016-05-08 01:30:40.677</td></tr>",
                            "<tr><td>95</td><td>Nicole71</td><td>2016-05-09 17:30:22.370</td></tr>",
                            "<tr><td>38</td><td>Jordyn.Jacobson2</td><td>2016-05-14 07:56:25.837</td></tr>",
                            "<tr><td>71</td><td>Nia_Haag</td><td>2016-05-14 15:38:50.230</td></tr>",
                            "<tr><td>40</td><td>Rafael.Hickle2</td><td>2016-05-19 09:51:25.780</td></tr>",
                            "<tr><td>58</td><td>Aurelie71</td><td>2016-05-31 06:20:56.910</td></tr>",
                            "<tr><td>88</td><td>Clint27</td><td>2016-06-02 21:40:09.557</td></tr>",
                            "<tr><td>91</td><td>Bethany20</td><td>2016-06-03 23:31:53.323</td></tr>",
                            "</table>"
                        ]
                    }
                }
            ],
            "execution_count": 5
        },
        {
            "cell_type": "markdown",
            "source": [
                "The 10 users who have stayed around the longest on Instagram had opened their accounts between 6th May and 3rd June 2016."
            ],
            "metadata": {
                "language": "sql",
                "azdata_cell_guid": "becce4bb-68b1-4070-a243-47cc4fdee793"
            },
            "attachments": {}
        },
        {
            "cell_type": "markdown",
            "source": [
                "## **Scheduling an Ad Campaign**\n",
                "\n",
                "We wish to schedule an ad campaign on a particular day. This should be on the day when most users register for an Instagram account."
            ],
            "metadata": {
                "language": "sql",
                "azdata_cell_guid": "0ce10931-e497-4e6d-a883-821f85a30049"
            },
            "attachments": {}
        },
        {
            "cell_type": "code",
            "source": [
                "SELECT DATENAME(dw, created_at) as 'day of the week', COUNT(*) as 'total users registered'\n",
                "FROM users \n",
                "GROUP BY DATENAME(dw, created_at)\n",
                "ORDER BY 'total users registered' DESC;"
            ],
            "metadata": {
                "language": "sql",
                "azdata_cell_guid": "c4612b6d-7349-4dec-9072-8dc557a5237d",
                "tags": []
            },
            "outputs": [
                {
                    "output_type": "display_data",
                    "data": {
                        "text/html": "(7 rows affected)"
                    },
                    "metadata": {}
                },
                {
                    "output_type": "display_data",
                    "data": {
                        "text/html": "Total execution time: 00:00:00.018"
                    },
                    "metadata": {}
                },
                {
                    "output_type": "execute_result",
                    "metadata": {},
                    "execution_count": 13,
                    "data": {
                        "application/vnd.dataresource+json": {
                            "schema": {
                                "fields": [
                                    {
                                        "name": "day of the week"
                                    },
                                    {
                                        "name": "total users registered"
                                    }
                                ]
                            },
                            "data": [
                                {
                                    "0": "Sunday",
                                    "1": "16"
                                },
                                {
                                    "0": "Thursday",
                                    "1": "16"
                                },
                                {
                                    "0": "Friday",
                                    "1": "15"
                                },
                                {
                                    "0": "Monday",
                                    "1": "14"
                                },
                                {
                                    "0": "Tuesday",
                                    "1": "14"
                                },
                                {
                                    "0": "Wednesday",
                                    "1": "13"
                                },
                                {
                                    "0": "Saturday",
                                    "1": "12"
                                }
                            ]
                        },
                        "text/html": [
                            "<table>",
                            "<tr><th>day of the week</th><th>total users registered</th></tr>",
                            "<tr><td>Sunday</td><td>16</td></tr>",
                            "<tr><td>Thursday</td><td>16</td></tr>",
                            "<tr><td>Friday</td><td>15</td></tr>",
                            "<tr><td>Monday</td><td>14</td></tr>",
                            "<tr><td>Tuesday</td><td>14</td></tr>",
                            "<tr><td>Wednesday</td><td>13</td></tr>",
                            "<tr><td>Saturday</td><td>12</td></tr>",
                            "</table>"
                        ]
                    }
                }
            ],
            "execution_count": 13
        },
        {
            "cell_type": "markdown",
            "source": [
                "We can see that almost all days of the week are equally popular for registration, among which the most popular are Sunday and Thursday. We can target Sunday for the campaign as it is also a weekend and users are most likely to spend more time on Instagram."
            ],
            "metadata": {
                "language": "sql",
                "azdata_cell_guid": "d72021c3-c2d1-440d-815d-457ed15dc30a"
            },
            "attachments": {}
        },
        {
            "cell_type": "markdown",
            "source": [
                ""
            ],
            "metadata": {
                "language": "sql",
                "azdata_cell_guid": "fdda9d1f-603d-4324-b25e-d3c46806141f"
            }
        }
    ]
}