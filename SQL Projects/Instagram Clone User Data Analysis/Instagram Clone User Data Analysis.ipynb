{
    "metadata": {
        "kernelspec": {
            "name": "SQL",
            "display_name": "SQL",
            "language": "sql"
        },
        "language_info": {
            "name": "sql",
            "version": ""
        }
    },
    "nbformat_minor": 2,
    "nbformat": 4,
    "cells": [
        {
            "cell_type": "markdown",
            "source": [
                "# **Instagram Clone User Data Analysis**"
            ],
            "metadata": {
                "azdata_cell_guid": "21a23fb1-f17d-4a63-a734-39656d1d8226"
            },
            "attachments": {}
        },
        {
            "cell_type": "markdown",
            "source": [
                "\\*\\*Use the ig\\_clone database\\*\\*"
            ],
            "metadata": {
                "azdata_cell_guid": "9d11fad0-ae14-4395-a447-6267a23f444b"
            },
            "attachments": {}
        },
        {
            "cell_type": "code",
            "source": [
                "USE ig_clone\n",
                "GO"
            ],
            "metadata": {
                "azdata_cell_guid": "af96f1b6-f662-47d0-8c8b-e8c5522f688d",
                "language": "sql"
            },
            "outputs": [
                {
                    "output_type": "display_data",
                    "data": {
                        "text/html": "Commands completed successfully."
                    },
                    "metadata": {}
                },
                {
                    "output_type": "display_data",
                    "data": {
                        "text/html": "Total execution time: 00:00:00.014"
                    },
                    "metadata": {}
                }
            ],
            "execution_count": 3
        },
        {
            "cell_type": "markdown",
            "source": [
                "## **Rewarding the Oldest Customers**\n",
                "\n",
                "Let's reward the Instagram users who have been around the longest. For that, we wish to find the 10 oldest customers and reward them."
            ],
            "metadata": {
                "azdata_cell_guid": "09905707-63ff-460f-9f76-4de44a7fab61"
            },
            "attachments": {}
        },
        {
            "cell_type": "code",
            "source": [
                "SELECT TOP(10) WITH TIES * FROM users \n",
                "ORDER BY created_at ASC;"
            ],
            "metadata": {
                "azdata_cell_guid": "2f5adb0f-40ef-4442-b8db-6ab6047aaad5",
                "language": "sql"
            },
            "outputs": [
                {
                    "output_type": "display_data",
                    "data": {
                        "text/html": "(10 rows affected)"
                    },
                    "metadata": {}
                },
                {
                    "output_type": "display_data",
                    "data": {
                        "text/html": "Total execution time: 00:00:00.032"
                    },
                    "metadata": {}
                },
                {
                    "output_type": "execute_result",
                    "metadata": {},
                    "execution_count": 5,
                    "data": {
                        "application/vnd.dataresource+json": {
                            "schema": {
                                "fields": [
                                    {
                                        "name": "id"
                                    },
                                    {
                                        "name": "username"
                                    },
                                    {
                                        "name": "created_at"
                                    }
                                ]
                            },
                            "data": [
                                {
                                    "0": "80",
                                    "1": "Darby_Herzog",
                                    "2": "2016-05-06 00:14:21.190"
                                },
                                {
                                    "0": "67",
                                    "1": "Emilio_Bernier52",
                                    "2": "2016-05-06 13:04:29.960"
                                },
                                {
                                    "0": "63",
                                    "1": "Elenor88",
                                    "2": "2016-05-08 01:30:40.677"
                                },
                                {
                                    "0": "95",
                                    "1": "Nicole71",
                                    "2": "2016-05-09 17:30:22.370"
                                },
                                {
                                    "0": "38",
                                    "1": "Jordyn.Jacobson2",
                                    "2": "2016-05-14 07:56:25.837"
                                },
                                {
                                    "0": "71",
                                    "1": "Nia_Haag",
                                    "2": "2016-05-14 15:38:50.230"
                                },
                                {
                                    "0": "40",
                                    "1": "Rafael.Hickle2",
                                    "2": "2016-05-19 09:51:25.780"
                                },
                                {
                                    "0": "58",
                                    "1": "Aurelie71",
                                    "2": "2016-05-31 06:20:56.910"
                                },
                                {
                                    "0": "88",
                                    "1": "Clint27",
                                    "2": "2016-06-02 21:40:09.557"
                                },
                                {
                                    "0": "91",
                                    "1": "Bethany20",
                                    "2": "2016-06-03 23:31:53.323"
                                }
                            ]
                        },
                        "text/html": [
                            "<table>",
                            "<tr><th>id</th><th>username</th><th>created_at</th></tr>",
                            "<tr><td>80</td><td>Darby_Herzog</td><td>2016-05-06 00:14:21.190</td></tr>",
                            "<tr><td>67</td><td>Emilio_Bernier52</td><td>2016-05-06 13:04:29.960</td></tr>",
                            "<tr><td>63</td><td>Elenor88</td><td>2016-05-08 01:30:40.677</td></tr>",
                            "<tr><td>95</td><td>Nicole71</td><td>2016-05-09 17:30:22.370</td></tr>",
                            "<tr><td>38</td><td>Jordyn.Jacobson2</td><td>2016-05-14 07:56:25.837</td></tr>",
                            "<tr><td>71</td><td>Nia_Haag</td><td>2016-05-14 15:38:50.230</td></tr>",
                            "<tr><td>40</td><td>Rafael.Hickle2</td><td>2016-05-19 09:51:25.780</td></tr>",
                            "<tr><td>58</td><td>Aurelie71</td><td>2016-05-31 06:20:56.910</td></tr>",
                            "<tr><td>88</td><td>Clint27</td><td>2016-06-02 21:40:09.557</td></tr>",
                            "<tr><td>91</td><td>Bethany20</td><td>2016-06-03 23:31:53.323</td></tr>",
                            "</table>"
                        ]
                    }
                }
            ],
            "execution_count": 5
        },
        {
            "cell_type": "markdown",
            "source": [
                "The 10 users who have stayed around the longest on Instagram had opened their accounts between 6th May and 3rd June 2016."
            ],
            "metadata": {
                "language": "sql",
                "azdata_cell_guid": "becce4bb-68b1-4070-a243-47cc4fdee793"
            },
            "attachments": {}
        },
        {
            "cell_type": "markdown",
            "source": [
                "## **Scheduling an Ad Campaign**\n",
                "\n",
                "We wish to schedule an ad campaign on a particular day. This should be on the day when most users register for an Instagram account."
            ],
            "metadata": {
                "language": "sql",
                "azdata_cell_guid": "0ce10931-e497-4e6d-a883-821f85a30049"
            },
            "attachments": {}
        },
        {
            "cell_type": "code",
            "source": [
                "SELECT DATENAME(dw, created_at) as 'day of the week', COUNT(*) as 'total users registered'\n",
                "FROM users \n",
                "GROUP BY DATENAME(dw, created_at)\n",
                "ORDER BY 'total users registered' DESC;"
            ],
            "metadata": {
                "language": "sql",
                "azdata_cell_guid": "c4612b6d-7349-4dec-9072-8dc557a5237d",
                "tags": []
            },
            "outputs": [
                {
                    "output_type": "display_data",
                    "data": {
                        "text/html": "(7 rows affected)"
                    },
                    "metadata": {}
                },
                {
                    "output_type": "display_data",
                    "data": {
                        "text/html": "Total execution time: 00:00:00.018"
                    },
                    "metadata": {}
                },
                {
                    "output_type": "execute_result",
                    "metadata": {},
                    "execution_count": 13,
                    "data": {
                        "application/vnd.dataresource+json": {
                            "schema": {
                                "fields": [
                                    {
                                        "name": "day of the week"
                                    },
                                    {
                                        "name": "total users registered"
                                    }
                                ]
                            },
                            "data": [
                                {
                                    "0": "Sunday",
                                    "1": "16"
                                },
                                {
                                    "0": "Thursday",
                                    "1": "16"
                                },
                                {
                                    "0": "Friday",
                                    "1": "15"
                                },
                                {
                                    "0": "Monday",
                                    "1": "14"
                                },
                                {
                                    "0": "Tuesday",
                                    "1": "14"
                                },
                                {
                                    "0": "Wednesday",
                                    "1": "13"
                                },
                                {
                                    "0": "Saturday",
                                    "1": "12"
                                }
                            ]
                        },
                        "text/html": [
                            "<table>",
                            "<tr><th>day of the week</th><th>total users registered</th></tr>",
                            "<tr><td>Sunday</td><td>16</td></tr>",
                            "<tr><td>Thursday</td><td>16</td></tr>",
                            "<tr><td>Friday</td><td>15</td></tr>",
                            "<tr><td>Monday</td><td>14</td></tr>",
                            "<tr><td>Tuesday</td><td>14</td></tr>",
                            "<tr><td>Wednesday</td><td>13</td></tr>",
                            "<tr><td>Saturday</td><td>12</td></tr>",
                            "</table>"
                        ]
                    }
                }
            ],
            "execution_count": 13
        },
        {
            "cell_type": "markdown",
            "source": [
                "We can see that almost all days of the week are equally popular for registration, among which the most popular are Sunday and Thursday. We can target Sunday for the campaign as it is also a weekend and users are most likely to spend more time on Instagram."
            ],
            "metadata": {
                "language": "sql",
                "azdata_cell_guid": "d72021c3-c2d1-440d-815d-457ed15dc30a"
            },
            "attachments": {}
        },
        {
            "cell_type": "markdown",
            "source": [
                "## **Targeting Users for Email Campaign**\n",
                "\n",
                "It is assumed that there are many users who have either never posted a photo or posted very few photos on Instagram. In order to increase their loyalty, we should aim an email campaign at users who posted 2 or less photos to encourage them to use Instagram and share more of their photos with the world."
            ],
            "metadata": {
                "language": "sql",
                "azdata_cell_guid": "fdda9d1f-603d-4324-b25e-d3c46806141f"
            },
            "attachments": {}
        },
        {
            "cell_type": "code",
            "source": [
                "SELECT username, COALESCE(COUNT(photos.id), 0) as photos_posted \n",
                "FROM users \n",
                "LEFT JOIN photos \n",
                "ON users.id = photos.user_id\n",
                "GROUP BY username\n",
                "HAVING COALESCE(COUNT(photos.id), 0) < 3\n",
                "ORDER BY photos_posted;"
            ],
            "metadata": {
                "language": "sql",
                "azdata_cell_guid": "e7b08a98-3fc5-483c-a5f7-ab2b44deb498"
            },
            "outputs": [
                {
                    "output_type": "display_data",
                    "data": {
                        "text/html": "Warning: Null value is eliminated by an aggregate or other SET operation."
                    },
                    "metadata": {}
                },
                {
                    "output_type": "display_data",
                    "data": {
                        "text/html": "(57 rows affected)"
                    },
                    "metadata": {}
                },
                {
                    "output_type": "display_data",
                    "data": {
                        "text/html": "Total execution time: 00:00:00.010"
                    },
                    "metadata": {}
                },
                {
                    "output_type": "execute_result",
                    "metadata": {},
                    "execution_count": 22,
                    "data": {
                        "application/vnd.dataresource+json": {
                            "schema": {
                                "fields": [
                                    {
                                        "name": "username"
                                    },
                                    {
                                        "name": "photos_posted"
                                    }
                                ]
                            },
                            "data": [
                                {
                                    "0": "Aniya_Hackett",
                                    "1": "0"
                                },
                                {
                                    "0": "Bartholome.Bernhard",
                                    "1": "0"
                                },
                                {
                                    "0": "Bethany20",
                                    "1": "0"
                                },
                                {
                                    "0": "Darby_Herzog",
                                    "1": "0"
                                },
                                {
                                    "0": "David.Osinski47",
                                    "1": "0"
                                },
                                {
                                    "0": "Duane60",
                                    "1": "0"
                                },
                                {
                                    "0": "Esmeralda.Mraz57",
                                    "1": "0"
                                },
                                {
                                    "0": "Esther.Zulauf61",
                                    "1": "0"
                                },
                                {
                                    "0": "Franco_Keebler64",
                                    "1": "0"
                                },
                                {
                                    "0": "Hulda.Macejkovic",
                                    "1": "0"
                                },
                                {
                                    "0": "Jaclyn81",
                                    "1": "0"
                                },
                                {
                                    "0": "Janelle.Nikolaus81",
                                    "1": "0"
                                },
                                {
                                    "0": "Jessyca_West",
                                    "1": "0"
                                },
                                {
                                    "0": "Kasandra_Homenick",
                                    "1": "0"
                                },
                                {
                                    "0": "Leslie67",
                                    "1": "0"
                                },
                                {
                                    "0": "Linnea59",
                                    "1": "0"
                                },
                                {
                                    "0": "Maxwell.Halvorson",
                                    "1": "0"
                                },
                                {
                                    "0": "Mckenna17",
                                    "1": "0"
                                },
                                {
                                    "0": "Julien_Schmidt",
                                    "1": "0"
                                },
                                {
                                    "0": "Mike.Auer39",
                                    "1": "0"
                                },
                                {
                                    "0": "Morgan.Kassulke",
                                    "1": "0"
                                },
                                {
                                    "0": "Nia_Haag",
                                    "1": "0"
                                },
                                {
                                    "0": "Ollie_Ledner37",
                                    "1": "0"
                                },
                                {
                                    "0": "Pearl7",
                                    "1": "0"
                                },
                                {
                                    "0": "Rocio33",
                                    "1": "0"
                                },
                                {
                                    "0": "Tierra.Trantow",
                                    "1": "0"
                                },
                                {
                                    "0": "Peter.Stehr0",
                                    "1": "1"
                                },
                                {
                                    "0": "Rafael.Hickle2",
                                    "1": "1"
                                },
                                {
                                    "0": "Karley_Bosco",
                                    "1": "1"
                                },
                                {
                                    "0": "Odessa2",
                                    "1": "1"
                                },
                                {
                                    "0": "Yazmin_Mills95",
                                    "1": "1"
                                },
                                {
                                    "0": "Meggie_Doyle",
                                    "1": "1"
                                },
                                {
                                    "0": "Katarina.Dibbert",
                                    "1": "1"
                                },
                                {
                                    "0": "Kelsi26",
                                    "1": "1"
                                },
                                {
                                    "0": "Kenneth64",
                                    "1": "1"
                                },
                                {
                                    "0": "Jaylan.Lakin",
                                    "1": "1"
                                },
                                {
                                    "0": "Jayson65",
                                    "1": "1"
                                },
                                {
                                    "0": "Imani_Nicolas17",
                                    "1": "1"
                                },
                                {
                                    "0": "Granville_Kutch",
                                    "1": "1"
                                },
                                {
                                    "0": "Erick5",
                                    "1": "1"
                                },
                                {
                                    "0": "Delpha.Kihn",
                                    "1": "1"
                                },
                                {
                                    "0": "Darwin29",
                                    "1": "1"
                                },
                                {
                                    "0": "Damon35",
                                    "1": "1"
                                },
                                {
                                    "0": "Aiyana_Hoeger",
                                    "1": "1"
                                },
                                {
                                    "0": "Alysa22",
                                    "1": "2"
                                },
                                {
                                    "0": "Aracely.Johnston98",
                                    "1": "2"
                                },
                                {
                                    "0": "Hailee26",
                                    "1": "2"
                                },
                                {
                                    "0": "Javonte83",
                                    "1": "2"
                                },
                                {
                                    "0": "Jordyn.Jacobson2",
                                    "1": "2"
                                },
                                {
                                    "0": "Lennie_Hartmann40",
                                    "1": "2"
                                },
                                {
                                    "0": "Nicole71",
                                    "1": "2"
                                },
                                {
                                    "0": "Milford_Gleichner42",
                                    "1": "2"
                                },
                                {
                                    "0": "Kaley9",
                                    "1": "2"
                                },
                                {
                                    "0": "Ressie_Stanton46",
                                    "1": "2"
                                },
                                {
                                    "0": "Tomas.Beatty93",
                                    "1": "2"
                                },
                                {
                                    "0": "Willie_Leuschke",
                                    "1": "2"
                                },
                                {
                                    "0": "Sam52",
                                    "1": "2"
                                }
                            ]
                        },
                        "text/html": [
                            "<table>",
                            "<tr><th>username</th><th>photos_posted</th></tr>",
                            "<tr><td>Aniya_Hackett</td><td>0</td></tr>",
                            "<tr><td>Bartholome.Bernhard</td><td>0</td></tr>",
                            "<tr><td>Bethany20</td><td>0</td></tr>",
                            "<tr><td>Darby_Herzog</td><td>0</td></tr>",
                            "<tr><td>David.Osinski47</td><td>0</td></tr>",
                            "<tr><td>Duane60</td><td>0</td></tr>",
                            "<tr><td>Esmeralda.Mraz57</td><td>0</td></tr>",
                            "<tr><td>Esther.Zulauf61</td><td>0</td></tr>",
                            "<tr><td>Franco_Keebler64</td><td>0</td></tr>",
                            "<tr><td>Hulda.Macejkovic</td><td>0</td></tr>",
                            "<tr><td>Jaclyn81</td><td>0</td></tr>",
                            "<tr><td>Janelle.Nikolaus81</td><td>0</td></tr>",
                            "<tr><td>Jessyca_West</td><td>0</td></tr>",
                            "<tr><td>Kasandra_Homenick</td><td>0</td></tr>",
                            "<tr><td>Leslie67</td><td>0</td></tr>",
                            "<tr><td>Linnea59</td><td>0</td></tr>",
                            "<tr><td>Maxwell.Halvorson</td><td>0</td></tr>",
                            "<tr><td>Mckenna17</td><td>0</td></tr>",
                            "<tr><td>Julien_Schmidt</td><td>0</td></tr>",
                            "<tr><td>Mike.Auer39</td><td>0</td></tr>",
                            "<tr><td>Morgan.Kassulke</td><td>0</td></tr>",
                            "<tr><td>Nia_Haag</td><td>0</td></tr>",
                            "<tr><td>Ollie_Ledner37</td><td>0</td></tr>",
                            "<tr><td>Pearl7</td><td>0</td></tr>",
                            "<tr><td>Rocio33</td><td>0</td></tr>",
                            "<tr><td>Tierra.Trantow</td><td>0</td></tr>",
                            "<tr><td>Peter.Stehr0</td><td>1</td></tr>",
                            "<tr><td>Rafael.Hickle2</td><td>1</td></tr>",
                            "<tr><td>Karley_Bosco</td><td>1</td></tr>",
                            "<tr><td>Odessa2</td><td>1</td></tr>",
                            "<tr><td>Yazmin_Mills95</td><td>1</td></tr>",
                            "<tr><td>Meggie_Doyle</td><td>1</td></tr>",
                            "<tr><td>Katarina.Dibbert</td><td>1</td></tr>",
                            "<tr><td>Kelsi26</td><td>1</td></tr>",
                            "<tr><td>Kenneth64</td><td>1</td></tr>",
                            "<tr><td>Jaylan.Lakin</td><td>1</td></tr>",
                            "<tr><td>Jayson65</td><td>1</td></tr>",
                            "<tr><td>Imani_Nicolas17</td><td>1</td></tr>",
                            "<tr><td>Granville_Kutch</td><td>1</td></tr>",
                            "<tr><td>Erick5</td><td>1</td></tr>",
                            "<tr><td>Delpha.Kihn</td><td>1</td></tr>",
                            "<tr><td>Darwin29</td><td>1</td></tr>",
                            "<tr><td>Damon35</td><td>1</td></tr>",
                            "<tr><td>Aiyana_Hoeger</td><td>1</td></tr>",
                            "<tr><td>Alysa22</td><td>2</td></tr>",
                            "<tr><td>Aracely.Johnston98</td><td>2</td></tr>",
                            "<tr><td>Hailee26</td><td>2</td></tr>",
                            "<tr><td>Javonte83</td><td>2</td></tr>",
                            "<tr><td>Jordyn.Jacobson2</td><td>2</td></tr>",
                            "<tr><td>Lennie_Hartmann40</td><td>2</td></tr>",
                            "<tr><td>Nicole71</td><td>2</td></tr>",
                            "<tr><td>Milford_Gleichner42</td><td>2</td></tr>",
                            "<tr><td>Kaley9</td><td>2</td></tr>",
                            "<tr><td>Ressie_Stanton46</td><td>2</td></tr>",
                            "<tr><td>Tomas.Beatty93</td><td>2</td></tr>",
                            "<tr><td>Willie_Leuschke</td><td>2</td></tr>",
                            "<tr><td>Sam52</td><td>2</td></tr>",
                            "</table>"
                        ]
                    }
                }
            ],
            "execution_count": 22
        },
        {
            "cell_type": "markdown",
            "source": [
                "We can see there are more than 50 users who have posted 2 or less photos on Instagram, among which 26 did not even post a single photo and so, we will make them our target audience for the email campaign."
            ],
            "metadata": {
                "azdata_cell_guid": "dff52706-5de8-4df6-8acf-2eb4413a7167"
            },
            "attachments": {}
        },
        {
            "cell_type": "markdown",
            "source": [
                "## **Popular Photo Contest**\n",
                "\n",
                "We have decided to run a new contest to see who can get the most likes on a single photo on Instagram till now. We will be distributing gifts to the top 3 users with most likes on a singe photo of theirs."
            ],
            "metadata": {
                "azdata_cell_guid": "e63400cc-8e93-4e2e-af81-8c609608215b"
            },
            "attachments": {}
        },
        {
            "cell_type": "code",
            "source": [
                "SELECT TOP(3) WITH TIES username, photos.id AS photo_id, photos.image_url, COUNT(*) AS total_likes\n",
                "FROM photos\n",
                "JOIN likes\n",
                "ON likes.photo_id = photos.id\n",
                "JOIN users\n",
                "ON photos.user_id = users.id\n",
                "GROUP BY username, photos.id, photos.image_url\n",
                "ORDER BY total_likes DESC;"
            ],
            "metadata": {
                "azdata_cell_guid": "653b16a8-db0c-4b8e-8a39-b54199f72ac3",
                "language": "sql"
            },
            "outputs": [
                {
                    "output_type": "display_data",
                    "data": {
                        "text/html": "(3 rows affected)"
                    },
                    "metadata": {}
                },
                {
                    "output_type": "display_data",
                    "data": {
                        "text/html": "Total execution time: 00:00:00.029"
                    },
                    "metadata": {}
                },
                {
                    "output_type": "execute_result",
                    "metadata": {},
                    "execution_count": 34,
                    "data": {
                        "application/vnd.dataresource+json": {
                            "schema": {
                                "fields": [
                                    {
                                        "name": "username"
                                    },
                                    {
                                        "name": "photo_id"
                                    },
                                    {
                                        "name": "image_url"
                                    },
                                    {
                                        "name": "total_likes"
                                    }
                                ]
                            },
                            "data": [
                                {
                                    "0": "Zack_Kemmer93",
                                    "1": "145",
                                    "2": "https://jarret.name",
                                    "3": "48"
                                },
                                {
                                    "0": "Malinda_Streich",
                                    "1": "127",
                                    "2": "https://celestine.name",
                                    "3": "43"
                                },
                                {
                                    "0": "Adelle96",
                                    "1": "182",
                                    "2": "https://dorcas.biz",
                                    "3": "43"
                                }
                            ]
                        },
                        "text/html": [
                            "<table>",
                            "<tr><th>username</th><th>photo_id</th><th>image_url</th><th>total_likes</th></tr>",
                            "<tr><td>Zack_Kemmer93</td><td>145</td><td>https://jarret.name</td><td>48</td></tr>",
                            "<tr><td>Malinda_Streich</td><td>127</td><td>https://celestine.name</td><td>43</td></tr>",
                            "<tr><td>Adelle96</td><td>182</td><td>https://dorcas.biz</td><td>43</td></tr>",
                            "</table>"
                        ]
                    }
                }
            ],
            "execution_count": 34
        },
        {
            "cell_type": "markdown",
            "source": [
                "The users above are the winners of the contest as they have the 3 most liked photos on Instagram till now."
            ],
            "metadata": {
                "language": "sql",
                "azdata_cell_guid": "0fa98913-193a-43a7-8917-2c120e8496ee"
            },
            "attachments": {}
        },
        {
            "cell_type": "markdown",
            "source": [
                "## **Average User Activity**\n",
                "\n",
                "The investors of Instagram wants to know how many times does the average user posts a photo. It is to be found by 'total number of photos/total number of users'."
            ],
            "metadata": {
                "language": "sql",
                "azdata_cell_guid": "024dae08-b4de-4ae1-9abb-1c87186e48e1"
            },
            "attachments": {}
        },
        {
            "cell_type": "code",
            "source": [
                "SELECT ROUND((SELECT 1.0 * COUNT(*) FROM photos)/(SELECT 1.0 * COUNT(*) FROM users), 2, 2) as avg_user_activity;"
            ],
            "metadata": {
                "language": "sql",
                "azdata_cell_guid": "5d899cce-b201-4d03-9de1-09425008716f",
                "tags": []
            },
            "outputs": [
                {
                    "output_type": "display_data",
                    "data": {
                        "text/html": "(1 row affected)"
                    },
                    "metadata": {}
                },
                {
                    "output_type": "display_data",
                    "data": {
                        "text/html": "Total execution time: 00:00:00.013"
                    },
                    "metadata": {}
                },
                {
                    "output_type": "execute_result",
                    "metadata": {},
                    "execution_count": 41,
                    "data": {
                        "application/vnd.dataresource+json": {
                            "schema": {
                                "fields": [
                                    {
                                        "name": "avg_user_activity"
                                    }
                                ]
                            },
                            "data": [
                                {
                                    "0": "2.570000000000000"
                                }
                            ]
                        },
                        "text/html": [
                            "<table>",
                            "<tr><th>avg_user_activity</th></tr>",
                            "<tr><td>2.570000000000000</td></tr>",
                            "</table>"
                        ]
                    }
                }
            ],
            "execution_count": 41
        },
        {
            "cell_type": "markdown",
            "source": [
                "It can be seen that a user posts 2.57 photos on average."
            ],
            "metadata": {
                "language": "sql",
                "azdata_cell_guid": "161cba31-c76a-45da-9b69-7442a9b90390"
            },
            "attachments": {}
        },
        {
            "cell_type": "markdown",
            "source": [
                "## **Meeting Posts Target**\n",
                "\n",
                "The investors have set a target for the total number of posts per month at 100 for the continuation of their investment. Hence, we should keep a check if we are able to meet the target."
            ],
            "metadata": {
                "language": "sql",
                "azdata_cell_guid": "ffcf7e16-8a6c-4d9c-83dc-85d4833c495d"
            },
            "attachments": {}
        },
        {
            "cell_type": "code",
            "source": [
                "SELECT DATEPART(YEAR, created_at) AS year, DATENAME(MONTH, created_at) AS month, COUNT(*) AS total_posts\n",
                "FROM photos \n",
                "GROUP BY DATEPART(YEAR, created_at), DATENAME(MONTH, created_at);"
            ],
            "metadata": {
                "language": "sql",
                "azdata_cell_guid": "b6dd01c4-84cf-40c5-8099-c5b3eb4b45bd"
            },
            "outputs": [
                {
                    "output_type": "display_data",
                    "data": {
                        "text/html": "(1 row affected)"
                    },
                    "metadata": {}
                },
                {
                    "output_type": "display_data",
                    "data": {
                        "text/html": "Total execution time: 00:00:00.014"
                    },
                    "metadata": {}
                },
                {
                    "output_type": "execute_result",
                    "metadata": {},
                    "execution_count": 50,
                    "data": {
                        "application/vnd.dataresource+json": {
                            "schema": {
                                "fields": [
                                    {
                                        "name": "year"
                                    },
                                    {
                                        "name": "month"
                                    },
                                    {
                                        "name": "total_posts"
                                    }
                                ]
                            },
                            "data": [
                                {
                                    "0": "2022",
                                    "1": "November",
                                    "2": "257"
                                }
                            ]
                        },
                        "text/html": [
                            "<table>",
                            "<tr><th>year</th><th>month</th><th>total_posts</th></tr>",
                            "<tr><td>2022</td><td>November</td><td>257</td></tr>",
                            "</table>"
                        ]
                    }
                }
            ],
            "execution_count": 50
        },
        {
            "cell_type": "markdown",
            "source": [
                "Since we have only posts of November 2022, we can see that we have exceeded the target set by our investors by a healthy margin of 157 posts till now."
            ],
            "metadata": {
                "language": "sql",
                "azdata_cell_guid": "b0cb0d77-b5f1-4fc2-9ce3-4d716cc71a51"
            },
            "attachments": {}
        },
        {
            "cell_type": "markdown",
            "source": [
                "## **User Ranking**\n",
                "\n",
                "We want to rank the users based on the number of photos they have posted so that we can send the most loyal users links to various promotions as appreciation of their loyalty."
            ],
            "metadata": {
                "language": "sql",
                "azdata_cell_guid": "ac6deaa9-762d-4e56-84df-43cbf2083e84"
            },
            "attachments": {}
        },
        {
            "cell_type": "code",
            "source": [
                "SELECT username, COUNT(*) AS photos_posted, DENSE_RANK() OVER(ORDER BY COUNT(*) DESC) as rank\n",
                "FROM users \n",
                "JOIN photos \n",
                "ON users.id = photos.user_id\n",
                "GROUP BY username\n",
                "ORDER BY rank;"
            ],
            "metadata": {
                "language": "sql",
                "azdata_cell_guid": "13d2f442-ebad-4ad1-949c-6454e3382bda"
            },
            "outputs": [
                {
                    "output_type": "display_data",
                    "data": {
                        "text/html": "(74 rows affected)"
                    },
                    "metadata": {}
                },
                {
                    "output_type": "display_data",
                    "data": {
                        "text/html": "Total execution time: 00:00:00.020"
                    },
                    "metadata": {}
                },
                {
                    "output_type": "execute_result",
                    "metadata": {},
                    "execution_count": 46,
                    "data": {
                        "application/vnd.dataresource+json": {
                            "schema": {
                                "fields": [
                                    {
                                        "name": "username"
                                    },
                                    {
                                        "name": "photos_posted"
                                    },
                                    {
                                        "name": "rank"
                                    }
                                ]
                            },
                            "data": [
                                {
                                    "0": "Eveline95",
                                    "1": "12",
                                    "2": "1"
                                },
                                {
                                    "0": "Clint27",
                                    "1": "11",
                                    "2": "2"
                                },
                                {
                                    "0": "Cesar93",
                                    "1": "10",
                                    "2": "3"
                                },
                                {
                                    "0": "Delfina_VonRueden68",
                                    "1": "9",
                                    "2": "4"
                                },
                                {
                                    "0": "Aurelie71",
                                    "1": "8",
                                    "2": "5"
                                },
                                {
                                    "0": "Jaime53",
                                    "1": "8",
                                    "2": "5"
                                },
                                {
                                    "0": "Donald.Fritsch",
                                    "1": "6",
                                    "2": "6"
                                },
                                {
                                    "0": "Florence99",
                                    "1": "5",
                                    "2": "7"
                                },
                                {
                                    "0": "Harrison.Beatty50",
                                    "1": "5",
                                    "2": "7"
                                },
                                {
                                    "0": "Colten.Harris76",
                                    "1": "5",
                                    "2": "7"
                                },
                                {
                                    "0": "Adelle96",
                                    "1": "5",
                                    "2": "7"
                                },
                                {
                                    "0": "Alexandro35",
                                    "1": "5",
                                    "2": "7"
                                },
                                {
                                    "0": "Janet.Armstrong",
                                    "1": "5",
                                    "2": "7"
                                },
                                {
                                    "0": "Josianne.Friesen",
                                    "1": "5",
                                    "2": "7"
                                },
                                {
                                    "0": "Justina.Gaylord27",
                                    "1": "5",
                                    "2": "7"
                                },
                                {
                                    "0": "Kathryn80",
                                    "1": "5",
                                    "2": "7"
                                },
                                {
                                    "0": "Kenton_Kirlin",
                                    "1": "5",
                                    "2": "7"
                                },
                                {
                                    "0": "Mariano_Koch3",
                                    "1": "5",
                                    "2": "7"
                                },
                                {
                                    "0": "Travon.Waters",
                                    "1": "5",
                                    "2": "7"
                                },
                                {
                                    "0": "Yvette.Gottlieb91",
                                    "1": "5",
                                    "2": "7"
                                },
                                {
                                    "0": "Zack_Kemmer93",
                                    "1": "5",
                                    "2": "7"
                                },
                                {
                                    "0": "Rick29",
                                    "1": "4",
                                    "2": "8"
                                },
                                {
                                    "0": "Seth46",
                                    "1": "4",
                                    "2": "8"
                                },
                                {
                                    "0": "Tabitha_Schamberger11",
                                    "1": "4",
                                    "2": "8"
                                },
                                {
                                    "0": "Malinda_Streich",
                                    "1": "4",
                                    "2": "8"
                                },
                                {
                                    "0": "Andre_Purdy85",
                                    "1": "4",
                                    "2": "8"
                                },
                                {
                                    "0": "Annalise.McKenzie16",
                                    "1": "4",
                                    "2": "8"
                                },
                                {
                                    "0": "Billy52",
                                    "1": "4",
                                    "2": "8"
                                },
                                {
                                    "0": "Dario77",
                                    "1": "4",
                                    "2": "8"
                                },
                                {
                                    "0": "Harley_Lind18",
                                    "1": "4",
                                    "2": "8"
                                },
                                {
                                    "0": "Irwin.Larson",
                                    "1": "4",
                                    "2": "8"
                                },
                                {
                                    "0": "Dereck65",
                                    "1": "4",
                                    "2": "8"
                                },
                                {
                                    "0": "Gus93",
                                    "1": "4",
                                    "2": "8"
                                },
                                {
                                    "0": "Elenor88",
                                    "1": "4",
                                    "2": "8"
                                },
                                {
                                    "0": "Emilio_Bernier52",
                                    "1": "3",
                                    "2": "9"
                                },
                                {
                                    "0": "Frederik_Rice",
                                    "1": "3",
                                    "2": "9"
                                },
                                {
                                    "0": "Gerard79",
                                    "1": "3",
                                    "2": "9"
                                },
                                {
                                    "0": "Alek_Watsica",
                                    "1": "3",
                                    "2": "9"
                                },
                                {
                                    "0": "Arely_Bogan63",
                                    "1": "3",
                                    "2": "9"
                                },
                                {
                                    "0": "Keenan.Schamberger60",
                                    "1": "3",
                                    "2": "9"
                                },
                                {
                                    "0": "Maya.Farrell",
                                    "1": "3",
                                    "2": "9"
                                },
                                {
                                    "0": "Norbert_Carroll35",
                                    "1": "3",
                                    "2": "9"
                                },
                                {
                                    "0": "Presley_McClure",
                                    "1": "3",
                                    "2": "9"
                                },
                                {
                                    "0": "Milford_Gleichner42",
                                    "1": "2",
                                    "2": "10"
                                },
                                {
                                    "0": "Nicole71",
                                    "1": "2",
                                    "2": "10"
                                },
                                {
                                    "0": "Tomas.Beatty93",
                                    "1": "2",
                                    "2": "10"
                                },
                                {
                                    "0": "Sam52",
                                    "1": "2",
                                    "2": "10"
                                },
                                {
                                    "0": "Willie_Leuschke",
                                    "1": "2",
                                    "2": "10"
                                },
                                {
                                    "0": "Jordyn.Jacobson2",
                                    "1": "2",
                                    "2": "10"
                                },
                                {
                                    "0": "Lennie_Hartmann40",
                                    "1": "2",
                                    "2": "10"
                                },
                                {
                                    "0": "Kaley9",
                                    "1": "2",
                                    "2": "10"
                                },
                                {
                                    "0": "Javonte83",
                                    "1": "2",
                                    "2": "10"
                                },
                                {
                                    "0": "Aracely.Johnston98",
                                    "1": "2",
                                    "2": "10"
                                },
                                {
                                    "0": "Alysa22",
                                    "1": "2",
                                    "2": "10"
                                },
                                {
                                    "0": "Hailee26",
                                    "1": "2",
                                    "2": "10"
                                },
                                {
                                    "0": "Ressie_Stanton46",
                                    "1": "2",
                                    "2": "10"
                                },
                                {
                                    "0": "Imani_Nicolas17",
                                    "1": "1",
                                    "2": "11"
                                },
                                {
                                    "0": "Granville_Kutch",
                                    "1": "1",
                                    "2": "11"
                                },
                                {
                                    "0": "Erick5",
                                    "1": "1",
                                    "2": "11"
                                },
                                {
                                    "0": "Aiyana_Hoeger",
                                    "1": "1",
                                    "2": "11"
                                },
                                {
                                    "0": "Darwin29",
                                    "1": "1",
                                    "2": "11"
                                },
                                {
                                    "0": "Delpha.Kihn",
                                    "1": "1",
                                    "2": "11"
                                },
                                {
                                    "0": "Damon35",
                                    "1": "1",
                                    "2": "11"
                                },
                                {
                                    "0": "Jaylan.Lakin",
                                    "1": "1",
                                    "2": "11"
                                },
                                {
                                    "0": "Jayson65",
                                    "1": "1",
                                    "2": "11"
                                },
                                {
                                    "0": "Karley_Bosco",
                                    "1": "1",
                                    "2": "11"
                                },
                                {
                                    "0": "Katarina.Dibbert",
                                    "1": "1",
                                    "2": "11"
                                },
                                {
                                    "0": "Kelsi26",
                                    "1": "1",
                                    "2": "11"
                                },
                                {
                                    "0": "Kenneth64",
                                    "1": "1",
                                    "2": "11"
                                },
                                {
                                    "0": "Yazmin_Mills95",
                                    "1": "1",
                                    "2": "11"
                                },
                                {
                                    "0": "Meggie_Doyle",
                                    "1": "1",
                                    "2": "11"
                                },
                                {
                                    "0": "Rafael.Hickle2",
                                    "1": "1",
                                    "2": "11"
                                },
                                {
                                    "0": "Odessa2",
                                    "1": "1",
                                    "2": "11"
                                },
                                {
                                    "0": "Peter.Stehr0",
                                    "1": "1",
                                    "2": "11"
                                }
                            ]
                        },
                        "text/html": [
                            "<table>",
                            "<tr><th>username</th><th>photos_posted</th><th>rank</th></tr>",
                            "<tr><td>Eveline95</td><td>12</td><td>1</td></tr>",
                            "<tr><td>Clint27</td><td>11</td><td>2</td></tr>",
                            "<tr><td>Cesar93</td><td>10</td><td>3</td></tr>",
                            "<tr><td>Delfina_VonRueden68</td><td>9</td><td>4</td></tr>",
                            "<tr><td>Aurelie71</td><td>8</td><td>5</td></tr>",
                            "<tr><td>Jaime53</td><td>8</td><td>5</td></tr>",
                            "<tr><td>Donald.Fritsch</td><td>6</td><td>6</td></tr>",
                            "<tr><td>Florence99</td><td>5</td><td>7</td></tr>",
                            "<tr><td>Harrison.Beatty50</td><td>5</td><td>7</td></tr>",
                            "<tr><td>Colten.Harris76</td><td>5</td><td>7</td></tr>",
                            "<tr><td>Adelle96</td><td>5</td><td>7</td></tr>",
                            "<tr><td>Alexandro35</td><td>5</td><td>7</td></tr>",
                            "<tr><td>Janet.Armstrong</td><td>5</td><td>7</td></tr>",
                            "<tr><td>Josianne.Friesen</td><td>5</td><td>7</td></tr>",
                            "<tr><td>Justina.Gaylord27</td><td>5</td><td>7</td></tr>",
                            "<tr><td>Kathryn80</td><td>5</td><td>7</td></tr>",
                            "<tr><td>Kenton_Kirlin</td><td>5</td><td>7</td></tr>",
                            "<tr><td>Mariano_Koch3</td><td>5</td><td>7</td></tr>",
                            "<tr><td>Travon.Waters</td><td>5</td><td>7</td></tr>",
                            "<tr><td>Yvette.Gottlieb91</td><td>5</td><td>7</td></tr>",
                            "<tr><td>Zack_Kemmer93</td><td>5</td><td>7</td></tr>",
                            "<tr><td>Rick29</td><td>4</td><td>8</td></tr>",
                            "<tr><td>Seth46</td><td>4</td><td>8</td></tr>",
                            "<tr><td>Tabitha_Schamberger11</td><td>4</td><td>8</td></tr>",
                            "<tr><td>Malinda_Streich</td><td>4</td><td>8</td></tr>",
                            "<tr><td>Andre_Purdy85</td><td>4</td><td>8</td></tr>",
                            "<tr><td>Annalise.McKenzie16</td><td>4</td><td>8</td></tr>",
                            "<tr><td>Billy52</td><td>4</td><td>8</td></tr>",
                            "<tr><td>Dario77</td><td>4</td><td>8</td></tr>",
                            "<tr><td>Harley_Lind18</td><td>4</td><td>8</td></tr>",
                            "<tr><td>Irwin.Larson</td><td>4</td><td>8</td></tr>",
                            "<tr><td>Dereck65</td><td>4</td><td>8</td></tr>",
                            "<tr><td>Gus93</td><td>4</td><td>8</td></tr>",
                            "<tr><td>Elenor88</td><td>4</td><td>8</td></tr>",
                            "<tr><td>Emilio_Bernier52</td><td>3</td><td>9</td></tr>",
                            "<tr><td>Frederik_Rice</td><td>3</td><td>9</td></tr>",
                            "<tr><td>Gerard79</td><td>3</td><td>9</td></tr>",
                            "<tr><td>Alek_Watsica</td><td>3</td><td>9</td></tr>",
                            "<tr><td>Arely_Bogan63</td><td>3</td><td>9</td></tr>",
                            "<tr><td>Keenan.Schamberger60</td><td>3</td><td>9</td></tr>",
                            "<tr><td>Maya.Farrell</td><td>3</td><td>9</td></tr>",
                            "<tr><td>Norbert_Carroll35</td><td>3</td><td>9</td></tr>",
                            "<tr><td>Presley_McClure</td><td>3</td><td>9</td></tr>",
                            "<tr><td>Milford_Gleichner42</td><td>2</td><td>10</td></tr>",
                            "<tr><td>Nicole71</td><td>2</td><td>10</td></tr>",
                            "<tr><td>Tomas.Beatty93</td><td>2</td><td>10</td></tr>",
                            "<tr><td>Sam52</td><td>2</td><td>10</td></tr>",
                            "<tr><td>Willie_Leuschke</td><td>2</td><td>10</td></tr>",
                            "<tr><td>Jordyn.Jacobson2</td><td>2</td><td>10</td></tr>",
                            "<tr><td>Lennie_Hartmann40</td><td>2</td><td>10</td></tr>",
                            "<tr><td>Kaley9</td><td>2</td><td>10</td></tr>",
                            "<tr><td>Javonte83</td><td>2</td><td>10</td></tr>",
                            "<tr><td>Aracely.Johnston98</td><td>2</td><td>10</td></tr>",
                            "<tr><td>Alysa22</td><td>2</td><td>10</td></tr>",
                            "<tr><td>Hailee26</td><td>2</td><td>10</td></tr>",
                            "<tr><td>Ressie_Stanton46</td><td>2</td><td>10</td></tr>",
                            "<tr><td>Imani_Nicolas17</td><td>1</td><td>11</td></tr>",
                            "<tr><td>Granville_Kutch</td><td>1</td><td>11</td></tr>",
                            "<tr><td>Erick5</td><td>1</td><td>11</td></tr>",
                            "<tr><td>Aiyana_Hoeger</td><td>1</td><td>11</td></tr>",
                            "<tr><td>Darwin29</td><td>1</td><td>11</td></tr>",
                            "<tr><td>Delpha.Kihn</td><td>1</td><td>11</td></tr>",
                            "<tr><td>Damon35</td><td>1</td><td>11</td></tr>",
                            "<tr><td>Jaylan.Lakin</td><td>1</td><td>11</td></tr>",
                            "<tr><td>Jayson65</td><td>1</td><td>11</td></tr>",
                            "<tr><td>Karley_Bosco</td><td>1</td><td>11</td></tr>",
                            "<tr><td>Katarina.Dibbert</td><td>1</td><td>11</td></tr>",
                            "<tr><td>Kelsi26</td><td>1</td><td>11</td></tr>",
                            "<tr><td>Kenneth64</td><td>1</td><td>11</td></tr>",
                            "<tr><td>Yazmin_Mills95</td><td>1</td><td>11</td></tr>",
                            "<tr><td>Meggie_Doyle</td><td>1</td><td>11</td></tr>",
                            "<tr><td>Rafael.Hickle2</td><td>1</td><td>11</td></tr>",
                            "<tr><td>Odessa2</td><td>1</td><td>11</td></tr>",
                            "<tr><td>Peter.Stehr0</td><td>1</td><td>11</td></tr>",
                            "</table>"
                        ]
                    }
                }
            ],
            "execution_count": 46
        },
        {
            "cell_type": "markdown",
            "source": [
                "We can see that the top 3 ranked users have posted 10 or more photos and these will be the ones who will sent promotional links for their brand loyalty."
            ],
            "metadata": {
                "azdata_cell_guid": "824bc971-1eb0-4d66-9870-25c302e2bbc5"
            },
            "attachments": {}
        }
    ]
}