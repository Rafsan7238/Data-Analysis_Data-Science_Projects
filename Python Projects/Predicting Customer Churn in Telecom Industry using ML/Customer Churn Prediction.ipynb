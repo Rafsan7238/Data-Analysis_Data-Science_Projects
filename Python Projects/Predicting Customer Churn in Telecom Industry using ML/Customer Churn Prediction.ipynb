{
 "cells": [
  {
   "cell_type": "markdown",
   "source": [
    "# Predicting Customer Churn in Telecom Industry using Machine Learning\n",
    "\n",
    "Customer churn is one of the most important metrics for a growing business to evaluate. While it's not the happiest measure, it's a number that can give a company the hard truth about its customer retention. Customer churn is the percentage of customers that stopped using a company's product or service during a certain time frame.\n",
    "\n",
    "Although unrealistic, a company should aim for a churn rate that is as close to 0% as possible. In order to do this, the company has to be on top of its churn rate at all times and treat it as a top priority. For that, it is of utmost importance that the company identifies any potential customer that may churn soon.\n",
    "\n",
    "That is where Machine Learning comes in, as it can almost eliminate the human hurdles in identifying churning customers, and take that responsibility upon itself to predict such customers all on its own by understanding the underlying patterns related to such customers who have churned in the past."
   ],
   "metadata": {
    "collapsed": false,
    "pycharm": {
     "name": "#%% md\n"
    }
   }
  },
  {
   "cell_type": "markdown",
   "source": [
    "## The Project:\n",
    "\n",
    "Churn is a one of the biggest problem in the telecom industry. Research has shown that the average monthly churn rate among the top 4 wireless carriers in the US is about 1.9% - 2%. Hence, in this project I will be building several ML models that can take as inputs different features related to a customer and predict whether he/she will churn or not in the near future."
   ],
   "metadata": {
    "collapsed": false,
    "pycharm": {
     "name": "#%% md\n"
    }
   }
  },
  {
   "cell_type": "markdown",
   "source": [
    "## The Dataset:\n",
    "\n",
    "The dataset used for the project has been collected from Kaggle and an be found <a href=\"https://www.kaggle.com/datasets/blastchar/telco-customer-churn\" target=\"_blank\">here</a>.\n",
    "\n",
    "The dataset contains 7043 rows of data about unique customers, along with several attributes such as:\n",
    "\n",
    "- Customers who left within the last month – the column is called Churn\n",
    "- Services that each customer has signed up for – phone, multiple lines, internet, online security, online backup, device protection, tech support, and streaming TV and movies\n",
    "- Customer account information – how long they’ve been a customer, contract, payment method, paperless billing, monthly charges, and total charges\n",
    "- Demographic info about customers – gender, age range, and if they have partners and dependents"
   ],
   "metadata": {
    "collapsed": false,
    "pycharm": {
     "name": "#%% md\n"
    }
   }
  },
  {
   "cell_type": "code",
   "execution_count": null,
   "outputs": [],
   "source": [],
   "metadata": {
    "collapsed": false,
    "pycharm": {
     "name": "#%%\n"
    }
   }
  }
 ],
 "metadata": {
  "kernelspec": {
   "display_name": "Python 3",
   "language": "python",
   "name": "python3"
  },
  "language_info": {
   "codemirror_mode": {
    "name": "ipython",
    "version": 2
   },
   "file_extension": ".py",
   "mimetype": "text/x-python",
   "name": "python",
   "nbconvert_exporter": "python",
   "pygments_lexer": "ipython2",
   "version": "2.7.6"
  }
 },
 "nbformat": 4,
 "nbformat_minor": 0
}