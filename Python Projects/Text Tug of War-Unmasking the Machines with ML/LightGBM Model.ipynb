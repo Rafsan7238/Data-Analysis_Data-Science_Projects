{
 "cells": [
  {
   "cell_type": "markdown",
   "source": [
    "# LightGBM Model"
   ],
   "metadata": {
    "collapsed": false,
    "pycharm": {
     "name": "#%% md\n"
    }
   }
  },
  {
   "cell_type": "markdown",
   "source": [
    "## Import Necessary Libraries"
   ],
   "metadata": {
    "collapsed": false,
    "pycharm": {
     "name": "#%% md\n"
    }
   }
  },
  {
   "cell_type": "code",
   "execution_count": 1,
   "outputs": [],
   "source": [
    "import pandas as pd\n",
    "import numpy as np\n",
    "\n",
    "from sklearn.feature_extraction.text import TfidfTransformer\n",
    "from sklearn.model_selection import train_test_split\n",
    "\n",
    "from lightgbm import LGBMClassifier\n",
    "from sklearn.model_selection import GridSearchCV, StratifiedKFold\n",
    "from sklearn.metrics import accuracy_score"
   ],
   "metadata": {
    "collapsed": false,
    "pycharm": {
     "name": "#%%\n"
    }
   }
  },
  {
   "cell_type": "markdown",
   "source": [
    "## Load and Read the Data"
   ],
   "metadata": {
    "collapsed": false,
    "pycharm": {
     "name": "#%% md\n"
    }
   }
  },
  {
   "cell_type": "code",
   "execution_count": 2,
   "outputs": [],
   "source": [
    "# Load and shuffle the datasets\n",
    "# Don't shuffle kaggle data\n",
    "data_d1 = pd.read_json('../data/domain1_train.json', lines=True).sample(frac=1, ignore_index=True)\n",
    "data_d2 = pd.read_json('../data/domain2_train.json', lines=True).sample(frac=1, ignore_index=True)\n",
    "data_kaggle = pd.read_json('../data/test_set.json', lines=True)"
   ],
   "metadata": {
    "collapsed": false,
    "pycharm": {
     "name": "#%%\n"
    }
   }
  },
  {
   "cell_type": "code",
   "execution_count": 3,
   "outputs": [
    {
     "data": {
      "text/plain": "                                                    text  label\n0      [5, 249, 6, 332, 9, 308, 0, 0, 2, 98, 3, 153, ...      1\n1      [22, 5, 624, 3, 2, 48, 6, 213, 278, 12, 2, 104...      0\n2      [382, 0, 0, 0, 3, 49, 1357, 2, 1036, 7, 157, 5...      1\n3      [2330, 2, 189, 48, 78, 28, 3688, 217, 30, 3031...      0\n4      [5, 1448, 6, 0, 666, 43, 325, 202, 2, 1152, 6,...      1\n...                                                  ...    ...\n19495  [29, 2, 224, 6, 2, 48, 6, 213, 17, 1163, 0, 22...      0\n19496  [285, 1, 12, 5, 167, 789, 19, 5, 847, 3, 49, 1...      0\n19497  [0, 1498, 548, 1, 0, 897, 2, 488, 16, 407, 1, ...      0\n19498  [2, 1439, 32, 44, 9, 2, 2700, 4460, 3, 0, 2613...      1\n19499  [2, 0, 730, 6, 2, 104, 103, 66, 28, 814, 16, 2...      0\n\n[19500 rows x 2 columns]",
      "text/html": "<div>\n<style scoped>\n    .dataframe tbody tr th:only-of-type {\n        vertical-align: middle;\n    }\n\n    .dataframe tbody tr th {\n        vertical-align: top;\n    }\n\n    .dataframe thead th {\n        text-align: right;\n    }\n</style>\n<table border=\"1\" class=\"dataframe\">\n  <thead>\n    <tr style=\"text-align: right;\">\n      <th></th>\n      <th>text</th>\n      <th>label</th>\n    </tr>\n  </thead>\n  <tbody>\n    <tr>\n      <th>0</th>\n      <td>[5, 249, 6, 332, 9, 308, 0, 0, 2, 98, 3, 153, ...</td>\n      <td>1</td>\n    </tr>\n    <tr>\n      <th>1</th>\n      <td>[22, 5, 624, 3, 2, 48, 6, 213, 278, 12, 2, 104...</td>\n      <td>0</td>\n    </tr>\n    <tr>\n      <th>2</th>\n      <td>[382, 0, 0, 0, 3, 49, 1357, 2, 1036, 7, 157, 5...</td>\n      <td>1</td>\n    </tr>\n    <tr>\n      <th>3</th>\n      <td>[2330, 2, 189, 48, 78, 28, 3688, 217, 30, 3031...</td>\n      <td>0</td>\n    </tr>\n    <tr>\n      <th>4</th>\n      <td>[5, 1448, 6, 0, 666, 43, 325, 202, 2, 1152, 6,...</td>\n      <td>1</td>\n    </tr>\n    <tr>\n      <th>...</th>\n      <td>...</td>\n      <td>...</td>\n    </tr>\n    <tr>\n      <th>19495</th>\n      <td>[29, 2, 224, 6, 2, 48, 6, 213, 17, 1163, 0, 22...</td>\n      <td>0</td>\n    </tr>\n    <tr>\n      <th>19496</th>\n      <td>[285, 1, 12, 5, 167, 789, 19, 5, 847, 3, 49, 1...</td>\n      <td>0</td>\n    </tr>\n    <tr>\n      <th>19497</th>\n      <td>[0, 1498, 548, 1, 0, 897, 2, 488, 16, 407, 1, ...</td>\n      <td>0</td>\n    </tr>\n    <tr>\n      <th>19498</th>\n      <td>[2, 1439, 32, 44, 9, 2, 2700, 4460, 3, 0, 2613...</td>\n      <td>1</td>\n    </tr>\n    <tr>\n      <th>19499</th>\n      <td>[2, 0, 730, 6, 2, 104, 103, 66, 28, 814, 16, 2...</td>\n      <td>0</td>\n    </tr>\n  </tbody>\n</table>\n<p>19500 rows × 2 columns</p>\n</div>"
     },
     "execution_count": 3,
     "metadata": {},
     "output_type": "execute_result"
    }
   ],
   "source": [
    "data_d1"
   ],
   "metadata": {
    "collapsed": false,
    "pycharm": {
     "name": "#%%\n"
    }
   }
  },
  {
   "cell_type": "code",
   "execution_count": 4,
   "outputs": [
    {
     "data": {
      "text/plain": "label\n1    9750\n0    9750\nName: count, dtype: int64"
     },
     "execution_count": 4,
     "metadata": {},
     "output_type": "execute_result"
    }
   ],
   "source": [
    "data_d1['label'].value_counts()"
   ],
   "metadata": {
    "collapsed": false,
    "pycharm": {
     "name": "#%%\n"
    }
   }
  },
  {
   "cell_type": "code",
   "execution_count": 5,
   "outputs": [
    {
     "data": {
      "text/plain": "                                                    text  label  model\n0      [20, 38, 5, 0, 540, 9, 5, 339, 4968, 1, 20, 26...      0    6.0\n1      [466, 0, 4897, 35, 5, 2446, 930, 1028, 1, 27, ...      0    6.0\n2      [194, 66, 20, 173, 157, 4584, 38, 2782, 74, 4,...      0    3.0\n3      [2, 98, 2096, 21, 258, 4, 1013, 1, 21, 258, 78...      1    NaN\n4      [307, 42, 26, 120, 188, 0, 1, 11, 0, 0, 7, 0, ...      0    5.0\n...                                                  ...    ...    ...\n14895  [1446, 4, 2966, 2, 98, 49, 547, 453, 198, 98, ...      0    1.0\n14896  [1122, 5, 250, 61, 0, 0, 1, 14, 162, 14, 158, ...      0    3.0\n14897  [180, 69, 45, 6, 79, 4772, 4456, 1928, 3, 5, 2...      0    2.0\n14898  [30, 227, 3, 1398, 324, 64, 0, 18, 21, 84, 123...      0    3.0\n14899  [2191, 16, 2, 418, 6, 5, 0, 450, 0, 2, 0, 250,...      0    3.0\n\n[14900 rows x 3 columns]",
      "text/html": "<div>\n<style scoped>\n    .dataframe tbody tr th:only-of-type {\n        vertical-align: middle;\n    }\n\n    .dataframe tbody tr th {\n        vertical-align: top;\n    }\n\n    .dataframe thead th {\n        text-align: right;\n    }\n</style>\n<table border=\"1\" class=\"dataframe\">\n  <thead>\n    <tr style=\"text-align: right;\">\n      <th></th>\n      <th>text</th>\n      <th>label</th>\n      <th>model</th>\n    </tr>\n  </thead>\n  <tbody>\n    <tr>\n      <th>0</th>\n      <td>[20, 38, 5, 0, 540, 9, 5, 339, 4968, 1, 20, 26...</td>\n      <td>0</td>\n      <td>6.0</td>\n    </tr>\n    <tr>\n      <th>1</th>\n      <td>[466, 0, 4897, 35, 5, 2446, 930, 1028, 1, 27, ...</td>\n      <td>0</td>\n      <td>6.0</td>\n    </tr>\n    <tr>\n      <th>2</th>\n      <td>[194, 66, 20, 173, 157, 4584, 38, 2782, 74, 4,...</td>\n      <td>0</td>\n      <td>3.0</td>\n    </tr>\n    <tr>\n      <th>3</th>\n      <td>[2, 98, 2096, 21, 258, 4, 1013, 1, 21, 258, 78...</td>\n      <td>1</td>\n      <td>NaN</td>\n    </tr>\n    <tr>\n      <th>4</th>\n      <td>[307, 42, 26, 120, 188, 0, 1, 11, 0, 0, 7, 0, ...</td>\n      <td>0</td>\n      <td>5.0</td>\n    </tr>\n    <tr>\n      <th>...</th>\n      <td>...</td>\n      <td>...</td>\n      <td>...</td>\n    </tr>\n    <tr>\n      <th>14895</th>\n      <td>[1446, 4, 2966, 2, 98, 49, 547, 453, 198, 98, ...</td>\n      <td>0</td>\n      <td>1.0</td>\n    </tr>\n    <tr>\n      <th>14896</th>\n      <td>[1122, 5, 250, 61, 0, 0, 1, 14, 162, 14, 158, ...</td>\n      <td>0</td>\n      <td>3.0</td>\n    </tr>\n    <tr>\n      <th>14897</th>\n      <td>[180, 69, 45, 6, 79, 4772, 4456, 1928, 3, 5, 2...</td>\n      <td>0</td>\n      <td>2.0</td>\n    </tr>\n    <tr>\n      <th>14898</th>\n      <td>[30, 227, 3, 1398, 324, 64, 0, 18, 21, 84, 123...</td>\n      <td>0</td>\n      <td>3.0</td>\n    </tr>\n    <tr>\n      <th>14899</th>\n      <td>[2191, 16, 2, 418, 6, 5, 0, 450, 0, 2, 0, 250,...</td>\n      <td>0</td>\n      <td>3.0</td>\n    </tr>\n  </tbody>\n</table>\n<p>14900 rows × 3 columns</p>\n</div>"
     },
     "execution_count": 5,
     "metadata": {},
     "output_type": "execute_result"
    }
   ],
   "source": [
    "data_d2"
   ],
   "metadata": {
    "collapsed": false,
    "pycharm": {
     "name": "#%%\n"
    }
   }
  },
  {
   "cell_type": "code",
   "execution_count": 6,
   "outputs": [
    {
     "data": {
      "text/plain": "label\n0    12750\n1     2150\nName: count, dtype: int64"
     },
     "execution_count": 6,
     "metadata": {},
     "output_type": "execute_result"
    }
   ],
   "source": [
    "data_d2['label'].value_counts()"
   ],
   "metadata": {
    "collapsed": false,
    "pycharm": {
     "name": "#%%\n"
    }
   }
  },
  {
   "cell_type": "markdown",
   "source": [
    "It can be seen that data from domain 2 is heavily imbalanced and needs to be balanced to build a good model."
   ],
   "metadata": {
    "collapsed": false,
    "pycharm": {
     "name": "#%% md\n"
    }
   }
  },
  {
   "cell_type": "code",
   "execution_count": 7,
   "outputs": [
    {
     "data": {
      "text/plain": "      id                                               text\n0      0  [59, 2, 3434, 1013, 823, 2, 887, 6, 2375, 0, 3...\n1      1  [2, 785, 6, 5, 0, 317, 17, 5, 2970, 3654, 858,...\n2      2                     [3306, 4, 2, 2288, 6, 963, 94]\n3      3  [0, 2, 1021, 38, 126, 1, 907, 1, 761, 1, 3357,...\n4      4  [30, 488, 197, 18, 4, 31, 420, 18, 2, 3577, 6,...\n..   ...                                                ...\n995  995  [45, 88, 79, 503, 501, 134, 35, 147, 301, 0, 1...\n996  996  [0, 0, 8, 15, 0, 810, 3, 2337, 9, 4653, 3, 41,...\n997  997  [2, 495, 752, 17, 128, 9, 2, 3361, 6, 458, 131...\n998  998  [2, 4433, 299, 307, 12, 100, 0, 446, 32, 44, 0...\n999  999  [9, 1017, 4, 1394, 0, 61, 365, 2539, 3, 0, 7, ...\n\n[1000 rows x 2 columns]",
      "text/html": "<div>\n<style scoped>\n    .dataframe tbody tr th:only-of-type {\n        vertical-align: middle;\n    }\n\n    .dataframe tbody tr th {\n        vertical-align: top;\n    }\n\n    .dataframe thead th {\n        text-align: right;\n    }\n</style>\n<table border=\"1\" class=\"dataframe\">\n  <thead>\n    <tr style=\"text-align: right;\">\n      <th></th>\n      <th>id</th>\n      <th>text</th>\n    </tr>\n  </thead>\n  <tbody>\n    <tr>\n      <th>0</th>\n      <td>0</td>\n      <td>[59, 2, 3434, 1013, 823, 2, 887, 6, 2375, 0, 3...</td>\n    </tr>\n    <tr>\n      <th>1</th>\n      <td>1</td>\n      <td>[2, 785, 6, 5, 0, 317, 17, 5, 2970, 3654, 858,...</td>\n    </tr>\n    <tr>\n      <th>2</th>\n      <td>2</td>\n      <td>[3306, 4, 2, 2288, 6, 963, 94]</td>\n    </tr>\n    <tr>\n      <th>3</th>\n      <td>3</td>\n      <td>[0, 2, 1021, 38, 126, 1, 907, 1, 761, 1, 3357,...</td>\n    </tr>\n    <tr>\n      <th>4</th>\n      <td>4</td>\n      <td>[30, 488, 197, 18, 4, 31, 420, 18, 2, 3577, 6,...</td>\n    </tr>\n    <tr>\n      <th>...</th>\n      <td>...</td>\n      <td>...</td>\n    </tr>\n    <tr>\n      <th>995</th>\n      <td>995</td>\n      <td>[45, 88, 79, 503, 501, 134, 35, 147, 301, 0, 1...</td>\n    </tr>\n    <tr>\n      <th>996</th>\n      <td>996</td>\n      <td>[0, 0, 8, 15, 0, 810, 3, 2337, 9, 4653, 3, 41,...</td>\n    </tr>\n    <tr>\n      <th>997</th>\n      <td>997</td>\n      <td>[2, 495, 752, 17, 128, 9, 2, 3361, 6, 458, 131...</td>\n    </tr>\n    <tr>\n      <th>998</th>\n      <td>998</td>\n      <td>[2, 4433, 299, 307, 12, 100, 0, 446, 32, 44, 0...</td>\n    </tr>\n    <tr>\n      <th>999</th>\n      <td>999</td>\n      <td>[9, 1017, 4, 1394, 0, 61, 365, 2539, 3, 0, 7, ...</td>\n    </tr>\n  </tbody>\n</table>\n<p>1000 rows × 2 columns</p>\n</div>"
     },
     "execution_count": 7,
     "metadata": {},
     "output_type": "execute_result"
    }
   ],
   "source": [
    "data_kaggle"
   ],
   "metadata": {
    "collapsed": false,
    "pycharm": {
     "name": "#%%\n"
    }
   }
  },
  {
   "cell_type": "markdown",
   "source": [
    "## Balance the Dataset\n",
    "\n",
    "We have seen that domain 2's data is heavily imbalanced and needs to be balanced. For this I will be using custom random under-sampling."
   ],
   "metadata": {
    "collapsed": false,
    "pycharm": {
     "name": "#%% md\n"
    }
   }
  },
  {
   "cell_type": "code",
   "execution_count": 8,
   "outputs": [],
   "source": [
    "# Separate into human and machine data\n",
    "d2_humans, d2_machines = data_d2[data_d2['label'] == 1], data_d2[data_d2['label'] == 0]"
   ],
   "metadata": {
    "collapsed": false,
    "pycharm": {
     "name": "#%%\n"
    }
   }
  },
  {
   "cell_type": "code",
   "execution_count": 9,
   "outputs": [
    {
     "data": {
      "text/plain": "                                                    text  label  model\n3      [2, 98, 2096, 21, 258, 4, 1013, 1, 21, 258, 78...      1    NaN\n10     [72, 79, 216, 3, 20, 1410, 9, 5, 302, 0, 228, ...      1    NaN\n12     [2, 48, 678, 10, 272, 16, 585, 30, 431, 1, 11,...      1    NaN\n19     [0, 47, 253, 234, 511, 486, 557, 12, 572, 3451...      1    NaN\n20     [10, 3666, 36, 172, 1, 27, 10, 2397, 2, 0, 0, ...      1    NaN\n...                                                  ...    ...    ...\n14874  [10, 18, 36, 117, 678, 35, 36, 0, 3228, 1, 59,...      1    NaN\n14880  [133, 4, 2, 1525, 1839, 1, 59, 27, 0, 27, 26, ...      1    NaN\n14881  [4273, 145, 21, 2020, 9, 21, 0, 70, 0, 1, 14, ...      1    NaN\n14892  [20, 38, 0, 0, 19, 5, 1577, 0, 7, 0, 1300, 380...      1    NaN\n14894  [25, 109, 210, 13, 296, 4, 578, 5, 167, 50, 8,...      1    NaN\n\n[2150 rows x 3 columns]",
      "text/html": "<div>\n<style scoped>\n    .dataframe tbody tr th:only-of-type {\n        vertical-align: middle;\n    }\n\n    .dataframe tbody tr th {\n        vertical-align: top;\n    }\n\n    .dataframe thead th {\n        text-align: right;\n    }\n</style>\n<table border=\"1\" class=\"dataframe\">\n  <thead>\n    <tr style=\"text-align: right;\">\n      <th></th>\n      <th>text</th>\n      <th>label</th>\n      <th>model</th>\n    </tr>\n  </thead>\n  <tbody>\n    <tr>\n      <th>3</th>\n      <td>[2, 98, 2096, 21, 258, 4, 1013, 1, 21, 258, 78...</td>\n      <td>1</td>\n      <td>NaN</td>\n    </tr>\n    <tr>\n      <th>10</th>\n      <td>[72, 79, 216, 3, 20, 1410, 9, 5, 302, 0, 228, ...</td>\n      <td>1</td>\n      <td>NaN</td>\n    </tr>\n    <tr>\n      <th>12</th>\n      <td>[2, 48, 678, 10, 272, 16, 585, 30, 431, 1, 11,...</td>\n      <td>1</td>\n      <td>NaN</td>\n    </tr>\n    <tr>\n      <th>19</th>\n      <td>[0, 47, 253, 234, 511, 486, 557, 12, 572, 3451...</td>\n      <td>1</td>\n      <td>NaN</td>\n    </tr>\n    <tr>\n      <th>20</th>\n      <td>[10, 3666, 36, 172, 1, 27, 10, 2397, 2, 0, 0, ...</td>\n      <td>1</td>\n      <td>NaN</td>\n    </tr>\n    <tr>\n      <th>...</th>\n      <td>...</td>\n      <td>...</td>\n      <td>...</td>\n    </tr>\n    <tr>\n      <th>14874</th>\n      <td>[10, 18, 36, 117, 678, 35, 36, 0, 3228, 1, 59,...</td>\n      <td>1</td>\n      <td>NaN</td>\n    </tr>\n    <tr>\n      <th>14880</th>\n      <td>[133, 4, 2, 1525, 1839, 1, 59, 27, 0, 27, 26, ...</td>\n      <td>1</td>\n      <td>NaN</td>\n    </tr>\n    <tr>\n      <th>14881</th>\n      <td>[4273, 145, 21, 2020, 9, 21, 0, 70, 0, 1, 14, ...</td>\n      <td>1</td>\n      <td>NaN</td>\n    </tr>\n    <tr>\n      <th>14892</th>\n      <td>[20, 38, 0, 0, 19, 5, 1577, 0, 7, 0, 1300, 380...</td>\n      <td>1</td>\n      <td>NaN</td>\n    </tr>\n    <tr>\n      <th>14894</th>\n      <td>[25, 109, 210, 13, 296, 4, 578, 5, 167, 50, 8,...</td>\n      <td>1</td>\n      <td>NaN</td>\n    </tr>\n  </tbody>\n</table>\n<p>2150 rows × 3 columns</p>\n</div>"
     },
     "execution_count": 9,
     "metadata": {},
     "output_type": "execute_result"
    }
   ],
   "source": [
    "d2_humans"
   ],
   "metadata": {
    "collapsed": false,
    "pycharm": {
     "name": "#%%\n"
    }
   }
  },
  {
   "cell_type": "code",
   "execution_count": 10,
   "outputs": [
    {
     "data": {
      "text/plain": "                                                    text  label  model\n0      [20, 38, 5, 0, 540, 9, 5, 339, 4968, 1, 20, 26...      0    6.0\n1      [466, 0, 4897, 35, 5, 2446, 930, 1028, 1, 27, ...      0    6.0\n2      [194, 66, 20, 173, 157, 4584, 38, 2782, 74, 4,...      0    3.0\n4      [307, 42, 26, 120, 188, 0, 1, 11, 0, 0, 7, 0, ...      0    5.0\n5      [20, 8, 154, 300, 26, 383, 1, 20, 428, 322, 38...      0    6.0\n...                                                  ...    ...    ...\n14895  [1446, 4, 2966, 2, 98, 49, 547, 453, 198, 98, ...      0    1.0\n14896  [1122, 5, 250, 61, 0, 0, 1, 14, 162, 14, 158, ...      0    3.0\n14897  [180, 69, 45, 6, 79, 4772, 4456, 1928, 3, 5, 2...      0    2.0\n14898  [30, 227, 3, 1398, 324, 64, 0, 18, 21, 84, 123...      0    3.0\n14899  [2191, 16, 2, 418, 6, 5, 0, 450, 0, 2, 0, 250,...      0    3.0\n\n[12750 rows x 3 columns]",
      "text/html": "<div>\n<style scoped>\n    .dataframe tbody tr th:only-of-type {\n        vertical-align: middle;\n    }\n\n    .dataframe tbody tr th {\n        vertical-align: top;\n    }\n\n    .dataframe thead th {\n        text-align: right;\n    }\n</style>\n<table border=\"1\" class=\"dataframe\">\n  <thead>\n    <tr style=\"text-align: right;\">\n      <th></th>\n      <th>text</th>\n      <th>label</th>\n      <th>model</th>\n    </tr>\n  </thead>\n  <tbody>\n    <tr>\n      <th>0</th>\n      <td>[20, 38, 5, 0, 540, 9, 5, 339, 4968, 1, 20, 26...</td>\n      <td>0</td>\n      <td>6.0</td>\n    </tr>\n    <tr>\n      <th>1</th>\n      <td>[466, 0, 4897, 35, 5, 2446, 930, 1028, 1, 27, ...</td>\n      <td>0</td>\n      <td>6.0</td>\n    </tr>\n    <tr>\n      <th>2</th>\n      <td>[194, 66, 20, 173, 157, 4584, 38, 2782, 74, 4,...</td>\n      <td>0</td>\n      <td>3.0</td>\n    </tr>\n    <tr>\n      <th>4</th>\n      <td>[307, 42, 26, 120, 188, 0, 1, 11, 0, 0, 7, 0, ...</td>\n      <td>0</td>\n      <td>5.0</td>\n    </tr>\n    <tr>\n      <th>5</th>\n      <td>[20, 8, 154, 300, 26, 383, 1, 20, 428, 322, 38...</td>\n      <td>0</td>\n      <td>6.0</td>\n    </tr>\n    <tr>\n      <th>...</th>\n      <td>...</td>\n      <td>...</td>\n      <td>...</td>\n    </tr>\n    <tr>\n      <th>14895</th>\n      <td>[1446, 4, 2966, 2, 98, 49, 547, 453, 198, 98, ...</td>\n      <td>0</td>\n      <td>1.0</td>\n    </tr>\n    <tr>\n      <th>14896</th>\n      <td>[1122, 5, 250, 61, 0, 0, 1, 14, 162, 14, 158, ...</td>\n      <td>0</td>\n      <td>3.0</td>\n    </tr>\n    <tr>\n      <th>14897</th>\n      <td>[180, 69, 45, 6, 79, 4772, 4456, 1928, 3, 5, 2...</td>\n      <td>0</td>\n      <td>2.0</td>\n    </tr>\n    <tr>\n      <th>14898</th>\n      <td>[30, 227, 3, 1398, 324, 64, 0, 18, 21, 84, 123...</td>\n      <td>0</td>\n      <td>3.0</td>\n    </tr>\n    <tr>\n      <th>14899</th>\n      <td>[2191, 16, 2, 418, 6, 5, 0, 450, 0, 2, 0, 250,...</td>\n      <td>0</td>\n      <td>3.0</td>\n    </tr>\n  </tbody>\n</table>\n<p>12750 rows × 3 columns</p>\n</div>"
     },
     "execution_count": 10,
     "metadata": {},
     "output_type": "execute_result"
    }
   ],
   "source": [
    "d2_machines"
   ],
   "metadata": {
    "collapsed": false,
    "pycharm": {
     "name": "#%%\n"
    }
   }
  },
  {
   "cell_type": "code",
   "execution_count": 11,
   "outputs": [
    {
     "data": {
      "text/plain": "model\n0.0    2364\n3.0    2358\n1.0    2357\n2.0    2339\n6.0    1763\n4.0     789\n5.0     780\nName: count, dtype: int64"
     },
     "execution_count": 11,
     "metadata": {},
     "output_type": "execute_result"
    }
   ],
   "source": [
    "d2_machines['model'].value_counts()"
   ],
   "metadata": {
    "collapsed": false,
    "pycharm": {
     "name": "#%%\n"
    }
   }
  },
  {
   "cell_type": "code",
   "execution_count": 12,
   "outputs": [
    {
     "data": {
      "text/plain": "       model\n4648     0.0\n5391     0.0\n10030    3.0\n6310     4.0\n8504     1.0\n...      ...\n2905     0.0\n14072    6.0\n1111     0.0\n4474     1.0\n11525    0.0\n\n[2150 rows x 1 columns]",
      "text/html": "<div>\n<style scoped>\n    .dataframe tbody tr th:only-of-type {\n        vertical-align: middle;\n    }\n\n    .dataframe tbody tr th {\n        vertical-align: top;\n    }\n\n    .dataframe thead th {\n        text-align: right;\n    }\n</style>\n<table border=\"1\" class=\"dataframe\">\n  <thead>\n    <tr style=\"text-align: right;\">\n      <th></th>\n      <th>model</th>\n    </tr>\n  </thead>\n  <tbody>\n    <tr>\n      <th>4648</th>\n      <td>0.0</td>\n    </tr>\n    <tr>\n      <th>5391</th>\n      <td>0.0</td>\n    </tr>\n    <tr>\n      <th>10030</th>\n      <td>3.0</td>\n    </tr>\n    <tr>\n      <th>6310</th>\n      <td>4.0</td>\n    </tr>\n    <tr>\n      <th>8504</th>\n      <td>1.0</td>\n    </tr>\n    <tr>\n      <th>...</th>\n      <td>...</td>\n    </tr>\n    <tr>\n      <th>2905</th>\n      <td>0.0</td>\n    </tr>\n    <tr>\n      <th>14072</th>\n      <td>6.0</td>\n    </tr>\n    <tr>\n      <th>1111</th>\n      <td>0.0</td>\n    </tr>\n    <tr>\n      <th>4474</th>\n      <td>1.0</td>\n    </tr>\n    <tr>\n      <th>11525</th>\n      <td>0.0</td>\n    </tr>\n  </tbody>\n</table>\n<p>2150 rows × 1 columns</p>\n</div>"
     },
     "execution_count": 12,
     "metadata": {},
     "output_type": "execute_result"
    }
   ],
   "source": [
    "# Perform a stratified sampling on the machine data wrt to LLM model\n",
    "d2_machine_sample = d2_machines[['model']].sample(n=2150, random_state=42)\n",
    "d2_machine_sample"
   ],
   "metadata": {
    "collapsed": false,
    "pycharm": {
     "name": "#%%\n"
    }
   }
  },
  {
   "cell_type": "code",
   "execution_count": 13,
   "outputs": [
    {
     "data": {
      "text/plain": "model\n1.0    429\n0.0    424\n3.0    393\n2.0    379\n6.0    258\n5.0    135\n4.0    132\nName: count, dtype: int64"
     },
     "execution_count": 13,
     "metadata": {},
     "output_type": "execute_result"
    }
   ],
   "source": [
    "d2_machine_sample['model'].value_counts()"
   ],
   "metadata": {
    "collapsed": false,
    "pycharm": {
     "name": "#%%\n"
    }
   }
  },
  {
   "cell_type": "code",
   "execution_count": 14,
   "outputs": [],
   "source": [
    "# Extract the indices of the sampled machine data\n",
    "d2_machine_sample_index = d2_machine_sample.index\n",
    "\n",
    "# Extract the rows with the indices\n",
    "d2_machines = data_d2.iloc[d2_machine_sample_index, :]"
   ],
   "metadata": {
    "collapsed": false,
    "pycharm": {
     "name": "#%%\n"
    }
   }
  },
  {
   "cell_type": "code",
   "execution_count": 15,
   "outputs": [
    {
     "data": {
      "text/plain": "                                                    text  label  model\n4648   [25, 1406, 3, 11, 111, 83, 79, 3578, 3, 8, 8, ...      0    0.0\n5391   [243, 163, 10, 536, 19, 21, 231, 1, 14, 214, 2...      0    0.0\n10030  [0, 0, 1418, 8, 4733, 3612, 4, 2, 0, 1393, 351...      0    3.0\n6310   [594, 466, 5, 3455, 6, 2943, 4, 116, 141, 120,...      0    4.0\n8504   [623, 86, 5, 70, 1098, 1, 10, 46, 8, 37, 239, ...      0    1.0\n...                                                  ...    ...    ...\n2905   [594, 466, 5, 3455, 6, 2943, 4, 116, 141, 120,...      0    0.0\n14072  [5, 1091, 272, 6, 3232, 32, 2, 1012, 4, 3240, ...      0    6.0\n1111   [18, 2, 138, 4, 193, 3, 208, 5, 512, 689, 9, 2...      0    0.0\n4474   [2, 3539, 42, 32, 3, 29, 3, 28, 2, 1109, 12, 5...      0    1.0\n11525  [0, 2071, 415, 97, 247, 1, 572, 340, 3911, 9, ...      0    0.0\n\n[2150 rows x 3 columns]",
      "text/html": "<div>\n<style scoped>\n    .dataframe tbody tr th:only-of-type {\n        vertical-align: middle;\n    }\n\n    .dataframe tbody tr th {\n        vertical-align: top;\n    }\n\n    .dataframe thead th {\n        text-align: right;\n    }\n</style>\n<table border=\"1\" class=\"dataframe\">\n  <thead>\n    <tr style=\"text-align: right;\">\n      <th></th>\n      <th>text</th>\n      <th>label</th>\n      <th>model</th>\n    </tr>\n  </thead>\n  <tbody>\n    <tr>\n      <th>4648</th>\n      <td>[25, 1406, 3, 11, 111, 83, 79, 3578, 3, 8, 8, ...</td>\n      <td>0</td>\n      <td>0.0</td>\n    </tr>\n    <tr>\n      <th>5391</th>\n      <td>[243, 163, 10, 536, 19, 21, 231, 1, 14, 214, 2...</td>\n      <td>0</td>\n      <td>0.0</td>\n    </tr>\n    <tr>\n      <th>10030</th>\n      <td>[0, 0, 1418, 8, 4733, 3612, 4, 2, 0, 1393, 351...</td>\n      <td>0</td>\n      <td>3.0</td>\n    </tr>\n    <tr>\n      <th>6310</th>\n      <td>[594, 466, 5, 3455, 6, 2943, 4, 116, 141, 120,...</td>\n      <td>0</td>\n      <td>4.0</td>\n    </tr>\n    <tr>\n      <th>8504</th>\n      <td>[623, 86, 5, 70, 1098, 1, 10, 46, 8, 37, 239, ...</td>\n      <td>0</td>\n      <td>1.0</td>\n    </tr>\n    <tr>\n      <th>...</th>\n      <td>...</td>\n      <td>...</td>\n      <td>...</td>\n    </tr>\n    <tr>\n      <th>2905</th>\n      <td>[594, 466, 5, 3455, 6, 2943, 4, 116, 141, 120,...</td>\n      <td>0</td>\n      <td>0.0</td>\n    </tr>\n    <tr>\n      <th>14072</th>\n      <td>[5, 1091, 272, 6, 3232, 32, 2, 1012, 4, 3240, ...</td>\n      <td>0</td>\n      <td>6.0</td>\n    </tr>\n    <tr>\n      <th>1111</th>\n      <td>[18, 2, 138, 4, 193, 3, 208, 5, 512, 689, 9, 2...</td>\n      <td>0</td>\n      <td>0.0</td>\n    </tr>\n    <tr>\n      <th>4474</th>\n      <td>[2, 3539, 42, 32, 3, 29, 3, 28, 2, 1109, 12, 5...</td>\n      <td>0</td>\n      <td>1.0</td>\n    </tr>\n    <tr>\n      <th>11525</th>\n      <td>[0, 2071, 415, 97, 247, 1, 572, 340, 3911, 9, ...</td>\n      <td>0</td>\n      <td>0.0</td>\n    </tr>\n  </tbody>\n</table>\n<p>2150 rows × 3 columns</p>\n</div>"
     },
     "execution_count": 15,
     "metadata": {},
     "output_type": "execute_result"
    }
   ],
   "source": [
    "d2_machines"
   ],
   "metadata": {
    "collapsed": false,
    "pycharm": {
     "name": "#%%\n"
    }
   }
  },
  {
   "cell_type": "code",
   "execution_count": 16,
   "outputs": [
    {
     "data": {
      "text/plain": "                                                   text  label  model\n0     [2, 98, 2096, 21, 258, 4, 1013, 1, 21, 258, 78...      1    NaN\n1     [72, 79, 216, 3, 20, 1410, 9, 5, 302, 0, 228, ...      1    NaN\n2     [2, 48, 678, 10, 272, 16, 585, 30, 431, 1, 11,...      1    NaN\n3     [0, 47, 253, 234, 511, 486, 557, 12, 572, 3451...      1    NaN\n4     [10, 3666, 36, 172, 1, 27, 10, 2397, 2, 0, 0, ...      1    NaN\n...                                                 ...    ...    ...\n4295  [594, 466, 5, 3455, 6, 2943, 4, 116, 141, 120,...      0    0.0\n4296  [5, 1091, 272, 6, 3232, 32, 2, 1012, 4, 3240, ...      0    6.0\n4297  [18, 2, 138, 4, 193, 3, 208, 5, 512, 689, 9, 2...      0    0.0\n4298  [2, 3539, 42, 32, 3, 29, 3, 28, 2, 1109, 12, 5...      0    1.0\n4299  [0, 2071, 415, 97, 247, 1, 572, 340, 3911, 9, ...      0    0.0\n\n[4300 rows x 3 columns]",
      "text/html": "<div>\n<style scoped>\n    .dataframe tbody tr th:only-of-type {\n        vertical-align: middle;\n    }\n\n    .dataframe tbody tr th {\n        vertical-align: top;\n    }\n\n    .dataframe thead th {\n        text-align: right;\n    }\n</style>\n<table border=\"1\" class=\"dataframe\">\n  <thead>\n    <tr style=\"text-align: right;\">\n      <th></th>\n      <th>text</th>\n      <th>label</th>\n      <th>model</th>\n    </tr>\n  </thead>\n  <tbody>\n    <tr>\n      <th>0</th>\n      <td>[2, 98, 2096, 21, 258, 4, 1013, 1, 21, 258, 78...</td>\n      <td>1</td>\n      <td>NaN</td>\n    </tr>\n    <tr>\n      <th>1</th>\n      <td>[72, 79, 216, 3, 20, 1410, 9, 5, 302, 0, 228, ...</td>\n      <td>1</td>\n      <td>NaN</td>\n    </tr>\n    <tr>\n      <th>2</th>\n      <td>[2, 48, 678, 10, 272, 16, 585, 30, 431, 1, 11,...</td>\n      <td>1</td>\n      <td>NaN</td>\n    </tr>\n    <tr>\n      <th>3</th>\n      <td>[0, 47, 253, 234, 511, 486, 557, 12, 572, 3451...</td>\n      <td>1</td>\n      <td>NaN</td>\n    </tr>\n    <tr>\n      <th>4</th>\n      <td>[10, 3666, 36, 172, 1, 27, 10, 2397, 2, 0, 0, ...</td>\n      <td>1</td>\n      <td>NaN</td>\n    </tr>\n    <tr>\n      <th>...</th>\n      <td>...</td>\n      <td>...</td>\n      <td>...</td>\n    </tr>\n    <tr>\n      <th>4295</th>\n      <td>[594, 466, 5, 3455, 6, 2943, 4, 116, 141, 120,...</td>\n      <td>0</td>\n      <td>0.0</td>\n    </tr>\n    <tr>\n      <th>4296</th>\n      <td>[5, 1091, 272, 6, 3232, 32, 2, 1012, 4, 3240, ...</td>\n      <td>0</td>\n      <td>6.0</td>\n    </tr>\n    <tr>\n      <th>4297</th>\n      <td>[18, 2, 138, 4, 193, 3, 208, 5, 512, 689, 9, 2...</td>\n      <td>0</td>\n      <td>0.0</td>\n    </tr>\n    <tr>\n      <th>4298</th>\n      <td>[2, 3539, 42, 32, 3, 29, 3, 28, 2, 1109, 12, 5...</td>\n      <td>0</td>\n      <td>1.0</td>\n    </tr>\n    <tr>\n      <th>4299</th>\n      <td>[0, 2071, 415, 97, 247, 1, 572, 340, 3911, 9, ...</td>\n      <td>0</td>\n      <td>0.0</td>\n    </tr>\n  </tbody>\n</table>\n<p>4300 rows × 3 columns</p>\n</div>"
     },
     "execution_count": 16,
     "metadata": {},
     "output_type": "execute_result"
    }
   ],
   "source": [
    "# Combine the human and machine data to form the new data_d2\n",
    "data_d2 = pd.concat([d2_humans, d2_machines], ignore_index=True)\n",
    "data_d2"
   ],
   "metadata": {
    "collapsed": false,
    "pycharm": {
     "name": "#%%\n"
    }
   }
  },
  {
   "cell_type": "code",
   "execution_count": 17,
   "outputs": [
    {
     "data": {
      "text/plain": "label\n1    2150\n0    2150\nName: count, dtype: int64"
     },
     "execution_count": 17,
     "metadata": {},
     "output_type": "execute_result"
    }
   ],
   "source": [
    "data_d2['label'].value_counts()"
   ],
   "metadata": {
    "collapsed": false,
    "pycharm": {
     "name": "#%%\n"
    }
   }
  },
  {
   "cell_type": "markdown",
   "source": [
    "The dataset is now balanced with 2150 human and machine texts each."
   ],
   "metadata": {
    "collapsed": false,
    "pycharm": {
     "name": "#%% md\n"
    }
   }
  },
  {
   "cell_type": "markdown",
   "source": [
    "## Separate Features and Labels"
   ],
   "metadata": {
    "collapsed": false,
    "pycharm": {
     "name": "#%% md\n"
    }
   }
  },
  {
   "cell_type": "code",
   "execution_count": 18,
   "outputs": [],
   "source": [
    "d1_features = data_d1['text']\n",
    "d1_labels = data_d1['label']\n",
    "\n",
    "d2_features = data_d2['text']\n",
    "d2_labels = data_d2['label']\n",
    "\n",
    "kaggle_features = data_kaggle['text']"
   ],
   "metadata": {
    "collapsed": false,
    "pycharm": {
     "name": "#%%\n"
    }
   }
  },
  {
   "cell_type": "markdown",
   "source": [
    "## Create Bag of Words"
   ],
   "metadata": {
    "collapsed": false,
    "pycharm": {
     "name": "#%% md\n"
    }
   }
  },
  {
   "cell_type": "code",
   "execution_count": 19,
   "outputs": [],
   "source": [
    "def vector_to_bow(text_data):\n",
    "    # Create an empty array to store the word counts\n",
    "    sample_size = text_data.shape[0]\n",
    "    bow = np.zeros(shape=(sample_size, 5000), dtype=int)\n",
    "\n",
    "    # Iterate through every text\n",
    "    for i, txt in enumerate(text_data):\n",
    "        # For each word in the text, increase the word count by 1\n",
    "        for word in txt:\n",
    "            bow[i, word] += 1\n",
    "\n",
    "    # Return bag of words\n",
    "    return bow"
   ],
   "metadata": {
    "collapsed": false,
    "pycharm": {
     "name": "#%%\n"
    }
   }
  },
  {
   "cell_type": "code",
   "execution_count": 20,
   "outputs": [],
   "source": [
    "# Transform the feature vectors to bow\n",
    "d1_bow = vector_to_bow(d1_features)\n",
    "d2_bow = vector_to_bow(d2_features)\n",
    "kaggle_bow = vector_to_bow(kaggle_features)"
   ],
   "metadata": {
    "collapsed": false,
    "pycharm": {
     "name": "#%%\n"
    }
   }
  },
  {
   "cell_type": "code",
   "execution_count": 21,
   "outputs": [
    {
     "data": {
      "text/plain": "array([[4, 1, 1, ..., 0, 0, 0],\n       [0, 1, 2, ..., 0, 0, 0],\n       [6, 1, 1, ..., 0, 0, 0],\n       ...,\n       [6, 7, 2, ..., 0, 0, 0],\n       [5, 1, 2, ..., 0, 0, 0],\n       [9, 4, 8, ..., 0, 0, 0]])"
     },
     "execution_count": 21,
     "metadata": {},
     "output_type": "execute_result"
    }
   ],
   "source": [
    "d1_bow"
   ],
   "metadata": {
    "collapsed": false,
    "pycharm": {
     "name": "#%%\n"
    }
   }
  },
  {
   "cell_type": "code",
   "execution_count": 22,
   "outputs": [
    {
     "data": {
      "text/plain": "array([[ 1,  5,  5, ...,  0,  0,  0],\n       [22, 20,  7, ...,  0,  0,  0],\n       [ 0,  5,  4, ...,  0,  0,  0],\n       ...,\n       [ 1,  5,  6, ...,  0,  0,  0],\n       [ 6,  9,  3, ...,  0,  0,  0],\n       [29, 14, 10, ...,  0,  0,  0]])"
     },
     "execution_count": 22,
     "metadata": {},
     "output_type": "execute_result"
    }
   ],
   "source": [
    "d2_bow"
   ],
   "metadata": {
    "collapsed": false,
    "pycharm": {
     "name": "#%%\n"
    }
   }
  },
  {
   "cell_type": "code",
   "execution_count": 23,
   "outputs": [
    {
     "data": {
      "text/plain": "array([[32, 14, 14, ...,  0,  0,  0],\n       [ 2, 11,  4, ...,  0,  0,  0],\n       [ 0,  0,  1, ...,  0,  0,  0],\n       ...,\n       [ 0,  0,  3, ...,  0,  0,  0],\n       [ 7,  1,  3, ...,  0,  0,  0],\n       [27, 18, 15, ...,  0,  0,  0]])"
     },
     "execution_count": 23,
     "metadata": {},
     "output_type": "execute_result"
    }
   ],
   "source": [
    "kaggle_bow"
   ],
   "metadata": {
    "collapsed": false,
    "pycharm": {
     "name": "#%%\n"
    }
   }
  },
  {
   "cell_type": "code",
   "execution_count": 24,
   "outputs": [],
   "source": [
    "# Create a combined bow\n",
    "combined_bow = np.vstack([d1_bow, d2_bow])\n",
    "combined_labels = pd.concat([d1_labels, d2_labels], ignore_index=True)"
   ],
   "metadata": {
    "collapsed": false,
    "pycharm": {
     "name": "#%%\n"
    }
   }
  },
  {
   "cell_type": "markdown",
   "source": [
    "## LGBM Classifier with Bag of Words Model"
   ],
   "metadata": {
    "collapsed": false,
    "pycharm": {
     "name": "#%% md\n"
    }
   }
  },
  {
   "cell_type": "code",
   "execution_count": 25,
   "outputs": [],
   "source": [
    "# Build an intial LGBM model\n",
    "lgbm1 = LGBMClassifier(objective= 'binary', metric= 'binary_logloss', boosting= 'gbdt', num_boost_round= 200, learning_rate= 0.1, num_leaves= 50, n_jobs= -1, reg_lambda= 1)"
   ],
   "metadata": {
    "collapsed": false,
    "pycharm": {
     "name": "#%%\n"
    }
   }
  },
  {
   "cell_type": "code",
   "execution_count": 26,
   "outputs": [
    {
     "name": "stderr",
     "output_type": "stream",
     "text": [
      "/Users/rafsanalmamun/miniforge3/lib/python3.10/site-packages/lightgbm/engine.py:177: UserWarning: Found `num_boost_round` in params. Will use it instead of argument\n",
      "  _log_warning(f\"Found `{alias}` in params. Will use it instead of argument\")\n"
     ]
    },
    {
     "name": "stdout",
     "output_type": "stream",
     "text": [
      "[LightGBM] [Warning] boosting is set=gbdt, boosting_type=gbdt will be ignored. Current value: boosting=gbdt\n",
      "[LightGBM] [Warning] num_iterations is set=200, num_boost_round=200 will be ignored. Current value: num_iterations=200\n"
     ]
    },
    {
     "data": {
      "text/plain": "LGBMClassifier(boosting='gbdt', metric='binary_logloss', num_boost_round=200,\n               num_leaves=50, objective='binary', reg_lambda=1)",
      "text/html": "<style>#sk-container-id-1 {color: black;}#sk-container-id-1 pre{padding: 0;}#sk-container-id-1 div.sk-toggleable {background-color: white;}#sk-container-id-1 label.sk-toggleable__label {cursor: pointer;display: block;width: 100%;margin-bottom: 0;padding: 0.3em;box-sizing: border-box;text-align: center;}#sk-container-id-1 label.sk-toggleable__label-arrow:before {content: \"▸\";float: left;margin-right: 0.25em;color: #696969;}#sk-container-id-1 label.sk-toggleable__label-arrow:hover:before {color: black;}#sk-container-id-1 div.sk-estimator:hover label.sk-toggleable__label-arrow:before {color: black;}#sk-container-id-1 div.sk-toggleable__content {max-height: 0;max-width: 0;overflow: hidden;text-align: left;background-color: #f0f8ff;}#sk-container-id-1 div.sk-toggleable__content pre {margin: 0.2em;color: black;border-radius: 0.25em;background-color: #f0f8ff;}#sk-container-id-1 input.sk-toggleable__control:checked~div.sk-toggleable__content {max-height: 200px;max-width: 100%;overflow: auto;}#sk-container-id-1 input.sk-toggleable__control:checked~label.sk-toggleable__label-arrow:before {content: \"▾\";}#sk-container-id-1 div.sk-estimator input.sk-toggleable__control:checked~label.sk-toggleable__label {background-color: #d4ebff;}#sk-container-id-1 div.sk-label input.sk-toggleable__control:checked~label.sk-toggleable__label {background-color: #d4ebff;}#sk-container-id-1 input.sk-hidden--visually {border: 0;clip: rect(1px 1px 1px 1px);clip: rect(1px, 1px, 1px, 1px);height: 1px;margin: -1px;overflow: hidden;padding: 0;position: absolute;width: 1px;}#sk-container-id-1 div.sk-estimator {font-family: monospace;background-color: #f0f8ff;border: 1px dotted black;border-radius: 0.25em;box-sizing: border-box;margin-bottom: 0.5em;}#sk-container-id-1 div.sk-estimator:hover {background-color: #d4ebff;}#sk-container-id-1 div.sk-parallel-item::after {content: \"\";width: 100%;border-bottom: 1px solid gray;flex-grow: 1;}#sk-container-id-1 div.sk-label:hover label.sk-toggleable__label {background-color: #d4ebff;}#sk-container-id-1 div.sk-serial::before {content: \"\";position: absolute;border-left: 1px solid gray;box-sizing: border-box;top: 0;bottom: 0;left: 50%;z-index: 0;}#sk-container-id-1 div.sk-serial {display: flex;flex-direction: column;align-items: center;background-color: white;padding-right: 0.2em;padding-left: 0.2em;position: relative;}#sk-container-id-1 div.sk-item {position: relative;z-index: 1;}#sk-container-id-1 div.sk-parallel {display: flex;align-items: stretch;justify-content: center;background-color: white;position: relative;}#sk-container-id-1 div.sk-item::before, #sk-container-id-1 div.sk-parallel-item::before {content: \"\";position: absolute;border-left: 1px solid gray;box-sizing: border-box;top: 0;bottom: 0;left: 50%;z-index: -1;}#sk-container-id-1 div.sk-parallel-item {display: flex;flex-direction: column;z-index: 1;position: relative;background-color: white;}#sk-container-id-1 div.sk-parallel-item:first-child::after {align-self: flex-end;width: 50%;}#sk-container-id-1 div.sk-parallel-item:last-child::after {align-self: flex-start;width: 50%;}#sk-container-id-1 div.sk-parallel-item:only-child::after {width: 0;}#sk-container-id-1 div.sk-dashed-wrapped {border: 1px dashed gray;margin: 0 0.4em 0.5em 0.4em;box-sizing: border-box;padding-bottom: 0.4em;background-color: white;}#sk-container-id-1 div.sk-label label {font-family: monospace;font-weight: bold;display: inline-block;line-height: 1.2em;}#sk-container-id-1 div.sk-label-container {text-align: center;}#sk-container-id-1 div.sk-container {/* jupyter's `normalize.less` sets `[hidden] { display: none; }` but bootstrap.min.css set `[hidden] { display: none !important; }` so we also need the `!important` here to be able to override the default hidden behavior on the sphinx rendered scikit-learn.org. See: https://github.com/scikit-learn/scikit-learn/issues/21755 */display: inline-block !important;position: relative;}#sk-container-id-1 div.sk-text-repr-fallback {display: none;}</style><div id=\"sk-container-id-1\" class=\"sk-top-container\"><div class=\"sk-text-repr-fallback\"><pre>LGBMClassifier(boosting=&#x27;gbdt&#x27;, metric=&#x27;binary_logloss&#x27;, num_boost_round=200,\n               num_leaves=50, objective=&#x27;binary&#x27;, reg_lambda=1)</pre><b>In a Jupyter environment, please rerun this cell to show the HTML representation or trust the notebook. <br />On GitHub, the HTML representation is unable to render, please try loading this page with nbviewer.org.</b></div><div class=\"sk-container\" hidden><div class=\"sk-item\"><div class=\"sk-estimator sk-toggleable\"><input class=\"sk-toggleable__control sk-hidden--visually\" id=\"sk-estimator-id-1\" type=\"checkbox\" checked><label for=\"sk-estimator-id-1\" class=\"sk-toggleable__label sk-toggleable__label-arrow\">LGBMClassifier</label><div class=\"sk-toggleable__content\"><pre>LGBMClassifier(boosting=&#x27;gbdt&#x27;, metric=&#x27;binary_logloss&#x27;, num_boost_round=200,\n               num_leaves=50, objective=&#x27;binary&#x27;, reg_lambda=1)</pre></div></div></div></div></div>"
     },
     "execution_count": 26,
     "metadata": {},
     "output_type": "execute_result"
    }
   ],
   "source": [
    "lgbm1.fit(d1_bow, d1_labels)"
   ],
   "metadata": {
    "collapsed": false,
    "pycharm": {
     "name": "#%%\n"
    }
   }
  },
  {
   "cell_type": "code",
   "execution_count": 27,
   "outputs": [],
   "source": [
    "# Build the next LGBM model\n",
    "lgbm2 = LGBMClassifier(objective= 'binary', metric= 'binary_logloss', boosting= 'dart', num_boost_round= 200, learning_rate= 0.01, num_leaves= 50, n_jobs= -1, reg_lambda= 1)"
   ],
   "metadata": {
    "collapsed": false,
    "pycharm": {
     "name": "#%%\n"
    }
   }
  },
  {
   "cell_type": "code",
   "execution_count": 28,
   "outputs": [
    {
     "name": "stderr",
     "output_type": "stream",
     "text": [
      "/Users/rafsanalmamun/miniforge3/lib/python3.10/site-packages/lightgbm/engine.py:177: UserWarning: Found `num_boost_round` in params. Will use it instead of argument\n",
      "  _log_warning(f\"Found `{alias}` in params. Will use it instead of argument\")\n"
     ]
    },
    {
     "data": {
      "text/plain": "LGBMClassifier(boosting='dart', learning_rate=0.01, metric='binary_logloss',\n               num_boost_round=200, num_leaves=50, objective='binary',\n               reg_lambda=1)",
      "text/html": "<style>#sk-container-id-2 {color: black;}#sk-container-id-2 pre{padding: 0;}#sk-container-id-2 div.sk-toggleable {background-color: white;}#sk-container-id-2 label.sk-toggleable__label {cursor: pointer;display: block;width: 100%;margin-bottom: 0;padding: 0.3em;box-sizing: border-box;text-align: center;}#sk-container-id-2 label.sk-toggleable__label-arrow:before {content: \"▸\";float: left;margin-right: 0.25em;color: #696969;}#sk-container-id-2 label.sk-toggleable__label-arrow:hover:before {color: black;}#sk-container-id-2 div.sk-estimator:hover label.sk-toggleable__label-arrow:before {color: black;}#sk-container-id-2 div.sk-toggleable__content {max-height: 0;max-width: 0;overflow: hidden;text-align: left;background-color: #f0f8ff;}#sk-container-id-2 div.sk-toggleable__content pre {margin: 0.2em;color: black;border-radius: 0.25em;background-color: #f0f8ff;}#sk-container-id-2 input.sk-toggleable__control:checked~div.sk-toggleable__content {max-height: 200px;max-width: 100%;overflow: auto;}#sk-container-id-2 input.sk-toggleable__control:checked~label.sk-toggleable__label-arrow:before {content: \"▾\";}#sk-container-id-2 div.sk-estimator input.sk-toggleable__control:checked~label.sk-toggleable__label {background-color: #d4ebff;}#sk-container-id-2 div.sk-label input.sk-toggleable__control:checked~label.sk-toggleable__label {background-color: #d4ebff;}#sk-container-id-2 input.sk-hidden--visually {border: 0;clip: rect(1px 1px 1px 1px);clip: rect(1px, 1px, 1px, 1px);height: 1px;margin: -1px;overflow: hidden;padding: 0;position: absolute;width: 1px;}#sk-container-id-2 div.sk-estimator {font-family: monospace;background-color: #f0f8ff;border: 1px dotted black;border-radius: 0.25em;box-sizing: border-box;margin-bottom: 0.5em;}#sk-container-id-2 div.sk-estimator:hover {background-color: #d4ebff;}#sk-container-id-2 div.sk-parallel-item::after {content: \"\";width: 100%;border-bottom: 1px solid gray;flex-grow: 1;}#sk-container-id-2 div.sk-label:hover label.sk-toggleable__label {background-color: #d4ebff;}#sk-container-id-2 div.sk-serial::before {content: \"\";position: absolute;border-left: 1px solid gray;box-sizing: border-box;top: 0;bottom: 0;left: 50%;z-index: 0;}#sk-container-id-2 div.sk-serial {display: flex;flex-direction: column;align-items: center;background-color: white;padding-right: 0.2em;padding-left: 0.2em;position: relative;}#sk-container-id-2 div.sk-item {position: relative;z-index: 1;}#sk-container-id-2 div.sk-parallel {display: flex;align-items: stretch;justify-content: center;background-color: white;position: relative;}#sk-container-id-2 div.sk-item::before, #sk-container-id-2 div.sk-parallel-item::before {content: \"\";position: absolute;border-left: 1px solid gray;box-sizing: border-box;top: 0;bottom: 0;left: 50%;z-index: -1;}#sk-container-id-2 div.sk-parallel-item {display: flex;flex-direction: column;z-index: 1;position: relative;background-color: white;}#sk-container-id-2 div.sk-parallel-item:first-child::after {align-self: flex-end;width: 50%;}#sk-container-id-2 div.sk-parallel-item:last-child::after {align-self: flex-start;width: 50%;}#sk-container-id-2 div.sk-parallel-item:only-child::after {width: 0;}#sk-container-id-2 div.sk-dashed-wrapped {border: 1px dashed gray;margin: 0 0.4em 0.5em 0.4em;box-sizing: border-box;padding-bottom: 0.4em;background-color: white;}#sk-container-id-2 div.sk-label label {font-family: monospace;font-weight: bold;display: inline-block;line-height: 1.2em;}#sk-container-id-2 div.sk-label-container {text-align: center;}#sk-container-id-2 div.sk-container {/* jupyter's `normalize.less` sets `[hidden] { display: none; }` but bootstrap.min.css set `[hidden] { display: none !important; }` so we also need the `!important` here to be able to override the default hidden behavior on the sphinx rendered scikit-learn.org. See: https://github.com/scikit-learn/scikit-learn/issues/21755 */display: inline-block !important;position: relative;}#sk-container-id-2 div.sk-text-repr-fallback {display: none;}</style><div id=\"sk-container-id-2\" class=\"sk-top-container\"><div class=\"sk-text-repr-fallback\"><pre>LGBMClassifier(boosting=&#x27;dart&#x27;, learning_rate=0.01, metric=&#x27;binary_logloss&#x27;,\n               num_boost_round=200, num_leaves=50, objective=&#x27;binary&#x27;,\n               reg_lambda=1)</pre><b>In a Jupyter environment, please rerun this cell to show the HTML representation or trust the notebook. <br />On GitHub, the HTML representation is unable to render, please try loading this page with nbviewer.org.</b></div><div class=\"sk-container\" hidden><div class=\"sk-item\"><div class=\"sk-estimator sk-toggleable\"><input class=\"sk-toggleable__control sk-hidden--visually\" id=\"sk-estimator-id-2\" type=\"checkbox\" checked><label for=\"sk-estimator-id-2\" class=\"sk-toggleable__label sk-toggleable__label-arrow\">LGBMClassifier</label><div class=\"sk-toggleable__content\"><pre>LGBMClassifier(boosting=&#x27;dart&#x27;, learning_rate=0.01, metric=&#x27;binary_logloss&#x27;,\n               num_boost_round=200, num_leaves=50, objective=&#x27;binary&#x27;,\n               reg_lambda=1)</pre></div></div></div></div></div>"
     },
     "execution_count": 28,
     "metadata": {},
     "output_type": "execute_result"
    }
   ],
   "source": [
    "# Fine tune the model using lgbm1's weights on domain 2 data\n",
    "lgbm2.fit(d2_bow, d2_labels, init_model=lgbm1)"
   ],
   "metadata": {
    "collapsed": false,
    "pycharm": {
     "name": "#%%\n"
    }
   }
  },
  {
   "cell_type": "code",
   "execution_count": 29,
   "outputs": [
    {
     "name": "stderr",
     "output_type": "stream",
     "text": [
      "/Users/rafsanalmamun/miniforge3/lib/python3.10/site-packages/lightgbm/engine.py:177: UserWarning: Found `num_boost_round` in params. Will use it instead of argument\n",
      "  _log_warning(f\"Found `{alias}` in params. Will use it instead of argument\")\n"
     ]
    },
    {
     "data": {
      "text/plain": "LGBMClassifier(boosting='dart', learning_rate=0.01, metric='binary_logloss',\n               num_boost_round=200, num_leaves=50, objective='binary',\n               reg_lambda=1)",
      "text/html": "<style>#sk-container-id-3 {color: black;}#sk-container-id-3 pre{padding: 0;}#sk-container-id-3 div.sk-toggleable {background-color: white;}#sk-container-id-3 label.sk-toggleable__label {cursor: pointer;display: block;width: 100%;margin-bottom: 0;padding: 0.3em;box-sizing: border-box;text-align: center;}#sk-container-id-3 label.sk-toggleable__label-arrow:before {content: \"▸\";float: left;margin-right: 0.25em;color: #696969;}#sk-container-id-3 label.sk-toggleable__label-arrow:hover:before {color: black;}#sk-container-id-3 div.sk-estimator:hover label.sk-toggleable__label-arrow:before {color: black;}#sk-container-id-3 div.sk-toggleable__content {max-height: 0;max-width: 0;overflow: hidden;text-align: left;background-color: #f0f8ff;}#sk-container-id-3 div.sk-toggleable__content pre {margin: 0.2em;color: black;border-radius: 0.25em;background-color: #f0f8ff;}#sk-container-id-3 input.sk-toggleable__control:checked~div.sk-toggleable__content {max-height: 200px;max-width: 100%;overflow: auto;}#sk-container-id-3 input.sk-toggleable__control:checked~label.sk-toggleable__label-arrow:before {content: \"▾\";}#sk-container-id-3 div.sk-estimator input.sk-toggleable__control:checked~label.sk-toggleable__label {background-color: #d4ebff;}#sk-container-id-3 div.sk-label input.sk-toggleable__control:checked~label.sk-toggleable__label {background-color: #d4ebff;}#sk-container-id-3 input.sk-hidden--visually {border: 0;clip: rect(1px 1px 1px 1px);clip: rect(1px, 1px, 1px, 1px);height: 1px;margin: -1px;overflow: hidden;padding: 0;position: absolute;width: 1px;}#sk-container-id-3 div.sk-estimator {font-family: monospace;background-color: #f0f8ff;border: 1px dotted black;border-radius: 0.25em;box-sizing: border-box;margin-bottom: 0.5em;}#sk-container-id-3 div.sk-estimator:hover {background-color: #d4ebff;}#sk-container-id-3 div.sk-parallel-item::after {content: \"\";width: 100%;border-bottom: 1px solid gray;flex-grow: 1;}#sk-container-id-3 div.sk-label:hover label.sk-toggleable__label {background-color: #d4ebff;}#sk-container-id-3 div.sk-serial::before {content: \"\";position: absolute;border-left: 1px solid gray;box-sizing: border-box;top: 0;bottom: 0;left: 50%;z-index: 0;}#sk-container-id-3 div.sk-serial {display: flex;flex-direction: column;align-items: center;background-color: white;padding-right: 0.2em;padding-left: 0.2em;position: relative;}#sk-container-id-3 div.sk-item {position: relative;z-index: 1;}#sk-container-id-3 div.sk-parallel {display: flex;align-items: stretch;justify-content: center;background-color: white;position: relative;}#sk-container-id-3 div.sk-item::before, #sk-container-id-3 div.sk-parallel-item::before {content: \"\";position: absolute;border-left: 1px solid gray;box-sizing: border-box;top: 0;bottom: 0;left: 50%;z-index: -1;}#sk-container-id-3 div.sk-parallel-item {display: flex;flex-direction: column;z-index: 1;position: relative;background-color: white;}#sk-container-id-3 div.sk-parallel-item:first-child::after {align-self: flex-end;width: 50%;}#sk-container-id-3 div.sk-parallel-item:last-child::after {align-self: flex-start;width: 50%;}#sk-container-id-3 div.sk-parallel-item:only-child::after {width: 0;}#sk-container-id-3 div.sk-dashed-wrapped {border: 1px dashed gray;margin: 0 0.4em 0.5em 0.4em;box-sizing: border-box;padding-bottom: 0.4em;background-color: white;}#sk-container-id-3 div.sk-label label {font-family: monospace;font-weight: bold;display: inline-block;line-height: 1.2em;}#sk-container-id-3 div.sk-label-container {text-align: center;}#sk-container-id-3 div.sk-container {/* jupyter's `normalize.less` sets `[hidden] { display: none; }` but bootstrap.min.css set `[hidden] { display: none !important; }` so we also need the `!important` here to be able to override the default hidden behavior on the sphinx rendered scikit-learn.org. See: https://github.com/scikit-learn/scikit-learn/issues/21755 */display: inline-block !important;position: relative;}#sk-container-id-3 div.sk-text-repr-fallback {display: none;}</style><div id=\"sk-container-id-3\" class=\"sk-top-container\"><div class=\"sk-text-repr-fallback\"><pre>LGBMClassifier(boosting=&#x27;dart&#x27;, learning_rate=0.01, metric=&#x27;binary_logloss&#x27;,\n               num_boost_round=200, num_leaves=50, objective=&#x27;binary&#x27;,\n               reg_lambda=1)</pre><b>In a Jupyter environment, please rerun this cell to show the HTML representation or trust the notebook. <br />On GitHub, the HTML representation is unable to render, please try loading this page with nbviewer.org.</b></div><div class=\"sk-container\" hidden><div class=\"sk-item\"><div class=\"sk-estimator sk-toggleable\"><input class=\"sk-toggleable__control sk-hidden--visually\" id=\"sk-estimator-id-3\" type=\"checkbox\" checked><label for=\"sk-estimator-id-3\" class=\"sk-toggleable__label sk-toggleable__label-arrow\">LGBMClassifier</label><div class=\"sk-toggleable__content\"><pre>LGBMClassifier(boosting=&#x27;dart&#x27;, learning_rate=0.01, metric=&#x27;binary_logloss&#x27;,\n               num_boost_round=200, num_leaves=50, objective=&#x27;binary&#x27;,\n               reg_lambda=1)</pre></div></div></div></div></div>"
     },
     "execution_count": 29,
     "metadata": {},
     "output_type": "execute_result"
    }
   ],
   "source": [
    "# Fine tune the final model on the combined data\n",
    "lgbm2.fit(combined_bow, combined_labels)"
   ],
   "metadata": {
    "collapsed": false,
    "pycharm": {
     "name": "#%%\n"
    }
   }
  },
  {
   "cell_type": "code",
   "execution_count": 30,
   "outputs": [
    {
     "data": {
      "text/plain": "0.8713865546218488"
     },
     "execution_count": 30,
     "metadata": {},
     "output_type": "execute_result"
    }
   ],
   "source": [
    "# Check final train predictions\n",
    "comb_preds = lgbm2.predict(combined_bow)\n",
    "accuracy_score(combined_labels, comb_preds)"
   ],
   "metadata": {
    "collapsed": false,
    "pycharm": {
     "name": "#%%\n"
    }
   }
  },
  {
   "cell_type": "code",
   "execution_count": 31,
   "outputs": [],
   "source": [
    "# Predict on kaggle data and save the outputs\n",
    "test_preds = lgbm2.predict(kaggle_bow)\n",
    "output = pd.DataFrame({'id': range(len(test_preds)), 'class': test_preds})\n",
    "output.to_csv('Outputs/lgbm_output_1.csv', index=False)"
   ],
   "metadata": {
    "collapsed": false,
    "pycharm": {
     "name": "#%%\n"
    }
   }
  },
  {
   "cell_type": "code",
   "execution_count": 32,
   "outputs": [
    {
     "data": {
      "text/plain": "class\n1    507\n0    493\nName: count, dtype: int64"
     },
     "execution_count": 32,
     "metadata": {},
     "output_type": "execute_result"
    }
   ],
   "source": [
    "# Check the balance in the predictions\n",
    "output['class'].value_counts()"
   ],
   "metadata": {
    "collapsed": false,
    "pycharm": {
     "name": "#%%\n"
    }
   }
  },
  {
   "cell_type": "markdown",
   "source": [
    "### Best classifier with public leaderboard pred: 0.80"
   ],
   "metadata": {
    "collapsed": false,
    "pycharm": {
     "name": "#%% md\n"
    }
   }
  },
  {
   "cell_type": "code",
   "execution_count": 36,
   "outputs": [],
   "source": [
    "# Get the predict probs on kaggle data\n",
    "probs = lgbm2.predict_proba(kaggle_bow)[:, 1]\n",
    "prob_output = pd.DataFrame({'id': range(len(probs)), 'probs': probs})\n",
    "prob_output.to_csv('Outputs/lgbm_probs.csv', index = False)"
   ],
   "metadata": {
    "collapsed": false,
    "pycharm": {
     "name": "#%%\n"
    }
   }
  }
 ],
 "metadata": {
  "kernelspec": {
   "display_name": "Python 3",
   "language": "python",
   "name": "python3"
  },
  "language_info": {
   "codemirror_mode": {
    "name": "ipython",
    "version": 2
   },
   "file_extension": ".py",
   "mimetype": "text/x-python",
   "name": "python",
   "nbconvert_exporter": "python",
   "pygments_lexer": "ipython2",
   "version": "2.7.6"
  }
 },
 "nbformat": 4,
 "nbformat_minor": 0
}