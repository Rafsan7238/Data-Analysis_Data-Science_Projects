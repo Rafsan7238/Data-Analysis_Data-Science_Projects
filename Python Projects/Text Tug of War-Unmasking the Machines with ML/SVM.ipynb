{
 "cells": [
  {
   "cell_type": "markdown",
   "source": [
    "# SVM Model"
   ],
   "metadata": {
    "collapsed": false,
    "pycharm": {
     "name": "#%% md\n"
    }
   }
  },
  {
   "cell_type": "markdown",
   "source": [
    "## Import Necessary Libraries"
   ],
   "metadata": {
    "collapsed": false,
    "pycharm": {
     "name": "#%% md\n"
    }
   }
  },
  {
   "cell_type": "code",
   "execution_count": 1,
   "outputs": [],
   "source": [
    "import pandas as pd\n",
    "import numpy as np\n",
    "from sklearn.feature_extraction.text import TfidfTransformer\n",
    "from sklearn.model_selection import train_test_split\n",
    "\n",
    "from sklearn.decomposition import PCA\n",
    "from sklearn.svm import SVC\n",
    "from sklearn.model_selection import GridSearchCV, StratifiedKFold\n",
    "from sklearn.metrics import accuracy_score"
   ],
   "metadata": {
    "collapsed": false,
    "pycharm": {
     "name": "#%%\n"
    }
   }
  },
  {
   "cell_type": "markdown",
   "source": [
    "## Load and Read the Data"
   ],
   "metadata": {
    "collapsed": false,
    "pycharm": {
     "name": "#%% md\n"
    }
   }
  },
  {
   "cell_type": "code",
   "execution_count": 2,
   "outputs": [],
   "source": [
    "# Load and shuffle the datasets\n",
    "# Don't shuffle kaggle data\n",
    "data_d1 = pd.read_json('../data/domain1_train.json', lines=True).sample(frac=1, ignore_index=True)\n",
    "data_d2 = pd.read_json('../data/domain2_train.json', lines=True).sample(frac=1, ignore_index=True)\n",
    "data_kaggle = pd.read_json('../data/test_set.json', lines=True)"
   ],
   "metadata": {
    "collapsed": false,
    "pycharm": {
     "name": "#%%\n"
    }
   }
  },
  {
   "cell_type": "code",
   "execution_count": 3,
   "outputs": [
    {
     "data": {
      "text/plain": "                                                    text  label\n0      [40, 716, 17, 141, 138, 9, 0, 72, 40, 3246, 29...      1\n1      [0, 0, 804, 6, 0, 18, 0, 41, 100, 70, 0, 18, 1...      1\n2      [80, 56, 43, 55, 142, 4767, 9, 2, 195, 3, 13, ...      0\n3      [2, 837, 6, 30, 593, 3, 22, 0, 9, 82, 2261, 52...      0\n4      [532, 2, 204, 976, 2538, 336, 2, 0, 38, 5, 645...      1\n...                                                  ...    ...\n19495  [0, 0, 26, 2096, 0, 4, 0, 4, 1048, 18, 150, 0,...      1\n19496  [58, 14, 220, 10, 5, 3252, 799, 0, 18, 21, 215...      1\n19497  [0, 7, 0, 0, 63, 2091, 152, 62, 7, 2, 0, 0, 27...      1\n19498  [159, 3, 42, 8, 115, 28, 56, 445, 196, 0, 3, 2...      1\n19499  [0, 0, 0, 515, 4484, 329, 0, 0, 333, 329, 861,...      1\n\n[19500 rows x 2 columns]",
      "text/html": "<div>\n<style scoped>\n    .dataframe tbody tr th:only-of-type {\n        vertical-align: middle;\n    }\n\n    .dataframe tbody tr th {\n        vertical-align: top;\n    }\n\n    .dataframe thead th {\n        text-align: right;\n    }\n</style>\n<table border=\"1\" class=\"dataframe\">\n  <thead>\n    <tr style=\"text-align: right;\">\n      <th></th>\n      <th>text</th>\n      <th>label</th>\n    </tr>\n  </thead>\n  <tbody>\n    <tr>\n      <th>0</th>\n      <td>[40, 716, 17, 141, 138, 9, 0, 72, 40, 3246, 29...</td>\n      <td>1</td>\n    </tr>\n    <tr>\n      <th>1</th>\n      <td>[0, 0, 804, 6, 0, 18, 0, 41, 100, 70, 0, 18, 1...</td>\n      <td>1</td>\n    </tr>\n    <tr>\n      <th>2</th>\n      <td>[80, 56, 43, 55, 142, 4767, 9, 2, 195, 3, 13, ...</td>\n      <td>0</td>\n    </tr>\n    <tr>\n      <th>3</th>\n      <td>[2, 837, 6, 30, 593, 3, 22, 0, 9, 82, 2261, 52...</td>\n      <td>0</td>\n    </tr>\n    <tr>\n      <th>4</th>\n      <td>[532, 2, 204, 976, 2538, 336, 2, 0, 38, 5, 645...</td>\n      <td>1</td>\n    </tr>\n    <tr>\n      <th>...</th>\n      <td>...</td>\n      <td>...</td>\n    </tr>\n    <tr>\n      <th>19495</th>\n      <td>[0, 0, 26, 2096, 0, 4, 0, 4, 1048, 18, 150, 0,...</td>\n      <td>1</td>\n    </tr>\n    <tr>\n      <th>19496</th>\n      <td>[58, 14, 220, 10, 5, 3252, 799, 0, 18, 21, 215...</td>\n      <td>1</td>\n    </tr>\n    <tr>\n      <th>19497</th>\n      <td>[0, 7, 0, 0, 63, 2091, 152, 62, 7, 2, 0, 0, 27...</td>\n      <td>1</td>\n    </tr>\n    <tr>\n      <th>19498</th>\n      <td>[159, 3, 42, 8, 115, 28, 56, 445, 196, 0, 3, 2...</td>\n      <td>1</td>\n    </tr>\n    <tr>\n      <th>19499</th>\n      <td>[0, 0, 0, 515, 4484, 329, 0, 0, 333, 329, 861,...</td>\n      <td>1</td>\n    </tr>\n  </tbody>\n</table>\n<p>19500 rows × 2 columns</p>\n</div>"
     },
     "execution_count": 3,
     "metadata": {},
     "output_type": "execute_result"
    }
   ],
   "source": [
    "data_d1"
   ],
   "metadata": {
    "collapsed": false,
    "pycharm": {
     "name": "#%%\n"
    }
   }
  },
  {
   "cell_type": "code",
   "execution_count": 4,
   "outputs": [
    {
     "data": {
      "text/plain": "label\n1    9750\n0    9750\nName: count, dtype: int64"
     },
     "execution_count": 4,
     "metadata": {},
     "output_type": "execute_result"
    }
   ],
   "source": [
    "data_d1['label'].value_counts()"
   ],
   "metadata": {
    "collapsed": false,
    "pycharm": {
     "name": "#%%\n"
    }
   }
  },
  {
   "cell_type": "code",
   "execution_count": 5,
   "outputs": [
    {
     "data": {
      "text/plain": "                                                    text  label  model\n0      [120, 25, 519, 8, 8, 17, 75, 5, 2706, 1, 180, ...      0    2.0\n1      [325, 36, 1153, 0, 9, 2426, 496, 1, 27, 10, 68...      0    6.0\n2      [0, 0, 899, 433, 0, 9, 0, 0, 8, 15, 0, 0, 3, 2...      0    0.0\n3      [0, 1457, 41, 5, 70, 0, 9, 2076, 3, 153, 4, 5,...      0    0.0\n4      [20, 300, 669, 54, 19, 19, 79, 662, 0, 249, 24...      0    3.0\n...                                                  ...    ...    ...\n14895  [2, 98, 420, 5, 0, 1, 14, 582, 4, 93, 58, 10, ...      0    2.0\n14896  [42, 133, 4, 2, 633, 4, 116, 143, 2, 3636, 283...      0    0.0\n14897  [10, 24, 2, 2361, 1, 27, 2639, 5, 3479, 24, 5,...      0    2.0\n14898  [9, 0, 486, 47, 557, 3, 342, 5, 253, 35, 2, 36...      0    2.0\n14899  [5, 2875, 3, 0, 0, 9, 5, 4011, 1222, 0, 0, 345...      0    0.0\n\n[14900 rows x 3 columns]",
      "text/html": "<div>\n<style scoped>\n    .dataframe tbody tr th:only-of-type {\n        vertical-align: middle;\n    }\n\n    .dataframe tbody tr th {\n        vertical-align: top;\n    }\n\n    .dataframe thead th {\n        text-align: right;\n    }\n</style>\n<table border=\"1\" class=\"dataframe\">\n  <thead>\n    <tr style=\"text-align: right;\">\n      <th></th>\n      <th>text</th>\n      <th>label</th>\n      <th>model</th>\n    </tr>\n  </thead>\n  <tbody>\n    <tr>\n      <th>0</th>\n      <td>[120, 25, 519, 8, 8, 17, 75, 5, 2706, 1, 180, ...</td>\n      <td>0</td>\n      <td>2.0</td>\n    </tr>\n    <tr>\n      <th>1</th>\n      <td>[325, 36, 1153, 0, 9, 2426, 496, 1, 27, 10, 68...</td>\n      <td>0</td>\n      <td>6.0</td>\n    </tr>\n    <tr>\n      <th>2</th>\n      <td>[0, 0, 899, 433, 0, 9, 0, 0, 8, 15, 0, 0, 3, 2...</td>\n      <td>0</td>\n      <td>0.0</td>\n    </tr>\n    <tr>\n      <th>3</th>\n      <td>[0, 1457, 41, 5, 70, 0, 9, 2076, 3, 153, 4, 5,...</td>\n      <td>0</td>\n      <td>0.0</td>\n    </tr>\n    <tr>\n      <th>4</th>\n      <td>[20, 300, 669, 54, 19, 19, 79, 662, 0, 249, 24...</td>\n      <td>0</td>\n      <td>3.0</td>\n    </tr>\n    <tr>\n      <th>...</th>\n      <td>...</td>\n      <td>...</td>\n      <td>...</td>\n    </tr>\n    <tr>\n      <th>14895</th>\n      <td>[2, 98, 420, 5, 0, 1, 14, 582, 4, 93, 58, 10, ...</td>\n      <td>0</td>\n      <td>2.0</td>\n    </tr>\n    <tr>\n      <th>14896</th>\n      <td>[42, 133, 4, 2, 633, 4, 116, 143, 2, 3636, 283...</td>\n      <td>0</td>\n      <td>0.0</td>\n    </tr>\n    <tr>\n      <th>14897</th>\n      <td>[10, 24, 2, 2361, 1, 27, 2639, 5, 3479, 24, 5,...</td>\n      <td>0</td>\n      <td>2.0</td>\n    </tr>\n    <tr>\n      <th>14898</th>\n      <td>[9, 0, 486, 47, 557, 3, 342, 5, 253, 35, 2, 36...</td>\n      <td>0</td>\n      <td>2.0</td>\n    </tr>\n    <tr>\n      <th>14899</th>\n      <td>[5, 2875, 3, 0, 0, 9, 5, 4011, 1222, 0, 0, 345...</td>\n      <td>0</td>\n      <td>0.0</td>\n    </tr>\n  </tbody>\n</table>\n<p>14900 rows × 3 columns</p>\n</div>"
     },
     "execution_count": 5,
     "metadata": {},
     "output_type": "execute_result"
    }
   ],
   "source": [
    "data_d2"
   ],
   "metadata": {
    "collapsed": false,
    "pycharm": {
     "name": "#%%\n"
    }
   }
  },
  {
   "cell_type": "code",
   "execution_count": 6,
   "outputs": [
    {
     "data": {
      "text/plain": "label\n0    12750\n1     2150\nName: count, dtype: int64"
     },
     "execution_count": 6,
     "metadata": {},
     "output_type": "execute_result"
    }
   ],
   "source": [
    "data_d2['label'].value_counts()"
   ],
   "metadata": {
    "collapsed": false,
    "pycharm": {
     "name": "#%%\n"
    }
   }
  },
  {
   "cell_type": "markdown",
   "source": [
    "It can be seen that data from domain 2 is heavily imbalanced and needs to be balanced to build a good model."
   ],
   "metadata": {
    "collapsed": false,
    "pycharm": {
     "name": "#%% md\n"
    }
   }
  },
  {
   "cell_type": "code",
   "execution_count": 7,
   "outputs": [
    {
     "data": {
      "text/plain": "      id                                               text\n0      0  [59, 2, 3434, 1013, 823, 2, 887, 6, 2375, 0, 3...\n1      1  [2, 785, 6, 5, 0, 317, 17, 5, 2970, 3654, 858,...\n2      2                     [3306, 4, 2, 2288, 6, 963, 94]\n3      3  [0, 2, 1021, 38, 126, 1, 907, 1, 761, 1, 3357,...\n4      4  [30, 488, 197, 18, 4, 31, 420, 18, 2, 3577, 6,...\n..   ...                                                ...\n995  995  [45, 88, 79, 503, 501, 134, 35, 147, 301, 0, 1...\n996  996  [0, 0, 8, 15, 0, 810, 3, 2337, 9, 4653, 3, 41,...\n997  997  [2, 495, 752, 17, 128, 9, 2, 3361, 6, 458, 131...\n998  998  [2, 4433, 299, 307, 12, 100, 0, 446, 32, 44, 0...\n999  999  [9, 1017, 4, 1394, 0, 61, 365, 2539, 3, 0, 7, ...\n\n[1000 rows x 2 columns]",
      "text/html": "<div>\n<style scoped>\n    .dataframe tbody tr th:only-of-type {\n        vertical-align: middle;\n    }\n\n    .dataframe tbody tr th {\n        vertical-align: top;\n    }\n\n    .dataframe thead th {\n        text-align: right;\n    }\n</style>\n<table border=\"1\" class=\"dataframe\">\n  <thead>\n    <tr style=\"text-align: right;\">\n      <th></th>\n      <th>id</th>\n      <th>text</th>\n    </tr>\n  </thead>\n  <tbody>\n    <tr>\n      <th>0</th>\n      <td>0</td>\n      <td>[59, 2, 3434, 1013, 823, 2, 887, 6, 2375, 0, 3...</td>\n    </tr>\n    <tr>\n      <th>1</th>\n      <td>1</td>\n      <td>[2, 785, 6, 5, 0, 317, 17, 5, 2970, 3654, 858,...</td>\n    </tr>\n    <tr>\n      <th>2</th>\n      <td>2</td>\n      <td>[3306, 4, 2, 2288, 6, 963, 94]</td>\n    </tr>\n    <tr>\n      <th>3</th>\n      <td>3</td>\n      <td>[0, 2, 1021, 38, 126, 1, 907, 1, 761, 1, 3357,...</td>\n    </tr>\n    <tr>\n      <th>4</th>\n      <td>4</td>\n      <td>[30, 488, 197, 18, 4, 31, 420, 18, 2, 3577, 6,...</td>\n    </tr>\n    <tr>\n      <th>...</th>\n      <td>...</td>\n      <td>...</td>\n    </tr>\n    <tr>\n      <th>995</th>\n      <td>995</td>\n      <td>[45, 88, 79, 503, 501, 134, 35, 147, 301, 0, 1...</td>\n    </tr>\n    <tr>\n      <th>996</th>\n      <td>996</td>\n      <td>[0, 0, 8, 15, 0, 810, 3, 2337, 9, 4653, 3, 41,...</td>\n    </tr>\n    <tr>\n      <th>997</th>\n      <td>997</td>\n      <td>[2, 495, 752, 17, 128, 9, 2, 3361, 6, 458, 131...</td>\n    </tr>\n    <tr>\n      <th>998</th>\n      <td>998</td>\n      <td>[2, 4433, 299, 307, 12, 100, 0, 446, 32, 44, 0...</td>\n    </tr>\n    <tr>\n      <th>999</th>\n      <td>999</td>\n      <td>[9, 1017, 4, 1394, 0, 61, 365, 2539, 3, 0, 7, ...</td>\n    </tr>\n  </tbody>\n</table>\n<p>1000 rows × 2 columns</p>\n</div>"
     },
     "execution_count": 7,
     "metadata": {},
     "output_type": "execute_result"
    }
   ],
   "source": [
    "data_kaggle"
   ],
   "metadata": {
    "collapsed": false,
    "pycharm": {
     "name": "#%%\n"
    }
   }
  },
  {
   "cell_type": "markdown",
   "source": [
    "## Balance the Dataset\n",
    "\n",
    "We have seen that domain 2's data is heavily imbalanced and needs to be balanced. For this I will be using random under-sampling."
   ],
   "metadata": {
    "collapsed": false,
    "pycharm": {
     "name": "#%% md\n"
    }
   }
  },
  {
   "cell_type": "code",
   "execution_count": 8,
   "outputs": [],
   "source": [
    "# Separate into human and machine data\n",
    "d2_humans, d2_machines = data_d2[data_d2['label'] == 1], data_d2[data_d2['label'] == 0]"
   ],
   "metadata": {
    "collapsed": false,
    "pycharm": {
     "name": "#%%\n"
    }
   }
  },
  {
   "cell_type": "code",
   "execution_count": 9,
   "outputs": [
    {
     "data": {
      "text/plain": "                                                    text  label  model\n5      [2, 357, 4, 120, 70, 134, 171, 5, 204, 251, 1,...      1    NaN\n9      [465, 5, 70, 2483, 977, 1, 14, 133, 4, 21, 381...      1    NaN\n15     [10, 2096, 33, 36, 1840, 4, 21, 172, 1, 27, 12...      1    NaN\n20     [56, 239, 4, 31, 0, 3830, 53, 90, 2, 1745, 1, ...      1    NaN\n21     [0, 106, 1, 2, 146, 3, 431, 3, 7, 88, 26, 203,...      1    NaN\n...                                                  ...    ...    ...\n14870  [5, 1747, 1762, 195, 60, 2661, 1752, 0, 4, 273...      1    NaN\n14875  [79, 37, 1, 211, 1, 872, 1687, 18, 33, 973, 0,...      1    NaN\n14877  [1422, 9, 0, 434, 32, 5, 828, 4, 0, 9, 18, 5, ...      1    NaN\n14879  [20, 8, 115, 40, 261, 3051, 98, 49, 26, 44, 12...      1    NaN\n14886  [10, 776, 134, 35, 147, 1, 27, 10, 182, 2585, ...      1    NaN\n\n[2150 rows x 3 columns]",
      "text/html": "<div>\n<style scoped>\n    .dataframe tbody tr th:only-of-type {\n        vertical-align: middle;\n    }\n\n    .dataframe tbody tr th {\n        vertical-align: top;\n    }\n\n    .dataframe thead th {\n        text-align: right;\n    }\n</style>\n<table border=\"1\" class=\"dataframe\">\n  <thead>\n    <tr style=\"text-align: right;\">\n      <th></th>\n      <th>text</th>\n      <th>label</th>\n      <th>model</th>\n    </tr>\n  </thead>\n  <tbody>\n    <tr>\n      <th>5</th>\n      <td>[2, 357, 4, 120, 70, 134, 171, 5, 204, 251, 1,...</td>\n      <td>1</td>\n      <td>NaN</td>\n    </tr>\n    <tr>\n      <th>9</th>\n      <td>[465, 5, 70, 2483, 977, 1, 14, 133, 4, 21, 381...</td>\n      <td>1</td>\n      <td>NaN</td>\n    </tr>\n    <tr>\n      <th>15</th>\n      <td>[10, 2096, 33, 36, 1840, 4, 21, 172, 1, 27, 12...</td>\n      <td>1</td>\n      <td>NaN</td>\n    </tr>\n    <tr>\n      <th>20</th>\n      <td>[56, 239, 4, 31, 0, 3830, 53, 90, 2, 1745, 1, ...</td>\n      <td>1</td>\n      <td>NaN</td>\n    </tr>\n    <tr>\n      <th>21</th>\n      <td>[0, 106, 1, 2, 146, 3, 431, 3, 7, 88, 26, 203,...</td>\n      <td>1</td>\n      <td>NaN</td>\n    </tr>\n    <tr>\n      <th>...</th>\n      <td>...</td>\n      <td>...</td>\n      <td>...</td>\n    </tr>\n    <tr>\n      <th>14870</th>\n      <td>[5, 1747, 1762, 195, 60, 2661, 1752, 0, 4, 273...</td>\n      <td>1</td>\n      <td>NaN</td>\n    </tr>\n    <tr>\n      <th>14875</th>\n      <td>[79, 37, 1, 211, 1, 872, 1687, 18, 33, 973, 0,...</td>\n      <td>1</td>\n      <td>NaN</td>\n    </tr>\n    <tr>\n      <th>14877</th>\n      <td>[1422, 9, 0, 434, 32, 5, 828, 4, 0, 9, 18, 5, ...</td>\n      <td>1</td>\n      <td>NaN</td>\n    </tr>\n    <tr>\n      <th>14879</th>\n      <td>[20, 8, 115, 40, 261, 3051, 98, 49, 26, 44, 12...</td>\n      <td>1</td>\n      <td>NaN</td>\n    </tr>\n    <tr>\n      <th>14886</th>\n      <td>[10, 776, 134, 35, 147, 1, 27, 10, 182, 2585, ...</td>\n      <td>1</td>\n      <td>NaN</td>\n    </tr>\n  </tbody>\n</table>\n<p>2150 rows × 3 columns</p>\n</div>"
     },
     "execution_count": 9,
     "metadata": {},
     "output_type": "execute_result"
    }
   ],
   "source": [
    "d2_humans"
   ],
   "metadata": {
    "collapsed": false,
    "pycharm": {
     "name": "#%%\n"
    }
   }
  },
  {
   "cell_type": "code",
   "execution_count": 10,
   "outputs": [
    {
     "data": {
      "text/plain": "                                                    text  label  model\n0      [120, 25, 519, 8, 8, 17, 75, 5, 2706, 1, 180, ...      0    2.0\n1      [325, 36, 1153, 0, 9, 2426, 496, 1, 27, 10, 68...      0    6.0\n2      [0, 0, 899, 433, 0, 9, 0, 0, 8, 15, 0, 0, 3, 2...      0    0.0\n3      [0, 1457, 41, 5, 70, 0, 9, 2076, 3, 153, 4, 5,...      0    0.0\n4      [20, 300, 669, 54, 19, 19, 79, 662, 0, 249, 24...      0    3.0\n...                                                  ...    ...    ...\n14895  [2, 98, 420, 5, 0, 1, 14, 582, 4, 93, 58, 10, ...      0    2.0\n14896  [42, 133, 4, 2, 633, 4, 116, 143, 2, 3636, 283...      0    0.0\n14897  [10, 24, 2, 2361, 1, 27, 2639, 5, 3479, 24, 5,...      0    2.0\n14898  [9, 0, 486, 47, 557, 3, 342, 5, 253, 35, 2, 36...      0    2.0\n14899  [5, 2875, 3, 0, 0, 9, 5, 4011, 1222, 0, 0, 345...      0    0.0\n\n[12750 rows x 3 columns]",
      "text/html": "<div>\n<style scoped>\n    .dataframe tbody tr th:only-of-type {\n        vertical-align: middle;\n    }\n\n    .dataframe tbody tr th {\n        vertical-align: top;\n    }\n\n    .dataframe thead th {\n        text-align: right;\n    }\n</style>\n<table border=\"1\" class=\"dataframe\">\n  <thead>\n    <tr style=\"text-align: right;\">\n      <th></th>\n      <th>text</th>\n      <th>label</th>\n      <th>model</th>\n    </tr>\n  </thead>\n  <tbody>\n    <tr>\n      <th>0</th>\n      <td>[120, 25, 519, 8, 8, 17, 75, 5, 2706, 1, 180, ...</td>\n      <td>0</td>\n      <td>2.0</td>\n    </tr>\n    <tr>\n      <th>1</th>\n      <td>[325, 36, 1153, 0, 9, 2426, 496, 1, 27, 10, 68...</td>\n      <td>0</td>\n      <td>6.0</td>\n    </tr>\n    <tr>\n      <th>2</th>\n      <td>[0, 0, 899, 433, 0, 9, 0, 0, 8, 15, 0, 0, 3, 2...</td>\n      <td>0</td>\n      <td>0.0</td>\n    </tr>\n    <tr>\n      <th>3</th>\n      <td>[0, 1457, 41, 5, 70, 0, 9, 2076, 3, 153, 4, 5,...</td>\n      <td>0</td>\n      <td>0.0</td>\n    </tr>\n    <tr>\n      <th>4</th>\n      <td>[20, 300, 669, 54, 19, 19, 79, 662, 0, 249, 24...</td>\n      <td>0</td>\n      <td>3.0</td>\n    </tr>\n    <tr>\n      <th>...</th>\n      <td>...</td>\n      <td>...</td>\n      <td>...</td>\n    </tr>\n    <tr>\n      <th>14895</th>\n      <td>[2, 98, 420, 5, 0, 1, 14, 582, 4, 93, 58, 10, ...</td>\n      <td>0</td>\n      <td>2.0</td>\n    </tr>\n    <tr>\n      <th>14896</th>\n      <td>[42, 133, 4, 2, 633, 4, 116, 143, 2, 3636, 283...</td>\n      <td>0</td>\n      <td>0.0</td>\n    </tr>\n    <tr>\n      <th>14897</th>\n      <td>[10, 24, 2, 2361, 1, 27, 2639, 5, 3479, 24, 5,...</td>\n      <td>0</td>\n      <td>2.0</td>\n    </tr>\n    <tr>\n      <th>14898</th>\n      <td>[9, 0, 486, 47, 557, 3, 342, 5, 253, 35, 2, 36...</td>\n      <td>0</td>\n      <td>2.0</td>\n    </tr>\n    <tr>\n      <th>14899</th>\n      <td>[5, 2875, 3, 0, 0, 9, 5, 4011, 1222, 0, 0, 345...</td>\n      <td>0</td>\n      <td>0.0</td>\n    </tr>\n  </tbody>\n</table>\n<p>12750 rows × 3 columns</p>\n</div>"
     },
     "execution_count": 10,
     "metadata": {},
     "output_type": "execute_result"
    }
   ],
   "source": [
    "d2_machines"
   ],
   "metadata": {
    "collapsed": false,
    "pycharm": {
     "name": "#%%\n"
    }
   }
  },
  {
   "cell_type": "code",
   "execution_count": 11,
   "outputs": [
    {
     "data": {
      "text/plain": "model\n0.0    2364\n3.0    2358\n1.0    2357\n2.0    2339\n6.0    1763\n4.0     789\n5.0     780\nName: count, dtype: int64"
     },
     "execution_count": 11,
     "metadata": {},
     "output_type": "execute_result"
    }
   ],
   "source": [
    "d2_machines['model'].value_counts()"
   ],
   "metadata": {
    "collapsed": false,
    "pycharm": {
     "name": "#%%\n"
    }
   }
  },
  {
   "cell_type": "code",
   "execution_count": 12,
   "outputs": [
    {
     "data": {
      "text/plain": "       model\n4682     2.0\n5420     2.0\n10045    3.0\n6339     6.0\n8551     1.0\n...      ...\n2978     2.0\n14077    1.0\n1128     3.0\n4511     4.0\n11542    0.0\n\n[2150 rows x 1 columns]",
      "text/html": "<div>\n<style scoped>\n    .dataframe tbody tr th:only-of-type {\n        vertical-align: middle;\n    }\n\n    .dataframe tbody tr th {\n        vertical-align: top;\n    }\n\n    .dataframe thead th {\n        text-align: right;\n    }\n</style>\n<table border=\"1\" class=\"dataframe\">\n  <thead>\n    <tr style=\"text-align: right;\">\n      <th></th>\n      <th>model</th>\n    </tr>\n  </thead>\n  <tbody>\n    <tr>\n      <th>4682</th>\n      <td>2.0</td>\n    </tr>\n    <tr>\n      <th>5420</th>\n      <td>2.0</td>\n    </tr>\n    <tr>\n      <th>10045</th>\n      <td>3.0</td>\n    </tr>\n    <tr>\n      <th>6339</th>\n      <td>6.0</td>\n    </tr>\n    <tr>\n      <th>8551</th>\n      <td>1.0</td>\n    </tr>\n    <tr>\n      <th>...</th>\n      <td>...</td>\n    </tr>\n    <tr>\n      <th>2978</th>\n      <td>2.0</td>\n    </tr>\n    <tr>\n      <th>14077</th>\n      <td>1.0</td>\n    </tr>\n    <tr>\n      <th>1128</th>\n      <td>3.0</td>\n    </tr>\n    <tr>\n      <th>4511</th>\n      <td>4.0</td>\n    </tr>\n    <tr>\n      <th>11542</th>\n      <td>0.0</td>\n    </tr>\n  </tbody>\n</table>\n<p>2150 rows × 1 columns</p>\n</div>"
     },
     "execution_count": 12,
     "metadata": {},
     "output_type": "execute_result"
    }
   ],
   "source": [
    "# Perform a stratified sampling on the machine data wrt to LLM model\n",
    "d2_machine_sample = d2_machines[['model']].sample(n=2150, random_state=42)\n",
    "d2_machine_sample"
   ],
   "metadata": {
    "collapsed": false,
    "pycharm": {
     "name": "#%%\n"
    }
   }
  },
  {
   "cell_type": "code",
   "execution_count": 13,
   "outputs": [
    {
     "data": {
      "text/plain": "model\n2.0    411\n0.0    396\n3.0    387\n1.0    385\n6.0    301\n4.0    148\n5.0    122\nName: count, dtype: int64"
     },
     "execution_count": 13,
     "metadata": {},
     "output_type": "execute_result"
    }
   ],
   "source": [
    "d2_machine_sample['model'].value_counts()"
   ],
   "metadata": {
    "collapsed": false,
    "pycharm": {
     "name": "#%%\n"
    }
   }
  },
  {
   "cell_type": "code",
   "execution_count": 14,
   "outputs": [],
   "source": [
    "# Extract the indices of the sampled machine data\n",
    "d2_machine_sample_index = d2_machine_sample.index\n",
    "\n",
    "# Extract the rows with the indices\n",
    "d2_machines = data_d2.iloc[d2_machine_sample_index, :]"
   ],
   "metadata": {
    "collapsed": false,
    "pycharm": {
     "name": "#%%\n"
    }
   }
  },
  {
   "cell_type": "code",
   "execution_count": 15,
   "outputs": [
    {
     "data": {
      "text/plain": "                                                    text  label  model\n4682   [1439, 38, 4566, 33, 0, 3, 28, 0, 1, 25, 1849,...      0    2.0\n5420   [158, 4, 1140, 109, 4, 2317, 1, 27, 128, 5, 26...      0    2.0\n10045  [20, 32, 5, 0, 448, 1, 30, 707, 20, 77, 457, 5...      0    3.0\n6339   [10, 125, 4, 957, 36, 188, 52, 6, 575, 1, 27, ...      0    6.0\n8551   [17, 664, 129, 1224, 21, 1847, 24, 193, 1, 14,...      0    1.0\n...                                                  ...    ...    ...\n2978   [25, 11, 8, 83, 367, 3, 29, 11, 32, 4, 101, 16...      0    2.0\n14077  [158, 5, 70, 0, 1, 10, 301, 662, 16, 5, 70, 0,...      0    1.0\n1128   [10, 125, 4, 2, 1525, 1, 14, 10, 127, 629, 61,...      0    3.0\n4511   [16, 39, 0, 922, 3, 39, 241, 162, 4, 1483, 57,...      0    4.0\n11542  [106, 375, 996, 1190, 0, 52, 1, 0, 0, 0, 1128,...      0    0.0\n\n[2150 rows x 3 columns]",
      "text/html": "<div>\n<style scoped>\n    .dataframe tbody tr th:only-of-type {\n        vertical-align: middle;\n    }\n\n    .dataframe tbody tr th {\n        vertical-align: top;\n    }\n\n    .dataframe thead th {\n        text-align: right;\n    }\n</style>\n<table border=\"1\" class=\"dataframe\">\n  <thead>\n    <tr style=\"text-align: right;\">\n      <th></th>\n      <th>text</th>\n      <th>label</th>\n      <th>model</th>\n    </tr>\n  </thead>\n  <tbody>\n    <tr>\n      <th>4682</th>\n      <td>[1439, 38, 4566, 33, 0, 3, 28, 0, 1, 25, 1849,...</td>\n      <td>0</td>\n      <td>2.0</td>\n    </tr>\n    <tr>\n      <th>5420</th>\n      <td>[158, 4, 1140, 109, 4, 2317, 1, 27, 128, 5, 26...</td>\n      <td>0</td>\n      <td>2.0</td>\n    </tr>\n    <tr>\n      <th>10045</th>\n      <td>[20, 32, 5, 0, 448, 1, 30, 707, 20, 77, 457, 5...</td>\n      <td>0</td>\n      <td>3.0</td>\n    </tr>\n    <tr>\n      <th>6339</th>\n      <td>[10, 125, 4, 957, 36, 188, 52, 6, 575, 1, 27, ...</td>\n      <td>0</td>\n      <td>6.0</td>\n    </tr>\n    <tr>\n      <th>8551</th>\n      <td>[17, 664, 129, 1224, 21, 1847, 24, 193, 1, 14,...</td>\n      <td>0</td>\n      <td>1.0</td>\n    </tr>\n    <tr>\n      <th>...</th>\n      <td>...</td>\n      <td>...</td>\n      <td>...</td>\n    </tr>\n    <tr>\n      <th>2978</th>\n      <td>[25, 11, 8, 83, 367, 3, 29, 11, 32, 4, 101, 16...</td>\n      <td>0</td>\n      <td>2.0</td>\n    </tr>\n    <tr>\n      <th>14077</th>\n      <td>[158, 5, 70, 0, 1, 10, 301, 662, 16, 5, 70, 0,...</td>\n      <td>0</td>\n      <td>1.0</td>\n    </tr>\n    <tr>\n      <th>1128</th>\n      <td>[10, 125, 4, 2, 1525, 1, 14, 10, 127, 629, 61,...</td>\n      <td>0</td>\n      <td>3.0</td>\n    </tr>\n    <tr>\n      <th>4511</th>\n      <td>[16, 39, 0, 922, 3, 39, 241, 162, 4, 1483, 57,...</td>\n      <td>0</td>\n      <td>4.0</td>\n    </tr>\n    <tr>\n      <th>11542</th>\n      <td>[106, 375, 996, 1190, 0, 52, 1, 0, 0, 0, 1128,...</td>\n      <td>0</td>\n      <td>0.0</td>\n    </tr>\n  </tbody>\n</table>\n<p>2150 rows × 3 columns</p>\n</div>"
     },
     "execution_count": 15,
     "metadata": {},
     "output_type": "execute_result"
    }
   ],
   "source": [
    "d2_machines"
   ],
   "metadata": {
    "collapsed": false,
    "pycharm": {
     "name": "#%%\n"
    }
   }
  },
  {
   "cell_type": "code",
   "execution_count": 16,
   "outputs": [
    {
     "data": {
      "text/plain": "                                                   text  label  model\n0     [2, 357, 4, 120, 70, 134, 171, 5, 204, 251, 1,...      1    NaN\n1     [465, 5, 70, 2483, 977, 1, 14, 133, 4, 21, 381...      1    NaN\n2     [10, 2096, 33, 36, 1840, 4, 21, 172, 1, 27, 12...      1    NaN\n3     [56, 239, 4, 31, 0, 3830, 53, 90, 2, 1745, 1, ...      1    NaN\n4     [0, 106, 1, 2, 146, 3, 431, 3, 7, 88, 26, 203,...      1    NaN\n...                                                 ...    ...    ...\n4295  [25, 11, 8, 83, 367, 3, 29, 11, 32, 4, 101, 16...      0    2.0\n4296  [158, 5, 70, 0, 1, 10, 301, 662, 16, 5, 70, 0,...      0    1.0\n4297  [10, 125, 4, 2, 1525, 1, 14, 10, 127, 629, 61,...      0    3.0\n4298  [16, 39, 0, 922, 3, 39, 241, 162, 4, 1483, 57,...      0    4.0\n4299  [106, 375, 996, 1190, 0, 52, 1, 0, 0, 0, 1128,...      0    0.0\n\n[4300 rows x 3 columns]",
      "text/html": "<div>\n<style scoped>\n    .dataframe tbody tr th:only-of-type {\n        vertical-align: middle;\n    }\n\n    .dataframe tbody tr th {\n        vertical-align: top;\n    }\n\n    .dataframe thead th {\n        text-align: right;\n    }\n</style>\n<table border=\"1\" class=\"dataframe\">\n  <thead>\n    <tr style=\"text-align: right;\">\n      <th></th>\n      <th>text</th>\n      <th>label</th>\n      <th>model</th>\n    </tr>\n  </thead>\n  <tbody>\n    <tr>\n      <th>0</th>\n      <td>[2, 357, 4, 120, 70, 134, 171, 5, 204, 251, 1,...</td>\n      <td>1</td>\n      <td>NaN</td>\n    </tr>\n    <tr>\n      <th>1</th>\n      <td>[465, 5, 70, 2483, 977, 1, 14, 133, 4, 21, 381...</td>\n      <td>1</td>\n      <td>NaN</td>\n    </tr>\n    <tr>\n      <th>2</th>\n      <td>[10, 2096, 33, 36, 1840, 4, 21, 172, 1, 27, 12...</td>\n      <td>1</td>\n      <td>NaN</td>\n    </tr>\n    <tr>\n      <th>3</th>\n      <td>[56, 239, 4, 31, 0, 3830, 53, 90, 2, 1745, 1, ...</td>\n      <td>1</td>\n      <td>NaN</td>\n    </tr>\n    <tr>\n      <th>4</th>\n      <td>[0, 106, 1, 2, 146, 3, 431, 3, 7, 88, 26, 203,...</td>\n      <td>1</td>\n      <td>NaN</td>\n    </tr>\n    <tr>\n      <th>...</th>\n      <td>...</td>\n      <td>...</td>\n      <td>...</td>\n    </tr>\n    <tr>\n      <th>4295</th>\n      <td>[25, 11, 8, 83, 367, 3, 29, 11, 32, 4, 101, 16...</td>\n      <td>0</td>\n      <td>2.0</td>\n    </tr>\n    <tr>\n      <th>4296</th>\n      <td>[158, 5, 70, 0, 1, 10, 301, 662, 16, 5, 70, 0,...</td>\n      <td>0</td>\n      <td>1.0</td>\n    </tr>\n    <tr>\n      <th>4297</th>\n      <td>[10, 125, 4, 2, 1525, 1, 14, 10, 127, 629, 61,...</td>\n      <td>0</td>\n      <td>3.0</td>\n    </tr>\n    <tr>\n      <th>4298</th>\n      <td>[16, 39, 0, 922, 3, 39, 241, 162, 4, 1483, 57,...</td>\n      <td>0</td>\n      <td>4.0</td>\n    </tr>\n    <tr>\n      <th>4299</th>\n      <td>[106, 375, 996, 1190, 0, 52, 1, 0, 0, 0, 1128,...</td>\n      <td>0</td>\n      <td>0.0</td>\n    </tr>\n  </tbody>\n</table>\n<p>4300 rows × 3 columns</p>\n</div>"
     },
     "execution_count": 16,
     "metadata": {},
     "output_type": "execute_result"
    }
   ],
   "source": [
    "# Combine the human and machine data to form the new data_d2\n",
    "data_d2 = pd.concat([d2_humans, d2_machines], ignore_index=True)\n",
    "data_d2"
   ],
   "metadata": {
    "collapsed": false,
    "pycharm": {
     "name": "#%%\n"
    }
   }
  },
  {
   "cell_type": "code",
   "execution_count": 17,
   "outputs": [
    {
     "data": {
      "text/plain": "label\n1    2150\n0    2150\nName: count, dtype: int64"
     },
     "execution_count": 17,
     "metadata": {},
     "output_type": "execute_result"
    }
   ],
   "source": [
    "data_d2['label'].value_counts()"
   ],
   "metadata": {
    "collapsed": false,
    "pycharm": {
     "name": "#%%\n"
    }
   }
  },
  {
   "cell_type": "markdown",
   "source": [
    "The dataset is now balanced with 2150 human and machine texts each."
   ],
   "metadata": {
    "collapsed": false,
    "pycharm": {
     "name": "#%% md\n"
    }
   }
  },
  {
   "cell_type": "markdown",
   "source": [
    "## Separate Features and Labels"
   ],
   "metadata": {
    "collapsed": false,
    "pycharm": {
     "name": "#%% md\n"
    }
   }
  },
  {
   "cell_type": "code",
   "execution_count": 18,
   "outputs": [],
   "source": [
    "d1_features = data_d1['text']\n",
    "d1_labels = data_d1['label']\n",
    "\n",
    "d2_features = data_d2['text']\n",
    "d2_labels = data_d2['label']\n",
    "\n",
    "kaggle_features = data_kaggle['text']"
   ],
   "metadata": {
    "collapsed": false,
    "pycharm": {
     "name": "#%%\n"
    }
   }
  },
  {
   "cell_type": "markdown",
   "source": [
    "## Create Bag of Words"
   ],
   "metadata": {
    "collapsed": false,
    "pycharm": {
     "name": "#%% md\n"
    }
   }
  },
  {
   "cell_type": "code",
   "execution_count": 19,
   "outputs": [],
   "source": [
    "def vector_to_bow(text_data):\n",
    "    # Create an empty array to store the word counts\n",
    "    sample_size = text_data.shape[0]\n",
    "    bow = np.zeros(shape=(sample_size, 5000), dtype=int)\n",
    "\n",
    "    # Iterate through every text\n",
    "    for i, txt in enumerate(text_data):\n",
    "        # For each word in the text, increase the word count by 1\n",
    "        for word in txt:\n",
    "            bow[i, word] += 1\n",
    "\n",
    "    # Return bag of words\n",
    "    return bow"
   ],
   "metadata": {
    "collapsed": false,
    "pycharm": {
     "name": "#%%\n"
    }
   }
  },
  {
   "cell_type": "code",
   "execution_count": 20,
   "outputs": [],
   "source": [
    "# Transform the feature vectors to bow\n",
    "d1_bow = vector_to_bow(d1_features)\n",
    "d2_bow = vector_to_bow(d2_features)\n",
    "kaggle_bow = vector_to_bow(kaggle_features)"
   ],
   "metadata": {
    "collapsed": false,
    "pycharm": {
     "name": "#%%\n"
    }
   }
  },
  {
   "cell_type": "code",
   "execution_count": 21,
   "outputs": [
    {
     "data": {
      "text/plain": "array([[ 2,  1,  1, ...,  0,  0,  0],\n       [ 9,  1,  2, ...,  0,  0,  0],\n       [ 1,  1,  3, ...,  0,  0,  0],\n       ...,\n       [ 6,  0,  2, ...,  0,  0,  0],\n       [ 1,  1,  0, ...,  0,  0,  0],\n       [15,  0,  0, ...,  0,  0,  0]])"
     },
     "execution_count": 21,
     "metadata": {},
     "output_type": "execute_result"
    }
   ],
   "source": [
    "d1_bow"
   ],
   "metadata": {
    "collapsed": false,
    "pycharm": {
     "name": "#%%\n"
    }
   }
  },
  {
   "cell_type": "code",
   "execution_count": 22,
   "outputs": [
    {
     "data": {
      "text/plain": "array([[1, 5, 4, ..., 0, 0, 0],\n       [6, 5, 3, ..., 0, 0, 0],\n       [1, 5, 0, ..., 0, 0, 0],\n       ...,\n       [1, 5, 4, ..., 0, 0, 0],\n       [2, 4, 2, ..., 0, 0, 0],\n       [8, 1, 0, ..., 0, 0, 0]])"
     },
     "execution_count": 22,
     "metadata": {},
     "output_type": "execute_result"
    }
   ],
   "source": [
    "d2_bow"
   ],
   "metadata": {
    "collapsed": false,
    "pycharm": {
     "name": "#%%\n"
    }
   }
  },
  {
   "cell_type": "code",
   "execution_count": 23,
   "outputs": [
    {
     "data": {
      "text/plain": "array([[32, 14, 14, ...,  0,  0,  0],\n       [ 2, 11,  4, ...,  0,  0,  0],\n       [ 0,  0,  1, ...,  0,  0,  0],\n       ...,\n       [ 0,  0,  3, ...,  0,  0,  0],\n       [ 7,  1,  3, ...,  0,  0,  0],\n       [27, 18, 15, ...,  0,  0,  0]])"
     },
     "execution_count": 23,
     "metadata": {},
     "output_type": "execute_result"
    }
   ],
   "source": [
    "kaggle_bow"
   ],
   "metadata": {
    "collapsed": false,
    "pycharm": {
     "name": "#%%\n"
    }
   }
  },
  {
   "cell_type": "code",
   "execution_count": 24,
   "outputs": [],
   "source": [
    "# Create a combined count_vector\n",
    "combined_bow = np.vstack([d1_bow, d2_bow])\n",
    "combined_labels = pd.concat([d1_labels, d2_labels], ignore_index=True)"
   ],
   "metadata": {
    "collapsed": false,
    "pycharm": {
     "name": "#%%\n"
    }
   }
  },
  {
   "cell_type": "code",
   "execution_count": 25,
   "outputs": [
    {
     "data": {
      "text/plain": "array([[2, 1, 1, ..., 0, 0, 0],\n       [9, 1, 2, ..., 0, 0, 0],\n       [1, 1, 3, ..., 0, 0, 0],\n       ...,\n       [1, 5, 4, ..., 0, 0, 0],\n       [2, 4, 2, ..., 0, 0, 0],\n       [8, 1, 0, ..., 0, 0, 0]])"
     },
     "execution_count": 25,
     "metadata": {},
     "output_type": "execute_result"
    }
   ],
   "source": [
    "combined_bow"
   ],
   "metadata": {
    "collapsed": false,
    "pycharm": {
     "name": "#%%\n"
    }
   }
  },
  {
   "cell_type": "markdown",
   "source": [
    "## PCA Dimensionality Reduction"
   ],
   "metadata": {
    "collapsed": false,
    "pycharm": {
     "name": "#%% md\n"
    }
   }
  },
  {
   "cell_type": "code",
   "execution_count": 26,
   "outputs": [],
   "source": [
    "# Initialise a PCA instance\n",
    "# Fit to combined data\n",
    "# Transform each dataset\n",
    "pca = PCA(n_components=400)\n",
    "pca.fit(combined_bow)\n",
    "\n",
    "combined_pca = pca.transform(combined_bow)\n",
    "d1_pca = combined_pca[:19500, :]\n",
    "d2_pca = combined_pca[19500:, :]\n",
    "kaggle_pca = pca.transform(kaggle_bow)"
   ],
   "metadata": {
    "collapsed": false,
    "pycharm": {
     "name": "#%%\n"
    }
   }
  },
  {
   "cell_type": "code",
   "execution_count": 27,
   "outputs": [
    {
     "name": "stdout",
     "output_type": "stream",
     "text": [
      "(19500, 400)\n",
      "(4300, 400)\n"
     ]
    }
   ],
   "source": [
    "print(d1_pca.shape)\n",
    "print(d2_pca.shape)"
   ],
   "metadata": {
    "collapsed": false,
    "pycharm": {
     "name": "#%%\n"
    }
   }
  },
  {
   "cell_type": "markdown",
   "source": [
    "## SVM Classifier"
   ],
   "metadata": {
    "collapsed": false,
    "pycharm": {
     "name": "#%% md\n"
    }
   }
  },
  {
   "cell_type": "code",
   "execution_count": 28,
   "outputs": [],
   "source": [
    "# Build an SVC model\n",
    "svc = SVC(C=10, kernel='rbf', gamma=0.001, random_state=42, probability=True)"
   ],
   "metadata": {
    "collapsed": false,
    "pycharm": {
     "name": "#%%\n"
    }
   }
  },
  {
   "cell_type": "code",
   "execution_count": 29,
   "outputs": [
    {
     "data": {
      "text/plain": "SVC(C=10, gamma=0.001, probability=True, random_state=42)",
      "text/html": "<style>#sk-container-id-1 {color: black;}#sk-container-id-1 pre{padding: 0;}#sk-container-id-1 div.sk-toggleable {background-color: white;}#sk-container-id-1 label.sk-toggleable__label {cursor: pointer;display: block;width: 100%;margin-bottom: 0;padding: 0.3em;box-sizing: border-box;text-align: center;}#sk-container-id-1 label.sk-toggleable__label-arrow:before {content: \"▸\";float: left;margin-right: 0.25em;color: #696969;}#sk-container-id-1 label.sk-toggleable__label-arrow:hover:before {color: black;}#sk-container-id-1 div.sk-estimator:hover label.sk-toggleable__label-arrow:before {color: black;}#sk-container-id-1 div.sk-toggleable__content {max-height: 0;max-width: 0;overflow: hidden;text-align: left;background-color: #f0f8ff;}#sk-container-id-1 div.sk-toggleable__content pre {margin: 0.2em;color: black;border-radius: 0.25em;background-color: #f0f8ff;}#sk-container-id-1 input.sk-toggleable__control:checked~div.sk-toggleable__content {max-height: 200px;max-width: 100%;overflow: auto;}#sk-container-id-1 input.sk-toggleable__control:checked~label.sk-toggleable__label-arrow:before {content: \"▾\";}#sk-container-id-1 div.sk-estimator input.sk-toggleable__control:checked~label.sk-toggleable__label {background-color: #d4ebff;}#sk-container-id-1 div.sk-label input.sk-toggleable__control:checked~label.sk-toggleable__label {background-color: #d4ebff;}#sk-container-id-1 input.sk-hidden--visually {border: 0;clip: rect(1px 1px 1px 1px);clip: rect(1px, 1px, 1px, 1px);height: 1px;margin: -1px;overflow: hidden;padding: 0;position: absolute;width: 1px;}#sk-container-id-1 div.sk-estimator {font-family: monospace;background-color: #f0f8ff;border: 1px dotted black;border-radius: 0.25em;box-sizing: border-box;margin-bottom: 0.5em;}#sk-container-id-1 div.sk-estimator:hover {background-color: #d4ebff;}#sk-container-id-1 div.sk-parallel-item::after {content: \"\";width: 100%;border-bottom: 1px solid gray;flex-grow: 1;}#sk-container-id-1 div.sk-label:hover label.sk-toggleable__label {background-color: #d4ebff;}#sk-container-id-1 div.sk-serial::before {content: \"\";position: absolute;border-left: 1px solid gray;box-sizing: border-box;top: 0;bottom: 0;left: 50%;z-index: 0;}#sk-container-id-1 div.sk-serial {display: flex;flex-direction: column;align-items: center;background-color: white;padding-right: 0.2em;padding-left: 0.2em;position: relative;}#sk-container-id-1 div.sk-item {position: relative;z-index: 1;}#sk-container-id-1 div.sk-parallel {display: flex;align-items: stretch;justify-content: center;background-color: white;position: relative;}#sk-container-id-1 div.sk-item::before, #sk-container-id-1 div.sk-parallel-item::before {content: \"\";position: absolute;border-left: 1px solid gray;box-sizing: border-box;top: 0;bottom: 0;left: 50%;z-index: -1;}#sk-container-id-1 div.sk-parallel-item {display: flex;flex-direction: column;z-index: 1;position: relative;background-color: white;}#sk-container-id-1 div.sk-parallel-item:first-child::after {align-self: flex-end;width: 50%;}#sk-container-id-1 div.sk-parallel-item:last-child::after {align-self: flex-start;width: 50%;}#sk-container-id-1 div.sk-parallel-item:only-child::after {width: 0;}#sk-container-id-1 div.sk-dashed-wrapped {border: 1px dashed gray;margin: 0 0.4em 0.5em 0.4em;box-sizing: border-box;padding-bottom: 0.4em;background-color: white;}#sk-container-id-1 div.sk-label label {font-family: monospace;font-weight: bold;display: inline-block;line-height: 1.2em;}#sk-container-id-1 div.sk-label-container {text-align: center;}#sk-container-id-1 div.sk-container {/* jupyter's `normalize.less` sets `[hidden] { display: none; }` but bootstrap.min.css set `[hidden] { display: none !important; }` so we also need the `!important` here to be able to override the default hidden behavior on the sphinx rendered scikit-learn.org. See: https://github.com/scikit-learn/scikit-learn/issues/21755 */display: inline-block !important;position: relative;}#sk-container-id-1 div.sk-text-repr-fallback {display: none;}</style><div id=\"sk-container-id-1\" class=\"sk-top-container\"><div class=\"sk-text-repr-fallback\"><pre>SVC(C=10, gamma=0.001, probability=True, random_state=42)</pre><b>In a Jupyter environment, please rerun this cell to show the HTML representation or trust the notebook. <br />On GitHub, the HTML representation is unable to render, please try loading this page with nbviewer.org.</b></div><div class=\"sk-container\" hidden><div class=\"sk-item\"><div class=\"sk-estimator sk-toggleable\"><input class=\"sk-toggleable__control sk-hidden--visually\" id=\"sk-estimator-id-1\" type=\"checkbox\" checked><label for=\"sk-estimator-id-1\" class=\"sk-toggleable__label sk-toggleable__label-arrow\">SVC</label><div class=\"sk-toggleable__content\"><pre>SVC(C=10, gamma=0.001, probability=True, random_state=42)</pre></div></div></div></div></div>"
     },
     "execution_count": 29,
     "metadata": {},
     "output_type": "execute_result"
    }
   ],
   "source": [
    "# Fit on domain 1 data\n",
    "svc.fit(d1_pca, d1_labels)"
   ],
   "metadata": {
    "collapsed": false,
    "pycharm": {
     "name": "#%%\n"
    }
   }
  },
  {
   "cell_type": "code",
   "execution_count": 30,
   "outputs": [
    {
     "data": {
      "text/plain": "SVC(C=10, gamma=0.001, probability=True, random_state=42)",
      "text/html": "<style>#sk-container-id-2 {color: black;}#sk-container-id-2 pre{padding: 0;}#sk-container-id-2 div.sk-toggleable {background-color: white;}#sk-container-id-2 label.sk-toggleable__label {cursor: pointer;display: block;width: 100%;margin-bottom: 0;padding: 0.3em;box-sizing: border-box;text-align: center;}#sk-container-id-2 label.sk-toggleable__label-arrow:before {content: \"▸\";float: left;margin-right: 0.25em;color: #696969;}#sk-container-id-2 label.sk-toggleable__label-arrow:hover:before {color: black;}#sk-container-id-2 div.sk-estimator:hover label.sk-toggleable__label-arrow:before {color: black;}#sk-container-id-2 div.sk-toggleable__content {max-height: 0;max-width: 0;overflow: hidden;text-align: left;background-color: #f0f8ff;}#sk-container-id-2 div.sk-toggleable__content pre {margin: 0.2em;color: black;border-radius: 0.25em;background-color: #f0f8ff;}#sk-container-id-2 input.sk-toggleable__control:checked~div.sk-toggleable__content {max-height: 200px;max-width: 100%;overflow: auto;}#sk-container-id-2 input.sk-toggleable__control:checked~label.sk-toggleable__label-arrow:before {content: \"▾\";}#sk-container-id-2 div.sk-estimator input.sk-toggleable__control:checked~label.sk-toggleable__label {background-color: #d4ebff;}#sk-container-id-2 div.sk-label input.sk-toggleable__control:checked~label.sk-toggleable__label {background-color: #d4ebff;}#sk-container-id-2 input.sk-hidden--visually {border: 0;clip: rect(1px 1px 1px 1px);clip: rect(1px, 1px, 1px, 1px);height: 1px;margin: -1px;overflow: hidden;padding: 0;position: absolute;width: 1px;}#sk-container-id-2 div.sk-estimator {font-family: monospace;background-color: #f0f8ff;border: 1px dotted black;border-radius: 0.25em;box-sizing: border-box;margin-bottom: 0.5em;}#sk-container-id-2 div.sk-estimator:hover {background-color: #d4ebff;}#sk-container-id-2 div.sk-parallel-item::after {content: \"\";width: 100%;border-bottom: 1px solid gray;flex-grow: 1;}#sk-container-id-2 div.sk-label:hover label.sk-toggleable__label {background-color: #d4ebff;}#sk-container-id-2 div.sk-serial::before {content: \"\";position: absolute;border-left: 1px solid gray;box-sizing: border-box;top: 0;bottom: 0;left: 50%;z-index: 0;}#sk-container-id-2 div.sk-serial {display: flex;flex-direction: column;align-items: center;background-color: white;padding-right: 0.2em;padding-left: 0.2em;position: relative;}#sk-container-id-2 div.sk-item {position: relative;z-index: 1;}#sk-container-id-2 div.sk-parallel {display: flex;align-items: stretch;justify-content: center;background-color: white;position: relative;}#sk-container-id-2 div.sk-item::before, #sk-container-id-2 div.sk-parallel-item::before {content: \"\";position: absolute;border-left: 1px solid gray;box-sizing: border-box;top: 0;bottom: 0;left: 50%;z-index: -1;}#sk-container-id-2 div.sk-parallel-item {display: flex;flex-direction: column;z-index: 1;position: relative;background-color: white;}#sk-container-id-2 div.sk-parallel-item:first-child::after {align-self: flex-end;width: 50%;}#sk-container-id-2 div.sk-parallel-item:last-child::after {align-self: flex-start;width: 50%;}#sk-container-id-2 div.sk-parallel-item:only-child::after {width: 0;}#sk-container-id-2 div.sk-dashed-wrapped {border: 1px dashed gray;margin: 0 0.4em 0.5em 0.4em;box-sizing: border-box;padding-bottom: 0.4em;background-color: white;}#sk-container-id-2 div.sk-label label {font-family: monospace;font-weight: bold;display: inline-block;line-height: 1.2em;}#sk-container-id-2 div.sk-label-container {text-align: center;}#sk-container-id-2 div.sk-container {/* jupyter's `normalize.less` sets `[hidden] { display: none; }` but bootstrap.min.css set `[hidden] { display: none !important; }` so we also need the `!important` here to be able to override the default hidden behavior on the sphinx rendered scikit-learn.org. See: https://github.com/scikit-learn/scikit-learn/issues/21755 */display: inline-block !important;position: relative;}#sk-container-id-2 div.sk-text-repr-fallback {display: none;}</style><div id=\"sk-container-id-2\" class=\"sk-top-container\"><div class=\"sk-text-repr-fallback\"><pre>SVC(C=10, gamma=0.001, probability=True, random_state=42)</pre><b>In a Jupyter environment, please rerun this cell to show the HTML representation or trust the notebook. <br />On GitHub, the HTML representation is unable to render, please try loading this page with nbviewer.org.</b></div><div class=\"sk-container\" hidden><div class=\"sk-item\"><div class=\"sk-estimator sk-toggleable\"><input class=\"sk-toggleable__control sk-hidden--visually\" id=\"sk-estimator-id-2\" type=\"checkbox\" checked><label for=\"sk-estimator-id-2\" class=\"sk-toggleable__label sk-toggleable__label-arrow\">SVC</label><div class=\"sk-toggleable__content\"><pre>SVC(C=10, gamma=0.001, probability=True, random_state=42)</pre></div></div></div></div></div>"
     },
     "execution_count": 30,
     "metadata": {},
     "output_type": "execute_result"
    }
   ],
   "source": [
    "# Fine tune on domain 2 data\n",
    "svc.fit(d2_pca, d2_labels)"
   ],
   "metadata": {
    "collapsed": false,
    "pycharm": {
     "name": "#%%\n"
    }
   }
  },
  {
   "cell_type": "code",
   "execution_count": 31,
   "outputs": [
    {
     "data": {
      "text/plain": "SVC(C=10, gamma=0.001, probability=True, random_state=42)",
      "text/html": "<style>#sk-container-id-3 {color: black;}#sk-container-id-3 pre{padding: 0;}#sk-container-id-3 div.sk-toggleable {background-color: white;}#sk-container-id-3 label.sk-toggleable__label {cursor: pointer;display: block;width: 100%;margin-bottom: 0;padding: 0.3em;box-sizing: border-box;text-align: center;}#sk-container-id-3 label.sk-toggleable__label-arrow:before {content: \"▸\";float: left;margin-right: 0.25em;color: #696969;}#sk-container-id-3 label.sk-toggleable__label-arrow:hover:before {color: black;}#sk-container-id-3 div.sk-estimator:hover label.sk-toggleable__label-arrow:before {color: black;}#sk-container-id-3 div.sk-toggleable__content {max-height: 0;max-width: 0;overflow: hidden;text-align: left;background-color: #f0f8ff;}#sk-container-id-3 div.sk-toggleable__content pre {margin: 0.2em;color: black;border-radius: 0.25em;background-color: #f0f8ff;}#sk-container-id-3 input.sk-toggleable__control:checked~div.sk-toggleable__content {max-height: 200px;max-width: 100%;overflow: auto;}#sk-container-id-3 input.sk-toggleable__control:checked~label.sk-toggleable__label-arrow:before {content: \"▾\";}#sk-container-id-3 div.sk-estimator input.sk-toggleable__control:checked~label.sk-toggleable__label {background-color: #d4ebff;}#sk-container-id-3 div.sk-label input.sk-toggleable__control:checked~label.sk-toggleable__label {background-color: #d4ebff;}#sk-container-id-3 input.sk-hidden--visually {border: 0;clip: rect(1px 1px 1px 1px);clip: rect(1px, 1px, 1px, 1px);height: 1px;margin: -1px;overflow: hidden;padding: 0;position: absolute;width: 1px;}#sk-container-id-3 div.sk-estimator {font-family: monospace;background-color: #f0f8ff;border: 1px dotted black;border-radius: 0.25em;box-sizing: border-box;margin-bottom: 0.5em;}#sk-container-id-3 div.sk-estimator:hover {background-color: #d4ebff;}#sk-container-id-3 div.sk-parallel-item::after {content: \"\";width: 100%;border-bottom: 1px solid gray;flex-grow: 1;}#sk-container-id-3 div.sk-label:hover label.sk-toggleable__label {background-color: #d4ebff;}#sk-container-id-3 div.sk-serial::before {content: \"\";position: absolute;border-left: 1px solid gray;box-sizing: border-box;top: 0;bottom: 0;left: 50%;z-index: 0;}#sk-container-id-3 div.sk-serial {display: flex;flex-direction: column;align-items: center;background-color: white;padding-right: 0.2em;padding-left: 0.2em;position: relative;}#sk-container-id-3 div.sk-item {position: relative;z-index: 1;}#sk-container-id-3 div.sk-parallel {display: flex;align-items: stretch;justify-content: center;background-color: white;position: relative;}#sk-container-id-3 div.sk-item::before, #sk-container-id-3 div.sk-parallel-item::before {content: \"\";position: absolute;border-left: 1px solid gray;box-sizing: border-box;top: 0;bottom: 0;left: 50%;z-index: -1;}#sk-container-id-3 div.sk-parallel-item {display: flex;flex-direction: column;z-index: 1;position: relative;background-color: white;}#sk-container-id-3 div.sk-parallel-item:first-child::after {align-self: flex-end;width: 50%;}#sk-container-id-3 div.sk-parallel-item:last-child::after {align-self: flex-start;width: 50%;}#sk-container-id-3 div.sk-parallel-item:only-child::after {width: 0;}#sk-container-id-3 div.sk-dashed-wrapped {border: 1px dashed gray;margin: 0 0.4em 0.5em 0.4em;box-sizing: border-box;padding-bottom: 0.4em;background-color: white;}#sk-container-id-3 div.sk-label label {font-family: monospace;font-weight: bold;display: inline-block;line-height: 1.2em;}#sk-container-id-3 div.sk-label-container {text-align: center;}#sk-container-id-3 div.sk-container {/* jupyter's `normalize.less` sets `[hidden] { display: none; }` but bootstrap.min.css set `[hidden] { display: none !important; }` so we also need the `!important` here to be able to override the default hidden behavior on the sphinx rendered scikit-learn.org. See: https://github.com/scikit-learn/scikit-learn/issues/21755 */display: inline-block !important;position: relative;}#sk-container-id-3 div.sk-text-repr-fallback {display: none;}</style><div id=\"sk-container-id-3\" class=\"sk-top-container\"><div class=\"sk-text-repr-fallback\"><pre>SVC(C=10, gamma=0.001, probability=True, random_state=42)</pre><b>In a Jupyter environment, please rerun this cell to show the HTML representation or trust the notebook. <br />On GitHub, the HTML representation is unable to render, please try loading this page with nbviewer.org.</b></div><div class=\"sk-container\" hidden><div class=\"sk-item\"><div class=\"sk-estimator sk-toggleable\"><input class=\"sk-toggleable__control sk-hidden--visually\" id=\"sk-estimator-id-3\" type=\"checkbox\" checked><label for=\"sk-estimator-id-3\" class=\"sk-toggleable__label sk-toggleable__label-arrow\">SVC</label><div class=\"sk-toggleable__content\"><pre>SVC(C=10, gamma=0.001, probability=True, random_state=42)</pre></div></div></div></div></div>"
     },
     "execution_count": 31,
     "metadata": {},
     "output_type": "execute_result"
    }
   ],
   "source": [
    "# Fine tune on combined data\n",
    "svc.fit(combined_pca, combined_labels)"
   ],
   "metadata": {
    "collapsed": false,
    "pycharm": {
     "name": "#%%\n"
    }
   }
  },
  {
   "cell_type": "code",
   "execution_count": 32,
   "outputs": [
    {
     "data": {
      "text/plain": "0.900672268907563"
     },
     "execution_count": 32,
     "metadata": {},
     "output_type": "execute_result"
    }
   ],
   "source": [
    "# Check training accuracy\n",
    "comb_preds = svc.predict(combined_pca)\n",
    "accuracy_score(combined_labels, comb_preds)"
   ],
   "metadata": {
    "collapsed": false,
    "pycharm": {
     "name": "#%%\n"
    }
   }
  },
  {
   "cell_type": "code",
   "execution_count": 33,
   "outputs": [],
   "source": [
    "# Predict on kaggle data\n",
    "test_preds = svc.predict(kaggle_pca)\n",
    "output = pd.DataFrame({'id': range(len(test_preds)), 'class': test_preds})\n",
    "output.to_csv('Outputs/svc_output.csv', index=False)"
   ],
   "metadata": {
    "collapsed": false,
    "pycharm": {
     "name": "#%%\n"
    }
   }
  },
  {
   "cell_type": "code",
   "execution_count": 34,
   "outputs": [
    {
     "data": {
      "text/plain": "class\n0    511\n1    489\nName: count, dtype: int64"
     },
     "execution_count": 34,
     "metadata": {},
     "output_type": "execute_result"
    }
   ],
   "source": [
    "# Check the balance in the predictions\n",
    "output['class'].value_counts()"
   ],
   "metadata": {
    "collapsed": false,
    "pycharm": {
     "name": "#%%\n"
    }
   }
  },
  {
   "cell_type": "markdown",
   "source": [
    "### Second-best with pred: 0.796"
   ],
   "metadata": {
    "collapsed": false,
    "pycharm": {
     "name": "#%% md\n"
    }
   }
  },
  {
   "cell_type": "code",
   "execution_count": 35,
   "outputs": [],
   "source": [
    "# Get the predict probs on kaggle data\n",
    "probs = svc.predict_proba(kaggle_pca)[:, 1]\n",
    "prob_output = pd.DataFrame({'id': range(len(probs)), 'probs': probs})\n",
    "prob_output.to_csv('Outputs/svc_probs.csv', index = False)"
   ],
   "metadata": {
    "collapsed": false,
    "pycharm": {
     "name": "#%%\n"
    }
   }
  }
 ],
 "metadata": {
  "kernelspec": {
   "display_name": "Python 3",
   "language": "python",
   "name": "python3"
  },
  "language_info": {
   "codemirror_mode": {
    "name": "ipython",
    "version": 2
   },
   "file_extension": ".py",
   "mimetype": "text/x-python",
   "name": "python",
   "nbconvert_exporter": "python",
   "pygments_lexer": "ipython2",
   "version": "2.7.6"
  }
 },
 "nbformat": 4,
 "nbformat_minor": 0
}