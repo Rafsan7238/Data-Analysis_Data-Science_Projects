{
 "cells": [
  {
   "cell_type": "markdown",
   "source": [
    "# A Machine Learning Approach To Classifying Credit Score\n",
    "The credit score of a person determines the creditworthiness of the person. It helps financial companies determine if you can repay the loan or credit you are applying for. Today banks and credit card companies use Machine Learning algorithms to classify all the customers in their database based on their credit history.\n",
    "\n",
    "There are three credit scores that banks and credit card companies use to label their customers:\n",
    "\n",
    "- Good\n",
    "- Standard\n",
    "- Poor\n",
    "\n",
    "A healthy credit score will ease the process of getting a loan or credit card for the person applying for it."
   ],
   "metadata": {
    "collapsed": false,
    "pycharm": {
     "name": "#%% md\n"
    }
   }
  },
  {
   "cell_type": "markdown",
   "source": [
    "## The Project:\n",
    "Hence, in this project, I will be building an ML model based on Random Forest to help classify credit score of an individual based on several different factors that contribute to the score. The final classification will be:\n",
    "\n",
    "- Good\n",
    "- Standard\n",
    "- Poor\n",
    "\n",
    "For this project, I will be using a dataset from <a href=\"https://statso.io/credit-score-classification-case-study/\" target=\"_blank\">Kaggle</a> submitted by <a href=\"https://www.kaggle.com/parisrohan\" target=\"_blank\">Rohan Paris</a>."
   ],
   "metadata": {
    "collapsed": false,
    "pycharm": {
     "name": "#%% md\n"
    }
   }
  },
  {
   "cell_type": "markdown",
   "source": [
    "## The Dataset:\n",
    "Before diving right into the project it is important to understand the dataset being dealt with. The dataset contains info about different customers as follows:\n",
    "\n",
    "1. ID: Unique ID of the record\n",
    "2. Customer_ID: Unique ID of the customer\n",
    "3. Month: Month of the year\n",
    "4. Name: The name of the person\n",
    "5. Age: The age of the person\n",
    "6. SSN: Social Security Number of the person\n",
    "7. Occupation: The occupation of the person\n",
    "8. Annual_Income: The Annual Income of the person\n",
    "9. Monthly_Inhand_Salary: Monthly in-hand salary of the person\n",
    "10. Num_Bank_Accounts: The number of bank accounts of the person\n",
    "11. Num_Credit_Card: Number of credit cards the person is having\n",
    "12. Interest_Rate: The interest rate on the credit card of the person\n",
    "13. Num_of_Loan: The number of loans taken by the person from the bank\n",
    "14. Type_of_Loan: The types of loans taken by the person from the bank\n",
    "15. Delay_from_due_date: The average number of days delayed by the person from the date of payment\n",
    "16. Num_of_Delayed_Payment: Number of payments delayed by the person\n",
    "17. Changed_Credit_Card: The percentage change in the credit card limit of the person\n",
    "18. Num_Credit_Inquiries: The number of credit card inquiries by the person\n",
    "19. Credit_Mix: Classification of Credit Mix of the customer\n",
    "20. Outstanding_Debt: The outstanding balance of the person\n",
    "21. Credit_Utilization_Ratio: The credit utilization ratio of the credit card of the customer\n",
    "22. Credit_History_Age: The age of the credit history of the person\n",
    "23. Payment_of_Min_Amount: Yes if the person paid the minimum amount to be paid only, otherwise no.\n",
    "24. Total_EMI_per_month: The total EMI per month of the person\n",
    "25. Amount_invested_monthly: The monthly amount invested by the person\n",
    "26. Payment_Behaviour: The payment behaviour of the person\n",
    "27. Monthly_Balance: The monthly balance left in the account of the person\n",
    "28. Credit_Score: The credit score of the person"
   ],
   "metadata": {
    "collapsed": false,
    "pycharm": {
     "name": "#%% md\n"
    }
   }
  },
  {
   "cell_type": "markdown",
   "source": [
    "## Import Necessary Libraries"
   ],
   "metadata": {
    "collapsed": false,
    "pycharm": {
     "name": "#%% md\n"
    }
   }
  },
  {
   "cell_type": "code",
   "execution_count": 1,
   "outputs": [],
   "source": [
    "import pandas as pd\n",
    "import numpy as np\n",
    "import matplotlib.pyplot as plt"
   ],
   "metadata": {
    "collapsed": false,
    "pycharm": {
     "name": "#%%\n"
    }
   }
  },
  {
   "cell_type": "markdown",
   "source": [
    "## Import and Visualise Data\n",
    "First let's import the data as a pandas Dataframe and have a look at it."
   ],
   "metadata": {
    "collapsed": false,
    "pycharm": {
     "name": "#%% md\n"
    }
   }
  },
  {
   "cell_type": "code",
   "execution_count": 2,
   "outputs": [
    {
     "data": {
      "text/plain": "           ID  Customer_ID  Month           Name   Age          SSN  \\\n0        5634         3392      1  Aaron Maashoh  23.0  821000265.0   \n1        5635         3392      2  Aaron Maashoh  23.0  821000265.0   \n2        5636         3392      3  Aaron Maashoh  23.0  821000265.0   \n3        5637         3392      4  Aaron Maashoh  23.0  821000265.0   \n4        5638         3392      5  Aaron Maashoh  23.0  821000265.0   \n...       ...          ...    ...            ...   ...          ...   \n99995  155625        37932      4          Nicks  25.0   78735990.0   \n99996  155626        37932      5          Nicks  25.0   78735990.0   \n99997  155627        37932      6          Nicks  25.0   78735990.0   \n99998  155628        37932      7          Nicks  25.0   78735990.0   \n99999  155629        37932      8          Nicks  25.0   78735990.0   \n\n      Occupation  Annual_Income  Monthly_Inhand_Salary  Num_Bank_Accounts  \\\n0      Scientist       19114.12            1824.843333                3.0   \n1      Scientist       19114.12            1824.843333                3.0   \n2      Scientist       19114.12            1824.843333                3.0   \n3      Scientist       19114.12            1824.843333                3.0   \n4      Scientist       19114.12            1824.843333                3.0   \n...          ...            ...                    ...                ...   \n99995   Mechanic       39628.99            3359.415833                4.0   \n99996   Mechanic       39628.99            3359.415833                4.0   \n99997   Mechanic       39628.99            3359.415833                4.0   \n99998   Mechanic       39628.99            3359.415833                4.0   \n99999   Mechanic       39628.99            3359.415833                4.0   \n\n       ...  Credit_Mix  Outstanding_Debt  Credit_Utilization_Ratio  \\\n0      ...        Good            809.98                 26.822620   \n1      ...        Good            809.98                 31.944960   \n2      ...        Good            809.98                 28.609352   \n3      ...        Good            809.98                 31.377862   \n4      ...        Good            809.98                 24.797347   \n...    ...         ...               ...                       ...   \n99995  ...        Good            502.38                 34.663572   \n99996  ...        Good            502.38                 40.565631   \n99997  ...        Good            502.38                 41.255522   \n99998  ...        Good            502.38                 33.638208   \n99999  ...        Good            502.38                 34.192463   \n\n      Credit_History_Age  Payment_of_Min_Amount  Total_EMI_per_month  \\\n0                  265.0                     No            49.574949   \n1                  266.0                     No            49.574949   \n2                  267.0                     No            49.574949   \n3                  268.0                     No            49.574949   \n4                  269.0                     No            49.574949   \n...                  ...                    ...                  ...   \n99995              378.0                     No            35.104023   \n99996              379.0                     No            35.104023   \n99997              380.0                     No            35.104023   \n99998              381.0                     No            35.104023   \n99999              382.0                     No            35.104023   \n\n       Amount_invested_monthly                 Payment_Behaviour  \\\n0                    21.465380   High_spent_Small_value_payments   \n1                    21.465380    Low_spent_Large_value_payments   \n2                    21.465380   Low_spent_Medium_value_payments   \n3                    21.465380    Low_spent_Small_value_payments   \n4                    21.465380  High_spent_Medium_value_payments   \n...                        ...                               ...   \n99995                24.028477   High_spent_Large_value_payments   \n99996                24.028477  High_spent_Medium_value_payments   \n99997                24.028477   High_spent_Large_value_payments   \n99998                24.028477    Low_spent_Large_value_payments   \n99999                24.028477  High_spent_Medium_value_payments   \n\n      Monthly_Balance  Credit_Score  \n0          312.494089          Good  \n1          284.629162          Good  \n2          331.209863          Good  \n3          223.451310          Good  \n4          341.489231          Good  \n...               ...           ...  \n99995      479.866228          Poor  \n99996      496.651610          Poor  \n99997      516.809083          Poor  \n99998      319.164979      Standard  \n99999      393.673696          Poor  \n\n[100000 rows x 28 columns]",
      "text/html": "<div>\n<style scoped>\n    .dataframe tbody tr th:only-of-type {\n        vertical-align: middle;\n    }\n\n    .dataframe tbody tr th {\n        vertical-align: top;\n    }\n\n    .dataframe thead th {\n        text-align: right;\n    }\n</style>\n<table border=\"1\" class=\"dataframe\">\n  <thead>\n    <tr style=\"text-align: right;\">\n      <th></th>\n      <th>ID</th>\n      <th>Customer_ID</th>\n      <th>Month</th>\n      <th>Name</th>\n      <th>Age</th>\n      <th>SSN</th>\n      <th>Occupation</th>\n      <th>Annual_Income</th>\n      <th>Monthly_Inhand_Salary</th>\n      <th>Num_Bank_Accounts</th>\n      <th>...</th>\n      <th>Credit_Mix</th>\n      <th>Outstanding_Debt</th>\n      <th>Credit_Utilization_Ratio</th>\n      <th>Credit_History_Age</th>\n      <th>Payment_of_Min_Amount</th>\n      <th>Total_EMI_per_month</th>\n      <th>Amount_invested_monthly</th>\n      <th>Payment_Behaviour</th>\n      <th>Monthly_Balance</th>\n      <th>Credit_Score</th>\n    </tr>\n  </thead>\n  <tbody>\n    <tr>\n      <th>0</th>\n      <td>5634</td>\n      <td>3392</td>\n      <td>1</td>\n      <td>Aaron Maashoh</td>\n      <td>23.0</td>\n      <td>821000265.0</td>\n      <td>Scientist</td>\n      <td>19114.12</td>\n      <td>1824.843333</td>\n      <td>3.0</td>\n      <td>...</td>\n      <td>Good</td>\n      <td>809.98</td>\n      <td>26.822620</td>\n      <td>265.0</td>\n      <td>No</td>\n      <td>49.574949</td>\n      <td>21.465380</td>\n      <td>High_spent_Small_value_payments</td>\n      <td>312.494089</td>\n      <td>Good</td>\n    </tr>\n    <tr>\n      <th>1</th>\n      <td>5635</td>\n      <td>3392</td>\n      <td>2</td>\n      <td>Aaron Maashoh</td>\n      <td>23.0</td>\n      <td>821000265.0</td>\n      <td>Scientist</td>\n      <td>19114.12</td>\n      <td>1824.843333</td>\n      <td>3.0</td>\n      <td>...</td>\n      <td>Good</td>\n      <td>809.98</td>\n      <td>31.944960</td>\n      <td>266.0</td>\n      <td>No</td>\n      <td>49.574949</td>\n      <td>21.465380</td>\n      <td>Low_spent_Large_value_payments</td>\n      <td>284.629162</td>\n      <td>Good</td>\n    </tr>\n    <tr>\n      <th>2</th>\n      <td>5636</td>\n      <td>3392</td>\n      <td>3</td>\n      <td>Aaron Maashoh</td>\n      <td>23.0</td>\n      <td>821000265.0</td>\n      <td>Scientist</td>\n      <td>19114.12</td>\n      <td>1824.843333</td>\n      <td>3.0</td>\n      <td>...</td>\n      <td>Good</td>\n      <td>809.98</td>\n      <td>28.609352</td>\n      <td>267.0</td>\n      <td>No</td>\n      <td>49.574949</td>\n      <td>21.465380</td>\n      <td>Low_spent_Medium_value_payments</td>\n      <td>331.209863</td>\n      <td>Good</td>\n    </tr>\n    <tr>\n      <th>3</th>\n      <td>5637</td>\n      <td>3392</td>\n      <td>4</td>\n      <td>Aaron Maashoh</td>\n      <td>23.0</td>\n      <td>821000265.0</td>\n      <td>Scientist</td>\n      <td>19114.12</td>\n      <td>1824.843333</td>\n      <td>3.0</td>\n      <td>...</td>\n      <td>Good</td>\n      <td>809.98</td>\n      <td>31.377862</td>\n      <td>268.0</td>\n      <td>No</td>\n      <td>49.574949</td>\n      <td>21.465380</td>\n      <td>Low_spent_Small_value_payments</td>\n      <td>223.451310</td>\n      <td>Good</td>\n    </tr>\n    <tr>\n      <th>4</th>\n      <td>5638</td>\n      <td>3392</td>\n      <td>5</td>\n      <td>Aaron Maashoh</td>\n      <td>23.0</td>\n      <td>821000265.0</td>\n      <td>Scientist</td>\n      <td>19114.12</td>\n      <td>1824.843333</td>\n      <td>3.0</td>\n      <td>...</td>\n      <td>Good</td>\n      <td>809.98</td>\n      <td>24.797347</td>\n      <td>269.0</td>\n      <td>No</td>\n      <td>49.574949</td>\n      <td>21.465380</td>\n      <td>High_spent_Medium_value_payments</td>\n      <td>341.489231</td>\n      <td>Good</td>\n    </tr>\n    <tr>\n      <th>...</th>\n      <td>...</td>\n      <td>...</td>\n      <td>...</td>\n      <td>...</td>\n      <td>...</td>\n      <td>...</td>\n      <td>...</td>\n      <td>...</td>\n      <td>...</td>\n      <td>...</td>\n      <td>...</td>\n      <td>...</td>\n      <td>...</td>\n      <td>...</td>\n      <td>...</td>\n      <td>...</td>\n      <td>...</td>\n      <td>...</td>\n      <td>...</td>\n      <td>...</td>\n      <td>...</td>\n    </tr>\n    <tr>\n      <th>99995</th>\n      <td>155625</td>\n      <td>37932</td>\n      <td>4</td>\n      <td>Nicks</td>\n      <td>25.0</td>\n      <td>78735990.0</td>\n      <td>Mechanic</td>\n      <td>39628.99</td>\n      <td>3359.415833</td>\n      <td>4.0</td>\n      <td>...</td>\n      <td>Good</td>\n      <td>502.38</td>\n      <td>34.663572</td>\n      <td>378.0</td>\n      <td>No</td>\n      <td>35.104023</td>\n      <td>24.028477</td>\n      <td>High_spent_Large_value_payments</td>\n      <td>479.866228</td>\n      <td>Poor</td>\n    </tr>\n    <tr>\n      <th>99996</th>\n      <td>155626</td>\n      <td>37932</td>\n      <td>5</td>\n      <td>Nicks</td>\n      <td>25.0</td>\n      <td>78735990.0</td>\n      <td>Mechanic</td>\n      <td>39628.99</td>\n      <td>3359.415833</td>\n      <td>4.0</td>\n      <td>...</td>\n      <td>Good</td>\n      <td>502.38</td>\n      <td>40.565631</td>\n      <td>379.0</td>\n      <td>No</td>\n      <td>35.104023</td>\n      <td>24.028477</td>\n      <td>High_spent_Medium_value_payments</td>\n      <td>496.651610</td>\n      <td>Poor</td>\n    </tr>\n    <tr>\n      <th>99997</th>\n      <td>155627</td>\n      <td>37932</td>\n      <td>6</td>\n      <td>Nicks</td>\n      <td>25.0</td>\n      <td>78735990.0</td>\n      <td>Mechanic</td>\n      <td>39628.99</td>\n      <td>3359.415833</td>\n      <td>4.0</td>\n      <td>...</td>\n      <td>Good</td>\n      <td>502.38</td>\n      <td>41.255522</td>\n      <td>380.0</td>\n      <td>No</td>\n      <td>35.104023</td>\n      <td>24.028477</td>\n      <td>High_spent_Large_value_payments</td>\n      <td>516.809083</td>\n      <td>Poor</td>\n    </tr>\n    <tr>\n      <th>99998</th>\n      <td>155628</td>\n      <td>37932</td>\n      <td>7</td>\n      <td>Nicks</td>\n      <td>25.0</td>\n      <td>78735990.0</td>\n      <td>Mechanic</td>\n      <td>39628.99</td>\n      <td>3359.415833</td>\n      <td>4.0</td>\n      <td>...</td>\n      <td>Good</td>\n      <td>502.38</td>\n      <td>33.638208</td>\n      <td>381.0</td>\n      <td>No</td>\n      <td>35.104023</td>\n      <td>24.028477</td>\n      <td>Low_spent_Large_value_payments</td>\n      <td>319.164979</td>\n      <td>Standard</td>\n    </tr>\n    <tr>\n      <th>99999</th>\n      <td>155629</td>\n      <td>37932</td>\n      <td>8</td>\n      <td>Nicks</td>\n      <td>25.0</td>\n      <td>78735990.0</td>\n      <td>Mechanic</td>\n      <td>39628.99</td>\n      <td>3359.415833</td>\n      <td>4.0</td>\n      <td>...</td>\n      <td>Good</td>\n      <td>502.38</td>\n      <td>34.192463</td>\n      <td>382.0</td>\n      <td>No</td>\n      <td>35.104023</td>\n      <td>24.028477</td>\n      <td>High_spent_Medium_value_payments</td>\n      <td>393.673696</td>\n      <td>Poor</td>\n    </tr>\n  </tbody>\n</table>\n<p>100000 rows × 28 columns</p>\n</div>"
     },
     "execution_count": 2,
     "metadata": {},
     "output_type": "execute_result"
    }
   ],
   "source": [
    "data = pd.read_csv('credit_score_data.csv')\n",
    "data"
   ],
   "metadata": {
    "collapsed": false,
    "pycharm": {
     "name": "#%%\n"
    }
   }
  },
  {
   "cell_type": "markdown",
   "source": [
    "## Data Validation"
   ],
   "metadata": {
    "collapsed": false,
    "pycharm": {
     "name": "#%% md\n"
    }
   }
  },
  {
   "cell_type": "markdown",
   "source": [
    "### Remove Unnecessary Columns\n",
    "We can see there are 100000 rows of data spread along 28 columns. However, not all of these columns are necessary for our analysis or model building, and so, we may remove them before proceeding any further."
   ],
   "metadata": {
    "collapsed": false,
    "pycharm": {
     "name": "#%% md\n"
    }
   }
  },
  {
   "cell_type": "code",
   "execution_count": 5,
   "outputs": [
    {
     "data": {
      "text/plain": "        Age Occupation  Annual_Income  Monthly_Inhand_Salary  \\\n0      23.0  Scientist       19114.12            1824.843333   \n1      23.0  Scientist       19114.12            1824.843333   \n2      23.0  Scientist       19114.12            1824.843333   \n3      23.0  Scientist       19114.12            1824.843333   \n4      23.0  Scientist       19114.12            1824.843333   \n...     ...        ...            ...                    ...   \n99995  25.0   Mechanic       39628.99            3359.415833   \n99996  25.0   Mechanic       39628.99            3359.415833   \n99997  25.0   Mechanic       39628.99            3359.415833   \n99998  25.0   Mechanic       39628.99            3359.415833   \n99999  25.0   Mechanic       39628.99            3359.415833   \n\n       Num_Bank_Accounts  Num_Credit_Card  Interest_Rate  Num_of_Loan  \\\n0                    3.0              4.0            3.0          4.0   \n1                    3.0              4.0            3.0          4.0   \n2                    3.0              4.0            3.0          4.0   \n3                    3.0              4.0            3.0          4.0   \n4                    3.0              4.0            3.0          4.0   \n...                  ...              ...            ...          ...   \n99995                4.0              6.0            7.0          2.0   \n99996                4.0              6.0            7.0          2.0   \n99997                4.0              6.0            7.0          2.0   \n99998                4.0              6.0            7.0          2.0   \n99999                4.0              6.0            7.0          2.0   \n\n                                            Type_of_Loan  Delay_from_due_date  \\\n0      Auto Loan, Credit-Builder Loan, Personal Loan,...                  3.0   \n1      Auto Loan, Credit-Builder Loan, Personal Loan,...                  3.0   \n2      Auto Loan, Credit-Builder Loan, Personal Loan,...                  3.0   \n3      Auto Loan, Credit-Builder Loan, Personal Loan,...                  5.0   \n4      Auto Loan, Credit-Builder Loan, Personal Loan,...                  6.0   \n...                                                  ...                  ...   \n99995                        Auto Loan, and Student Loan                 23.0   \n99996                        Auto Loan, and Student Loan                 18.0   \n99997                        Auto Loan, and Student Loan                 27.0   \n99998                        Auto Loan, and Student Loan                 20.0   \n99999                        Auto Loan, and Student Loan                 18.0   \n\n       ...  Credit_Mix  Outstanding_Debt  Credit_Utilization_Ratio  \\\n0      ...        Good            809.98                 26.822620   \n1      ...        Good            809.98                 31.944960   \n2      ...        Good            809.98                 28.609352   \n3      ...        Good            809.98                 31.377862   \n4      ...        Good            809.98                 24.797347   \n...    ...         ...               ...                       ...   \n99995  ...        Good            502.38                 34.663572   \n99996  ...        Good            502.38                 40.565631   \n99997  ...        Good            502.38                 41.255522   \n99998  ...        Good            502.38                 33.638208   \n99999  ...        Good            502.38                 34.192463   \n\n      Credit_History_Age  Payment_of_Min_Amount  Total_EMI_per_month  \\\n0                  265.0                     No            49.574949   \n1                  266.0                     No            49.574949   \n2                  267.0                     No            49.574949   \n3                  268.0                     No            49.574949   \n4                  269.0                     No            49.574949   \n...                  ...                    ...                  ...   \n99995              378.0                     No            35.104023   \n99996              379.0                     No            35.104023   \n99997              380.0                     No            35.104023   \n99998              381.0                     No            35.104023   \n99999              382.0                     No            35.104023   \n\n       Amount_invested_monthly                 Payment_Behaviour  \\\n0                    21.465380   High_spent_Small_value_payments   \n1                    21.465380    Low_spent_Large_value_payments   \n2                    21.465380   Low_spent_Medium_value_payments   \n3                    21.465380    Low_spent_Small_value_payments   \n4                    21.465380  High_spent_Medium_value_payments   \n...                        ...                               ...   \n99995                24.028477   High_spent_Large_value_payments   \n99996                24.028477  High_spent_Medium_value_payments   \n99997                24.028477   High_spent_Large_value_payments   \n99998                24.028477    Low_spent_Large_value_payments   \n99999                24.028477  High_spent_Medium_value_payments   \n\n       Monthly_Balance  Credit_Score  \n0           312.494089          Good  \n1           284.629162          Good  \n2           331.209863          Good  \n3           223.451310          Good  \n4           341.489231          Good  \n...                ...           ...  \n99995       479.866228          Poor  \n99996       496.651610          Poor  \n99997       516.809083          Poor  \n99998       319.164979      Standard  \n99999       393.673696          Poor  \n\n[100000 rows x 23 columns]",
      "text/html": "<div>\n<style scoped>\n    .dataframe tbody tr th:only-of-type {\n        vertical-align: middle;\n    }\n\n    .dataframe tbody tr th {\n        vertical-align: top;\n    }\n\n    .dataframe thead th {\n        text-align: right;\n    }\n</style>\n<table border=\"1\" class=\"dataframe\">\n  <thead>\n    <tr style=\"text-align: right;\">\n      <th></th>\n      <th>Age</th>\n      <th>Occupation</th>\n      <th>Annual_Income</th>\n      <th>Monthly_Inhand_Salary</th>\n      <th>Num_Bank_Accounts</th>\n      <th>Num_Credit_Card</th>\n      <th>Interest_Rate</th>\n      <th>Num_of_Loan</th>\n      <th>Type_of_Loan</th>\n      <th>Delay_from_due_date</th>\n      <th>...</th>\n      <th>Credit_Mix</th>\n      <th>Outstanding_Debt</th>\n      <th>Credit_Utilization_Ratio</th>\n      <th>Credit_History_Age</th>\n      <th>Payment_of_Min_Amount</th>\n      <th>Total_EMI_per_month</th>\n      <th>Amount_invested_monthly</th>\n      <th>Payment_Behaviour</th>\n      <th>Monthly_Balance</th>\n      <th>Credit_Score</th>\n    </tr>\n  </thead>\n  <tbody>\n    <tr>\n      <th>0</th>\n      <td>23.0</td>\n      <td>Scientist</td>\n      <td>19114.12</td>\n      <td>1824.843333</td>\n      <td>3.0</td>\n      <td>4.0</td>\n      <td>3.0</td>\n      <td>4.0</td>\n      <td>Auto Loan, Credit-Builder Loan, Personal Loan,...</td>\n      <td>3.0</td>\n      <td>...</td>\n      <td>Good</td>\n      <td>809.98</td>\n      <td>26.822620</td>\n      <td>265.0</td>\n      <td>No</td>\n      <td>49.574949</td>\n      <td>21.465380</td>\n      <td>High_spent_Small_value_payments</td>\n      <td>312.494089</td>\n      <td>Good</td>\n    </tr>\n    <tr>\n      <th>1</th>\n      <td>23.0</td>\n      <td>Scientist</td>\n      <td>19114.12</td>\n      <td>1824.843333</td>\n      <td>3.0</td>\n      <td>4.0</td>\n      <td>3.0</td>\n      <td>4.0</td>\n      <td>Auto Loan, Credit-Builder Loan, Personal Loan,...</td>\n      <td>3.0</td>\n      <td>...</td>\n      <td>Good</td>\n      <td>809.98</td>\n      <td>31.944960</td>\n      <td>266.0</td>\n      <td>No</td>\n      <td>49.574949</td>\n      <td>21.465380</td>\n      <td>Low_spent_Large_value_payments</td>\n      <td>284.629162</td>\n      <td>Good</td>\n    </tr>\n    <tr>\n      <th>2</th>\n      <td>23.0</td>\n      <td>Scientist</td>\n      <td>19114.12</td>\n      <td>1824.843333</td>\n      <td>3.0</td>\n      <td>4.0</td>\n      <td>3.0</td>\n      <td>4.0</td>\n      <td>Auto Loan, Credit-Builder Loan, Personal Loan,...</td>\n      <td>3.0</td>\n      <td>...</td>\n      <td>Good</td>\n      <td>809.98</td>\n      <td>28.609352</td>\n      <td>267.0</td>\n      <td>No</td>\n      <td>49.574949</td>\n      <td>21.465380</td>\n      <td>Low_spent_Medium_value_payments</td>\n      <td>331.209863</td>\n      <td>Good</td>\n    </tr>\n    <tr>\n      <th>3</th>\n      <td>23.0</td>\n      <td>Scientist</td>\n      <td>19114.12</td>\n      <td>1824.843333</td>\n      <td>3.0</td>\n      <td>4.0</td>\n      <td>3.0</td>\n      <td>4.0</td>\n      <td>Auto Loan, Credit-Builder Loan, Personal Loan,...</td>\n      <td>5.0</td>\n      <td>...</td>\n      <td>Good</td>\n      <td>809.98</td>\n      <td>31.377862</td>\n      <td>268.0</td>\n      <td>No</td>\n      <td>49.574949</td>\n      <td>21.465380</td>\n      <td>Low_spent_Small_value_payments</td>\n      <td>223.451310</td>\n      <td>Good</td>\n    </tr>\n    <tr>\n      <th>4</th>\n      <td>23.0</td>\n      <td>Scientist</td>\n      <td>19114.12</td>\n      <td>1824.843333</td>\n      <td>3.0</td>\n      <td>4.0</td>\n      <td>3.0</td>\n      <td>4.0</td>\n      <td>Auto Loan, Credit-Builder Loan, Personal Loan,...</td>\n      <td>6.0</td>\n      <td>...</td>\n      <td>Good</td>\n      <td>809.98</td>\n      <td>24.797347</td>\n      <td>269.0</td>\n      <td>No</td>\n      <td>49.574949</td>\n      <td>21.465380</td>\n      <td>High_spent_Medium_value_payments</td>\n      <td>341.489231</td>\n      <td>Good</td>\n    </tr>\n    <tr>\n      <th>...</th>\n      <td>...</td>\n      <td>...</td>\n      <td>...</td>\n      <td>...</td>\n      <td>...</td>\n      <td>...</td>\n      <td>...</td>\n      <td>...</td>\n      <td>...</td>\n      <td>...</td>\n      <td>...</td>\n      <td>...</td>\n      <td>...</td>\n      <td>...</td>\n      <td>...</td>\n      <td>...</td>\n      <td>...</td>\n      <td>...</td>\n      <td>...</td>\n      <td>...</td>\n      <td>...</td>\n    </tr>\n    <tr>\n      <th>99995</th>\n      <td>25.0</td>\n      <td>Mechanic</td>\n      <td>39628.99</td>\n      <td>3359.415833</td>\n      <td>4.0</td>\n      <td>6.0</td>\n      <td>7.0</td>\n      <td>2.0</td>\n      <td>Auto Loan, and Student Loan</td>\n      <td>23.0</td>\n      <td>...</td>\n      <td>Good</td>\n      <td>502.38</td>\n      <td>34.663572</td>\n      <td>378.0</td>\n      <td>No</td>\n      <td>35.104023</td>\n      <td>24.028477</td>\n      <td>High_spent_Large_value_payments</td>\n      <td>479.866228</td>\n      <td>Poor</td>\n    </tr>\n    <tr>\n      <th>99996</th>\n      <td>25.0</td>\n      <td>Mechanic</td>\n      <td>39628.99</td>\n      <td>3359.415833</td>\n      <td>4.0</td>\n      <td>6.0</td>\n      <td>7.0</td>\n      <td>2.0</td>\n      <td>Auto Loan, and Student Loan</td>\n      <td>18.0</td>\n      <td>...</td>\n      <td>Good</td>\n      <td>502.38</td>\n      <td>40.565631</td>\n      <td>379.0</td>\n      <td>No</td>\n      <td>35.104023</td>\n      <td>24.028477</td>\n      <td>High_spent_Medium_value_payments</td>\n      <td>496.651610</td>\n      <td>Poor</td>\n    </tr>\n    <tr>\n      <th>99997</th>\n      <td>25.0</td>\n      <td>Mechanic</td>\n      <td>39628.99</td>\n      <td>3359.415833</td>\n      <td>4.0</td>\n      <td>6.0</td>\n      <td>7.0</td>\n      <td>2.0</td>\n      <td>Auto Loan, and Student Loan</td>\n      <td>27.0</td>\n      <td>...</td>\n      <td>Good</td>\n      <td>502.38</td>\n      <td>41.255522</td>\n      <td>380.0</td>\n      <td>No</td>\n      <td>35.104023</td>\n      <td>24.028477</td>\n      <td>High_spent_Large_value_payments</td>\n      <td>516.809083</td>\n      <td>Poor</td>\n    </tr>\n    <tr>\n      <th>99998</th>\n      <td>25.0</td>\n      <td>Mechanic</td>\n      <td>39628.99</td>\n      <td>3359.415833</td>\n      <td>4.0</td>\n      <td>6.0</td>\n      <td>7.0</td>\n      <td>2.0</td>\n      <td>Auto Loan, and Student Loan</td>\n      <td>20.0</td>\n      <td>...</td>\n      <td>Good</td>\n      <td>502.38</td>\n      <td>33.638208</td>\n      <td>381.0</td>\n      <td>No</td>\n      <td>35.104023</td>\n      <td>24.028477</td>\n      <td>Low_spent_Large_value_payments</td>\n      <td>319.164979</td>\n      <td>Standard</td>\n    </tr>\n    <tr>\n      <th>99999</th>\n      <td>25.0</td>\n      <td>Mechanic</td>\n      <td>39628.99</td>\n      <td>3359.415833</td>\n      <td>4.0</td>\n      <td>6.0</td>\n      <td>7.0</td>\n      <td>2.0</td>\n      <td>Auto Loan, and Student Loan</td>\n      <td>18.0</td>\n      <td>...</td>\n      <td>Good</td>\n      <td>502.38</td>\n      <td>34.192463</td>\n      <td>382.0</td>\n      <td>No</td>\n      <td>35.104023</td>\n      <td>24.028477</td>\n      <td>High_spent_Medium_value_payments</td>\n      <td>393.673696</td>\n      <td>Poor</td>\n    </tr>\n  </tbody>\n</table>\n<p>100000 rows × 23 columns</p>\n</div>"
     },
     "execution_count": 5,
     "metadata": {},
     "output_type": "execute_result"
    }
   ],
   "source": [
    "data = data.drop(['ID', 'Customer_ID', 'Month', 'Name', 'SSN'], axis=1)\n",
    "data"
   ],
   "metadata": {
    "collapsed": false,
    "pycharm": {
     "name": "#%%\n"
    }
   }
  },
  {
   "cell_type": "markdown",
   "source": [
    "### Check for Data Types\n",
    "Next, we should look at the inferred data types of each of the column to check if they are correct for our analysis."
   ],
   "metadata": {
    "collapsed": false,
    "pycharm": {
     "name": "#%% md\n"
    }
   }
  },
  {
   "cell_type": "code",
   "execution_count": 6,
   "outputs": [
    {
     "name": "stdout",
     "output_type": "stream",
     "text": [
      "<class 'pandas.core.frame.DataFrame'>\n",
      "RangeIndex: 100000 entries, 0 to 99999\n",
      "Data columns (total 23 columns):\n",
      " #   Column                    Non-Null Count   Dtype  \n",
      "---  ------                    --------------   -----  \n",
      " 0   Age                       100000 non-null  float64\n",
      " 1   Occupation                100000 non-null  object \n",
      " 2   Annual_Income             100000 non-null  float64\n",
      " 3   Monthly_Inhand_Salary     100000 non-null  float64\n",
      " 4   Num_Bank_Accounts         100000 non-null  float64\n",
      " 5   Num_Credit_Card           100000 non-null  float64\n",
      " 6   Interest_Rate             100000 non-null  float64\n",
      " 7   Num_of_Loan               100000 non-null  float64\n",
      " 8   Type_of_Loan              100000 non-null  object \n",
      " 9   Delay_from_due_date       100000 non-null  float64\n",
      " 10  Num_of_Delayed_Payment    100000 non-null  float64\n",
      " 11  Changed_Credit_Limit      100000 non-null  float64\n",
      " 12  Num_Credit_Inquiries      100000 non-null  float64\n",
      " 13  Credit_Mix                100000 non-null  object \n",
      " 14  Outstanding_Debt          100000 non-null  float64\n",
      " 15  Credit_Utilization_Ratio  100000 non-null  float64\n",
      " 16  Credit_History_Age        100000 non-null  float64\n",
      " 17  Payment_of_Min_Amount     100000 non-null  object \n",
      " 18  Total_EMI_per_month       100000 non-null  float64\n",
      " 19  Amount_invested_monthly   100000 non-null  float64\n",
      " 20  Payment_Behaviour         100000 non-null  object \n",
      " 21  Monthly_Balance           100000 non-null  float64\n",
      " 22  Credit_Score              100000 non-null  object \n",
      "dtypes: float64(17), object(6)\n",
      "memory usage: 17.5+ MB\n"
     ]
    }
   ],
   "source": [
    "data.info()"
   ],
   "metadata": {
    "collapsed": false,
    "pycharm": {
     "name": "#%%\n"
    }
   }
  },
  {
   "cell_type": "markdown",
   "source": [
    "We can see that the data types are correct for now - numerical columns have been turned into floats and categorical ones into object."
   ],
   "metadata": {
    "collapsed": false,
    "pycharm": {
     "name": "#%% md\n"
    }
   }
  },
  {
   "cell_type": "markdown",
   "source": [
    "### Check for Missing Values\n",
    "Before moving forward, let’s have a look if the dataset has any null values or not as they tend to disrupt the analysis and model building."
   ],
   "metadata": {
    "collapsed": false,
    "pycharm": {
     "name": "#%% md\n"
    }
   }
  },
  {
   "cell_type": "code",
   "execution_count": 7,
   "outputs": [
    {
     "data": {
      "text/plain": "Age                         0\nOccupation                  0\nAnnual_Income               0\nMonthly_Inhand_Salary       0\nNum_Bank_Accounts           0\nNum_Credit_Card             0\nInterest_Rate               0\nNum_of_Loan                 0\nType_of_Loan                0\nDelay_from_due_date         0\nNum_of_Delayed_Payment      0\nChanged_Credit_Limit        0\nNum_Credit_Inquiries        0\nCredit_Mix                  0\nOutstanding_Debt            0\nCredit_Utilization_Ratio    0\nCredit_History_Age          0\nPayment_of_Min_Amount       0\nTotal_EMI_per_month         0\nAmount_invested_monthly     0\nPayment_Behaviour           0\nMonthly_Balance             0\nCredit_Score                0\ndtype: int64"
     },
     "execution_count": 7,
     "metadata": {},
     "output_type": "execute_result"
    }
   ],
   "source": [
    "data.isnull().sum()"
   ],
   "metadata": {
    "collapsed": false,
    "pycharm": {
     "name": "#%%\n"
    }
   }
  },
  {
   "cell_type": "markdown",
   "source": [
    "This is great! There are no missing values present in our dataset. Therefore, we don't have to worry about handling them."
   ],
   "metadata": {
    "collapsed": false,
    "pycharm": {
     "name": "#%% md\n"
    }
   }
  },
  {
   "cell_type": "code",
   "execution_count": null,
   "outputs": [],
   "source": [],
   "metadata": {
    "collapsed": false,
    "pycharm": {
     "name": "#%%\n"
    }
   }
  }
 ],
 "metadata": {
  "kernelspec": {
   "display_name": "Python 3",
   "language": "python",
   "name": "python3"
  },
  "language_info": {
   "codemirror_mode": {
    "name": "ipython",
    "version": 2
   },
   "file_extension": ".py",
   "mimetype": "text/x-python",
   "name": "python",
   "nbconvert_exporter": "python",
   "pygments_lexer": "ipython2",
   "version": "2.7.6"
  }
 },
 "nbformat": 4,
 "nbformat_minor": 0
}