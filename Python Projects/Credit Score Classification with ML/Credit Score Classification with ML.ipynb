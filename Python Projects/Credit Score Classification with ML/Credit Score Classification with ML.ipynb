{
 "cells": [
  {
   "cell_type": "markdown",
   "source": [
    "# A Machine Learning Approach To Classifying Credit Score\n",
    "The credit score of a person determines the creditworthiness of the person. It helps financial companies determine if you can repay the loan or credit you are applying for. Today banks and credit card companies use Machine Learning algorithms to classify all the customers in their database based on their credit history.\n",
    "\n",
    "There are three credit scores that banks and credit card companies use to label their customers:\n",
    "\n",
    "- Good\n",
    "- Standard\n",
    "- Poor\n",
    "\n",
    "A healthy credit score will ease the process of getting a loan or credit card for the person applying for it."
   ],
   "metadata": {
    "collapsed": false,
    "pycharm": {
     "name": "#%% md\n"
    }
   }
  },
  {
   "cell_type": "code",
   "execution_count": null,
   "outputs": [],
   "source": [],
   "metadata": {
    "collapsed": false,
    "pycharm": {
     "name": "#%%\n"
    }
   }
  }
 ],
 "metadata": {
  "kernelspec": {
   "display_name": "Python 3",
   "language": "python",
   "name": "python3"
  },
  "language_info": {
   "codemirror_mode": {
    "name": "ipython",
    "version": 2
   },
   "file_extension": ".py",
   "mimetype": "text/x-python",
   "name": "python",
   "nbconvert_exporter": "python",
   "pygments_lexer": "ipython2",
   "version": "2.7.6"
  }
 },
 "nbformat": 4,
 "nbformat_minor": 0
}