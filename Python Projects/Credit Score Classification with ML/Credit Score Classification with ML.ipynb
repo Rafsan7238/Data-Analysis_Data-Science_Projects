{
 "cells": [
  {
   "cell_type": "markdown",
   "source": [
    "# A Machine Learning Approach To Classifying Credit Score\n",
    "The credit score of a person determines the creditworthiness of the person. It helps financial companies determine if you can repay the loan or credit you are applying for. Today banks and credit card companies use Machine Learning algorithms to classify all the customers in their database based on their credit history.\n",
    "\n",
    "There are three credit scores that banks and credit card companies use to label their customers:\n",
    "\n",
    "- Good\n",
    "- Standard\n",
    "- Poor\n",
    "\n",
    "A healthy credit score will ease the process of getting a loan or credit card for the person applying for it."
   ],
   "metadata": {
    "collapsed": false,
    "pycharm": {
     "name": "#%% md\n"
    }
   }
  },
  {
   "cell_type": "markdown",
   "source": [
    "## The Project:\n",
    "Hence, in this project, I will be building an ML model based on Random Forest to help classify credit score of an individual based on several different factors that contribute to the score. The final classification will be:\n",
    "\n",
    "- Good\n",
    "- Standard\n",
    "- Poor\n",
    "\n",
    "For this project, I will be using a dataset from <a href=\"https://statso.io/credit-score-classification-case-study/\" target=\"_blank\">Kaggle</a> submitted by <a href=\"https://www.kaggle.com/parisrohan\" target=\"_blank\">Rohan Paris</a>."
   ],
   "metadata": {
    "collapsed": false,
    "pycharm": {
     "name": "#%% md\n"
    }
   }
  },
  {
   "cell_type": "markdown",
   "source": [
    "## The Dataset:\n",
    "Before diving right into the project it is important to understand the dataset being dealt with. The dataset contains info about different customers as follows:\n",
    "\n",
    "1. ID: Unique ID of the record\n",
    "2. Customer_ID: Unique ID of the customer\n",
    "3. Month: Month of the year\n",
    "4. Name: The name of the person\n",
    "5. Age: The age of the person\n",
    "6. SSN: Social Security Number of the person\n",
    "7. Occupation: The occupation of the person\n",
    "8. Annual_Income: The Annual Income of the person\n",
    "9. Monthly_Inhand_Salary: Monthly in-hand salary of the person\n",
    "10. Num_Bank_Accounts: The number of bank accounts of the person\n",
    "11. Num_Credit_Card: Number of credit cards the person is having\n",
    "12. Interest_Rate: The interest rate on the credit card of the person\n",
    "13. Num_of_Loan: The number of loans taken by the person from the bank\n",
    "14. Type_of_Loan: The types of loans taken by the person from the bank\n",
    "15. Delay_from_due_date: The average number of days delayed by the person from the date of payment\n",
    "16. Num_of_Delayed_Payment: Number of payments delayed by the person\n",
    "17. Changed_Credit_Card: The percentage change in the credit card limit of the person\n",
    "18. Num_Credit_Inquiries: The number of credit card inquiries by the person\n",
    "19. Credit_Mix: Classification of Credit Mix of the customer\n",
    "20. Outstanding_Debt: The outstanding balance of the person\n",
    "21. Credit_Utilization_Ratio: The credit utilization ratio of the credit card of the customer\n",
    "22. Credit_History_Age: The age of the credit history of the person\n",
    "23. Payment_of_Min_Amount: Yes if the person paid the minimum amount to be paid only, otherwise no.\n",
    "24. Total_EMI_per_month: The total EMI per month of the person\n",
    "25. Amount_invested_monthly: The monthly amount invested by the person\n",
    "26. Payment_Behaviour: The payment behaviour of the person\n",
    "27. Monthly_Balance: The monthly balance left in the account of the person\n",
    "28. Credit_Score: The credit score of the person"
   ],
   "metadata": {
    "collapsed": false,
    "pycharm": {
     "name": "#%% md\n"
    }
   }
  },
  {
   "cell_type": "code",
   "execution_count": null,
   "outputs": [],
   "source": [],
   "metadata": {
    "collapsed": false,
    "pycharm": {
     "name": "#%%\n"
    }
   }
  }
 ],
 "metadata": {
  "kernelspec": {
   "display_name": "Python 3",
   "language": "python",
   "name": "python3"
  },
  "language_info": {
   "codemirror_mode": {
    "name": "ipython",
    "version": 2
   },
   "file_extension": ".py",
   "mimetype": "text/x-python",
   "name": "python",
   "nbconvert_exporter": "python",
   "pygments_lexer": "ipython2",
   "version": "2.7.6"
  }
 },
 "nbformat": 4,
 "nbformat_minor": 0
}