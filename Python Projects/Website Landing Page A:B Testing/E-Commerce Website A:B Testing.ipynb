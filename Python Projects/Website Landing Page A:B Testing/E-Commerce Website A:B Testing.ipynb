{
 "cells": [
  {
   "cell_type": "markdown",
   "source": [
    "# A/B Testing For an E-Commerce Website Landing Page"
   ],
   "metadata": {
    "collapsed": false,
    "pycharm": {
     "name": "#%% md\n"
    }
   }
  },
  {
   "cell_type": "markdown",
   "source": [
    "A/B testing means to analyse two marketing strategies in order to choose the best one that can convert more traffic into sales (or a desired goal) effectively and efficiently.\n",
    "\n",
    "A/B testing helps in finding a better approach to finding customers, marketing products, getting a higher reach, or anything that helps a business convert most of its target customers into actual customers."
   ],
   "metadata": {
    "collapsed": false,
    "pycharm": {
     "name": "#%% md\n"
    }
   }
  },
  {
   "cell_type": "markdown",
   "source": [
    "## The Project:\n",
    "In this project, I will be performing an A/B test for a website landing page of an E-Commerce company and try to understand the results obtained from it. The company performed two different campaigns:\n",
    "- Control Campaign\n",
    "- Test Campaign\n",
    "\n",
    "The goal is to help the company decide if they should implement the new landing page or stick to the old one in order to get more customers.\n",
    "\n",
    "The datasets used has been collected from <a href=\"www.kaggle.com\" target=\"_blank\">Kaggle</a> and has been submitted by İlker Yıldız. Please note that the use case of the dataset has been changed from its original for the purpose of this project."
   ],
   "metadata": {
    "collapsed": false,
    "pycharm": {
     "name": "#%% md\n"
    }
   }
  },
  {
   "cell_type": "markdown",
   "source": [
    "## Import Necessary Libraries"
   ],
   "metadata": {
    "collapsed": false,
    "pycharm": {
     "name": "#%% md\n"
    }
   }
  },
  {
   "cell_type": "code",
   "execution_count": 1,
   "outputs": [],
   "source": [
    "import numpy as np\n",
    "import pandas as pd\n",
    "import matplotlib.pyplot as plt\n",
    "import seaborn as sns"
   ],
   "metadata": {
    "collapsed": false,
    "pycharm": {
     "name": "#%%\n"
    }
   }
  },
  {
   "cell_type": "code",
   "execution_count": null,
   "outputs": [],
   "source": [],
   "metadata": {
    "collapsed": false,
    "pycharm": {
     "name": "#%%\n"
    }
   }
  }
 ],
 "metadata": {
  "kernelspec": {
   "display_name": "Python 3",
   "language": "python",
   "name": "python3"
  },
  "language_info": {
   "codemirror_mode": {
    "name": "ipython",
    "version": 2
   },
   "file_extension": ".py",
   "mimetype": "text/x-python",
   "name": "python",
   "nbconvert_exporter": "python",
   "pygments_lexer": "ipython2",
   "version": "2.7.6"
  }
 },
 "nbformat": 4,
 "nbformat_minor": 0
}