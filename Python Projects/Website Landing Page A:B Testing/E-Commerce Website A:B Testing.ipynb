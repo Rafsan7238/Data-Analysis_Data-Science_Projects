{
 "cells": [
  {
   "cell_type": "markdown",
   "source": [
    "# A/B Testing For an E-Commerce Website Landing Page"
   ],
   "metadata": {
    "collapsed": false,
    "pycharm": {
     "name": "#%% md\n"
    }
   }
  },
  {
   "cell_type": "markdown",
   "source": [
    "A/B testing means to analyse two marketing strategies in order to choose the best one that can convert more traffic into sales (or a desired goal) effectively and efficiently.\n",
    "\n",
    "A/B testing helps in finding a better approach to finding customers, marketing products, getting a higher reach, or anything that helps a business convert most of its target customers into actual customers."
   ],
   "metadata": {
    "collapsed": false,
    "pycharm": {
     "name": "#%% md\n"
    }
   }
  },
  {
   "cell_type": "markdown",
   "source": [
    "## The Project:\n",
    "In this project, I will be performing an A/B test for a website landing page of an E-Commerce company and try to understand the results obtained from it. The company performed two different campaigns:\n",
    "- Control Campaign\n",
    "- Test Campaign\n",
    "\n",
    "The goal is to help the company decide if they should implement the new landing page or stick to the old one in order to get more customers.\n",
    "\n",
    "The datasets used has been collected from <a href=\"www.kaggle.com\" target=\"_blank\">Kaggle</a> and has been submitted by İlker Yıldız. Please note that the use case of the dataset has been changed from its original for the purpose of this project."
   ],
   "metadata": {
    "collapsed": false,
    "pycharm": {
     "name": "#%% md\n"
    }
   }
  },
  {
   "cell_type": "markdown",
   "source": [
    "## Import Necessary Libraries"
   ],
   "metadata": {
    "collapsed": false,
    "pycharm": {
     "name": "#%% md\n"
    }
   }
  },
  {
   "cell_type": "code",
   "execution_count": 1,
   "outputs": [],
   "source": [
    "import numpy as np\n",
    "import pandas as pd\n",
    "import matplotlib.pyplot as plt\n",
    "import seaborn as sns"
   ],
   "metadata": {
    "collapsed": false,
    "pycharm": {
     "name": "#%%\n"
    }
   }
  },
  {
   "cell_type": "markdown",
   "source": [
    "## Data Wrangling\n",
    "Data Wrangling is a crucial step in any Data Analysis project as it helps in removing errors from the dataset through data cleansing, and combining complex datasets to make them more accessible and easier to analyse."
   ],
   "metadata": {
    "collapsed": false,
    "pycharm": {
     "name": "#%% md\n"
    }
   }
  },
  {
   "cell_type": "markdown",
   "source": [
    "### Importing the Datasets\n",
    "Let's import both the `control` and `test` data, and take a look at them."
   ],
   "metadata": {
    "collapsed": false,
    "pycharm": {
     "name": "#%% md\n"
    }
   }
  },
  {
   "cell_type": "code",
   "execution_count": 3,
   "outputs": [
    {
     "data": {
      "text/plain": "       Campaign Name        Date  Spend [USD]  # of Impressions     Reach  \\\n0   Control Campaign   1.08.2019         2280           82702.0   56930.0   \n1   Control Campaign   2.08.2019         1757          121040.0  102513.0   \n2   Control Campaign   3.08.2019         2343          131711.0  110862.0   \n3   Control Campaign   4.08.2019         1940           72878.0   61235.0   \n4   Control Campaign   5.08.2019         1835               NaN       NaN   \n5   Control Campaign   6.08.2019         3083          109076.0   87998.0   \n6   Control Campaign   7.08.2019         2544          142123.0  127852.0   \n7   Control Campaign   8.08.2019         1900           90939.0   65217.0   \n8   Control Campaign   9.08.2019         2813          121332.0   94896.0   \n9   Control Campaign  10.08.2019         2149          117624.0   91257.0   \n10  Control Campaign  11.08.2019         2490          115247.0   95843.0   \n11  Control Campaign  12.08.2019         2319          116639.0  100189.0   \n12  Control Campaign  13.08.2019         2697           82847.0   68214.0   \n13  Control Campaign  14.08.2019         1875          145248.0  118632.0   \n14  Control Campaign  15.08.2019         2774          132845.0  102479.0   \n15  Control Campaign  16.08.2019         2024           71274.0   42859.0   \n16  Control Campaign  17.08.2019         2177          119612.0  106518.0   \n17  Control Campaign  18.08.2019         1876          108452.0   96518.0   \n18  Control Campaign  19.08.2019         2596          107890.0   81268.0   \n19  Control Campaign  20.08.2019         2675          113430.0   78625.0   \n20  Control Campaign  21.08.2019         1803           74654.0   59873.0   \n21  Control Campaign  22.08.2019         2939          105705.0   86218.0   \n22  Control Campaign  23.08.2019         2496          129880.0  109413.0   \n23  Control Campaign  24.08.2019         1892           72515.0   51987.0   \n24  Control Campaign  25.08.2019         1962          117006.0  100398.0   \n25  Control Campaign  26.08.2019         2233          124897.0   98432.0   \n26  Control Campaign  27.08.2019         2061          104678.0   91579.0   \n27  Control Campaign  28.08.2019         2421          141654.0  125874.0   \n28  Control Campaign  29.08.2019         2375           92029.0   74192.0   \n29  Control Campaign  30.08.2019         2324          111306.0   88632.0   \n\n    # of Website Clicks  # of Searches  # of View Content  # of Add to Cart  \\\n0                7016.0         2290.0             2159.0            1819.0   \n1                8110.0         2033.0             1841.0            1219.0   \n2                6508.0         1737.0             1549.0            1134.0   \n3                3065.0         1042.0              982.0            1183.0   \n4                   NaN            NaN                NaN               NaN   \n5                4028.0         1709.0             1249.0             784.0   \n6                2640.0         1388.0             1106.0            1166.0   \n7                7260.0         3047.0             2746.0             930.0   \n8                6198.0         2487.0             2179.0             645.0   \n9                2277.0         2475.0             1984.0            1629.0   \n10               8137.0         2941.0             2486.0            1887.0   \n11               2993.0         1397.0             1147.0            1439.0   \n12               6554.0         2390.0             1975.0            1794.0   \n13               4521.0         1209.0             1149.0            1339.0   \n14               4896.0         1179.0             1005.0            1641.0   \n15               5224.0         2427.0             2158.0            1613.0   \n16               6628.0         1756.0             1642.0             878.0   \n17               7253.0         2447.0             2115.0            1695.0   \n18               3706.0         2483.0             2098.0             908.0   \n19               2578.0         1001.0              848.0            1709.0   \n20               5691.0         2711.0             2496.0            1460.0   \n21               6843.0         3102.0             2988.0             819.0   \n22               4410.0         2896.0             2496.0            1913.0   \n23               4085.0         1274.0             1149.0            1146.0   \n24               4234.0         2423.0             2096.0             883.0   \n25               5435.0         2847.0             2421.0            1448.0   \n26               4941.0         3549.0             3249.0             980.0   \n27               6287.0         1672.0             1589.0            1711.0   \n28               8127.0         4891.0             4219.0            1486.0   \n29               4658.0         1615.0             1249.0             442.0   \n\n    # of Purchase  \n0           618.0  \n1           511.0  \n2           372.0  \n3           340.0  \n4             NaN  \n5           764.0  \n6           499.0  \n7           462.0  \n8           501.0  \n9           734.0  \n10          475.0  \n11          794.0  \n12          766.0  \n13          788.0  \n14          366.0  \n15          438.0  \n16          222.0  \n17          243.0  \n18          542.0  \n19          299.0  \n20          800.0  \n21          387.0  \n22          766.0  \n23          585.0  \n24          386.0  \n25          251.0  \n26          605.0  \n27          643.0  \n28          334.0  \n29          670.0  ",
      "text/html": "<div>\n<style scoped>\n    .dataframe tbody tr th:only-of-type {\n        vertical-align: middle;\n    }\n\n    .dataframe tbody tr th {\n        vertical-align: top;\n    }\n\n    .dataframe thead th {\n        text-align: right;\n    }\n</style>\n<table border=\"1\" class=\"dataframe\">\n  <thead>\n    <tr style=\"text-align: right;\">\n      <th></th>\n      <th>Campaign Name</th>\n      <th>Date</th>\n      <th>Spend [USD]</th>\n      <th># of Impressions</th>\n      <th>Reach</th>\n      <th># of Website Clicks</th>\n      <th># of Searches</th>\n      <th># of View Content</th>\n      <th># of Add to Cart</th>\n      <th># of Purchase</th>\n    </tr>\n  </thead>\n  <tbody>\n    <tr>\n      <th>0</th>\n      <td>Control Campaign</td>\n      <td>1.08.2019</td>\n      <td>2280</td>\n      <td>82702.0</td>\n      <td>56930.0</td>\n      <td>7016.0</td>\n      <td>2290.0</td>\n      <td>2159.0</td>\n      <td>1819.0</td>\n      <td>618.0</td>\n    </tr>\n    <tr>\n      <th>1</th>\n      <td>Control Campaign</td>\n      <td>2.08.2019</td>\n      <td>1757</td>\n      <td>121040.0</td>\n      <td>102513.0</td>\n      <td>8110.0</td>\n      <td>2033.0</td>\n      <td>1841.0</td>\n      <td>1219.0</td>\n      <td>511.0</td>\n    </tr>\n    <tr>\n      <th>2</th>\n      <td>Control Campaign</td>\n      <td>3.08.2019</td>\n      <td>2343</td>\n      <td>131711.0</td>\n      <td>110862.0</td>\n      <td>6508.0</td>\n      <td>1737.0</td>\n      <td>1549.0</td>\n      <td>1134.0</td>\n      <td>372.0</td>\n    </tr>\n    <tr>\n      <th>3</th>\n      <td>Control Campaign</td>\n      <td>4.08.2019</td>\n      <td>1940</td>\n      <td>72878.0</td>\n      <td>61235.0</td>\n      <td>3065.0</td>\n      <td>1042.0</td>\n      <td>982.0</td>\n      <td>1183.0</td>\n      <td>340.0</td>\n    </tr>\n    <tr>\n      <th>4</th>\n      <td>Control Campaign</td>\n      <td>5.08.2019</td>\n      <td>1835</td>\n      <td>NaN</td>\n      <td>NaN</td>\n      <td>NaN</td>\n      <td>NaN</td>\n      <td>NaN</td>\n      <td>NaN</td>\n      <td>NaN</td>\n    </tr>\n    <tr>\n      <th>5</th>\n      <td>Control Campaign</td>\n      <td>6.08.2019</td>\n      <td>3083</td>\n      <td>109076.0</td>\n      <td>87998.0</td>\n      <td>4028.0</td>\n      <td>1709.0</td>\n      <td>1249.0</td>\n      <td>784.0</td>\n      <td>764.0</td>\n    </tr>\n    <tr>\n      <th>6</th>\n      <td>Control Campaign</td>\n      <td>7.08.2019</td>\n      <td>2544</td>\n      <td>142123.0</td>\n      <td>127852.0</td>\n      <td>2640.0</td>\n      <td>1388.0</td>\n      <td>1106.0</td>\n      <td>1166.0</td>\n      <td>499.0</td>\n    </tr>\n    <tr>\n      <th>7</th>\n      <td>Control Campaign</td>\n      <td>8.08.2019</td>\n      <td>1900</td>\n      <td>90939.0</td>\n      <td>65217.0</td>\n      <td>7260.0</td>\n      <td>3047.0</td>\n      <td>2746.0</td>\n      <td>930.0</td>\n      <td>462.0</td>\n    </tr>\n    <tr>\n      <th>8</th>\n      <td>Control Campaign</td>\n      <td>9.08.2019</td>\n      <td>2813</td>\n      <td>121332.0</td>\n      <td>94896.0</td>\n      <td>6198.0</td>\n      <td>2487.0</td>\n      <td>2179.0</td>\n      <td>645.0</td>\n      <td>501.0</td>\n    </tr>\n    <tr>\n      <th>9</th>\n      <td>Control Campaign</td>\n      <td>10.08.2019</td>\n      <td>2149</td>\n      <td>117624.0</td>\n      <td>91257.0</td>\n      <td>2277.0</td>\n      <td>2475.0</td>\n      <td>1984.0</td>\n      <td>1629.0</td>\n      <td>734.0</td>\n    </tr>\n    <tr>\n      <th>10</th>\n      <td>Control Campaign</td>\n      <td>11.08.2019</td>\n      <td>2490</td>\n      <td>115247.0</td>\n      <td>95843.0</td>\n      <td>8137.0</td>\n      <td>2941.0</td>\n      <td>2486.0</td>\n      <td>1887.0</td>\n      <td>475.0</td>\n    </tr>\n    <tr>\n      <th>11</th>\n      <td>Control Campaign</td>\n      <td>12.08.2019</td>\n      <td>2319</td>\n      <td>116639.0</td>\n      <td>100189.0</td>\n      <td>2993.0</td>\n      <td>1397.0</td>\n      <td>1147.0</td>\n      <td>1439.0</td>\n      <td>794.0</td>\n    </tr>\n    <tr>\n      <th>12</th>\n      <td>Control Campaign</td>\n      <td>13.08.2019</td>\n      <td>2697</td>\n      <td>82847.0</td>\n      <td>68214.0</td>\n      <td>6554.0</td>\n      <td>2390.0</td>\n      <td>1975.0</td>\n      <td>1794.0</td>\n      <td>766.0</td>\n    </tr>\n    <tr>\n      <th>13</th>\n      <td>Control Campaign</td>\n      <td>14.08.2019</td>\n      <td>1875</td>\n      <td>145248.0</td>\n      <td>118632.0</td>\n      <td>4521.0</td>\n      <td>1209.0</td>\n      <td>1149.0</td>\n      <td>1339.0</td>\n      <td>788.0</td>\n    </tr>\n    <tr>\n      <th>14</th>\n      <td>Control Campaign</td>\n      <td>15.08.2019</td>\n      <td>2774</td>\n      <td>132845.0</td>\n      <td>102479.0</td>\n      <td>4896.0</td>\n      <td>1179.0</td>\n      <td>1005.0</td>\n      <td>1641.0</td>\n      <td>366.0</td>\n    </tr>\n    <tr>\n      <th>15</th>\n      <td>Control Campaign</td>\n      <td>16.08.2019</td>\n      <td>2024</td>\n      <td>71274.0</td>\n      <td>42859.0</td>\n      <td>5224.0</td>\n      <td>2427.0</td>\n      <td>2158.0</td>\n      <td>1613.0</td>\n      <td>438.0</td>\n    </tr>\n    <tr>\n      <th>16</th>\n      <td>Control Campaign</td>\n      <td>17.08.2019</td>\n      <td>2177</td>\n      <td>119612.0</td>\n      <td>106518.0</td>\n      <td>6628.0</td>\n      <td>1756.0</td>\n      <td>1642.0</td>\n      <td>878.0</td>\n      <td>222.0</td>\n    </tr>\n    <tr>\n      <th>17</th>\n      <td>Control Campaign</td>\n      <td>18.08.2019</td>\n      <td>1876</td>\n      <td>108452.0</td>\n      <td>96518.0</td>\n      <td>7253.0</td>\n      <td>2447.0</td>\n      <td>2115.0</td>\n      <td>1695.0</td>\n      <td>243.0</td>\n    </tr>\n    <tr>\n      <th>18</th>\n      <td>Control Campaign</td>\n      <td>19.08.2019</td>\n      <td>2596</td>\n      <td>107890.0</td>\n      <td>81268.0</td>\n      <td>3706.0</td>\n      <td>2483.0</td>\n      <td>2098.0</td>\n      <td>908.0</td>\n      <td>542.0</td>\n    </tr>\n    <tr>\n      <th>19</th>\n      <td>Control Campaign</td>\n      <td>20.08.2019</td>\n      <td>2675</td>\n      <td>113430.0</td>\n      <td>78625.0</td>\n      <td>2578.0</td>\n      <td>1001.0</td>\n      <td>848.0</td>\n      <td>1709.0</td>\n      <td>299.0</td>\n    </tr>\n    <tr>\n      <th>20</th>\n      <td>Control Campaign</td>\n      <td>21.08.2019</td>\n      <td>1803</td>\n      <td>74654.0</td>\n      <td>59873.0</td>\n      <td>5691.0</td>\n      <td>2711.0</td>\n      <td>2496.0</td>\n      <td>1460.0</td>\n      <td>800.0</td>\n    </tr>\n    <tr>\n      <th>21</th>\n      <td>Control Campaign</td>\n      <td>22.08.2019</td>\n      <td>2939</td>\n      <td>105705.0</td>\n      <td>86218.0</td>\n      <td>6843.0</td>\n      <td>3102.0</td>\n      <td>2988.0</td>\n      <td>819.0</td>\n      <td>387.0</td>\n    </tr>\n    <tr>\n      <th>22</th>\n      <td>Control Campaign</td>\n      <td>23.08.2019</td>\n      <td>2496</td>\n      <td>129880.0</td>\n      <td>109413.0</td>\n      <td>4410.0</td>\n      <td>2896.0</td>\n      <td>2496.0</td>\n      <td>1913.0</td>\n      <td>766.0</td>\n    </tr>\n    <tr>\n      <th>23</th>\n      <td>Control Campaign</td>\n      <td>24.08.2019</td>\n      <td>1892</td>\n      <td>72515.0</td>\n      <td>51987.0</td>\n      <td>4085.0</td>\n      <td>1274.0</td>\n      <td>1149.0</td>\n      <td>1146.0</td>\n      <td>585.0</td>\n    </tr>\n    <tr>\n      <th>24</th>\n      <td>Control Campaign</td>\n      <td>25.08.2019</td>\n      <td>1962</td>\n      <td>117006.0</td>\n      <td>100398.0</td>\n      <td>4234.0</td>\n      <td>2423.0</td>\n      <td>2096.0</td>\n      <td>883.0</td>\n      <td>386.0</td>\n    </tr>\n    <tr>\n      <th>25</th>\n      <td>Control Campaign</td>\n      <td>26.08.2019</td>\n      <td>2233</td>\n      <td>124897.0</td>\n      <td>98432.0</td>\n      <td>5435.0</td>\n      <td>2847.0</td>\n      <td>2421.0</td>\n      <td>1448.0</td>\n      <td>251.0</td>\n    </tr>\n    <tr>\n      <th>26</th>\n      <td>Control Campaign</td>\n      <td>27.08.2019</td>\n      <td>2061</td>\n      <td>104678.0</td>\n      <td>91579.0</td>\n      <td>4941.0</td>\n      <td>3549.0</td>\n      <td>3249.0</td>\n      <td>980.0</td>\n      <td>605.0</td>\n    </tr>\n    <tr>\n      <th>27</th>\n      <td>Control Campaign</td>\n      <td>28.08.2019</td>\n      <td>2421</td>\n      <td>141654.0</td>\n      <td>125874.0</td>\n      <td>6287.0</td>\n      <td>1672.0</td>\n      <td>1589.0</td>\n      <td>1711.0</td>\n      <td>643.0</td>\n    </tr>\n    <tr>\n      <th>28</th>\n      <td>Control Campaign</td>\n      <td>29.08.2019</td>\n      <td>2375</td>\n      <td>92029.0</td>\n      <td>74192.0</td>\n      <td>8127.0</td>\n      <td>4891.0</td>\n      <td>4219.0</td>\n      <td>1486.0</td>\n      <td>334.0</td>\n    </tr>\n    <tr>\n      <th>29</th>\n      <td>Control Campaign</td>\n      <td>30.08.2019</td>\n      <td>2324</td>\n      <td>111306.0</td>\n      <td>88632.0</td>\n      <td>4658.0</td>\n      <td>1615.0</td>\n      <td>1249.0</td>\n      <td>442.0</td>\n      <td>670.0</td>\n    </tr>\n  </tbody>\n</table>\n</div>"
     },
     "execution_count": 3,
     "metadata": {},
     "output_type": "execute_result"
    }
   ],
   "source": [
    "control_data = pd.read_csv('Dataset/control_group.csv', sep = ';')\n",
    "control_data"
   ],
   "metadata": {
    "collapsed": false,
    "pycharm": {
     "name": "#%%\n"
    }
   }
  },
  {
   "cell_type": "code",
   "execution_count": 4,
   "outputs": [
    {
     "data": {
      "text/plain": "    Campaign Name        Date  Spend [USD]  # of Impressions   Reach  \\\n0   Test Campaign   1.08.2019         3008             39550   35820   \n1   Test Campaign   2.08.2019         2542            100719   91236   \n2   Test Campaign   3.08.2019         2365             70263   45198   \n3   Test Campaign   4.08.2019         2710             78451   25937   \n4   Test Campaign   5.08.2019         2297            114295   95138   \n5   Test Campaign   6.08.2019         2458             42684   31489   \n6   Test Campaign   7.08.2019         2838             53986   42148   \n7   Test Campaign   8.08.2019         2916             33669   20149   \n8   Test Campaign   9.08.2019         2652             45511   31598   \n9   Test Campaign  10.08.2019         2790             95054   79632   \n10  Test Campaign  11.08.2019         2420             83633   71286   \n11  Test Campaign  12.08.2019         2831            124591   10598   \n12  Test Campaign  13.08.2019         1972             65827   49531   \n13  Test Campaign  14.08.2019         2537             56304   25982   \n14  Test Campaign  15.08.2019         2516             94338   76219   \n15  Test Campaign  16.08.2019         3076            106584   81389   \n16  Test Campaign  17.08.2019         1968             95843   54389   \n17  Test Campaign  18.08.2019         1979             53632   43241   \n18  Test Campaign  19.08.2019         2626             22521   10698   \n19  Test Campaign  20.08.2019         2712             39470   31893   \n20  Test Campaign  21.08.2019         3112            133771  109834   \n21  Test Campaign  22.08.2019         2899             34752   27932   \n22  Test Campaign  23.08.2019         2407             60286   49329   \n23  Test Campaign  24.08.2019         2078             36650   30489   \n24  Test Campaign  25.08.2019         2928            120576  105978   \n25  Test Campaign  26.08.2019         2311             80841   61589   \n26  Test Campaign  27.08.2019         2915            111469   92159   \n27  Test Campaign  28.08.2019         2247             54627   41267   \n28  Test Campaign  29.08.2019         2805             67444   43219   \n29  Test Campaign  30.08.2019         1977            120203   89380   \n\n    # of Website Clicks  # of Searches  # of View Content  # of Add to Cart  \\\n0                  3038           1946               1069               894   \n1                  4657           2359               1548               879   \n2                  7885           2572               2367              1268   \n3                  4216           2216               1437               566   \n4                  5863           2106                858               956   \n5                  7488           1854               1073               882   \n6                  4221           2733               2182              1301   \n7                  7184           2867               2194              1240   \n8                  8259           2899               2761              1200   \n9                  8125           2312               1804               424   \n10                 3750           2893               2617              1075   \n11                 8264           2081               1992              1382   \n12                 7568           2213               2058              1391   \n13                 3993           1979               1059               779   \n14                 4993           2537               1609              1090   \n15                 6800           2661               2594              1059   \n16                 7910           1995               1576               383   \n17                 6909           2824               2522               461   \n18                 7617           2924               2801               788   \n19                 6050           2061               1894              1047   \n20                 5471           1995               1868               278   \n21                 4431           1983               1131               367   \n22                 5077           2592               2004               632   \n23                 7156           2687               2427               327   \n24                 3596           2937               2551              1228   \n25                 3820           2037               1046               346   \n26                 6435           2976               2552               992   \n27                 8144           2432               1281              1009   \n28                 7651           1920               1240              1168   \n29                 4399           2978               1625              1034   \n\n    # of Purchase  \n0             255  \n1             677  \n2             578  \n3             340  \n4             768  \n5             488  \n6             890  \n7             431  \n8             845  \n9             275  \n10            668  \n11            709  \n12            812  \n13            340  \n14            398  \n15            487  \n16            238  \n17            257  \n18            512  \n19            730  \n20            245  \n21            276  \n22            473  \n23            269  \n24            651  \n25            284  \n26            771  \n27            721  \n28            677  \n29            572  ",
      "text/html": "<div>\n<style scoped>\n    .dataframe tbody tr th:only-of-type {\n        vertical-align: middle;\n    }\n\n    .dataframe tbody tr th {\n        vertical-align: top;\n    }\n\n    .dataframe thead th {\n        text-align: right;\n    }\n</style>\n<table border=\"1\" class=\"dataframe\">\n  <thead>\n    <tr style=\"text-align: right;\">\n      <th></th>\n      <th>Campaign Name</th>\n      <th>Date</th>\n      <th>Spend [USD]</th>\n      <th># of Impressions</th>\n      <th>Reach</th>\n      <th># of Website Clicks</th>\n      <th># of Searches</th>\n      <th># of View Content</th>\n      <th># of Add to Cart</th>\n      <th># of Purchase</th>\n    </tr>\n  </thead>\n  <tbody>\n    <tr>\n      <th>0</th>\n      <td>Test Campaign</td>\n      <td>1.08.2019</td>\n      <td>3008</td>\n      <td>39550</td>\n      <td>35820</td>\n      <td>3038</td>\n      <td>1946</td>\n      <td>1069</td>\n      <td>894</td>\n      <td>255</td>\n    </tr>\n    <tr>\n      <th>1</th>\n      <td>Test Campaign</td>\n      <td>2.08.2019</td>\n      <td>2542</td>\n      <td>100719</td>\n      <td>91236</td>\n      <td>4657</td>\n      <td>2359</td>\n      <td>1548</td>\n      <td>879</td>\n      <td>677</td>\n    </tr>\n    <tr>\n      <th>2</th>\n      <td>Test Campaign</td>\n      <td>3.08.2019</td>\n      <td>2365</td>\n      <td>70263</td>\n      <td>45198</td>\n      <td>7885</td>\n      <td>2572</td>\n      <td>2367</td>\n      <td>1268</td>\n      <td>578</td>\n    </tr>\n    <tr>\n      <th>3</th>\n      <td>Test Campaign</td>\n      <td>4.08.2019</td>\n      <td>2710</td>\n      <td>78451</td>\n      <td>25937</td>\n      <td>4216</td>\n      <td>2216</td>\n      <td>1437</td>\n      <td>566</td>\n      <td>340</td>\n    </tr>\n    <tr>\n      <th>4</th>\n      <td>Test Campaign</td>\n      <td>5.08.2019</td>\n      <td>2297</td>\n      <td>114295</td>\n      <td>95138</td>\n      <td>5863</td>\n      <td>2106</td>\n      <td>858</td>\n      <td>956</td>\n      <td>768</td>\n    </tr>\n    <tr>\n      <th>5</th>\n      <td>Test Campaign</td>\n      <td>6.08.2019</td>\n      <td>2458</td>\n      <td>42684</td>\n      <td>31489</td>\n      <td>7488</td>\n      <td>1854</td>\n      <td>1073</td>\n      <td>882</td>\n      <td>488</td>\n    </tr>\n    <tr>\n      <th>6</th>\n      <td>Test Campaign</td>\n      <td>7.08.2019</td>\n      <td>2838</td>\n      <td>53986</td>\n      <td>42148</td>\n      <td>4221</td>\n      <td>2733</td>\n      <td>2182</td>\n      <td>1301</td>\n      <td>890</td>\n    </tr>\n    <tr>\n      <th>7</th>\n      <td>Test Campaign</td>\n      <td>8.08.2019</td>\n      <td>2916</td>\n      <td>33669</td>\n      <td>20149</td>\n      <td>7184</td>\n      <td>2867</td>\n      <td>2194</td>\n      <td>1240</td>\n      <td>431</td>\n    </tr>\n    <tr>\n      <th>8</th>\n      <td>Test Campaign</td>\n      <td>9.08.2019</td>\n      <td>2652</td>\n      <td>45511</td>\n      <td>31598</td>\n      <td>8259</td>\n      <td>2899</td>\n      <td>2761</td>\n      <td>1200</td>\n      <td>845</td>\n    </tr>\n    <tr>\n      <th>9</th>\n      <td>Test Campaign</td>\n      <td>10.08.2019</td>\n      <td>2790</td>\n      <td>95054</td>\n      <td>79632</td>\n      <td>8125</td>\n      <td>2312</td>\n      <td>1804</td>\n      <td>424</td>\n      <td>275</td>\n    </tr>\n    <tr>\n      <th>10</th>\n      <td>Test Campaign</td>\n      <td>11.08.2019</td>\n      <td>2420</td>\n      <td>83633</td>\n      <td>71286</td>\n      <td>3750</td>\n      <td>2893</td>\n      <td>2617</td>\n      <td>1075</td>\n      <td>668</td>\n    </tr>\n    <tr>\n      <th>11</th>\n      <td>Test Campaign</td>\n      <td>12.08.2019</td>\n      <td>2831</td>\n      <td>124591</td>\n      <td>10598</td>\n      <td>8264</td>\n      <td>2081</td>\n      <td>1992</td>\n      <td>1382</td>\n      <td>709</td>\n    </tr>\n    <tr>\n      <th>12</th>\n      <td>Test Campaign</td>\n      <td>13.08.2019</td>\n      <td>1972</td>\n      <td>65827</td>\n      <td>49531</td>\n      <td>7568</td>\n      <td>2213</td>\n      <td>2058</td>\n      <td>1391</td>\n      <td>812</td>\n    </tr>\n    <tr>\n      <th>13</th>\n      <td>Test Campaign</td>\n      <td>14.08.2019</td>\n      <td>2537</td>\n      <td>56304</td>\n      <td>25982</td>\n      <td>3993</td>\n      <td>1979</td>\n      <td>1059</td>\n      <td>779</td>\n      <td>340</td>\n    </tr>\n    <tr>\n      <th>14</th>\n      <td>Test Campaign</td>\n      <td>15.08.2019</td>\n      <td>2516</td>\n      <td>94338</td>\n      <td>76219</td>\n      <td>4993</td>\n      <td>2537</td>\n      <td>1609</td>\n      <td>1090</td>\n      <td>398</td>\n    </tr>\n    <tr>\n      <th>15</th>\n      <td>Test Campaign</td>\n      <td>16.08.2019</td>\n      <td>3076</td>\n      <td>106584</td>\n      <td>81389</td>\n      <td>6800</td>\n      <td>2661</td>\n      <td>2594</td>\n      <td>1059</td>\n      <td>487</td>\n    </tr>\n    <tr>\n      <th>16</th>\n      <td>Test Campaign</td>\n      <td>17.08.2019</td>\n      <td>1968</td>\n      <td>95843</td>\n      <td>54389</td>\n      <td>7910</td>\n      <td>1995</td>\n      <td>1576</td>\n      <td>383</td>\n      <td>238</td>\n    </tr>\n    <tr>\n      <th>17</th>\n      <td>Test Campaign</td>\n      <td>18.08.2019</td>\n      <td>1979</td>\n      <td>53632</td>\n      <td>43241</td>\n      <td>6909</td>\n      <td>2824</td>\n      <td>2522</td>\n      <td>461</td>\n      <td>257</td>\n    </tr>\n    <tr>\n      <th>18</th>\n      <td>Test Campaign</td>\n      <td>19.08.2019</td>\n      <td>2626</td>\n      <td>22521</td>\n      <td>10698</td>\n      <td>7617</td>\n      <td>2924</td>\n      <td>2801</td>\n      <td>788</td>\n      <td>512</td>\n    </tr>\n    <tr>\n      <th>19</th>\n      <td>Test Campaign</td>\n      <td>20.08.2019</td>\n      <td>2712</td>\n      <td>39470</td>\n      <td>31893</td>\n      <td>6050</td>\n      <td>2061</td>\n      <td>1894</td>\n      <td>1047</td>\n      <td>730</td>\n    </tr>\n    <tr>\n      <th>20</th>\n      <td>Test Campaign</td>\n      <td>21.08.2019</td>\n      <td>3112</td>\n      <td>133771</td>\n      <td>109834</td>\n      <td>5471</td>\n      <td>1995</td>\n      <td>1868</td>\n      <td>278</td>\n      <td>245</td>\n    </tr>\n    <tr>\n      <th>21</th>\n      <td>Test Campaign</td>\n      <td>22.08.2019</td>\n      <td>2899</td>\n      <td>34752</td>\n      <td>27932</td>\n      <td>4431</td>\n      <td>1983</td>\n      <td>1131</td>\n      <td>367</td>\n      <td>276</td>\n    </tr>\n    <tr>\n      <th>22</th>\n      <td>Test Campaign</td>\n      <td>23.08.2019</td>\n      <td>2407</td>\n      <td>60286</td>\n      <td>49329</td>\n      <td>5077</td>\n      <td>2592</td>\n      <td>2004</td>\n      <td>632</td>\n      <td>473</td>\n    </tr>\n    <tr>\n      <th>23</th>\n      <td>Test Campaign</td>\n      <td>24.08.2019</td>\n      <td>2078</td>\n      <td>36650</td>\n      <td>30489</td>\n      <td>7156</td>\n      <td>2687</td>\n      <td>2427</td>\n      <td>327</td>\n      <td>269</td>\n    </tr>\n    <tr>\n      <th>24</th>\n      <td>Test Campaign</td>\n      <td>25.08.2019</td>\n      <td>2928</td>\n      <td>120576</td>\n      <td>105978</td>\n      <td>3596</td>\n      <td>2937</td>\n      <td>2551</td>\n      <td>1228</td>\n      <td>651</td>\n    </tr>\n    <tr>\n      <th>25</th>\n      <td>Test Campaign</td>\n      <td>26.08.2019</td>\n      <td>2311</td>\n      <td>80841</td>\n      <td>61589</td>\n      <td>3820</td>\n      <td>2037</td>\n      <td>1046</td>\n      <td>346</td>\n      <td>284</td>\n    </tr>\n    <tr>\n      <th>26</th>\n      <td>Test Campaign</td>\n      <td>27.08.2019</td>\n      <td>2915</td>\n      <td>111469</td>\n      <td>92159</td>\n      <td>6435</td>\n      <td>2976</td>\n      <td>2552</td>\n      <td>992</td>\n      <td>771</td>\n    </tr>\n    <tr>\n      <th>27</th>\n      <td>Test Campaign</td>\n      <td>28.08.2019</td>\n      <td>2247</td>\n      <td>54627</td>\n      <td>41267</td>\n      <td>8144</td>\n      <td>2432</td>\n      <td>1281</td>\n      <td>1009</td>\n      <td>721</td>\n    </tr>\n    <tr>\n      <th>28</th>\n      <td>Test Campaign</td>\n      <td>29.08.2019</td>\n      <td>2805</td>\n      <td>67444</td>\n      <td>43219</td>\n      <td>7651</td>\n      <td>1920</td>\n      <td>1240</td>\n      <td>1168</td>\n      <td>677</td>\n    </tr>\n    <tr>\n      <th>29</th>\n      <td>Test Campaign</td>\n      <td>30.08.2019</td>\n      <td>1977</td>\n      <td>120203</td>\n      <td>89380</td>\n      <td>4399</td>\n      <td>2978</td>\n      <td>1625</td>\n      <td>1034</td>\n      <td>572</td>\n    </tr>\n  </tbody>\n</table>\n</div>"
     },
     "execution_count": 4,
     "metadata": {},
     "output_type": "execute_result"
    }
   ],
   "source": [
    "test_data = pd.read_csv('Dataset/test_group.csv', sep = ';')\n",
    "test_data"
   ],
   "metadata": {
    "collapsed": false,
    "pycharm": {
     "name": "#%%\n"
    }
   }
  },
  {
   "cell_type": "markdown",
   "source": [
    "### Assessing the Datasets\n",
    "Next, let's find out the shapes of the two datasets to see if they match to eliminate any need for data manipulation."
   ],
   "metadata": {
    "collapsed": false,
    "pycharm": {
     "name": "#%% md\n"
    }
   }
  },
  {
   "cell_type": "code",
   "execution_count": 5,
   "outputs": [
    {
     "name": "stdout",
     "output_type": "stream",
     "text": [
      "Control Data Shape: (30, 10)\n",
      "Test Data Shape: (30, 10)\n"
     ]
    }
   ],
   "source": [
    "print(f'Control Data Shape: {control_data.shape}\\nTest Data Shape: {test_data.shape}')"
   ],
   "metadata": {
    "collapsed": false,
    "pycharm": {
     "name": "#%%\n"
    }
   }
  },
  {
   "cell_type": "markdown",
   "source": [
    "As we can see, the number of observations for both the campaign are equal in number, so ther would not be any biasness towards a specific campaign. Also, the number of factors these campaigns had been evaluated are equal as well, removing any discrepancies while comparing the two."
   ],
   "metadata": {
    "collapsed": false,
    "pycharm": {
     "name": "#%% md\n"
    }
   }
  },
  {
   "cell_type": "markdown",
   "source": [
    "Next, I shall look at the basic info of the two datasets to look at errors in dataset structures, data types, and to look for potential missing values."
   ],
   "metadata": {
    "collapsed": false,
    "pycharm": {
     "name": "#%% md\n"
    }
   }
  },
  {
   "cell_type": "code",
   "execution_count": 7,
   "outputs": [
    {
     "name": "stdout",
     "output_type": "stream",
     "text": [
      "<class 'pandas.core.frame.DataFrame'>\n",
      "RangeIndex: 30 entries, 0 to 29\n",
      "Data columns (total 10 columns):\n",
      " #   Column               Non-Null Count  Dtype  \n",
      "---  ------               --------------  -----  \n",
      " 0   Campaign Name        30 non-null     object \n",
      " 1   Date                 30 non-null     object \n",
      " 2   Spend [USD]          30 non-null     int64  \n",
      " 3   # of Impressions     29 non-null     float64\n",
      " 4   Reach                29 non-null     float64\n",
      " 5   # of Website Clicks  29 non-null     float64\n",
      " 6   # of Searches        29 non-null     float64\n",
      " 7   # of View Content    29 non-null     float64\n",
      " 8   # of Add to Cart     29 non-null     float64\n",
      " 9   # of Purchase        29 non-null     float64\n",
      "dtypes: float64(7), int64(1), object(2)\n",
      "memory usage: 2.5+ KB\n"
     ]
    }
   ],
   "source": [
    "control_data.info()"
   ],
   "metadata": {
    "collapsed": false,
    "pycharm": {
     "name": "#%%\n"
    }
   }
  },
  {
   "cell_type": "code",
   "execution_count": 8,
   "outputs": [
    {
     "name": "stdout",
     "output_type": "stream",
     "text": [
      "<class 'pandas.core.frame.DataFrame'>\n",
      "RangeIndex: 30 entries, 0 to 29\n",
      "Data columns (total 10 columns):\n",
      " #   Column               Non-Null Count  Dtype \n",
      "---  ------               --------------  ----- \n",
      " 0   Campaign Name        30 non-null     object\n",
      " 1   Date                 30 non-null     object\n",
      " 2   Spend [USD]          30 non-null     int64 \n",
      " 3   # of Impressions     30 non-null     int64 \n",
      " 4   Reach                30 non-null     int64 \n",
      " 5   # of Website Clicks  30 non-null     int64 \n",
      " 6   # of Searches        30 non-null     int64 \n",
      " 7   # of View Content    30 non-null     int64 \n",
      " 8   # of Add to Cart     30 non-null     int64 \n",
      " 9   # of Purchase        30 non-null     int64 \n",
      "dtypes: int64(8), object(2)\n",
      "memory usage: 2.5+ KB\n"
     ]
    }
   ],
   "source": [
    "test_data.info()"
   ],
   "metadata": {
    "collapsed": false,
    "pycharm": {
     "name": "#%%\n"
    }
   }
  },
  {
   "cell_type": "markdown",
   "source": [
    "We can see that the control dataset has null values in it as the number of non-null rows in each column of the dataset does not match. Also, the data types for all the columns do not match in both the datasets. Hence, these need to be addressed.\n",
    "\n",
    "But before that, I need to change the column names of both the datasets to avoid errors raised due to the symbols being used in the column names."
   ],
   "metadata": {
    "collapsed": false,
    "pycharm": {
     "name": "#%% md\n"
    }
   }
  },
  {
   "cell_type": "code",
   "execution_count": null,
   "outputs": [],
   "source": [],
   "metadata": {
    "collapsed": false,
    "pycharm": {
     "name": "#%%\n"
    }
   }
  }
 ],
 "metadata": {
  "kernelspec": {
   "display_name": "Python 3",
   "language": "python",
   "name": "python3"
  },
  "language_info": {
   "codemirror_mode": {
    "name": "ipython",
    "version": 2
   },
   "file_extension": ".py",
   "mimetype": "text/x-python",
   "name": "python",
   "nbconvert_exporter": "python",
   "pygments_lexer": "ipython2",
   "version": "2.7.6"
  }
 },
 "nbformat": 4,
 "nbformat_minor": 0
}