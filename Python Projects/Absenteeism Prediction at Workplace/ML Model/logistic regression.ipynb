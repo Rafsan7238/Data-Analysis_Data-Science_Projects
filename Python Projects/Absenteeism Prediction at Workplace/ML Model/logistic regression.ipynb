{
 "cells": [
  {
   "cell_type": "markdown",
   "source": [
    "# Building Logistic Regression Model for Absenteeism Project\n",
    "\n",
    "Now that we have our preprocessed data, we can start building a model that can take in the predictors and predict whether a random person is likely to be absent at work.\n",
    "\n",
    "In this notebook, we will be creating a Logistic Regression (Logit) model to do the job."
   ],
   "metadata": {
    "collapsed": false,
    "pycharm": {
     "name": "#%% md\n"
    }
   }
  },
  {
   "cell_type": "markdown",
   "source": [
    "## Import the Necessary Libraries"
   ],
   "metadata": {
    "collapsed": false,
    "pycharm": {
     "name": "#%% md\n"
    }
   }
  },
  {
   "cell_type": "code",
   "execution_count": 1,
   "metadata": {
    "collapsed": true,
    "pycharm": {
     "name": "#%%\n"
    }
   },
   "outputs": [],
   "source": [
    "import pandas as pd\n",
    "import numpy as np\n",
    "\n",
    "from sklearn.preprocessing import StandardScaler\n",
    "from sklearn.model_selection import train_test_split\n",
    "from sklearn.linear_model import LogisticRegression\n",
    "from sklearn import metrics\n",
    "from sklearn.base import BaseEstimator, TransformerMixin"
   ]
  },
  {
   "cell_type": "markdown",
   "source": [
    "## Import the Data"
   ],
   "metadata": {
    "collapsed": false,
    "pycharm": {
     "name": "#%% md\n"
    }
   }
  },
  {
   "cell_type": "code",
   "execution_count": 2,
   "outputs": [
    {
     "data": {
      "text/plain": "     Reason 1  Reason 2  Reason 3  Reason 4  Month Value  Day of the Week  \\\n0           0         0         0         1            7                1   \n1           0         0         0         0            7                1   \n2           0         0         0         1            7                2   \n3           1         0         0         0            7                3   \n4           0         0         0         1            7                3   \n..        ...       ...       ...       ...          ...              ...   \n695         1         0         0         0            5                2   \n696         1         0         0         0            5                2   \n697         1         0         0         0            5                3   \n698         0         0         0         1            5                3   \n699         0         0         0         1            5                3   \n\n     Transportation Expense  Distance to Work  Age  Daily Work Load Average  \\\n0                       289                36   33                  239.554   \n1                       118                13   50                  239.554   \n2                       179                51   38                  239.554   \n3                       279                 5   39                  239.554   \n4                       289                36   33                  239.554   \n..                      ...               ...  ...                      ...   \n695                     179                22   40                  237.656   \n696                     225                26   28                  237.656   \n697                     330                16   28                  237.656   \n698                     235                16   32                  237.656   \n699                     291                31   40                  237.656   \n\n     Body Mass Index  Education  Children  Pets  Absenteeism Time in Hours  \n0                 30          0         2     1                          4  \n1                 31          0         1     0                          0  \n2                 31          0         0     0                          2  \n3                 24          0         2     0                          4  \n4                 30          0         2     1                          2  \n..               ...        ...       ...   ...                        ...  \n695               22          1         2     0                          8  \n696               24          0         1     2                          3  \n697               25          1         0     0                          8  \n698               25          1         0     0                          2  \n699               25          0         1     1                          2  \n\n[700 rows x 15 columns]",
      "text/html": "<div>\n<style scoped>\n    .dataframe tbody tr th:only-of-type {\n        vertical-align: middle;\n    }\n\n    .dataframe tbody tr th {\n        vertical-align: top;\n    }\n\n    .dataframe thead th {\n        text-align: right;\n    }\n</style>\n<table border=\"1\" class=\"dataframe\">\n  <thead>\n    <tr style=\"text-align: right;\">\n      <th></th>\n      <th>Reason 1</th>\n      <th>Reason 2</th>\n      <th>Reason 3</th>\n      <th>Reason 4</th>\n      <th>Month Value</th>\n      <th>Day of the Week</th>\n      <th>Transportation Expense</th>\n      <th>Distance to Work</th>\n      <th>Age</th>\n      <th>Daily Work Load Average</th>\n      <th>Body Mass Index</th>\n      <th>Education</th>\n      <th>Children</th>\n      <th>Pets</th>\n      <th>Absenteeism Time in Hours</th>\n    </tr>\n  </thead>\n  <tbody>\n    <tr>\n      <th>0</th>\n      <td>0</td>\n      <td>0</td>\n      <td>0</td>\n      <td>1</td>\n      <td>7</td>\n      <td>1</td>\n      <td>289</td>\n      <td>36</td>\n      <td>33</td>\n      <td>239.554</td>\n      <td>30</td>\n      <td>0</td>\n      <td>2</td>\n      <td>1</td>\n      <td>4</td>\n    </tr>\n    <tr>\n      <th>1</th>\n      <td>0</td>\n      <td>0</td>\n      <td>0</td>\n      <td>0</td>\n      <td>7</td>\n      <td>1</td>\n      <td>118</td>\n      <td>13</td>\n      <td>50</td>\n      <td>239.554</td>\n      <td>31</td>\n      <td>0</td>\n      <td>1</td>\n      <td>0</td>\n      <td>0</td>\n    </tr>\n    <tr>\n      <th>2</th>\n      <td>0</td>\n      <td>0</td>\n      <td>0</td>\n      <td>1</td>\n      <td>7</td>\n      <td>2</td>\n      <td>179</td>\n      <td>51</td>\n      <td>38</td>\n      <td>239.554</td>\n      <td>31</td>\n      <td>0</td>\n      <td>0</td>\n      <td>0</td>\n      <td>2</td>\n    </tr>\n    <tr>\n      <th>3</th>\n      <td>1</td>\n      <td>0</td>\n      <td>0</td>\n      <td>0</td>\n      <td>7</td>\n      <td>3</td>\n      <td>279</td>\n      <td>5</td>\n      <td>39</td>\n      <td>239.554</td>\n      <td>24</td>\n      <td>0</td>\n      <td>2</td>\n      <td>0</td>\n      <td>4</td>\n    </tr>\n    <tr>\n      <th>4</th>\n      <td>0</td>\n      <td>0</td>\n      <td>0</td>\n      <td>1</td>\n      <td>7</td>\n      <td>3</td>\n      <td>289</td>\n      <td>36</td>\n      <td>33</td>\n      <td>239.554</td>\n      <td>30</td>\n      <td>0</td>\n      <td>2</td>\n      <td>1</td>\n      <td>2</td>\n    </tr>\n    <tr>\n      <th>...</th>\n      <td>...</td>\n      <td>...</td>\n      <td>...</td>\n      <td>...</td>\n      <td>...</td>\n      <td>...</td>\n      <td>...</td>\n      <td>...</td>\n      <td>...</td>\n      <td>...</td>\n      <td>...</td>\n      <td>...</td>\n      <td>...</td>\n      <td>...</td>\n      <td>...</td>\n    </tr>\n    <tr>\n      <th>695</th>\n      <td>1</td>\n      <td>0</td>\n      <td>0</td>\n      <td>0</td>\n      <td>5</td>\n      <td>2</td>\n      <td>179</td>\n      <td>22</td>\n      <td>40</td>\n      <td>237.656</td>\n      <td>22</td>\n      <td>1</td>\n      <td>2</td>\n      <td>0</td>\n      <td>8</td>\n    </tr>\n    <tr>\n      <th>696</th>\n      <td>1</td>\n      <td>0</td>\n      <td>0</td>\n      <td>0</td>\n      <td>5</td>\n      <td>2</td>\n      <td>225</td>\n      <td>26</td>\n      <td>28</td>\n      <td>237.656</td>\n      <td>24</td>\n      <td>0</td>\n      <td>1</td>\n      <td>2</td>\n      <td>3</td>\n    </tr>\n    <tr>\n      <th>697</th>\n      <td>1</td>\n      <td>0</td>\n      <td>0</td>\n      <td>0</td>\n      <td>5</td>\n      <td>3</td>\n      <td>330</td>\n      <td>16</td>\n      <td>28</td>\n      <td>237.656</td>\n      <td>25</td>\n      <td>1</td>\n      <td>0</td>\n      <td>0</td>\n      <td>8</td>\n    </tr>\n    <tr>\n      <th>698</th>\n      <td>0</td>\n      <td>0</td>\n      <td>0</td>\n      <td>1</td>\n      <td>5</td>\n      <td>3</td>\n      <td>235</td>\n      <td>16</td>\n      <td>32</td>\n      <td>237.656</td>\n      <td>25</td>\n      <td>1</td>\n      <td>0</td>\n      <td>0</td>\n      <td>2</td>\n    </tr>\n    <tr>\n      <th>699</th>\n      <td>0</td>\n      <td>0</td>\n      <td>0</td>\n      <td>1</td>\n      <td>5</td>\n      <td>3</td>\n      <td>291</td>\n      <td>31</td>\n      <td>40</td>\n      <td>237.656</td>\n      <td>25</td>\n      <td>0</td>\n      <td>1</td>\n      <td>1</td>\n      <td>2</td>\n    </tr>\n  </tbody>\n</table>\n<p>700 rows × 15 columns</p>\n</div>"
     },
     "execution_count": 2,
     "metadata": {},
     "output_type": "execute_result"
    }
   ],
   "source": [
    "data_preprocessed = pd.read_csv('../Dataset/Absenteeism_preprocessed.csv')\n",
    "data_preprocessed"
   ],
   "metadata": {
    "collapsed": false,
    "pycharm": {
     "name": "#%%\n"
    }
   }
  },
  {
   "cell_type": "markdown",
   "source": [
    "## Create the Targets\n",
    "\n",
    "For this project, we will be differentiating between excessive absenteeism and moderate absenteeism. For that, we will create target variable containing 1 or 0 for each depending on if the `Absenteeism Time in Hours` is more than or less than its median value respectively.\n",
    "\n",
    "Finally, we can drop the `Absenteeism Time in Hours` column from the dataframe as it won't be needed anymore."
   ],
   "metadata": {
    "collapsed": false,
    "pycharm": {
     "name": "#%% md\n"
    }
   }
  },
  {
   "cell_type": "code",
   "execution_count": 3,
   "outputs": [
    {
     "data": {
      "text/plain": "array([1, 0, 0, 1, 0, 0, 1, 1, 1, 1, 1, 1, 1, 0, 1, 1, 0, 1, 1, 0, 1, 0,\n       1, 1, 1, 1, 0, 1, 1, 0, 1, 1, 1, 1, 0, 0, 1, 1, 1, 1, 0, 1, 1, 1,\n       0, 0, 0, 1, 1, 1, 0, 0, 0, 0, 0, 0, 0, 0, 0, 0, 0, 1, 0, 0, 0, 0,\n       0, 0, 0, 0, 0, 1, 1, 0, 1, 1, 0, 1, 0, 0, 0, 0, 1, 1, 1, 1, 1, 1,\n       0, 1, 0, 1, 0, 1, 0, 0, 1, 0, 0, 1, 0, 1, 0, 1, 1, 1, 0, 0, 0, 1,\n       0, 1, 0, 0, 0, 0, 1, 0, 0, 0, 0, 0, 0, 0, 0, 0, 0, 0, 0, 1, 1, 0,\n       0, 0, 0, 0, 0, 0, 1, 1, 0, 1, 0, 1, 1, 1, 0, 0, 0, 1, 0, 1, 0, 0,\n       1, 0, 1, 0, 1, 1, 1, 1, 0, 1, 1, 1, 1, 1, 1, 1, 1, 0, 1, 1, 0, 1,\n       0, 1, 1, 0, 1, 0, 0, 0, 0, 0, 0, 1, 0, 0, 1, 1, 0, 0, 1, 0, 1, 1,\n       1, 1, 1, 1, 0, 0, 1, 0, 0, 1, 1, 1, 0, 0, 1, 0, 0, 0, 0, 0, 1, 1,\n       1, 1, 1, 1, 1, 1, 1, 1, 1, 1, 0, 1, 1, 0, 0, 0, 1, 1, 1, 1, 1, 1,\n       0, 1, 1, 0, 1, 1, 1, 1, 1, 0, 1, 0, 0, 1, 0, 0, 1, 1, 0, 1, 0, 0,\n       0, 0, 0, 1, 1, 1, 1, 0, 1, 0, 1, 0, 0, 0, 1, 1, 0, 1, 1, 1, 0, 0,\n       0, 1, 1, 1, 1, 1, 1, 0, 0, 1, 0, 1, 0, 1, 0, 1, 0, 0, 0, 0, 0, 1,\n       1, 0, 1, 0, 0, 0, 1, 1, 0, 1, 0, 1, 0, 0, 1, 1, 1, 0, 0, 0, 0, 0,\n       1, 1, 1, 0, 1, 1, 0, 0, 0, 0, 0, 0, 0, 0, 1, 1, 0, 0, 0, 1, 0, 0,\n       1, 1, 1, 0, 0, 1, 1, 1, 0, 0, 1, 1, 1, 1, 1, 0, 0, 0, 0, 0, 0, 0,\n       0, 0, 0, 1, 1, 0, 1, 0, 0, 0, 1, 0, 0, 1, 0, 0, 1, 1, 0, 1, 0, 1,\n       1, 1, 1, 1, 0, 1, 0, 0, 1, 0, 0, 0, 1, 1, 1, 0, 1, 0, 1, 1, 1, 1,\n       1, 0, 1, 1, 1, 1, 0, 1, 0, 1, 0, 1, 0, 0, 0, 0, 1, 0, 1, 0, 0, 1,\n       0, 0, 0, 0, 1, 1, 0, 1, 1, 0, 1, 1, 0, 0, 0, 1, 0, 0, 0, 1, 0, 1,\n       1, 1, 1, 1, 1, 1, 1, 0, 0, 1, 0, 0, 1, 1, 1, 0, 0, 0, 1, 0, 1, 1,\n       1, 1, 1, 1, 1, 1, 1, 0, 1, 0, 0, 0, 0, 0, 0, 0, 1, 0, 1, 0, 0, 1,\n       1, 0, 0, 1, 0, 0, 0, 0, 0, 0, 1, 0, 1, 1, 0, 0, 0, 1, 0, 1, 0, 1,\n       1, 1, 0, 0, 0, 0, 1, 0, 1, 1, 1, 1, 1, 0, 0, 0, 0, 1, 1, 0, 0, 0,\n       1, 0, 0, 1, 0, 1, 0, 0, 0, 0, 0, 1, 0, 1, 1, 1, 0, 0, 0, 1, 1, 1,\n       0, 0, 0, 0, 1, 0, 0, 1, 0, 0, 1, 0, 0, 1, 0, 1, 0, 0, 0, 0, 0, 0,\n       0, 0, 1, 0, 0, 0, 0, 0, 0, 0, 0, 0, 1, 0, 1, 0, 0, 0, 0, 0, 0, 0,\n       0, 0, 0, 0, 0, 0, 1, 0, 0, 0, 0, 0, 0, 1, 1, 0, 0, 0, 1, 0, 0, 1,\n       0, 1, 0, 0, 0, 0, 0, 0, 0, 1, 1, 0, 0, 0, 1, 1, 1, 1, 1, 1, 1, 0,\n       1, 0, 0, 0, 0, 1, 0, 1, 0, 0, 1, 1, 0, 0, 1, 0, 0, 0, 1, 0, 0, 1,\n       1, 1, 0, 0, 0, 0, 0, 0, 0, 0, 1, 1, 1, 1, 0, 1, 0, 0])"
     },
     "execution_count": 3,
     "metadata": {},
     "output_type": "execute_result"
    }
   ],
   "source": [
    "# create a target variable based on the median of `Absenteeism Time in Hours`\n",
    "targets = np.where(data_preprocessed['Absenteeism Time in Hours'] > data_preprocessed['Absenteeism Time in Hours'].median(), 1, 0)\n",
    "targets"
   ],
   "metadata": {
    "collapsed": false,
    "pycharm": {
     "name": "#%%\n"
    }
   }
  },
  {
   "cell_type": "code",
   "execution_count": 4,
   "outputs": [
    {
     "data": {
      "text/plain": "     Reason 1  Reason 2  Reason 3  Reason 4  Month Value  Day of the Week  \\\n0           0         0         0         1            7                1   \n1           0         0         0         0            7                1   \n2           0         0         0         1            7                2   \n3           1         0         0         0            7                3   \n4           0         0         0         1            7                3   \n..        ...       ...       ...       ...          ...              ...   \n695         1         0         0         0            5                2   \n696         1         0         0         0            5                2   \n697         1         0         0         0            5                3   \n698         0         0         0         1            5                3   \n699         0         0         0         1            5                3   \n\n     Transportation Expense  Distance to Work  Age  Daily Work Load Average  \\\n0                       289                36   33                  239.554   \n1                       118                13   50                  239.554   \n2                       179                51   38                  239.554   \n3                       279                 5   39                  239.554   \n4                       289                36   33                  239.554   \n..                      ...               ...  ...                      ...   \n695                     179                22   40                  237.656   \n696                     225                26   28                  237.656   \n697                     330                16   28                  237.656   \n698                     235                16   32                  237.656   \n699                     291                31   40                  237.656   \n\n     Body Mass Index  Education  Children  Pets  Absenteeism Time in Hours  \\\n0                 30          0         2     1                          4   \n1                 31          0         1     0                          0   \n2                 31          0         0     0                          2   \n3                 24          0         2     0                          4   \n4                 30          0         2     1                          2   \n..               ...        ...       ...   ...                        ...   \n695               22          1         2     0                          8   \n696               24          0         1     2                          3   \n697               25          1         0     0                          8   \n698               25          1         0     0                          2   \n699               25          0         1     1                          2   \n\n     Excessive Absenteeism  \n0                        1  \n1                        0  \n2                        0  \n3                        1  \n4                        0  \n..                     ...  \n695                      1  \n696                      0  \n697                      1  \n698                      0  \n699                      0  \n\n[700 rows x 16 columns]",
      "text/html": "<div>\n<style scoped>\n    .dataframe tbody tr th:only-of-type {\n        vertical-align: middle;\n    }\n\n    .dataframe tbody tr th {\n        vertical-align: top;\n    }\n\n    .dataframe thead th {\n        text-align: right;\n    }\n</style>\n<table border=\"1\" class=\"dataframe\">\n  <thead>\n    <tr style=\"text-align: right;\">\n      <th></th>\n      <th>Reason 1</th>\n      <th>Reason 2</th>\n      <th>Reason 3</th>\n      <th>Reason 4</th>\n      <th>Month Value</th>\n      <th>Day of the Week</th>\n      <th>Transportation Expense</th>\n      <th>Distance to Work</th>\n      <th>Age</th>\n      <th>Daily Work Load Average</th>\n      <th>Body Mass Index</th>\n      <th>Education</th>\n      <th>Children</th>\n      <th>Pets</th>\n      <th>Absenteeism Time in Hours</th>\n      <th>Excessive Absenteeism</th>\n    </tr>\n  </thead>\n  <tbody>\n    <tr>\n      <th>0</th>\n      <td>0</td>\n      <td>0</td>\n      <td>0</td>\n      <td>1</td>\n      <td>7</td>\n      <td>1</td>\n      <td>289</td>\n      <td>36</td>\n      <td>33</td>\n      <td>239.554</td>\n      <td>30</td>\n      <td>0</td>\n      <td>2</td>\n      <td>1</td>\n      <td>4</td>\n      <td>1</td>\n    </tr>\n    <tr>\n      <th>1</th>\n      <td>0</td>\n      <td>0</td>\n      <td>0</td>\n      <td>0</td>\n      <td>7</td>\n      <td>1</td>\n      <td>118</td>\n      <td>13</td>\n      <td>50</td>\n      <td>239.554</td>\n      <td>31</td>\n      <td>0</td>\n      <td>1</td>\n      <td>0</td>\n      <td>0</td>\n      <td>0</td>\n    </tr>\n    <tr>\n      <th>2</th>\n      <td>0</td>\n      <td>0</td>\n      <td>0</td>\n      <td>1</td>\n      <td>7</td>\n      <td>2</td>\n      <td>179</td>\n      <td>51</td>\n      <td>38</td>\n      <td>239.554</td>\n      <td>31</td>\n      <td>0</td>\n      <td>0</td>\n      <td>0</td>\n      <td>2</td>\n      <td>0</td>\n    </tr>\n    <tr>\n      <th>3</th>\n      <td>1</td>\n      <td>0</td>\n      <td>0</td>\n      <td>0</td>\n      <td>7</td>\n      <td>3</td>\n      <td>279</td>\n      <td>5</td>\n      <td>39</td>\n      <td>239.554</td>\n      <td>24</td>\n      <td>0</td>\n      <td>2</td>\n      <td>0</td>\n      <td>4</td>\n      <td>1</td>\n    </tr>\n    <tr>\n      <th>4</th>\n      <td>0</td>\n      <td>0</td>\n      <td>0</td>\n      <td>1</td>\n      <td>7</td>\n      <td>3</td>\n      <td>289</td>\n      <td>36</td>\n      <td>33</td>\n      <td>239.554</td>\n      <td>30</td>\n      <td>0</td>\n      <td>2</td>\n      <td>1</td>\n      <td>2</td>\n      <td>0</td>\n    </tr>\n    <tr>\n      <th>...</th>\n      <td>...</td>\n      <td>...</td>\n      <td>...</td>\n      <td>...</td>\n      <td>...</td>\n      <td>...</td>\n      <td>...</td>\n      <td>...</td>\n      <td>...</td>\n      <td>...</td>\n      <td>...</td>\n      <td>...</td>\n      <td>...</td>\n      <td>...</td>\n      <td>...</td>\n      <td>...</td>\n    </tr>\n    <tr>\n      <th>695</th>\n      <td>1</td>\n      <td>0</td>\n      <td>0</td>\n      <td>0</td>\n      <td>5</td>\n      <td>2</td>\n      <td>179</td>\n      <td>22</td>\n      <td>40</td>\n      <td>237.656</td>\n      <td>22</td>\n      <td>1</td>\n      <td>2</td>\n      <td>0</td>\n      <td>8</td>\n      <td>1</td>\n    </tr>\n    <tr>\n      <th>696</th>\n      <td>1</td>\n      <td>0</td>\n      <td>0</td>\n      <td>0</td>\n      <td>5</td>\n      <td>2</td>\n      <td>225</td>\n      <td>26</td>\n      <td>28</td>\n      <td>237.656</td>\n      <td>24</td>\n      <td>0</td>\n      <td>1</td>\n      <td>2</td>\n      <td>3</td>\n      <td>0</td>\n    </tr>\n    <tr>\n      <th>697</th>\n      <td>1</td>\n      <td>0</td>\n      <td>0</td>\n      <td>0</td>\n      <td>5</td>\n      <td>3</td>\n      <td>330</td>\n      <td>16</td>\n      <td>28</td>\n      <td>237.656</td>\n      <td>25</td>\n      <td>1</td>\n      <td>0</td>\n      <td>0</td>\n      <td>8</td>\n      <td>1</td>\n    </tr>\n    <tr>\n      <th>698</th>\n      <td>0</td>\n      <td>0</td>\n      <td>0</td>\n      <td>1</td>\n      <td>5</td>\n      <td>3</td>\n      <td>235</td>\n      <td>16</td>\n      <td>32</td>\n      <td>237.656</td>\n      <td>25</td>\n      <td>1</td>\n      <td>0</td>\n      <td>0</td>\n      <td>2</td>\n      <td>0</td>\n    </tr>\n    <tr>\n      <th>699</th>\n      <td>0</td>\n      <td>0</td>\n      <td>0</td>\n      <td>1</td>\n      <td>5</td>\n      <td>3</td>\n      <td>291</td>\n      <td>31</td>\n      <td>40</td>\n      <td>237.656</td>\n      <td>25</td>\n      <td>0</td>\n      <td>1</td>\n      <td>1</td>\n      <td>2</td>\n      <td>0</td>\n    </tr>\n  </tbody>\n</table>\n<p>700 rows × 16 columns</p>\n</div>"
     },
     "execution_count": 4,
     "metadata": {},
     "output_type": "execute_result"
    }
   ],
   "source": [
    "# add the newly created targets to the dataframe\n",
    "data_preprocessed['Excessive Absenteeism'] = targets\n",
    "data_preprocessed"
   ],
   "metadata": {
    "collapsed": false,
    "pycharm": {
     "name": "#%%\n"
    }
   }
  },
  {
   "cell_type": "code",
   "execution_count": 5,
   "outputs": [
    {
     "data": {
      "text/plain": "     Reason 1  Reason 2  Reason 3  Reason 4  Month Value  Day of the Week  \\\n0           0         0         0         1            7                1   \n1           0         0         0         0            7                1   \n2           0         0         0         1            7                2   \n3           1         0         0         0            7                3   \n4           0         0         0         1            7                3   \n..        ...       ...       ...       ...          ...              ...   \n695         1         0         0         0            5                2   \n696         1         0         0         0            5                2   \n697         1         0         0         0            5                3   \n698         0         0         0         1            5                3   \n699         0         0         0         1            5                3   \n\n     Transportation Expense  Distance to Work  Age  Daily Work Load Average  \\\n0                       289                36   33                  239.554   \n1                       118                13   50                  239.554   \n2                       179                51   38                  239.554   \n3                       279                 5   39                  239.554   \n4                       289                36   33                  239.554   \n..                      ...               ...  ...                      ...   \n695                     179                22   40                  237.656   \n696                     225                26   28                  237.656   \n697                     330                16   28                  237.656   \n698                     235                16   32                  237.656   \n699                     291                31   40                  237.656   \n\n     Body Mass Index  Education  Children  Pets  Excessive Absenteeism  \n0                 30          0         2     1                      1  \n1                 31          0         1     0                      0  \n2                 31          0         0     0                      0  \n3                 24          0         2     0                      1  \n4                 30          0         2     1                      0  \n..               ...        ...       ...   ...                    ...  \n695               22          1         2     0                      1  \n696               24          0         1     2                      0  \n697               25          1         0     0                      1  \n698               25          1         0     0                      0  \n699               25          0         1     1                      0  \n\n[700 rows x 15 columns]",
      "text/html": "<div>\n<style scoped>\n    .dataframe tbody tr th:only-of-type {\n        vertical-align: middle;\n    }\n\n    .dataframe tbody tr th {\n        vertical-align: top;\n    }\n\n    .dataframe thead th {\n        text-align: right;\n    }\n</style>\n<table border=\"1\" class=\"dataframe\">\n  <thead>\n    <tr style=\"text-align: right;\">\n      <th></th>\n      <th>Reason 1</th>\n      <th>Reason 2</th>\n      <th>Reason 3</th>\n      <th>Reason 4</th>\n      <th>Month Value</th>\n      <th>Day of the Week</th>\n      <th>Transportation Expense</th>\n      <th>Distance to Work</th>\n      <th>Age</th>\n      <th>Daily Work Load Average</th>\n      <th>Body Mass Index</th>\n      <th>Education</th>\n      <th>Children</th>\n      <th>Pets</th>\n      <th>Excessive Absenteeism</th>\n    </tr>\n  </thead>\n  <tbody>\n    <tr>\n      <th>0</th>\n      <td>0</td>\n      <td>0</td>\n      <td>0</td>\n      <td>1</td>\n      <td>7</td>\n      <td>1</td>\n      <td>289</td>\n      <td>36</td>\n      <td>33</td>\n      <td>239.554</td>\n      <td>30</td>\n      <td>0</td>\n      <td>2</td>\n      <td>1</td>\n      <td>1</td>\n    </tr>\n    <tr>\n      <th>1</th>\n      <td>0</td>\n      <td>0</td>\n      <td>0</td>\n      <td>0</td>\n      <td>7</td>\n      <td>1</td>\n      <td>118</td>\n      <td>13</td>\n      <td>50</td>\n      <td>239.554</td>\n      <td>31</td>\n      <td>0</td>\n      <td>1</td>\n      <td>0</td>\n      <td>0</td>\n    </tr>\n    <tr>\n      <th>2</th>\n      <td>0</td>\n      <td>0</td>\n      <td>0</td>\n      <td>1</td>\n      <td>7</td>\n      <td>2</td>\n      <td>179</td>\n      <td>51</td>\n      <td>38</td>\n      <td>239.554</td>\n      <td>31</td>\n      <td>0</td>\n      <td>0</td>\n      <td>0</td>\n      <td>0</td>\n    </tr>\n    <tr>\n      <th>3</th>\n      <td>1</td>\n      <td>0</td>\n      <td>0</td>\n      <td>0</td>\n      <td>7</td>\n      <td>3</td>\n      <td>279</td>\n      <td>5</td>\n      <td>39</td>\n      <td>239.554</td>\n      <td>24</td>\n      <td>0</td>\n      <td>2</td>\n      <td>0</td>\n      <td>1</td>\n    </tr>\n    <tr>\n      <th>4</th>\n      <td>0</td>\n      <td>0</td>\n      <td>0</td>\n      <td>1</td>\n      <td>7</td>\n      <td>3</td>\n      <td>289</td>\n      <td>36</td>\n      <td>33</td>\n      <td>239.554</td>\n      <td>30</td>\n      <td>0</td>\n      <td>2</td>\n      <td>1</td>\n      <td>0</td>\n    </tr>\n    <tr>\n      <th>...</th>\n      <td>...</td>\n      <td>...</td>\n      <td>...</td>\n      <td>...</td>\n      <td>...</td>\n      <td>...</td>\n      <td>...</td>\n      <td>...</td>\n      <td>...</td>\n      <td>...</td>\n      <td>...</td>\n      <td>...</td>\n      <td>...</td>\n      <td>...</td>\n      <td>...</td>\n    </tr>\n    <tr>\n      <th>695</th>\n      <td>1</td>\n      <td>0</td>\n      <td>0</td>\n      <td>0</td>\n      <td>5</td>\n      <td>2</td>\n      <td>179</td>\n      <td>22</td>\n      <td>40</td>\n      <td>237.656</td>\n      <td>22</td>\n      <td>1</td>\n      <td>2</td>\n      <td>0</td>\n      <td>1</td>\n    </tr>\n    <tr>\n      <th>696</th>\n      <td>1</td>\n      <td>0</td>\n      <td>0</td>\n      <td>0</td>\n      <td>5</td>\n      <td>2</td>\n      <td>225</td>\n      <td>26</td>\n      <td>28</td>\n      <td>237.656</td>\n      <td>24</td>\n      <td>0</td>\n      <td>1</td>\n      <td>2</td>\n      <td>0</td>\n    </tr>\n    <tr>\n      <th>697</th>\n      <td>1</td>\n      <td>0</td>\n      <td>0</td>\n      <td>0</td>\n      <td>5</td>\n      <td>3</td>\n      <td>330</td>\n      <td>16</td>\n      <td>28</td>\n      <td>237.656</td>\n      <td>25</td>\n      <td>1</td>\n      <td>0</td>\n      <td>0</td>\n      <td>1</td>\n    </tr>\n    <tr>\n      <th>698</th>\n      <td>0</td>\n      <td>0</td>\n      <td>0</td>\n      <td>1</td>\n      <td>5</td>\n      <td>3</td>\n      <td>235</td>\n      <td>16</td>\n      <td>32</td>\n      <td>237.656</td>\n      <td>25</td>\n      <td>1</td>\n      <td>0</td>\n      <td>0</td>\n      <td>0</td>\n    </tr>\n    <tr>\n      <th>699</th>\n      <td>0</td>\n      <td>0</td>\n      <td>0</td>\n      <td>1</td>\n      <td>5</td>\n      <td>3</td>\n      <td>291</td>\n      <td>31</td>\n      <td>40</td>\n      <td>237.656</td>\n      <td>25</td>\n      <td>0</td>\n      <td>1</td>\n      <td>1</td>\n      <td>0</td>\n    </tr>\n  </tbody>\n</table>\n<p>700 rows × 15 columns</p>\n</div>"
     },
     "execution_count": 5,
     "metadata": {},
     "output_type": "execute_result"
    }
   ],
   "source": [
    "# drop the `Absenteeism in Hours` column\n",
    "data_with_targets = data_preprocessed.drop(['Absenteeism Time in Hours'], axis=1)\n",
    "\n",
    "data_with_targets"
   ],
   "metadata": {
    "collapsed": false,
    "pycharm": {
     "name": "#%%\n"
    }
   }
  },
  {
   "cell_type": "markdown",
   "source": [
    "### Balancing classes\n",
    "\n",
    "For a good classification model, it is necessary to balance the classes of the samples in the dataset. It will create more generalised model."
   ],
   "metadata": {
    "collapsed": false,
    "pycharm": {
     "name": "#%% md\n"
    }
   }
  },
  {
   "cell_type": "code",
   "execution_count": 6,
   "outputs": [
    {
     "data": {
      "text/plain": "0.45571428571428574"
     },
     "execution_count": 6,
     "metadata": {},
     "output_type": "execute_result"
    }
   ],
   "source": [
    "# check the proportion of the 2 classes\n",
    "targets.sum() / targets.shape[0]"
   ],
   "metadata": {
    "collapsed": false,
    "pycharm": {
     "name": "#%%\n"
    }
   }
  },
  {
   "cell_type": "markdown",
   "source": [
    "As we can see, around 46% of the data belongs to class 1 (Excessive Absenteeism) while the rest 54% to class 0 (Moderate Absenteeism). Hence, the dataset is roughly balanced and does not need further interference."
   ],
   "metadata": {
    "collapsed": false,
    "pycharm": {
     "name": "#%% md\n"
    }
   }
  },
  {
   "cell_type": "markdown",
   "source": [
    "## Create the Inputs"
   ],
   "metadata": {
    "collapsed": false,
    "pycharm": {
     "name": "#%% md\n"
    }
   }
  },
  {
   "cell_type": "code",
   "execution_count": 7,
   "outputs": [
    {
     "data": {
      "text/plain": "     Reason 1  Reason 2  Reason 3  Reason 4  Month Value  Day of the Week  \\\n0           0         0         0         1            7                1   \n1           0         0         0         0            7                1   \n2           0         0         0         1            7                2   \n3           1         0         0         0            7                3   \n4           0         0         0         1            7                3   \n..        ...       ...       ...       ...          ...              ...   \n695         1         0         0         0            5                2   \n696         1         0         0         0            5                2   \n697         1         0         0         0            5                3   \n698         0         0         0         1            5                3   \n699         0         0         0         1            5                3   \n\n     Transportation Expense  Distance to Work  Age  Daily Work Load Average  \\\n0                       289                36   33                  239.554   \n1                       118                13   50                  239.554   \n2                       179                51   38                  239.554   \n3                       279                 5   39                  239.554   \n4                       289                36   33                  239.554   \n..                      ...               ...  ...                      ...   \n695                     179                22   40                  237.656   \n696                     225                26   28                  237.656   \n697                     330                16   28                  237.656   \n698                     235                16   32                  237.656   \n699                     291                31   40                  237.656   \n\n     Body Mass Index  Education  Children  Pets  \n0                 30          0         2     1  \n1                 31          0         1     0  \n2                 31          0         0     0  \n3                 24          0         2     0  \n4                 30          0         2     1  \n..               ...        ...       ...   ...  \n695               22          1         2     0  \n696               24          0         1     2  \n697               25          1         0     0  \n698               25          1         0     0  \n699               25          0         1     1  \n\n[700 rows x 14 columns]",
      "text/html": "<div>\n<style scoped>\n    .dataframe tbody tr th:only-of-type {\n        vertical-align: middle;\n    }\n\n    .dataframe tbody tr th {\n        vertical-align: top;\n    }\n\n    .dataframe thead th {\n        text-align: right;\n    }\n</style>\n<table border=\"1\" class=\"dataframe\">\n  <thead>\n    <tr style=\"text-align: right;\">\n      <th></th>\n      <th>Reason 1</th>\n      <th>Reason 2</th>\n      <th>Reason 3</th>\n      <th>Reason 4</th>\n      <th>Month Value</th>\n      <th>Day of the Week</th>\n      <th>Transportation Expense</th>\n      <th>Distance to Work</th>\n      <th>Age</th>\n      <th>Daily Work Load Average</th>\n      <th>Body Mass Index</th>\n      <th>Education</th>\n      <th>Children</th>\n      <th>Pets</th>\n    </tr>\n  </thead>\n  <tbody>\n    <tr>\n      <th>0</th>\n      <td>0</td>\n      <td>0</td>\n      <td>0</td>\n      <td>1</td>\n      <td>7</td>\n      <td>1</td>\n      <td>289</td>\n      <td>36</td>\n      <td>33</td>\n      <td>239.554</td>\n      <td>30</td>\n      <td>0</td>\n      <td>2</td>\n      <td>1</td>\n    </tr>\n    <tr>\n      <th>1</th>\n      <td>0</td>\n      <td>0</td>\n      <td>0</td>\n      <td>0</td>\n      <td>7</td>\n      <td>1</td>\n      <td>118</td>\n      <td>13</td>\n      <td>50</td>\n      <td>239.554</td>\n      <td>31</td>\n      <td>0</td>\n      <td>1</td>\n      <td>0</td>\n    </tr>\n    <tr>\n      <th>2</th>\n      <td>0</td>\n      <td>0</td>\n      <td>0</td>\n      <td>1</td>\n      <td>7</td>\n      <td>2</td>\n      <td>179</td>\n      <td>51</td>\n      <td>38</td>\n      <td>239.554</td>\n      <td>31</td>\n      <td>0</td>\n      <td>0</td>\n      <td>0</td>\n    </tr>\n    <tr>\n      <th>3</th>\n      <td>1</td>\n      <td>0</td>\n      <td>0</td>\n      <td>0</td>\n      <td>7</td>\n      <td>3</td>\n      <td>279</td>\n      <td>5</td>\n      <td>39</td>\n      <td>239.554</td>\n      <td>24</td>\n      <td>0</td>\n      <td>2</td>\n      <td>0</td>\n    </tr>\n    <tr>\n      <th>4</th>\n      <td>0</td>\n      <td>0</td>\n      <td>0</td>\n      <td>1</td>\n      <td>7</td>\n      <td>3</td>\n      <td>289</td>\n      <td>36</td>\n      <td>33</td>\n      <td>239.554</td>\n      <td>30</td>\n      <td>0</td>\n      <td>2</td>\n      <td>1</td>\n    </tr>\n    <tr>\n      <th>...</th>\n      <td>...</td>\n      <td>...</td>\n      <td>...</td>\n      <td>...</td>\n      <td>...</td>\n      <td>...</td>\n      <td>...</td>\n      <td>...</td>\n      <td>...</td>\n      <td>...</td>\n      <td>...</td>\n      <td>...</td>\n      <td>...</td>\n      <td>...</td>\n    </tr>\n    <tr>\n      <th>695</th>\n      <td>1</td>\n      <td>0</td>\n      <td>0</td>\n      <td>0</td>\n      <td>5</td>\n      <td>2</td>\n      <td>179</td>\n      <td>22</td>\n      <td>40</td>\n      <td>237.656</td>\n      <td>22</td>\n      <td>1</td>\n      <td>2</td>\n      <td>0</td>\n    </tr>\n    <tr>\n      <th>696</th>\n      <td>1</td>\n      <td>0</td>\n      <td>0</td>\n      <td>0</td>\n      <td>5</td>\n      <td>2</td>\n      <td>225</td>\n      <td>26</td>\n      <td>28</td>\n      <td>237.656</td>\n      <td>24</td>\n      <td>0</td>\n      <td>1</td>\n      <td>2</td>\n    </tr>\n    <tr>\n      <th>697</th>\n      <td>1</td>\n      <td>0</td>\n      <td>0</td>\n      <td>0</td>\n      <td>5</td>\n      <td>3</td>\n      <td>330</td>\n      <td>16</td>\n      <td>28</td>\n      <td>237.656</td>\n      <td>25</td>\n      <td>1</td>\n      <td>0</td>\n      <td>0</td>\n    </tr>\n    <tr>\n      <th>698</th>\n      <td>0</td>\n      <td>0</td>\n      <td>0</td>\n      <td>1</td>\n      <td>5</td>\n      <td>3</td>\n      <td>235</td>\n      <td>16</td>\n      <td>32</td>\n      <td>237.656</td>\n      <td>25</td>\n      <td>1</td>\n      <td>0</td>\n      <td>0</td>\n    </tr>\n    <tr>\n      <th>699</th>\n      <td>0</td>\n      <td>0</td>\n      <td>0</td>\n      <td>1</td>\n      <td>5</td>\n      <td>3</td>\n      <td>291</td>\n      <td>31</td>\n      <td>40</td>\n      <td>237.656</td>\n      <td>25</td>\n      <td>0</td>\n      <td>1</td>\n      <td>1</td>\n    </tr>\n  </tbody>\n</table>\n<p>700 rows × 14 columns</p>\n</div>"
     },
     "execution_count": 7,
     "metadata": {},
     "output_type": "execute_result"
    }
   ],
   "source": [
    "# inputs will be all columns except the targets\n",
    "unscaled_inputs = data_with_targets.iloc[:, :-1]\n",
    "unscaled_inputs"
   ],
   "metadata": {
    "collapsed": false,
    "pycharm": {
     "name": "#%%\n"
    }
   }
  },
  {
   "cell_type": "markdown",
   "source": [
    "## Scale the Inputs\n",
    "\n",
    "As we can see, the inputs vary in magnitude and units, and so can impact our model negatively. To ensure equal importance for all the features, we should scale them.\n",
    "\n",
    "I will use the Standard Scaler such that all column values have a mean of 0 and standard deviation of 1.\n",
    "\n",
    "I will be creating a custom scaler that does not scale the dummy variables."
   ],
   "metadata": {
    "collapsed": false,
    "pycharm": {
     "name": "#%% md\n"
    }
   }
  },
  {
   "cell_type": "code",
   "execution_count": 8,
   "outputs": [],
   "source": [
    "# create the Custom Scaler class\n",
    "\n",
    "class CustomScaler(BaseEstimator,TransformerMixin):\n",
    "\n",
    "    # init or what information we need to declare a CustomScaler object\n",
    "    # and what is calculated/declared as we do\n",
    "\n",
    "    def __init__(self,columns,copy=True,with_mean=True,with_std=True):\n",
    "\n",
    "        # scaler is nothing but a Standard Scaler object\n",
    "        self.scaler = StandardScaler(copy=copy, with_mean=with_mean, with_std=with_std)\n",
    "        # with some columns 'twist'\n",
    "        self.columns = columns\n",
    "        self.mean_ = None\n",
    "        self.var_ = None\n",
    "\n",
    "\n",
    "    # the fit method, which, again based on StandardScale\n",
    "\n",
    "    def fit(self, X, y=None):\n",
    "        self.scaler.fit(X[self.columns], y)\n",
    "        self.mean_ = np.mean(X[self.columns], axis=1)\n",
    "        self.var_ = np.var(X[self.columns], axis=1)\n",
    "        return self\n",
    "\n",
    "    # the transform method which does the actual scaling\n",
    "\n",
    "    def transform(self, X, y=None, copy=None):\n",
    "\n",
    "        # record the initial order of the columns\n",
    "        init_col_order = X.columns\n",
    "\n",
    "        # scale all features that you chose when creating the instance of the class\n",
    "        X_scaled = pd.DataFrame(self.scaler.transform(X[self.columns]), columns=self.columns)\n",
    "\n",
    "        # declare a variable containing all information that was not scaled\n",
    "        X_not_scaled = X.loc[:,~X.columns.isin(self.columns)]\n",
    "\n",
    "        # return a data frame which contains all scaled features and all 'not scaled' features\n",
    "        # use the original order (that you recorded in the beginning)\n",
    "        return pd.concat([X_not_scaled, X_scaled], axis=1)[init_col_order]"
   ],
   "metadata": {
    "collapsed": false,
    "pycharm": {
     "name": "#%%\n"
    }
   }
  },
  {
   "cell_type": "code",
   "execution_count": 9,
   "outputs": [],
   "source": [
    "# choose the columns to scale\n",
    "columns_to_scale = ['Month Value','Day of the Week', 'Transportation Expense', 'Distance to Work','Age', 'Daily Work Load Average', 'Body Mass Index', 'Children', 'Pets']"
   ],
   "metadata": {
    "collapsed": false,
    "pycharm": {
     "name": "#%%\n"
    }
   }
  },
  {
   "cell_type": "code",
   "execution_count": 10,
   "outputs": [],
   "source": [
    "# declare a scaler object, specifying the columns to scale\n",
    "absenteeism_scaler = CustomScaler(columns = columns_to_scale)"
   ],
   "metadata": {
    "collapsed": false,
    "pycharm": {
     "name": "#%%\n"
    }
   }
  },
  {
   "cell_type": "code",
   "execution_count": 11,
   "outputs": [],
   "source": [
    "# fit the scaler to the data\n",
    "absenteeism_scaler.fit(unscaled_inputs)\n",
    "\n",
    "# transform the inputs\n",
    "scaled_inputs = absenteeism_scaler.transform(unscaled_inputs)"
   ],
   "metadata": {
    "collapsed": false,
    "pycharm": {
     "name": "#%%\n"
    }
   }
  },
  {
   "cell_type": "code",
   "execution_count": 12,
   "outputs": [
    {
     "data": {
      "text/plain": "     Reason 1  Reason 2  Reason 3  Reason 4  Month Value  Day of the Week  \\\n0           0         0         0         1     0.182726        -0.683704   \n1           0         0         0         0     0.182726        -0.683704   \n2           0         0         0         1     0.182726        -0.007725   \n3           1         0         0         0     0.182726         0.668253   \n4           0         0         0         1     0.182726         0.668253   \n..        ...       ...       ...       ...          ...              ...   \n695         1         0         0         0    -0.388293        -0.007725   \n696         1         0         0         0    -0.388293        -0.007725   \n697         1         0         0         0    -0.388293         0.668253   \n698         0         0         0         1    -0.388293         0.668253   \n699         0         0         0         1    -0.388293         0.668253   \n\n     Transportation Expense  Distance to Work       Age  \\\n0                  1.005844          0.412816 -0.536062   \n1                 -1.574681         -1.141882  2.130803   \n2                 -0.654143          1.426749  0.248310   \n3                  0.854936         -1.682647  0.405184   \n4                  1.005844          0.412816 -0.536062   \n..                      ...               ...       ...   \n695               -0.654143         -0.533522  0.562059   \n696                0.040034         -0.263140 -1.320435   \n697                1.624567         -0.939096 -1.320435   \n698                0.190942         -0.939096 -0.692937   \n699                1.036026          0.074838  0.562059   \n\n     Daily Work Load Average  Body Mass Index  Education  Children      Pets  \n0                  -0.806331         0.767431          0  0.880469  0.268487  \n1                  -0.806331         1.002633          0 -0.019280 -0.589690  \n2                  -0.806331         1.002633          0 -0.919030 -0.589690  \n3                  -0.806331        -0.643782          0  0.880469 -0.589690  \n4                  -0.806331         0.767431          0  0.880469  0.268487  \n..                       ...              ...        ...       ...       ...  \n695                -0.853789        -1.114186          1  0.880469 -0.589690  \n696                -0.853789        -0.643782          0 -0.019280  1.126663  \n697                -0.853789        -0.408580          1 -0.919030 -0.589690  \n698                -0.853789        -0.408580          1 -0.919030 -0.589690  \n699                -0.853789        -0.408580          0 -0.019280  0.268487  \n\n[700 rows x 14 columns]",
      "text/html": "<div>\n<style scoped>\n    .dataframe tbody tr th:only-of-type {\n        vertical-align: middle;\n    }\n\n    .dataframe tbody tr th {\n        vertical-align: top;\n    }\n\n    .dataframe thead th {\n        text-align: right;\n    }\n</style>\n<table border=\"1\" class=\"dataframe\">\n  <thead>\n    <tr style=\"text-align: right;\">\n      <th></th>\n      <th>Reason 1</th>\n      <th>Reason 2</th>\n      <th>Reason 3</th>\n      <th>Reason 4</th>\n      <th>Month Value</th>\n      <th>Day of the Week</th>\n      <th>Transportation Expense</th>\n      <th>Distance to Work</th>\n      <th>Age</th>\n      <th>Daily Work Load Average</th>\n      <th>Body Mass Index</th>\n      <th>Education</th>\n      <th>Children</th>\n      <th>Pets</th>\n    </tr>\n  </thead>\n  <tbody>\n    <tr>\n      <th>0</th>\n      <td>0</td>\n      <td>0</td>\n      <td>0</td>\n      <td>1</td>\n      <td>0.182726</td>\n      <td>-0.683704</td>\n      <td>1.005844</td>\n      <td>0.412816</td>\n      <td>-0.536062</td>\n      <td>-0.806331</td>\n      <td>0.767431</td>\n      <td>0</td>\n      <td>0.880469</td>\n      <td>0.268487</td>\n    </tr>\n    <tr>\n      <th>1</th>\n      <td>0</td>\n      <td>0</td>\n      <td>0</td>\n      <td>0</td>\n      <td>0.182726</td>\n      <td>-0.683704</td>\n      <td>-1.574681</td>\n      <td>-1.141882</td>\n      <td>2.130803</td>\n      <td>-0.806331</td>\n      <td>1.002633</td>\n      <td>0</td>\n      <td>-0.019280</td>\n      <td>-0.589690</td>\n    </tr>\n    <tr>\n      <th>2</th>\n      <td>0</td>\n      <td>0</td>\n      <td>0</td>\n      <td>1</td>\n      <td>0.182726</td>\n      <td>-0.007725</td>\n      <td>-0.654143</td>\n      <td>1.426749</td>\n      <td>0.248310</td>\n      <td>-0.806331</td>\n      <td>1.002633</td>\n      <td>0</td>\n      <td>-0.919030</td>\n      <td>-0.589690</td>\n    </tr>\n    <tr>\n      <th>3</th>\n      <td>1</td>\n      <td>0</td>\n      <td>0</td>\n      <td>0</td>\n      <td>0.182726</td>\n      <td>0.668253</td>\n      <td>0.854936</td>\n      <td>-1.682647</td>\n      <td>0.405184</td>\n      <td>-0.806331</td>\n      <td>-0.643782</td>\n      <td>0</td>\n      <td>0.880469</td>\n      <td>-0.589690</td>\n    </tr>\n    <tr>\n      <th>4</th>\n      <td>0</td>\n      <td>0</td>\n      <td>0</td>\n      <td>1</td>\n      <td>0.182726</td>\n      <td>0.668253</td>\n      <td>1.005844</td>\n      <td>0.412816</td>\n      <td>-0.536062</td>\n      <td>-0.806331</td>\n      <td>0.767431</td>\n      <td>0</td>\n      <td>0.880469</td>\n      <td>0.268487</td>\n    </tr>\n    <tr>\n      <th>...</th>\n      <td>...</td>\n      <td>...</td>\n      <td>...</td>\n      <td>...</td>\n      <td>...</td>\n      <td>...</td>\n      <td>...</td>\n      <td>...</td>\n      <td>...</td>\n      <td>...</td>\n      <td>...</td>\n      <td>...</td>\n      <td>...</td>\n      <td>...</td>\n    </tr>\n    <tr>\n      <th>695</th>\n      <td>1</td>\n      <td>0</td>\n      <td>0</td>\n      <td>0</td>\n      <td>-0.388293</td>\n      <td>-0.007725</td>\n      <td>-0.654143</td>\n      <td>-0.533522</td>\n      <td>0.562059</td>\n      <td>-0.853789</td>\n      <td>-1.114186</td>\n      <td>1</td>\n      <td>0.880469</td>\n      <td>-0.589690</td>\n    </tr>\n    <tr>\n      <th>696</th>\n      <td>1</td>\n      <td>0</td>\n      <td>0</td>\n      <td>0</td>\n      <td>-0.388293</td>\n      <td>-0.007725</td>\n      <td>0.040034</td>\n      <td>-0.263140</td>\n      <td>-1.320435</td>\n      <td>-0.853789</td>\n      <td>-0.643782</td>\n      <td>0</td>\n      <td>-0.019280</td>\n      <td>1.126663</td>\n    </tr>\n    <tr>\n      <th>697</th>\n      <td>1</td>\n      <td>0</td>\n      <td>0</td>\n      <td>0</td>\n      <td>-0.388293</td>\n      <td>0.668253</td>\n      <td>1.624567</td>\n      <td>-0.939096</td>\n      <td>-1.320435</td>\n      <td>-0.853789</td>\n      <td>-0.408580</td>\n      <td>1</td>\n      <td>-0.919030</td>\n      <td>-0.589690</td>\n    </tr>\n    <tr>\n      <th>698</th>\n      <td>0</td>\n      <td>0</td>\n      <td>0</td>\n      <td>1</td>\n      <td>-0.388293</td>\n      <td>0.668253</td>\n      <td>0.190942</td>\n      <td>-0.939096</td>\n      <td>-0.692937</td>\n      <td>-0.853789</td>\n      <td>-0.408580</td>\n      <td>1</td>\n      <td>-0.919030</td>\n      <td>-0.589690</td>\n    </tr>\n    <tr>\n      <th>699</th>\n      <td>0</td>\n      <td>0</td>\n      <td>0</td>\n      <td>1</td>\n      <td>-0.388293</td>\n      <td>0.668253</td>\n      <td>1.036026</td>\n      <td>0.074838</td>\n      <td>0.562059</td>\n      <td>-0.853789</td>\n      <td>-0.408580</td>\n      <td>0</td>\n      <td>-0.019280</td>\n      <td>0.268487</td>\n    </tr>\n  </tbody>\n</table>\n<p>700 rows × 14 columns</p>\n</div>"
     },
     "execution_count": 12,
     "metadata": {},
     "output_type": "execute_result"
    }
   ],
   "source": [
    "scaled_inputs"
   ],
   "metadata": {
    "collapsed": false,
    "pycharm": {
     "name": "#%%\n"
    }
   }
  },
  {
   "cell_type": "code",
   "execution_count": 13,
   "outputs": [
    {
     "data": {
      "text/plain": "pandas.core.frame.DataFrame"
     },
     "execution_count": 13,
     "metadata": {},
     "output_type": "execute_result"
    }
   ],
   "source": [
    "type(scaled_inputs)"
   ],
   "metadata": {
    "collapsed": false,
    "pycharm": {
     "name": "#%%\n"
    }
   }
  },
  {
   "cell_type": "markdown",
   "source": [
    "## Split the Dataset\n",
    "\n",
    "We will split the dataset into training and testing in an 80:20 ratio. We will fix a random state to ensure consistency, and stratify the dataset to ensure the class balance in the splits."
   ],
   "metadata": {
    "collapsed": false,
    "pycharm": {
     "name": "#%% md\n"
    }
   }
  },
  {
   "cell_type": "code",
   "execution_count": 14,
   "outputs": [],
   "source": [
    "# split the data into 80:20\n",
    "# use random state = 1\n",
    "# stratify the data\n",
    "x_train, x_test, y_train, y_test = train_test_split(scaled_inputs, targets, test_size=0.2, stratify=targets, random_state=1)"
   ],
   "metadata": {
    "collapsed": false,
    "pycharm": {
     "name": "#%%\n"
    }
   }
  },
  {
   "cell_type": "code",
   "execution_count": 15,
   "outputs": [
    {
     "name": "stdout",
     "output_type": "stream",
     "text": [
      "(560, 14) (560,)\n"
     ]
    }
   ],
   "source": [
    "# check train shape\n",
    "print(x_train.shape, y_train.shape)"
   ],
   "metadata": {
    "collapsed": false,
    "pycharm": {
     "name": "#%%\n"
    }
   }
  },
  {
   "cell_type": "code",
   "execution_count": 16,
   "outputs": [
    {
     "name": "stdout",
     "output_type": "stream",
     "text": [
      "(140, 14) (140,)\n"
     ]
    }
   ],
   "source": [
    "# check test shape\n",
    "print(x_test.shape, y_test.shape)"
   ],
   "metadata": {
    "collapsed": false,
    "pycharm": {
     "name": "#%%\n"
    }
   }
  },
  {
   "cell_type": "code",
   "execution_count": 17,
   "outputs": [
    {
     "name": "stdout",
     "output_type": "stream",
     "text": [
      "0.45535714285714285\n",
      "0.45714285714285713\n"
     ]
    }
   ],
   "source": [
    "# check dataset balance\n",
    "print(y_train.sum() / y_train.shape[0])\n",
    "print(y_test.sum() / y_test.shape[0])"
   ],
   "metadata": {
    "collapsed": false,
    "pycharm": {
     "name": "#%%\n"
    }
   }
  },
  {
   "cell_type": "markdown",
   "source": [
    "The split was a success and the class balance has also been maintained."
   ],
   "metadata": {
    "collapsed": false,
    "pycharm": {
     "name": "#%% md\n"
    }
   }
  },
  {
   "cell_type": "markdown",
   "source": [
    "## Build the Model"
   ],
   "metadata": {
    "collapsed": false,
    "pycharm": {
     "name": "#%% md\n"
    }
   }
  },
  {
   "cell_type": "code",
   "execution_count": 18,
   "outputs": [
    {
     "data": {
      "text/plain": "LogisticRegression()",
      "text/html": "<style>#sk-container-id-1 {color: black;background-color: white;}#sk-container-id-1 pre{padding: 0;}#sk-container-id-1 div.sk-toggleable {background-color: white;}#sk-container-id-1 label.sk-toggleable__label {cursor: pointer;display: block;width: 100%;margin-bottom: 0;padding: 0.3em;box-sizing: border-box;text-align: center;}#sk-container-id-1 label.sk-toggleable__label-arrow:before {content: \"▸\";float: left;margin-right: 0.25em;color: #696969;}#sk-container-id-1 label.sk-toggleable__label-arrow:hover:before {color: black;}#sk-container-id-1 div.sk-estimator:hover label.sk-toggleable__label-arrow:before {color: black;}#sk-container-id-1 div.sk-toggleable__content {max-height: 0;max-width: 0;overflow: hidden;text-align: left;background-color: #f0f8ff;}#sk-container-id-1 div.sk-toggleable__content pre {margin: 0.2em;color: black;border-radius: 0.25em;background-color: #f0f8ff;}#sk-container-id-1 input.sk-toggleable__control:checked~div.sk-toggleable__content {max-height: 200px;max-width: 100%;overflow: auto;}#sk-container-id-1 input.sk-toggleable__control:checked~label.sk-toggleable__label-arrow:before {content: \"▾\";}#sk-container-id-1 div.sk-estimator input.sk-toggleable__control:checked~label.sk-toggleable__label {background-color: #d4ebff;}#sk-container-id-1 div.sk-label input.sk-toggleable__control:checked~label.sk-toggleable__label {background-color: #d4ebff;}#sk-container-id-1 input.sk-hidden--visually {border: 0;clip: rect(1px 1px 1px 1px);clip: rect(1px, 1px, 1px, 1px);height: 1px;margin: -1px;overflow: hidden;padding: 0;position: absolute;width: 1px;}#sk-container-id-1 div.sk-estimator {font-family: monospace;background-color: #f0f8ff;border: 1px dotted black;border-radius: 0.25em;box-sizing: border-box;margin-bottom: 0.5em;}#sk-container-id-1 div.sk-estimator:hover {background-color: #d4ebff;}#sk-container-id-1 div.sk-parallel-item::after {content: \"\";width: 100%;border-bottom: 1px solid gray;flex-grow: 1;}#sk-container-id-1 div.sk-label:hover label.sk-toggleable__label {background-color: #d4ebff;}#sk-container-id-1 div.sk-serial::before {content: \"\";position: absolute;border-left: 1px solid gray;box-sizing: border-box;top: 0;bottom: 0;left: 50%;z-index: 0;}#sk-container-id-1 div.sk-serial {display: flex;flex-direction: column;align-items: center;background-color: white;padding-right: 0.2em;padding-left: 0.2em;position: relative;}#sk-container-id-1 div.sk-item {position: relative;z-index: 1;}#sk-container-id-1 div.sk-parallel {display: flex;align-items: stretch;justify-content: center;background-color: white;position: relative;}#sk-container-id-1 div.sk-item::before, #sk-container-id-1 div.sk-parallel-item::before {content: \"\";position: absolute;border-left: 1px solid gray;box-sizing: border-box;top: 0;bottom: 0;left: 50%;z-index: -1;}#sk-container-id-1 div.sk-parallel-item {display: flex;flex-direction: column;z-index: 1;position: relative;background-color: white;}#sk-container-id-1 div.sk-parallel-item:first-child::after {align-self: flex-end;width: 50%;}#sk-container-id-1 div.sk-parallel-item:last-child::after {align-self: flex-start;width: 50%;}#sk-container-id-1 div.sk-parallel-item:only-child::after {width: 0;}#sk-container-id-1 div.sk-dashed-wrapped {border: 1px dashed gray;margin: 0 0.4em 0.5em 0.4em;box-sizing: border-box;padding-bottom: 0.4em;background-color: white;}#sk-container-id-1 div.sk-label label {font-family: monospace;font-weight: bold;display: inline-block;line-height: 1.2em;}#sk-container-id-1 div.sk-label-container {text-align: center;}#sk-container-id-1 div.sk-container {/* jupyter's `normalize.less` sets `[hidden] { display: none; }` but bootstrap.min.css set `[hidden] { display: none !important; }` so we also need the `!important` here to be able to override the default hidden behavior on the sphinx rendered scikit-learn.org. See: https://github.com/scikit-learn/scikit-learn/issues/21755 */display: inline-block !important;position: relative;}#sk-container-id-1 div.sk-text-repr-fallback {display: none;}</style><div id=\"sk-container-id-1\" class=\"sk-top-container\"><div class=\"sk-text-repr-fallback\"><pre>LogisticRegression()</pre><b>In a Jupyter environment, please rerun this cell to show the HTML representation or trust the notebook. <br />On GitHub, the HTML representation is unable to render, please try loading this page with nbviewer.org.</b></div><div class=\"sk-container\" hidden><div class=\"sk-item\"><div class=\"sk-estimator sk-toggleable\"><input class=\"sk-toggleable__control sk-hidden--visually\" id=\"sk-estimator-id-1\" type=\"checkbox\" checked><label for=\"sk-estimator-id-1\" class=\"sk-toggleable__label sk-toggleable__label-arrow\">LogisticRegression</label><div class=\"sk-toggleable__content\"><pre>LogisticRegression()</pre></div></div></div></div></div>"
     },
     "execution_count": 18,
     "metadata": {},
     "output_type": "execute_result"
    }
   ],
   "source": [
    "# build a logistic regression model\n",
    "reg = LogisticRegression()\n",
    "\n",
    "# train the model\n",
    "reg.fit(x_train, y_train)"
   ],
   "metadata": {
    "collapsed": false,
    "pycharm": {
     "name": "#%%\n"
    }
   }
  },
  {
   "cell_type": "code",
   "execution_count": 19,
   "outputs": [
    {
     "data": {
      "text/plain": "0.7821428571428571"
     },
     "execution_count": 19,
     "metadata": {},
     "output_type": "execute_result"
    }
   ],
   "source": [
    "# check the accuracy\n",
    "reg.score(x_train, y_train)"
   ],
   "metadata": {
    "collapsed": false,
    "pycharm": {
     "name": "#%%\n"
    }
   }
  },
  {
   "cell_type": "markdown",
   "source": [
    "Using the model, we achieved a training accuracy of 78%."
   ],
   "metadata": {
    "collapsed": false,
    "pycharm": {
     "name": "#%% md\n"
    }
   }
  },
  {
   "cell_type": "markdown",
   "source": [
    "### Manually check the accuracy"
   ],
   "metadata": {
    "collapsed": false,
    "pycharm": {
     "name": "#%% md\n"
    }
   }
  },
  {
   "cell_type": "code",
   "execution_count": 20,
   "outputs": [
    {
     "data": {
      "text/plain": "array([0, 0, 1, 1, 0, 1, 0, 0, 0, 0, 1, 0, 1, 0, 0, 1, 0, 1, 0, 0, 1, 0,\n       0, 0, 1, 0, 1, 1, 1, 1, 0, 1, 0, 1, 0, 0, 1, 0, 0, 1, 0, 1, 0, 0,\n       1, 0, 0, 1, 1, 0, 1, 0, 1, 0, 1, 0, 0, 0, 0, 1, 1, 1, 0, 0, 1, 0,\n       1, 0, 0, 0, 0, 0, 0, 0, 0, 0, 1, 0, 1, 0, 0, 0, 0, 0, 0, 1, 1, 0,\n       1, 0, 0, 1, 0, 1, 1, 1, 0, 1, 0, 0, 0, 1, 1, 1, 1, 0, 1, 1, 1, 0,\n       1, 0, 0, 1, 1, 0, 0, 1, 1, 0, 1, 0, 0, 1, 1, 0, 0, 0, 0, 0, 1, 0,\n       0, 1, 1, 0, 1, 1, 0, 0, 0, 1, 0, 0, 0, 1, 1, 1, 1, 0, 1, 0, 0, 1,\n       1, 0, 0, 0, 1, 1, 0, 1, 1, 0, 0, 0, 0, 0, 0, 1, 0, 0, 0, 0, 0, 0,\n       1, 1, 1, 1, 1, 1, 1, 0, 1, 0, 1, 1, 0, 1, 0, 0, 1, 0, 0, 0, 1, 1,\n       1, 0, 0, 1, 0, 1, 1, 1, 0, 1, 0, 1, 1, 1, 1, 1, 0, 0, 0, 1, 0, 0,\n       1, 0, 1, 0, 0, 1, 0, 1, 0, 1, 0, 0, 1, 0, 0, 1, 0, 1, 0, 1, 1, 1,\n       0, 1, 0, 0, 0, 0, 1, 0, 0, 0, 0, 1, 0, 0, 1, 1, 1, 1, 0, 0, 0, 0,\n       1, 0, 1, 0, 1, 1, 0, 1, 0, 1, 1, 0, 1, 0, 0, 1, 0, 0, 0, 0, 0, 1,\n       1, 0, 0, 0, 0, 0, 0, 0, 1, 1, 1, 1, 1, 1, 1, 0, 0, 0, 1, 0, 0, 1,\n       0, 1, 0, 1, 1, 0, 1, 0, 0, 0, 1, 0, 1, 0, 1, 0, 1, 1, 1, 0, 1, 0,\n       0, 0, 0, 0, 0, 0, 0, 0, 0, 1, 1, 1, 0, 1, 0, 0, 1, 0, 1, 1, 0, 0,\n       1, 1, 0, 1, 0, 0, 1, 0, 0, 0, 0, 1, 1, 1, 0, 1, 0, 1, 0, 1, 1, 1,\n       0, 1, 0, 0, 1, 1, 0, 1, 1, 1, 1, 0, 1, 1, 0, 1, 1, 1, 1, 0, 0, 0,\n       0, 1, 0, 1, 1, 1, 1, 0, 1, 0, 0, 1, 0, 0, 1, 0, 0, 1, 1, 0, 1, 0,\n       0, 0, 1, 1, 1, 0, 1, 0, 1, 1, 0, 0, 1, 0, 1, 1, 0, 0, 1, 0, 0, 0,\n       1, 0, 1, 0, 1, 1, 1, 1, 1, 0, 1, 0, 1, 1, 1, 0, 0, 0, 1, 1, 0, 0,\n       0, 0, 1, 0, 0, 1, 0, 0, 0, 0, 0, 0, 0, 0, 0, 1, 1, 0, 0, 0, 0, 1,\n       0, 0, 1, 0, 1, 1, 0, 0, 1, 1, 1, 1, 1, 0, 1, 0, 0, 1, 0, 0, 0, 0,\n       0, 1, 0, 0, 1, 1, 1, 0, 0, 0, 0, 0, 1, 1, 0, 1, 0, 0, 0, 0, 0, 0,\n       0, 0, 0, 1, 0, 0, 1, 1, 0, 0, 0, 1, 0, 0, 1, 1, 1, 0, 1, 0, 0, 0,\n       0, 1, 1, 0, 0, 0, 1, 1, 0, 0])"
     },
     "execution_count": 20,
     "metadata": {},
     "output_type": "execute_result"
    }
   ],
   "source": [
    "model_output = reg.predict(x_train)\n",
    "model_output"
   ],
   "metadata": {
    "collapsed": false,
    "pycharm": {
     "name": "#%%\n"
    }
   }
  },
  {
   "cell_type": "code",
   "execution_count": 21,
   "outputs": [
    {
     "data": {
      "text/plain": "0.7821428571428571"
     },
     "execution_count": 21,
     "metadata": {},
     "output_type": "execute_result"
    }
   ],
   "source": [
    "true_val = np.sum(model_output == y_train)\n",
    "acc = true_val / model_output.shape[0]\n",
    "acc"
   ],
   "metadata": {
    "collapsed": false,
    "pycharm": {
     "name": "#%%\n"
    }
   }
  },
  {
   "cell_type": "markdown",
   "source": [
    "## Find the Intercept and Coefficients"
   ],
   "metadata": {
    "collapsed": false,
    "pycharm": {
     "name": "#%% md\n"
    }
   }
  },
  {
   "cell_type": "code",
   "execution_count": 22,
   "outputs": [
    {
     "data": {
      "text/plain": "array([-1.72367645])"
     },
     "execution_count": 22,
     "metadata": {},
     "output_type": "execute_result"
    }
   ],
   "source": [
    "# find intercept\n",
    "reg.intercept_"
   ],
   "metadata": {
    "collapsed": false,
    "pycharm": {
     "name": "#%%\n"
    }
   }
  },
  {
   "cell_type": "code",
   "execution_count": 23,
   "outputs": [
    {
     "data": {
      "text/plain": "array([[ 2.88027971,  0.92324043,  2.90326738,  0.88967415,  0.07005452,\n        -0.2952236 ,  0.59927666,  0.02972708, -0.1832303 ,  0.01310325,\n         0.24716318,  0.21118   ,  0.43666114, -0.22218894]])"
     },
     "execution_count": 23,
     "metadata": {},
     "output_type": "execute_result"
    }
   ],
   "source": [
    "# find coefficients\n",
    "reg.coef_"
   ],
   "metadata": {
    "collapsed": false,
    "pycharm": {
     "name": "#%%\n"
    }
   }
  },
  {
   "cell_type": "markdown",
   "source": [
    "### Create a Summary Table\n",
    "\n",
    "A summary table will give us a better look at the coefficients and their respective features, and the intercept."
   ],
   "metadata": {
    "collapsed": false,
    "pycharm": {
     "name": "#%% md\n"
    }
   }
  },
  {
   "cell_type": "code",
   "execution_count": 24,
   "outputs": [],
   "source": [
    "# create a dataframe for features and coefficients\n",
    "summary_table = pd.DataFrame(data = unscaled_inputs.columns.values, columns = ['Feature Names'])"
   ],
   "metadata": {
    "collapsed": false,
    "pycharm": {
     "name": "#%%\n"
    }
   }
  },
  {
   "cell_type": "code",
   "execution_count": 25,
   "outputs": [],
   "source": [
    "# add the coeff\n",
    "# transpose the coeff as it has multiple columns\n",
    "summary_table['Coefficients'] = np.transpose(reg.coef_)"
   ],
   "metadata": {
    "collapsed": false,
    "pycharm": {
     "name": "#%%\n"
    }
   }
  },
  {
   "cell_type": "code",
   "execution_count": 26,
   "outputs": [
    {
     "data": {
      "text/plain": "              Feature Names  Coefficients\n0                  Reason 1      2.880280\n1                  Reason 2      0.923240\n2                  Reason 3      2.903267\n3                  Reason 4      0.889674\n4               Month Value      0.070055\n5           Day of the Week     -0.295224\n6    Transportation Expense      0.599277\n7          Distance to Work      0.029727\n8                       Age     -0.183230\n9   Daily Work Load Average      0.013103\n10          Body Mass Index      0.247163\n11                Education      0.211180\n12                 Children      0.436661\n13                     Pets     -0.222189",
      "text/html": "<div>\n<style scoped>\n    .dataframe tbody tr th:only-of-type {\n        vertical-align: middle;\n    }\n\n    .dataframe tbody tr th {\n        vertical-align: top;\n    }\n\n    .dataframe thead th {\n        text-align: right;\n    }\n</style>\n<table border=\"1\" class=\"dataframe\">\n  <thead>\n    <tr style=\"text-align: right;\">\n      <th></th>\n      <th>Feature Names</th>\n      <th>Coefficients</th>\n    </tr>\n  </thead>\n  <tbody>\n    <tr>\n      <th>0</th>\n      <td>Reason 1</td>\n      <td>2.880280</td>\n    </tr>\n    <tr>\n      <th>1</th>\n      <td>Reason 2</td>\n      <td>0.923240</td>\n    </tr>\n    <tr>\n      <th>2</th>\n      <td>Reason 3</td>\n      <td>2.903267</td>\n    </tr>\n    <tr>\n      <th>3</th>\n      <td>Reason 4</td>\n      <td>0.889674</td>\n    </tr>\n    <tr>\n      <th>4</th>\n      <td>Month Value</td>\n      <td>0.070055</td>\n    </tr>\n    <tr>\n      <th>5</th>\n      <td>Day of the Week</td>\n      <td>-0.295224</td>\n    </tr>\n    <tr>\n      <th>6</th>\n      <td>Transportation Expense</td>\n      <td>0.599277</td>\n    </tr>\n    <tr>\n      <th>7</th>\n      <td>Distance to Work</td>\n      <td>0.029727</td>\n    </tr>\n    <tr>\n      <th>8</th>\n      <td>Age</td>\n      <td>-0.183230</td>\n    </tr>\n    <tr>\n      <th>9</th>\n      <td>Daily Work Load Average</td>\n      <td>0.013103</td>\n    </tr>\n    <tr>\n      <th>10</th>\n      <td>Body Mass Index</td>\n      <td>0.247163</td>\n    </tr>\n    <tr>\n      <th>11</th>\n      <td>Education</td>\n      <td>0.211180</td>\n    </tr>\n    <tr>\n      <th>12</th>\n      <td>Children</td>\n      <td>0.436661</td>\n    </tr>\n    <tr>\n      <th>13</th>\n      <td>Pets</td>\n      <td>-0.222189</td>\n    </tr>\n  </tbody>\n</table>\n</div>"
     },
     "execution_count": 26,
     "metadata": {},
     "output_type": "execute_result"
    }
   ],
   "source": [
    "summary_table"
   ],
   "metadata": {
    "collapsed": false,
    "pycharm": {
     "name": "#%%\n"
    }
   }
  },
  {
   "cell_type": "code",
   "execution_count": 27,
   "outputs": [],
   "source": [
    "# add the intercept\n",
    "# shift all rows 1 down and add at the beginning\n",
    "summary_table.index = summary_table.index + 1\n",
    "\n",
    "summary_table.loc[0] = ['Intercept', reg.intercept_[0]]"
   ],
   "metadata": {
    "collapsed": false,
    "pycharm": {
     "name": "#%%\n"
    }
   }
  },
  {
   "cell_type": "code",
   "execution_count": 28,
   "outputs": [
    {
     "data": {
      "text/plain": "              Feature Names  Coefficients\n0                 Intercept     -1.723676\n1                  Reason 1      2.880280\n2                  Reason 2      0.923240\n3                  Reason 3      2.903267\n4                  Reason 4      0.889674\n5               Month Value      0.070055\n6           Day of the Week     -0.295224\n7    Transportation Expense      0.599277\n8          Distance to Work      0.029727\n9                       Age     -0.183230\n10  Daily Work Load Average      0.013103\n11          Body Mass Index      0.247163\n12                Education      0.211180\n13                 Children      0.436661\n14                     Pets     -0.222189",
      "text/html": "<div>\n<style scoped>\n    .dataframe tbody tr th:only-of-type {\n        vertical-align: middle;\n    }\n\n    .dataframe tbody tr th {\n        vertical-align: top;\n    }\n\n    .dataframe thead th {\n        text-align: right;\n    }\n</style>\n<table border=\"1\" class=\"dataframe\">\n  <thead>\n    <tr style=\"text-align: right;\">\n      <th></th>\n      <th>Feature Names</th>\n      <th>Coefficients</th>\n    </tr>\n  </thead>\n  <tbody>\n    <tr>\n      <th>0</th>\n      <td>Intercept</td>\n      <td>-1.723676</td>\n    </tr>\n    <tr>\n      <th>1</th>\n      <td>Reason 1</td>\n      <td>2.880280</td>\n    </tr>\n    <tr>\n      <th>2</th>\n      <td>Reason 2</td>\n      <td>0.923240</td>\n    </tr>\n    <tr>\n      <th>3</th>\n      <td>Reason 3</td>\n      <td>2.903267</td>\n    </tr>\n    <tr>\n      <th>4</th>\n      <td>Reason 4</td>\n      <td>0.889674</td>\n    </tr>\n    <tr>\n      <th>5</th>\n      <td>Month Value</td>\n      <td>0.070055</td>\n    </tr>\n    <tr>\n      <th>6</th>\n      <td>Day of the Week</td>\n      <td>-0.295224</td>\n    </tr>\n    <tr>\n      <th>7</th>\n      <td>Transportation Expense</td>\n      <td>0.599277</td>\n    </tr>\n    <tr>\n      <th>8</th>\n      <td>Distance to Work</td>\n      <td>0.029727</td>\n    </tr>\n    <tr>\n      <th>9</th>\n      <td>Age</td>\n      <td>-0.183230</td>\n    </tr>\n    <tr>\n      <th>10</th>\n      <td>Daily Work Load Average</td>\n      <td>0.013103</td>\n    </tr>\n    <tr>\n      <th>11</th>\n      <td>Body Mass Index</td>\n      <td>0.247163</td>\n    </tr>\n    <tr>\n      <th>12</th>\n      <td>Education</td>\n      <td>0.211180</td>\n    </tr>\n    <tr>\n      <th>13</th>\n      <td>Children</td>\n      <td>0.436661</td>\n    </tr>\n    <tr>\n      <th>14</th>\n      <td>Pets</td>\n      <td>-0.222189</td>\n    </tr>\n  </tbody>\n</table>\n</div>"
     },
     "execution_count": 28,
     "metadata": {},
     "output_type": "execute_result"
    }
   ],
   "source": [
    "summary_table = summary_table.sort_index()\n",
    "summary_table"
   ],
   "metadata": {
    "collapsed": false,
    "pycharm": {
     "name": "#%%\n"
    }
   }
  },
  {
   "cell_type": "markdown",
   "source": [
    "## Interpret the Results\n",
    "\n",
    "We should calculate the odds ratio to find out how much the change in each feature impact the odds of being absent."
   ],
   "metadata": {
    "collapsed": false,
    "pycharm": {
     "name": "#%% md\n"
    }
   }
  },
  {
   "cell_type": "code",
   "execution_count": 29,
   "outputs": [],
   "source": [
    "# calculate the odds ratio\n",
    "# append in the summary table\n",
    "summary_table['Odds Ratio'] = np.exp(summary_table['Coefficients'])"
   ],
   "metadata": {
    "collapsed": false,
    "pycharm": {
     "name": "#%%\n"
    }
   }
  },
  {
   "cell_type": "code",
   "execution_count": 30,
   "outputs": [
    {
     "data": {
      "text/plain": "              Feature Names  Coefficients  Odds Ratio\n0                 Intercept     -1.723676    0.178409\n1                  Reason 1      2.880280   17.819257\n2                  Reason 2      0.923240    2.517435\n3                  Reason 3      2.903267   18.233624\n4                  Reason 4      0.889674    2.434336\n5               Month Value      0.070055    1.072567\n6           Day of the Week     -0.295224    0.744365\n7    Transportation Expense      0.599277    1.820801\n8          Distance to Work      0.029727    1.030173\n9                       Age     -0.183230    0.832576\n10  Daily Work Load Average      0.013103    1.013189\n11          Body Mass Index      0.247163    1.280388\n12                Education      0.211180    1.235135\n13                 Children      0.436661    1.547532\n14                     Pets     -0.222189    0.800764",
      "text/html": "<div>\n<style scoped>\n    .dataframe tbody tr th:only-of-type {\n        vertical-align: middle;\n    }\n\n    .dataframe tbody tr th {\n        vertical-align: top;\n    }\n\n    .dataframe thead th {\n        text-align: right;\n    }\n</style>\n<table border=\"1\" class=\"dataframe\">\n  <thead>\n    <tr style=\"text-align: right;\">\n      <th></th>\n      <th>Feature Names</th>\n      <th>Coefficients</th>\n      <th>Odds Ratio</th>\n    </tr>\n  </thead>\n  <tbody>\n    <tr>\n      <th>0</th>\n      <td>Intercept</td>\n      <td>-1.723676</td>\n      <td>0.178409</td>\n    </tr>\n    <tr>\n      <th>1</th>\n      <td>Reason 1</td>\n      <td>2.880280</td>\n      <td>17.819257</td>\n    </tr>\n    <tr>\n      <th>2</th>\n      <td>Reason 2</td>\n      <td>0.923240</td>\n      <td>2.517435</td>\n    </tr>\n    <tr>\n      <th>3</th>\n      <td>Reason 3</td>\n      <td>2.903267</td>\n      <td>18.233624</td>\n    </tr>\n    <tr>\n      <th>4</th>\n      <td>Reason 4</td>\n      <td>0.889674</td>\n      <td>2.434336</td>\n    </tr>\n    <tr>\n      <th>5</th>\n      <td>Month Value</td>\n      <td>0.070055</td>\n      <td>1.072567</td>\n    </tr>\n    <tr>\n      <th>6</th>\n      <td>Day of the Week</td>\n      <td>-0.295224</td>\n      <td>0.744365</td>\n    </tr>\n    <tr>\n      <th>7</th>\n      <td>Transportation Expense</td>\n      <td>0.599277</td>\n      <td>1.820801</td>\n    </tr>\n    <tr>\n      <th>8</th>\n      <td>Distance to Work</td>\n      <td>0.029727</td>\n      <td>1.030173</td>\n    </tr>\n    <tr>\n      <th>9</th>\n      <td>Age</td>\n      <td>-0.183230</td>\n      <td>0.832576</td>\n    </tr>\n    <tr>\n      <th>10</th>\n      <td>Daily Work Load Average</td>\n      <td>0.013103</td>\n      <td>1.013189</td>\n    </tr>\n    <tr>\n      <th>11</th>\n      <td>Body Mass Index</td>\n      <td>0.247163</td>\n      <td>1.280388</td>\n    </tr>\n    <tr>\n      <th>12</th>\n      <td>Education</td>\n      <td>0.211180</td>\n      <td>1.235135</td>\n    </tr>\n    <tr>\n      <th>13</th>\n      <td>Children</td>\n      <td>0.436661</td>\n      <td>1.547532</td>\n    </tr>\n    <tr>\n      <th>14</th>\n      <td>Pets</td>\n      <td>-0.222189</td>\n      <td>0.800764</td>\n    </tr>\n  </tbody>\n</table>\n</div>"
     },
     "execution_count": 30,
     "metadata": {},
     "output_type": "execute_result"
    }
   ],
   "source": [
    "summary_table"
   ],
   "metadata": {
    "collapsed": false,
    "pycharm": {
     "name": "#%%\n"
    }
   }
  },
  {
   "cell_type": "code",
   "execution_count": 31,
   "outputs": [
    {
     "data": {
      "text/plain": "              Feature Names  Coefficients  Odds Ratio\n3                  Reason 3      2.903267   18.233624\n1                  Reason 1      2.880280   17.819257\n2                  Reason 2      0.923240    2.517435\n4                  Reason 4      0.889674    2.434336\n7    Transportation Expense      0.599277    1.820801\n13                 Children      0.436661    1.547532\n11          Body Mass Index      0.247163    1.280388\n12                Education      0.211180    1.235135\n5               Month Value      0.070055    1.072567\n8          Distance to Work      0.029727    1.030173\n10  Daily Work Load Average      0.013103    1.013189\n9                       Age     -0.183230    0.832576\n14                     Pets     -0.222189    0.800764\n6           Day of the Week     -0.295224    0.744365\n0                 Intercept     -1.723676    0.178409",
      "text/html": "<div>\n<style scoped>\n    .dataframe tbody tr th:only-of-type {\n        vertical-align: middle;\n    }\n\n    .dataframe tbody tr th {\n        vertical-align: top;\n    }\n\n    .dataframe thead th {\n        text-align: right;\n    }\n</style>\n<table border=\"1\" class=\"dataframe\">\n  <thead>\n    <tr style=\"text-align: right;\">\n      <th></th>\n      <th>Feature Names</th>\n      <th>Coefficients</th>\n      <th>Odds Ratio</th>\n    </tr>\n  </thead>\n  <tbody>\n    <tr>\n      <th>3</th>\n      <td>Reason 3</td>\n      <td>2.903267</td>\n      <td>18.233624</td>\n    </tr>\n    <tr>\n      <th>1</th>\n      <td>Reason 1</td>\n      <td>2.880280</td>\n      <td>17.819257</td>\n    </tr>\n    <tr>\n      <th>2</th>\n      <td>Reason 2</td>\n      <td>0.923240</td>\n      <td>2.517435</td>\n    </tr>\n    <tr>\n      <th>4</th>\n      <td>Reason 4</td>\n      <td>0.889674</td>\n      <td>2.434336</td>\n    </tr>\n    <tr>\n      <th>7</th>\n      <td>Transportation Expense</td>\n      <td>0.599277</td>\n      <td>1.820801</td>\n    </tr>\n    <tr>\n      <th>13</th>\n      <td>Children</td>\n      <td>0.436661</td>\n      <td>1.547532</td>\n    </tr>\n    <tr>\n      <th>11</th>\n      <td>Body Mass Index</td>\n      <td>0.247163</td>\n      <td>1.280388</td>\n    </tr>\n    <tr>\n      <th>12</th>\n      <td>Education</td>\n      <td>0.211180</td>\n      <td>1.235135</td>\n    </tr>\n    <tr>\n      <th>5</th>\n      <td>Month Value</td>\n      <td>0.070055</td>\n      <td>1.072567</td>\n    </tr>\n    <tr>\n      <th>8</th>\n      <td>Distance to Work</td>\n      <td>0.029727</td>\n      <td>1.030173</td>\n    </tr>\n    <tr>\n      <th>10</th>\n      <td>Daily Work Load Average</td>\n      <td>0.013103</td>\n      <td>1.013189</td>\n    </tr>\n    <tr>\n      <th>9</th>\n      <td>Age</td>\n      <td>-0.183230</td>\n      <td>0.832576</td>\n    </tr>\n    <tr>\n      <th>14</th>\n      <td>Pets</td>\n      <td>-0.222189</td>\n      <td>0.800764</td>\n    </tr>\n    <tr>\n      <th>6</th>\n      <td>Day of the Week</td>\n      <td>-0.295224</td>\n      <td>0.744365</td>\n    </tr>\n    <tr>\n      <th>0</th>\n      <td>Intercept</td>\n      <td>-1.723676</td>\n      <td>0.178409</td>\n    </tr>\n  </tbody>\n</table>\n</div>"
     },
     "execution_count": 31,
     "metadata": {},
     "output_type": "execute_result"
    }
   ],
   "source": [
    "# sort by highest odds ratio first\n",
    "summary_table.sort_values(by=['Odds Ratio'], ascending=False)"
   ],
   "metadata": {
    "collapsed": false,
    "pycharm": {
     "name": "#%%\n"
    }
   }
  },
  {
   "cell_type": "markdown",
   "source": [
    "A feature is not particularly important if its:\n",
    "- coefficient is around 0\n",
    "- odds ratio is around 1\n",
    "\n",
    "A weight of 0 implies that no matter the feature value, we will multiply it by 0 in the model.\n",
    "\n",
    "For a unit change in the standardized feature, the odds increase by a multiple equal to the odds ratio. Hence, 1 implies no change.\n",
    "\n",
    "I have assumed at least a 5% change in odds to be significant.\n",
    "\n",
    "From the above table, it seems that the `Daily Work Load Average` and `Distance to Work` make no difference, given all features."
   ],
   "metadata": {
    "collapsed": false,
    "pycharm": {
     "name": "#%% md\n"
    }
   }
  },
  {
   "cell_type": "markdown",
   "source": [
    "According to the table, if people have poisoning (Reason 3), they are 18.23 times more likely to be excessively absent, followed by diseases (Reason 1) at 17.8 times, pregnancy and giving birth (Reason 2) at 2.5 times and light diseases (Reason 4) at 2.4 times.\n",
    "\n",
    "It is understandable as if a person is poisoned or sick, he/she is more likely to miss work. In the case of pregnancy, a woman might miss work when she visits the gynaecologist, and when she gives birth (which is often paid leave and not absence)."
   ],
   "metadata": {
    "collapsed": false,
    "pycharm": {
     "name": "#%% md\n"
    }
   }
  },
  {
   "cell_type": "markdown",
   "source": [
    "Coming towards the bottom of the table, we can see that a 1 standard deviation increase in Age, Pets and Day of the Week causes the odds of missing work excessively to go down by 17%, 20% and 26% respectively.\n",
    "\n",
    "It could be interpreted that as a person becomes old (or senior), he/she has a higher responsibility at work and chooses to be absent less frequently.\n",
    "\n",
    "In case of pets, when someone has a lot of pets, he/she might have hire someone to take care of them for which they don't have to miss work if the pets need to visit the vet.\n",
    "\n",
    "Also, as we enter into a new week, people might take an extended weekend and be absent, but as we progress towards the middle of the week, absence is less frequent."
   ],
   "metadata": {
    "collapsed": false,
    "pycharm": {
     "name": "#%% md\n"
    }
   }
  },
  {
   "cell_type": "markdown",
   "source": [
    "## Remove Unnecessary Features\n",
    "\n",
    "Now we will remove the unnecessary features, split the dataset and rebuild the classification model."
   ],
   "metadata": {
    "collapsed": false,
    "pycharm": {
     "name": "#%% md\n"
    }
   }
  },
  {
   "cell_type": "code",
   "execution_count": 32,
   "outputs": [
    {
     "data": {
      "text/plain": "     Reason 1  Reason 2  Reason 3  Reason 4  Month Value  Day of the Week  \\\n0           0         0         0         1     0.182726        -0.683704   \n1           0         0         0         0     0.182726        -0.683704   \n2           0         0         0         1     0.182726        -0.007725   \n3           1         0         0         0     0.182726         0.668253   \n4           0         0         0         1     0.182726         0.668253   \n..        ...       ...       ...       ...          ...              ...   \n695         1         0         0         0    -0.388293        -0.007725   \n696         1         0         0         0    -0.388293        -0.007725   \n697         1         0         0         0    -0.388293         0.668253   \n698         0         0         0         1    -0.388293         0.668253   \n699         0         0         0         1    -0.388293         0.668253   \n\n     Transportation Expense  Distance to Work       Age  \\\n0                  1.005844          0.412816 -0.536062   \n1                 -1.574681         -1.141882  2.130803   \n2                 -0.654143          1.426749  0.248310   \n3                  0.854936         -1.682647  0.405184   \n4                  1.005844          0.412816 -0.536062   \n..                      ...               ...       ...   \n695               -0.654143         -0.533522  0.562059   \n696                0.040034         -0.263140 -1.320435   \n697                1.624567         -0.939096 -1.320435   \n698                0.190942         -0.939096 -0.692937   \n699                1.036026          0.074838  0.562059   \n\n     Daily Work Load Average  Body Mass Index  Education  Children      Pets  \n0                  -0.806331         0.767431          0  0.880469  0.268487  \n1                  -0.806331         1.002633          0 -0.019280 -0.589690  \n2                  -0.806331         1.002633          0 -0.919030 -0.589690  \n3                  -0.806331        -0.643782          0  0.880469 -0.589690  \n4                  -0.806331         0.767431          0  0.880469  0.268487  \n..                       ...              ...        ...       ...       ...  \n695                -0.853789        -1.114186          1  0.880469 -0.589690  \n696                -0.853789        -0.643782          0 -0.019280  1.126663  \n697                -0.853789        -0.408580          1 -0.919030 -0.589690  \n698                -0.853789        -0.408580          1 -0.919030 -0.589690  \n699                -0.853789        -0.408580          0 -0.019280  0.268487  \n\n[700 rows x 14 columns]",
      "text/html": "<div>\n<style scoped>\n    .dataframe tbody tr th:only-of-type {\n        vertical-align: middle;\n    }\n\n    .dataframe tbody tr th {\n        vertical-align: top;\n    }\n\n    .dataframe thead th {\n        text-align: right;\n    }\n</style>\n<table border=\"1\" class=\"dataframe\">\n  <thead>\n    <tr style=\"text-align: right;\">\n      <th></th>\n      <th>Reason 1</th>\n      <th>Reason 2</th>\n      <th>Reason 3</th>\n      <th>Reason 4</th>\n      <th>Month Value</th>\n      <th>Day of the Week</th>\n      <th>Transportation Expense</th>\n      <th>Distance to Work</th>\n      <th>Age</th>\n      <th>Daily Work Load Average</th>\n      <th>Body Mass Index</th>\n      <th>Education</th>\n      <th>Children</th>\n      <th>Pets</th>\n    </tr>\n  </thead>\n  <tbody>\n    <tr>\n      <th>0</th>\n      <td>0</td>\n      <td>0</td>\n      <td>0</td>\n      <td>1</td>\n      <td>0.182726</td>\n      <td>-0.683704</td>\n      <td>1.005844</td>\n      <td>0.412816</td>\n      <td>-0.536062</td>\n      <td>-0.806331</td>\n      <td>0.767431</td>\n      <td>0</td>\n      <td>0.880469</td>\n      <td>0.268487</td>\n    </tr>\n    <tr>\n      <th>1</th>\n      <td>0</td>\n      <td>0</td>\n      <td>0</td>\n      <td>0</td>\n      <td>0.182726</td>\n      <td>-0.683704</td>\n      <td>-1.574681</td>\n      <td>-1.141882</td>\n      <td>2.130803</td>\n      <td>-0.806331</td>\n      <td>1.002633</td>\n      <td>0</td>\n      <td>-0.019280</td>\n      <td>-0.589690</td>\n    </tr>\n    <tr>\n      <th>2</th>\n      <td>0</td>\n      <td>0</td>\n      <td>0</td>\n      <td>1</td>\n      <td>0.182726</td>\n      <td>-0.007725</td>\n      <td>-0.654143</td>\n      <td>1.426749</td>\n      <td>0.248310</td>\n      <td>-0.806331</td>\n      <td>1.002633</td>\n      <td>0</td>\n      <td>-0.919030</td>\n      <td>-0.589690</td>\n    </tr>\n    <tr>\n      <th>3</th>\n      <td>1</td>\n      <td>0</td>\n      <td>0</td>\n      <td>0</td>\n      <td>0.182726</td>\n      <td>0.668253</td>\n      <td>0.854936</td>\n      <td>-1.682647</td>\n      <td>0.405184</td>\n      <td>-0.806331</td>\n      <td>-0.643782</td>\n      <td>0</td>\n      <td>0.880469</td>\n      <td>-0.589690</td>\n    </tr>\n    <tr>\n      <th>4</th>\n      <td>0</td>\n      <td>0</td>\n      <td>0</td>\n      <td>1</td>\n      <td>0.182726</td>\n      <td>0.668253</td>\n      <td>1.005844</td>\n      <td>0.412816</td>\n      <td>-0.536062</td>\n      <td>-0.806331</td>\n      <td>0.767431</td>\n      <td>0</td>\n      <td>0.880469</td>\n      <td>0.268487</td>\n    </tr>\n    <tr>\n      <th>...</th>\n      <td>...</td>\n      <td>...</td>\n      <td>...</td>\n      <td>...</td>\n      <td>...</td>\n      <td>...</td>\n      <td>...</td>\n      <td>...</td>\n      <td>...</td>\n      <td>...</td>\n      <td>...</td>\n      <td>...</td>\n      <td>...</td>\n      <td>...</td>\n    </tr>\n    <tr>\n      <th>695</th>\n      <td>1</td>\n      <td>0</td>\n      <td>0</td>\n      <td>0</td>\n      <td>-0.388293</td>\n      <td>-0.007725</td>\n      <td>-0.654143</td>\n      <td>-0.533522</td>\n      <td>0.562059</td>\n      <td>-0.853789</td>\n      <td>-1.114186</td>\n      <td>1</td>\n      <td>0.880469</td>\n      <td>-0.589690</td>\n    </tr>\n    <tr>\n      <th>696</th>\n      <td>1</td>\n      <td>0</td>\n      <td>0</td>\n      <td>0</td>\n      <td>-0.388293</td>\n      <td>-0.007725</td>\n      <td>0.040034</td>\n      <td>-0.263140</td>\n      <td>-1.320435</td>\n      <td>-0.853789</td>\n      <td>-0.643782</td>\n      <td>0</td>\n      <td>-0.019280</td>\n      <td>1.126663</td>\n    </tr>\n    <tr>\n      <th>697</th>\n      <td>1</td>\n      <td>0</td>\n      <td>0</td>\n      <td>0</td>\n      <td>-0.388293</td>\n      <td>0.668253</td>\n      <td>1.624567</td>\n      <td>-0.939096</td>\n      <td>-1.320435</td>\n      <td>-0.853789</td>\n      <td>-0.408580</td>\n      <td>1</td>\n      <td>-0.919030</td>\n      <td>-0.589690</td>\n    </tr>\n    <tr>\n      <th>698</th>\n      <td>0</td>\n      <td>0</td>\n      <td>0</td>\n      <td>1</td>\n      <td>-0.388293</td>\n      <td>0.668253</td>\n      <td>0.190942</td>\n      <td>-0.939096</td>\n      <td>-0.692937</td>\n      <td>-0.853789</td>\n      <td>-0.408580</td>\n      <td>1</td>\n      <td>-0.919030</td>\n      <td>-0.589690</td>\n    </tr>\n    <tr>\n      <th>699</th>\n      <td>0</td>\n      <td>0</td>\n      <td>0</td>\n      <td>1</td>\n      <td>-0.388293</td>\n      <td>0.668253</td>\n      <td>1.036026</td>\n      <td>0.074838</td>\n      <td>0.562059</td>\n      <td>-0.853789</td>\n      <td>-0.408580</td>\n      <td>0</td>\n      <td>-0.019280</td>\n      <td>0.268487</td>\n    </tr>\n  </tbody>\n</table>\n<p>700 rows × 14 columns</p>\n</div>"
     },
     "execution_count": 32,
     "metadata": {},
     "output_type": "execute_result"
    }
   ],
   "source": [
    "scaled_inputs"
   ],
   "metadata": {
    "collapsed": false,
    "pycharm": {
     "name": "#%%\n"
    }
   }
  },
  {
   "cell_type": "code",
   "execution_count": 33,
   "outputs": [],
   "source": [
    "# remove insignificant features\n",
    "# update the inputs\n",
    "scaled_inputs_mod = scaled_inputs.drop(['Distance to Work'], axis=1)\n",
    "scaled_inputs_mod = scaled_inputs_mod.drop(['Daily Work Load Average'], axis=1)"
   ],
   "metadata": {
    "collapsed": false,
    "pycharm": {
     "name": "#%%\n"
    }
   }
  },
  {
   "cell_type": "code",
   "execution_count": 34,
   "outputs": [
    {
     "data": {
      "text/plain": "     Reason 1  Reason 2  Reason 3  Reason 4  Month Value  Day of the Week  \\\n0           0         0         0         1     0.182726        -0.683704   \n1           0         0         0         0     0.182726        -0.683704   \n2           0         0         0         1     0.182726        -0.007725   \n3           1         0         0         0     0.182726         0.668253   \n4           0         0         0         1     0.182726         0.668253   \n..        ...       ...       ...       ...          ...              ...   \n695         1         0         0         0    -0.388293        -0.007725   \n696         1         0         0         0    -0.388293        -0.007725   \n697         1         0         0         0    -0.388293         0.668253   \n698         0         0         0         1    -0.388293         0.668253   \n699         0         0         0         1    -0.388293         0.668253   \n\n     Transportation Expense       Age  Body Mass Index  Education  Children  \\\n0                  1.005844 -0.536062         0.767431          0  0.880469   \n1                 -1.574681  2.130803         1.002633          0 -0.019280   \n2                 -0.654143  0.248310         1.002633          0 -0.919030   \n3                  0.854936  0.405184        -0.643782          0  0.880469   \n4                  1.005844 -0.536062         0.767431          0  0.880469   \n..                      ...       ...              ...        ...       ...   \n695               -0.654143  0.562059        -1.114186          1  0.880469   \n696                0.040034 -1.320435        -0.643782          0 -0.019280   \n697                1.624567 -1.320435        -0.408580          1 -0.919030   \n698                0.190942 -0.692937        -0.408580          1 -0.919030   \n699                1.036026  0.562059        -0.408580          0 -0.019280   \n\n         Pets  \n0    0.268487  \n1   -0.589690  \n2   -0.589690  \n3   -0.589690  \n4    0.268487  \n..        ...  \n695 -0.589690  \n696  1.126663  \n697 -0.589690  \n698 -0.589690  \n699  0.268487  \n\n[700 rows x 12 columns]",
      "text/html": "<div>\n<style scoped>\n    .dataframe tbody tr th:only-of-type {\n        vertical-align: middle;\n    }\n\n    .dataframe tbody tr th {\n        vertical-align: top;\n    }\n\n    .dataframe thead th {\n        text-align: right;\n    }\n</style>\n<table border=\"1\" class=\"dataframe\">\n  <thead>\n    <tr style=\"text-align: right;\">\n      <th></th>\n      <th>Reason 1</th>\n      <th>Reason 2</th>\n      <th>Reason 3</th>\n      <th>Reason 4</th>\n      <th>Month Value</th>\n      <th>Day of the Week</th>\n      <th>Transportation Expense</th>\n      <th>Age</th>\n      <th>Body Mass Index</th>\n      <th>Education</th>\n      <th>Children</th>\n      <th>Pets</th>\n    </tr>\n  </thead>\n  <tbody>\n    <tr>\n      <th>0</th>\n      <td>0</td>\n      <td>0</td>\n      <td>0</td>\n      <td>1</td>\n      <td>0.182726</td>\n      <td>-0.683704</td>\n      <td>1.005844</td>\n      <td>-0.536062</td>\n      <td>0.767431</td>\n      <td>0</td>\n      <td>0.880469</td>\n      <td>0.268487</td>\n    </tr>\n    <tr>\n      <th>1</th>\n      <td>0</td>\n      <td>0</td>\n      <td>0</td>\n      <td>0</td>\n      <td>0.182726</td>\n      <td>-0.683704</td>\n      <td>-1.574681</td>\n      <td>2.130803</td>\n      <td>1.002633</td>\n      <td>0</td>\n      <td>-0.019280</td>\n      <td>-0.589690</td>\n    </tr>\n    <tr>\n      <th>2</th>\n      <td>0</td>\n      <td>0</td>\n      <td>0</td>\n      <td>1</td>\n      <td>0.182726</td>\n      <td>-0.007725</td>\n      <td>-0.654143</td>\n      <td>0.248310</td>\n      <td>1.002633</td>\n      <td>0</td>\n      <td>-0.919030</td>\n      <td>-0.589690</td>\n    </tr>\n    <tr>\n      <th>3</th>\n      <td>1</td>\n      <td>0</td>\n      <td>0</td>\n      <td>0</td>\n      <td>0.182726</td>\n      <td>0.668253</td>\n      <td>0.854936</td>\n      <td>0.405184</td>\n      <td>-0.643782</td>\n      <td>0</td>\n      <td>0.880469</td>\n      <td>-0.589690</td>\n    </tr>\n    <tr>\n      <th>4</th>\n      <td>0</td>\n      <td>0</td>\n      <td>0</td>\n      <td>1</td>\n      <td>0.182726</td>\n      <td>0.668253</td>\n      <td>1.005844</td>\n      <td>-0.536062</td>\n      <td>0.767431</td>\n      <td>0</td>\n      <td>0.880469</td>\n      <td>0.268487</td>\n    </tr>\n    <tr>\n      <th>...</th>\n      <td>...</td>\n      <td>...</td>\n      <td>...</td>\n      <td>...</td>\n      <td>...</td>\n      <td>...</td>\n      <td>...</td>\n      <td>...</td>\n      <td>...</td>\n      <td>...</td>\n      <td>...</td>\n      <td>...</td>\n    </tr>\n    <tr>\n      <th>695</th>\n      <td>1</td>\n      <td>0</td>\n      <td>0</td>\n      <td>0</td>\n      <td>-0.388293</td>\n      <td>-0.007725</td>\n      <td>-0.654143</td>\n      <td>0.562059</td>\n      <td>-1.114186</td>\n      <td>1</td>\n      <td>0.880469</td>\n      <td>-0.589690</td>\n    </tr>\n    <tr>\n      <th>696</th>\n      <td>1</td>\n      <td>0</td>\n      <td>0</td>\n      <td>0</td>\n      <td>-0.388293</td>\n      <td>-0.007725</td>\n      <td>0.040034</td>\n      <td>-1.320435</td>\n      <td>-0.643782</td>\n      <td>0</td>\n      <td>-0.019280</td>\n      <td>1.126663</td>\n    </tr>\n    <tr>\n      <th>697</th>\n      <td>1</td>\n      <td>0</td>\n      <td>0</td>\n      <td>0</td>\n      <td>-0.388293</td>\n      <td>0.668253</td>\n      <td>1.624567</td>\n      <td>-1.320435</td>\n      <td>-0.408580</td>\n      <td>1</td>\n      <td>-0.919030</td>\n      <td>-0.589690</td>\n    </tr>\n    <tr>\n      <th>698</th>\n      <td>0</td>\n      <td>0</td>\n      <td>0</td>\n      <td>1</td>\n      <td>-0.388293</td>\n      <td>0.668253</td>\n      <td>0.190942</td>\n      <td>-0.692937</td>\n      <td>-0.408580</td>\n      <td>1</td>\n      <td>-0.919030</td>\n      <td>-0.589690</td>\n    </tr>\n    <tr>\n      <th>699</th>\n      <td>0</td>\n      <td>0</td>\n      <td>0</td>\n      <td>1</td>\n      <td>-0.388293</td>\n      <td>0.668253</td>\n      <td>1.036026</td>\n      <td>0.562059</td>\n      <td>-0.408580</td>\n      <td>0</td>\n      <td>-0.019280</td>\n      <td>0.268487</td>\n    </tr>\n  </tbody>\n</table>\n<p>700 rows × 12 columns</p>\n</div>"
     },
     "execution_count": 34,
     "metadata": {},
     "output_type": "execute_result"
    }
   ],
   "source": [
    "scaled_inputs_mod"
   ],
   "metadata": {
    "collapsed": false,
    "pycharm": {
     "name": "#%%\n"
    }
   }
  },
  {
   "cell_type": "markdown",
   "source": [
    "### Split the Dataset"
   ],
   "metadata": {
    "collapsed": false,
    "pycharm": {
     "name": "#%% md\n"
    }
   }
  },
  {
   "cell_type": "code",
   "execution_count": 35,
   "outputs": [],
   "source": [
    "# split the data into 80:20\n",
    "# use random state = 1\n",
    "# stratify the data\n",
    "x_train, x_test, y_train, y_test = train_test_split(scaled_inputs_mod, targets, test_size=0.2, stratify=targets, random_state=1)"
   ],
   "metadata": {
    "collapsed": false,
    "pycharm": {
     "name": "#%%\n"
    }
   }
  },
  {
   "cell_type": "markdown",
   "source": [
    "### Build A New Model"
   ],
   "metadata": {
    "collapsed": false,
    "pycharm": {
     "name": "#%% md\n"
    }
   }
  },
  {
   "cell_type": "code",
   "execution_count": 36,
   "outputs": [
    {
     "data": {
      "text/plain": "LogisticRegression()",
      "text/html": "<style>#sk-container-id-2 {color: black;background-color: white;}#sk-container-id-2 pre{padding: 0;}#sk-container-id-2 div.sk-toggleable {background-color: white;}#sk-container-id-2 label.sk-toggleable__label {cursor: pointer;display: block;width: 100%;margin-bottom: 0;padding: 0.3em;box-sizing: border-box;text-align: center;}#sk-container-id-2 label.sk-toggleable__label-arrow:before {content: \"▸\";float: left;margin-right: 0.25em;color: #696969;}#sk-container-id-2 label.sk-toggleable__label-arrow:hover:before {color: black;}#sk-container-id-2 div.sk-estimator:hover label.sk-toggleable__label-arrow:before {color: black;}#sk-container-id-2 div.sk-toggleable__content {max-height: 0;max-width: 0;overflow: hidden;text-align: left;background-color: #f0f8ff;}#sk-container-id-2 div.sk-toggleable__content pre {margin: 0.2em;color: black;border-radius: 0.25em;background-color: #f0f8ff;}#sk-container-id-2 input.sk-toggleable__control:checked~div.sk-toggleable__content {max-height: 200px;max-width: 100%;overflow: auto;}#sk-container-id-2 input.sk-toggleable__control:checked~label.sk-toggleable__label-arrow:before {content: \"▾\";}#sk-container-id-2 div.sk-estimator input.sk-toggleable__control:checked~label.sk-toggleable__label {background-color: #d4ebff;}#sk-container-id-2 div.sk-label input.sk-toggleable__control:checked~label.sk-toggleable__label {background-color: #d4ebff;}#sk-container-id-2 input.sk-hidden--visually {border: 0;clip: rect(1px 1px 1px 1px);clip: rect(1px, 1px, 1px, 1px);height: 1px;margin: -1px;overflow: hidden;padding: 0;position: absolute;width: 1px;}#sk-container-id-2 div.sk-estimator {font-family: monospace;background-color: #f0f8ff;border: 1px dotted black;border-radius: 0.25em;box-sizing: border-box;margin-bottom: 0.5em;}#sk-container-id-2 div.sk-estimator:hover {background-color: #d4ebff;}#sk-container-id-2 div.sk-parallel-item::after {content: \"\";width: 100%;border-bottom: 1px solid gray;flex-grow: 1;}#sk-container-id-2 div.sk-label:hover label.sk-toggleable__label {background-color: #d4ebff;}#sk-container-id-2 div.sk-serial::before {content: \"\";position: absolute;border-left: 1px solid gray;box-sizing: border-box;top: 0;bottom: 0;left: 50%;z-index: 0;}#sk-container-id-2 div.sk-serial {display: flex;flex-direction: column;align-items: center;background-color: white;padding-right: 0.2em;padding-left: 0.2em;position: relative;}#sk-container-id-2 div.sk-item {position: relative;z-index: 1;}#sk-container-id-2 div.sk-parallel {display: flex;align-items: stretch;justify-content: center;background-color: white;position: relative;}#sk-container-id-2 div.sk-item::before, #sk-container-id-2 div.sk-parallel-item::before {content: \"\";position: absolute;border-left: 1px solid gray;box-sizing: border-box;top: 0;bottom: 0;left: 50%;z-index: -1;}#sk-container-id-2 div.sk-parallel-item {display: flex;flex-direction: column;z-index: 1;position: relative;background-color: white;}#sk-container-id-2 div.sk-parallel-item:first-child::after {align-self: flex-end;width: 50%;}#sk-container-id-2 div.sk-parallel-item:last-child::after {align-self: flex-start;width: 50%;}#sk-container-id-2 div.sk-parallel-item:only-child::after {width: 0;}#sk-container-id-2 div.sk-dashed-wrapped {border: 1px dashed gray;margin: 0 0.4em 0.5em 0.4em;box-sizing: border-box;padding-bottom: 0.4em;background-color: white;}#sk-container-id-2 div.sk-label label {font-family: monospace;font-weight: bold;display: inline-block;line-height: 1.2em;}#sk-container-id-2 div.sk-label-container {text-align: center;}#sk-container-id-2 div.sk-container {/* jupyter's `normalize.less` sets `[hidden] { display: none; }` but bootstrap.min.css set `[hidden] { display: none !important; }` so we also need the `!important` here to be able to override the default hidden behavior on the sphinx rendered scikit-learn.org. See: https://github.com/scikit-learn/scikit-learn/issues/21755 */display: inline-block !important;position: relative;}#sk-container-id-2 div.sk-text-repr-fallback {display: none;}</style><div id=\"sk-container-id-2\" class=\"sk-top-container\"><div class=\"sk-text-repr-fallback\"><pre>LogisticRegression()</pre><b>In a Jupyter environment, please rerun this cell to show the HTML representation or trust the notebook. <br />On GitHub, the HTML representation is unable to render, please try loading this page with nbviewer.org.</b></div><div class=\"sk-container\" hidden><div class=\"sk-item\"><div class=\"sk-estimator sk-toggleable\"><input class=\"sk-toggleable__control sk-hidden--visually\" id=\"sk-estimator-id-2\" type=\"checkbox\" checked><label for=\"sk-estimator-id-2\" class=\"sk-toggleable__label sk-toggleable__label-arrow\">LogisticRegression</label><div class=\"sk-toggleable__content\"><pre>LogisticRegression()</pre></div></div></div></div></div>"
     },
     "execution_count": 36,
     "metadata": {},
     "output_type": "execute_result"
    }
   ],
   "source": [
    "# build a logistic regression model\n",
    "new_reg = LogisticRegression()\n",
    "\n",
    "# train the model\n",
    "new_reg.fit(x_train, y_train)"
   ],
   "metadata": {
    "collapsed": false,
    "pycharm": {
     "name": "#%%\n"
    }
   }
  },
  {
   "cell_type": "code",
   "execution_count": 37,
   "outputs": [
    {
     "data": {
      "text/plain": "0.7821428571428571"
     },
     "execution_count": 37,
     "metadata": {},
     "output_type": "execute_result"
    }
   ],
   "source": [
    "new_reg.score(x_train, y_train)"
   ],
   "metadata": {
    "collapsed": false,
    "pycharm": {
     "name": "#%%\n"
    }
   }
  },
  {
   "cell_type": "markdown",
   "source": [
    "### Create New Summary Table"
   ],
   "metadata": {
    "collapsed": false,
    "pycharm": {
     "name": "#%% md\n"
    }
   }
  },
  {
   "cell_type": "code",
   "execution_count": 38,
   "outputs": [
    {
     "data": {
      "text/plain": "             Feature Names  Coefficients  Odds Ratio\n3                 Reason 3      2.905188   18.268682\n1                 Reason 1      2.884277   17.890630\n2                 Reason 2      0.930553    2.535912\n4                 Reason 4      0.892699    2.441712\n7   Transportation Expense      0.606298    1.833631\n11                Children      0.434739    1.544560\n9          Body Mass Index      0.249953    1.283965\n10               Education      0.183126    1.200965\n5              Month Value      0.067504    1.069834\n8                      Age     -0.189029    0.827763\n12                    Pets     -0.222479    0.800532\n6          Day of the Week     -0.291153    0.747401\n0                Intercept     -1.721328    0.178828",
      "text/html": "<div>\n<style scoped>\n    .dataframe tbody tr th:only-of-type {\n        vertical-align: middle;\n    }\n\n    .dataframe tbody tr th {\n        vertical-align: top;\n    }\n\n    .dataframe thead th {\n        text-align: right;\n    }\n</style>\n<table border=\"1\" class=\"dataframe\">\n  <thead>\n    <tr style=\"text-align: right;\">\n      <th></th>\n      <th>Feature Names</th>\n      <th>Coefficients</th>\n      <th>Odds Ratio</th>\n    </tr>\n  </thead>\n  <tbody>\n    <tr>\n      <th>3</th>\n      <td>Reason 3</td>\n      <td>2.905188</td>\n      <td>18.268682</td>\n    </tr>\n    <tr>\n      <th>1</th>\n      <td>Reason 1</td>\n      <td>2.884277</td>\n      <td>17.890630</td>\n    </tr>\n    <tr>\n      <th>2</th>\n      <td>Reason 2</td>\n      <td>0.930553</td>\n      <td>2.535912</td>\n    </tr>\n    <tr>\n      <th>4</th>\n      <td>Reason 4</td>\n      <td>0.892699</td>\n      <td>2.441712</td>\n    </tr>\n    <tr>\n      <th>7</th>\n      <td>Transportation Expense</td>\n      <td>0.606298</td>\n      <td>1.833631</td>\n    </tr>\n    <tr>\n      <th>11</th>\n      <td>Children</td>\n      <td>0.434739</td>\n      <td>1.544560</td>\n    </tr>\n    <tr>\n      <th>9</th>\n      <td>Body Mass Index</td>\n      <td>0.249953</td>\n      <td>1.283965</td>\n    </tr>\n    <tr>\n      <th>10</th>\n      <td>Education</td>\n      <td>0.183126</td>\n      <td>1.200965</td>\n    </tr>\n    <tr>\n      <th>5</th>\n      <td>Month Value</td>\n      <td>0.067504</td>\n      <td>1.069834</td>\n    </tr>\n    <tr>\n      <th>8</th>\n      <td>Age</td>\n      <td>-0.189029</td>\n      <td>0.827763</td>\n    </tr>\n    <tr>\n      <th>12</th>\n      <td>Pets</td>\n      <td>-0.222479</td>\n      <td>0.800532</td>\n    </tr>\n    <tr>\n      <th>6</th>\n      <td>Day of the Week</td>\n      <td>-0.291153</td>\n      <td>0.747401</td>\n    </tr>\n    <tr>\n      <th>0</th>\n      <td>Intercept</td>\n      <td>-1.721328</td>\n      <td>0.178828</td>\n    </tr>\n  </tbody>\n</table>\n</div>"
     },
     "execution_count": 38,
     "metadata": {},
     "output_type": "execute_result"
    }
   ],
   "source": [
    "# create a dataframe for features and coefficients\n",
    "summary_table = pd.DataFrame(data = scaled_inputs_mod.columns.values, columns = ['Feature Names'])\n",
    "# add the coeff\n",
    "# transpose the coeff as it has multiple columns\n",
    "summary_table['Coefficients'] = np.transpose(new_reg.coef_)\n",
    "# add the intercept\n",
    "# shift all rows 1 down and add at the beginning\n",
    "summary_table.index = summary_table.index + 1\n",
    "summary_table.loc[0] = ['Intercept', new_reg.intercept_[0]]\n",
    "# calculate the odds ratio\n",
    "# append in the summary table\n",
    "summary_table['Odds Ratio'] = np.exp(summary_table['Coefficients'])\n",
    "# sort by highest odds ratio first\n",
    "summary_table.sort_values(by=['Odds Ratio'], ascending=False)"
   ],
   "metadata": {
    "collapsed": false,
    "pycharm": {
     "name": "#%%\n"
    }
   }
  },
  {
   "cell_type": "markdown",
   "source": [
    "## Test the Model\n",
    "\n",
    "Now that training is complete, we should test the model on unseen data to check the accuracy of our model. We will also be checking the probability of a person being excessively absent, given the inputs."
   ],
   "metadata": {
    "collapsed": false,
    "pycharm": {
     "name": "#%% md\n"
    }
   }
  },
  {
   "cell_type": "code",
   "execution_count": 39,
   "outputs": [
    {
     "data": {
      "text/plain": "0.75"
     },
     "execution_count": 39,
     "metadata": {},
     "output_type": "execute_result"
    }
   ],
   "source": [
    "# check test score\n",
    "new_reg.score(x_test, y_test)"
   ],
   "metadata": {
    "collapsed": false,
    "pycharm": {
     "name": "#%%\n"
    }
   }
  },
  {
   "cell_type": "markdown",
   "source": [
    "The model is 75% accurate in predicting excessive absenteeism using the input variables. A better could be built using some other inputs as well which were not present in this dataset but might impact classification.\n",
    "\n",
    "Since the test accuracy is close to the training accuracy, we can safely assume that the model did not overfit on our training data, and is pretty generalised in predicting excessive absenteeism from unseen data."
   ],
   "metadata": {
    "collapsed": false,
    "pycharm": {
     "name": "#%% md\n"
    }
   }
  },
  {
   "cell_type": "code",
   "execution_count": 40,
   "outputs": [
    {
     "data": {
      "text/plain": "array([[0.79452391, 0.20547609],\n       [0.79765248, 0.20234752],\n       [0.64926124, 0.35073876],\n       [0.69912802, 0.30087198],\n       [0.83487669, 0.16512331],\n       [0.23108961, 0.76891039],\n       [0.09561371, 0.90438629],\n       [0.76124205, 0.23875795],\n       [0.84012218, 0.15987782],\n       [0.64155305, 0.35844695],\n       [0.76857971, 0.23142029],\n       [0.77709918, 0.22290082],\n       [0.73666243, 0.26333757],\n       [0.25150345, 0.74849655],\n       [0.8398086 , 0.1601914 ],\n       [0.40700275, 0.59299725],\n       [0.75416584, 0.24583416],\n       [0.71114837, 0.28885163],\n       [0.739629  , 0.260371  ],\n       [0.81976551, 0.18023449],\n       [0.29431389, 0.70568611],\n       [0.67292592, 0.32707408],\n       [0.84238444, 0.15761556],\n       [0.0563535 , 0.9436465 ],\n       [0.42015331, 0.57984669],\n       [0.87163807, 0.12836193],\n       [0.19025385, 0.80974615],\n       [0.84546082, 0.15453918],\n       [0.65908135, 0.34091865],\n       [0.61902157, 0.38097843],\n       [0.81669039, 0.18330961],\n       [0.91139214, 0.08860786],\n       [0.79135962, 0.20864038],\n       [0.12331988, 0.87668012],\n       [0.33277906, 0.66722094],\n       [0.46556462, 0.53443538],\n       [0.08154232, 0.91845768],\n       [0.89049379, 0.10950621],\n       [0.10639354, 0.89360646],\n       [0.2514475 , 0.7485525 ],\n       [0.83622472, 0.16377528],\n       [0.23597751, 0.76402249],\n       [0.20319783, 0.79680217],\n       [0.45810836, 0.54189164],\n       [0.44769072, 0.55230928],\n       [0.79452391, 0.20547609],\n       [0.82462245, 0.17537755],\n       [0.70660507, 0.29339493],\n       [0.74280064, 0.25719936],\n       [0.4628965 , 0.5371035 ],\n       [0.65430841, 0.34569159],\n       [0.65473767, 0.34526233],\n       [0.84143552, 0.15856448],\n       [0.22958986, 0.77041014],\n       [0.2780092 , 0.7219908 ],\n       [0.85860219, 0.14139781],\n       [0.78188112, 0.21811888],\n       [0.84576537, 0.15423463],\n       [0.19555617, 0.80444383],\n       [0.70745094, 0.29254906],\n       [0.90626416, 0.09373584],\n       [0.24431692, 0.75568308],\n       [0.43430079, 0.56569921],\n       [0.76053232, 0.23946768],\n       [0.8089267 , 0.1910733 ],\n       [0.12024373, 0.87975627],\n       [0.10443056, 0.89556944],\n       [0.4661451 , 0.5338549 ],\n       [0.48269698, 0.51730302],\n       [0.04721804, 0.95278196],\n       [0.41834574, 0.58165426],\n       [0.42914853, 0.57085147],\n       [0.43430079, 0.56569921],\n       [0.25012487, 0.74987513],\n       [0.44578444, 0.55421556],\n       [0.085879  , 0.914121  ],\n       [0.85387382, 0.14612618],\n       [0.22431158, 0.77568842],\n       [0.8335681 , 0.1664319 ],\n       [0.30472636, 0.69527364],\n       [0.64597292, 0.35402708],\n       [0.38466105, 0.61533895],\n       [0.07704426, 0.92295574],\n       [0.79765248, 0.20234752],\n       [0.13103256, 0.86896744],\n       [0.59978537, 0.40021463],\n       [0.23783613, 0.76216387],\n       [0.38466105, 0.61533895],\n       [0.3023826 , 0.6976174 ],\n       [0.06059608, 0.93940392],\n       [0.7778716 , 0.2221284 ],\n       [0.28998956, 0.71001044],\n       [0.47513536, 0.52486464],\n       [0.18011379, 0.81988621],\n       [0.29060331, 0.70939669],\n       [0.55465036, 0.44534964],\n       [0.51748999, 0.48251001],\n       [0.0569043 , 0.9430957 ],\n       [0.36599382, 0.63400618],\n       [0.8477766 , 0.1522234 ],\n       [0.75551899, 0.24448101],\n       [0.94426642, 0.05573358],\n       [0.60007945, 0.39992055],\n       [0.59049812, 0.40950188],\n       [0.61540903, 0.38459097],\n       [0.9148062 , 0.0851938 ],\n       [0.45138918, 0.54861082],\n       [0.60426005, 0.39573995],\n       [0.89950696, 0.10049304],\n       [0.78165234, 0.21834766],\n       [0.6651261 , 0.3348739 ],\n       [0.25490615, 0.74509385],\n       [0.3082012 , 0.6917988 ],\n       [0.44855613, 0.55144387],\n       [0.07290267, 0.92709733],\n       [0.78188112, 0.21811888],\n       [0.57808151, 0.42191849],\n       [0.66768852, 0.33231148],\n       [0.09212739, 0.90787261],\n       [0.92339689, 0.07660311],\n       [0.51115481, 0.48884519],\n       [0.89022688, 0.10977312],\n       [0.58951031, 0.41048969],\n       [0.73590034, 0.26409966],\n       [0.62267922, 0.37732078],\n       [0.05144277, 0.94855723],\n       [0.85145263, 0.14854737],\n       [0.25586019, 0.74413981],\n       [0.32875628, 0.67124372],\n       [0.82480201, 0.17519799],\n       [0.24104756, 0.75895244],\n       [0.18855973, 0.81144027],\n       [0.6608198 , 0.3391802 ],\n       [0.45332795, 0.54667205],\n       [0.10533405, 0.89466595],\n       [0.22648552, 0.77351448],\n       [0.30854492, 0.69145508],\n       [0.17519978, 0.82480022],\n       [0.40290442, 0.59709558],\n       [0.66940509, 0.33059491]])"
     },
     "execution_count": 40,
     "metadata": {},
     "output_type": "execute_result"
    }
   ],
   "source": [
    "# check the probability of classes\n",
    "predicted_proba = new_reg.predict_proba(x_test)\n",
    "predicted_proba"
   ],
   "metadata": {
    "collapsed": false,
    "pycharm": {
     "name": "#%%\n"
    }
   }
  },
  {
   "cell_type": "code",
   "execution_count": 41,
   "outputs": [
    {
     "data": {
      "text/plain": "array([0.20547609, 0.20234752, 0.35073876, 0.30087198, 0.16512331,\n       0.76891039, 0.90438629, 0.23875795, 0.15987782, 0.35844695,\n       0.23142029, 0.22290082, 0.26333757, 0.74849655, 0.1601914 ,\n       0.59299725, 0.24583416, 0.28885163, 0.260371  , 0.18023449,\n       0.70568611, 0.32707408, 0.15761556, 0.9436465 , 0.57984669,\n       0.12836193, 0.80974615, 0.15453918, 0.34091865, 0.38097843,\n       0.18330961, 0.08860786, 0.20864038, 0.87668012, 0.66722094,\n       0.53443538, 0.91845768, 0.10950621, 0.89360646, 0.7485525 ,\n       0.16377528, 0.76402249, 0.79680217, 0.54189164, 0.55230928,\n       0.20547609, 0.17537755, 0.29339493, 0.25719936, 0.5371035 ,\n       0.34569159, 0.34526233, 0.15856448, 0.77041014, 0.7219908 ,\n       0.14139781, 0.21811888, 0.15423463, 0.80444383, 0.29254906,\n       0.09373584, 0.75568308, 0.56569921, 0.23946768, 0.1910733 ,\n       0.87975627, 0.89556944, 0.5338549 , 0.51730302, 0.95278196,\n       0.58165426, 0.57085147, 0.56569921, 0.74987513, 0.55421556,\n       0.914121  , 0.14612618, 0.77568842, 0.1664319 , 0.69527364,\n       0.35402708, 0.61533895, 0.92295574, 0.20234752, 0.86896744,\n       0.40021463, 0.76216387, 0.61533895, 0.6976174 , 0.93940392,\n       0.2221284 , 0.71001044, 0.52486464, 0.81988621, 0.70939669,\n       0.44534964, 0.48251001, 0.9430957 , 0.63400618, 0.1522234 ,\n       0.24448101, 0.05573358, 0.39992055, 0.40950188, 0.38459097,\n       0.0851938 , 0.54861082, 0.39573995, 0.10049304, 0.21834766,\n       0.3348739 , 0.74509385, 0.6917988 , 0.55144387, 0.92709733,\n       0.21811888, 0.42191849, 0.33231148, 0.90787261, 0.07660311,\n       0.48884519, 0.10977312, 0.41048969, 0.26409966, 0.37732078,\n       0.94855723, 0.14854737, 0.74413981, 0.67124372, 0.17519799,\n       0.75895244, 0.81144027, 0.3391802 , 0.54667205, 0.89466595,\n       0.77351448, 0.69145508, 0.82480022, 0.59709558, 0.33059491])"
     },
     "execution_count": 41,
     "metadata": {},
     "output_type": "execute_result"
    }
   ],
   "source": [
    "# check the probability of assigning class=1\n",
    "predicted_proba[:,1]"
   ],
   "metadata": {
    "collapsed": false,
    "pycharm": {
     "name": "#%%\n"
    }
   }
  },
  {
   "cell_type": "markdown",
   "source": [
    "## Save the Model\n",
    "\n",
    "In order to reuse this model in the future without having to perform the training once again, we need to save it. I will be saving it as a pickle.\n",
    "\n",
    "Similarly, we also need to save the scaler object so that we can scale new data in the future."
   ],
   "metadata": {
    "collapsed": false,
    "pycharm": {
     "name": "#%% md\n"
    }
   }
  },
  {
   "cell_type": "code",
   "execution_count": 44,
   "outputs": [],
   "source": [
    "# import the library to save model\n",
    "import pickle"
   ],
   "metadata": {
    "collapsed": false,
    "pycharm": {
     "name": "#%%\n"
    }
   }
  },
  {
   "cell_type": "code",
   "execution_count": 45,
   "outputs": [],
   "source": [
    "# pickle the model file\n",
    "with open('model', 'wb') as file:\n",
    "    pickle.dump(new_reg, file)"
   ],
   "metadata": {
    "collapsed": false,
    "pycharm": {
     "name": "#%%\n"
    }
   }
  },
  {
   "cell_type": "code",
   "execution_count": 46,
   "outputs": [],
   "source": [
    "# pickle the scaler file\n",
    "with open('scaler','wb') as file:\n",
    "    pickle.dump(absenteeism_scaler, file)"
   ],
   "metadata": {
    "collapsed": false,
    "pycharm": {
     "name": "#%%\n"
    }
   }
  }
 ],
 "metadata": {
  "kernelspec": {
   "display_name": "Python 3",
   "language": "python",
   "name": "python3"
  },
  "language_info": {
   "codemirror_mode": {
    "name": "ipython",
    "version": 2
   },
   "file_extension": ".py",
   "mimetype": "text/x-python",
   "name": "python",
   "nbconvert_exporter": "python",
   "pygments_lexer": "ipython2",
   "version": "2.7.6"
  }
 },
 "nbformat": 4,
 "nbformat_minor": 0
}