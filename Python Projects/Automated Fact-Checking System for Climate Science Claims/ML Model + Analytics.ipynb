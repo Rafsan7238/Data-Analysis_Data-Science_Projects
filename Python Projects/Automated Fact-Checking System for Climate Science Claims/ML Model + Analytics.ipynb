{
  "cells": [
    {
      "cell_type": "markdown",
      "metadata": {
        "id": "32yCsRUo8H33"
      },
      "source": [
        "# 2024 COMP90042 Project\n",
        "*Make sure you change the file name with your group id.*"
      ]
    },
    {
      "cell_type": "markdown",
      "metadata": {
        "id": "XCybYoGz8YWQ"
      },
      "source": [
        "# Readme\n",
        "Before running the cells, make sure you have the required packages given in `requirement.txt` file installed in your system."
      ]
    },
    {
      "cell_type": "markdown",
      "metadata": {
        "id": "6po98qVA8bJD"
      },
      "source": [
        "# 1.DataSet Processing\n",
        "(You can add as many code blocks and text blocks as you need. However, YOU SHOULD NOT MODIFY the section title)"
      ]
    },
    {
      "cell_type": "code",
      "execution_count": null,
      "metadata": {
        "colab": {
          "base_uri": "https://localhost:8080/"
        },
        "id": "1tN4MEl2dwwZ",
        "outputId": "5f8b8328-ee77-4f91-f9f4-5539006bbea3"
      },
      "outputs": [
        {
          "output_type": "stream",
          "name": "stdout",
          "text": [
            "Collecting contractions\n",
            "  Downloading contractions-0.1.73-py2.py3-none-any.whl (8.7 kB)\n",
            "Collecting textsearch>=0.0.21 (from contractions)\n",
            "  Downloading textsearch-0.0.24-py2.py3-none-any.whl (7.6 kB)\n",
            "Collecting anyascii (from textsearch>=0.0.21->contractions)\n",
            "  Downloading anyascii-0.3.2-py3-none-any.whl (289 kB)\n",
            "\u001b[2K     \u001b[90m━━━━━━━━━━━━━━━━━━━━━━━━━━━━━━━━━━━━━━━━\u001b[0m \u001b[32m289.9/289.9 kB\u001b[0m \u001b[31m5.9 MB/s\u001b[0m eta \u001b[36m0:00:00\u001b[0m\n",
            "\u001b[?25hCollecting pyahocorasick (from textsearch>=0.0.21->contractions)\n",
            "  Downloading pyahocorasick-2.1.0-cp310-cp310-manylinux_2_5_x86_64.manylinux1_x86_64.manylinux_2_12_x86_64.manylinux2010_x86_64.whl (110 kB)\n",
            "\u001b[2K     \u001b[90m━━━━━━━━━━━━━━━━━━━━━━━━━━━━━━━━━━━━━━━━\u001b[0m \u001b[32m110.7/110.7 kB\u001b[0m \u001b[31m14.5 MB/s\u001b[0m eta \u001b[36m0:00:00\u001b[0m\n",
            "\u001b[?25hInstalling collected packages: pyahocorasick, anyascii, textsearch, contractions\n",
            "Successfully installed anyascii-0.3.2 contractions-0.1.73 pyahocorasick-2.1.0 textsearch-0.0.24\n",
            "Collecting tensorflow_addons\n",
            "  Downloading tensorflow_addons-0.23.0-cp310-cp310-manylinux_2_17_x86_64.manylinux2014_x86_64.whl (611 kB)\n",
            "\u001b[2K     \u001b[90m━━━━━━━━━━━━━━━━━━━━━━━━━━━━━━━━━━━━━━━━\u001b[0m \u001b[32m611.8/611.8 kB\u001b[0m \u001b[31m6.9 MB/s\u001b[0m eta \u001b[36m0:00:00\u001b[0m\n",
            "\u001b[?25hRequirement already satisfied: packaging in /usr/local/lib/python3.10/dist-packages (from tensorflow_addons) (24.0)\n",
            "Collecting typeguard<3.0.0,>=2.7 (from tensorflow_addons)\n",
            "  Downloading typeguard-2.13.3-py3-none-any.whl (17 kB)\n",
            "Installing collected packages: typeguard, tensorflow_addons\n",
            "Successfully installed tensorflow_addons-0.23.0 typeguard-2.13.3\n"
          ]
        }
      ],
      "source": [
        "!pip install contractions\n",
        "!pip install tensorflow_addons"
      ]
    },
    {
      "cell_type": "markdown",
      "metadata": {
        "id": "366r633cRN4Q"
      },
      "source": [
        "## Mount Google Drive and Load Dataset\n",
        "The datasets are available on Google Drive, so we will mount it and load the datasets from there."
      ]
    },
    {
      "cell_type": "code",
      "execution_count": null,
      "metadata": {
        "colab": {
          "base_uri": "https://localhost:8080/"
        },
        "id": "NtAQo1ihuxv5",
        "outputId": "69dc5f92-38e9-47af-ac86-e91352b58a3d"
      },
      "outputs": [
        {
          "output_type": "stream",
          "name": "stdout",
          "text": [
            "Mounted at /content/drive\n"
          ]
        }
      ],
      "source": [
        "# Mounting Google Drive to access files\n",
        "from google.colab import drive\n",
        "drive.mount('/content/drive')\n",
        "\n",
        "# Changing the current directory to the project folder in Google Drive\n",
        "import os\n",
        "os.chdir('/content/drive/MyDrive/COMP90042_Project')"
      ]
    },
    {
      "cell_type": "code",
      "execution_count": null,
      "metadata": {
        "id": "W8Y_FAoqvE94"
      },
      "outputs": [],
      "source": [
        "import json\n",
        "\n",
        "def load_data(file_path):\n",
        "    \"\"\"\n",
        "    Loads data from a JSON file.\n",
        "\n",
        "    Args:\n",
        "    file_path (str): Path to the JSON file.\n",
        "\n",
        "    Returns:\n",
        "    dict: Loaded data.\n",
        "    \"\"\"\n",
        "    with open(file_path, 'r') as file:\n",
        "        data = json.load(file)\n",
        "    return data"
      ]
    },
    {
      "cell_type": "code",
      "execution_count": null,
      "metadata": {
        "id": "e7q2SQgf3mJR"
      },
      "outputs": [],
      "source": [
        "# Load data\n",
        "train_claims = load_data('data/train-claims.json')\n",
        "dev_claims = load_data('data/dev-claims.json')\n",
        "test_claims = load_data('data/test-claims-unlabelled.json')\n",
        "evidence = load_data('data/evidence.json')"
      ]
    },
    {
      "cell_type": "markdown",
      "metadata": {
        "id": "NdpcCD5NphPX"
      },
      "source": [
        "## Data Preprocessing Steps"
      ]
    },
    {
      "cell_type": "markdown",
      "metadata": {
        "id": "o4yh7e3pyxbB"
      },
      "source": [
        "Now that we have loaded all the datasets required for the project, we need to preprocess them to ensure they are appropriate for the tasks at hand.\n",
        "\n",
        "The preprocessing steps done are described within each function block below."
      ]
    },
    {
      "cell_type": "code",
      "execution_count": null,
      "metadata": {
        "colab": {
          "base_uri": "https://localhost:8080/"
        },
        "id": "Sf4uQ3CYpmDm",
        "outputId": "a54159d3-ae9f-4592-bea2-5550fc6c31cb"
      },
      "outputs": [
        {
          "output_type": "stream",
          "name": "stderr",
          "text": [
            "[nltk_data] Downloading package punkt to /root/nltk_data...\n",
            "[nltk_data]   Package punkt is already up-to-date!\n",
            "[nltk_data] Downloading package stopwords to /root/nltk_data...\n",
            "[nltk_data]   Package stopwords is already up-to-date!\n",
            "[nltk_data] Downloading package wordnet to /root/nltk_data...\n",
            "[nltk_data]   Package wordnet is already up-to-date!\n"
          ]
        },
        {
          "output_type": "execute_result",
          "data": {
            "text/plain": [
              "True"
            ]
          },
          "metadata": {},
          "execution_count": 8
        }
      ],
      "source": [
        "import string\n",
        "from tqdm import tqdm\n",
        "import contractions\n",
        "import nltk\n",
        "from nltk.tokenize import word_tokenize\n",
        "from nltk.corpus import stopwords\n",
        "from nltk.stem.porter import PorterStemmer\n",
        "import tensorflow as tf\n",
        "from tensorflow.keras.preprocessing.sequence import pad_sequences\n",
        "from tensorflow.keras.preprocessing.text import Tokenizer\n",
        "\n",
        "# Downloads NLTK resources\n",
        "nltk.download('punkt')\n",
        "nltk.download('stopwords')\n",
        "nltk.download('wordnet')"
      ]
    },
    {
      "cell_type": "markdown",
      "metadata": {
        "id": "G1YmV7vOXyii"
      },
      "source": [
        "We will perform basic preprocessing on the datasets, including contraction replacement, word tokenization, lemmatization, punctuation removal, and padding.\n",
        "\n",
        "Although normally we would remove stopwords, we are not doing that here as some of the stopwords are important during classification task (eg. \"not\", \"didn't\" etc as they may decide if the evidences support or refute the claim)."
      ]
    },
    {
      "cell_type": "code",
      "execution_count": null,
      "metadata": {
        "id": "dD8cJNv1ynht"
      },
      "outputs": [],
      "source": [
        "def preprocess_text(text):\n",
        "    \"\"\"\n",
        "    Preprocesses text by contraction replacement, tokenization, lemmatization, stopwords removal, and punctuation removal.\n",
        "\n",
        "    Args:\n",
        "    text (str): Input text.\n",
        "\n",
        "    Returns:\n",
        "    str: Preprocessed text.\n",
        "    \"\"\"\n",
        "    # Convert to lowercase\n",
        "    text = text.lower()\n",
        "    # Replace contractions\n",
        "    text = contractions.fix(text)\n",
        "    # Tokenization\n",
        "    tokens = word_tokenize(text)\n",
        "    # Remove punctuation\n",
        "    tokens = [word for word in tokens if word not in string.punctuation]\n",
        "    # Stemming\n",
        "    stemmer = PorterStemmer()\n",
        "    tokens = [stemmer.stem(word) for word in tokens]\n",
        "    # Join tokens back into a string\n",
        "    preprocessed_text = ' '.join(tokens)\n",
        "\n",
        "    return preprocessed_text\n",
        "\n",
        "\n",
        "def prepare_sequences(texts, tokenizer, max_length):\n",
        "    \"\"\"\n",
        "    Tokenizes and pads sequences.\n",
        "\n",
        "    Args:\n",
        "    texts (list): List of texts.\n",
        "    tokenizer: Keras tokenizer.\n",
        "    max_length (int): Maximum sequence length.\n",
        "\n",
        "    Returns:\n",
        "    numpy.ndarray: Padded sequences.\n",
        "    \"\"\"\n",
        "    # Tokenize texts\n",
        "    sequences = tokenizer.texts_to_sequences(texts)\n",
        "    # Pad sequences\n",
        "    padded_sequences = pad_sequences(sequences, maxlen=max_length, padding='post')\n",
        "\n",
        "    return padded_sequences"
      ]
    },
    {
      "cell_type": "markdown",
      "metadata": {
        "id": "xmYDOQbQ0vLJ"
      },
      "source": [
        "Let's run the preprocessing steps on our datasets."
      ]
    },
    {
      "cell_type": "code",
      "execution_count": null,
      "metadata": {
        "colab": {
          "base_uri": "https://localhost:8080/"
        },
        "id": "Ge9d7Fkdesxe",
        "outputId": "7def37ea-4d43-4495-b843-0841db4566fc"
      },
      "outputs": [
        {
          "output_type": "stream",
          "name": "stderr",
          "text": [
            "Processing claim set 0: 100%|██████████| 1228/1228 [00:01<00:00, 716.47it/s]\n",
            "Processing claim set 1: 100%|██████████| 154/154 [00:00<00:00, 802.78it/s]\n",
            "Processing claim set 2: 100%|██████████| 153/153 [00:00<00:00, 904.19it/s]\n",
            "Processing evidences: 100%|██████████| 1208827/1208827 [11:57<00:00, 1685.66it/s]\n"
          ]
        }
      ],
      "source": [
        "# Preprocess claim texts\n",
        "for i, dataset in enumerate([train_claims, dev_claims, test_claims]):\n",
        "    for claim_id, claim_data in tqdm(dataset.items(), desc=f'Processing claim set {i}'):\n",
        "        dataset[claim_id]['claim_text'] = preprocess_text(claim_data['claim_text'])\n",
        "\n",
        "# Preprocess evidence texts\n",
        "for evidence_id, evidence_text in tqdm(evidence.items(), desc='Processing evidences'):\n",
        "    evidence[evidence_id] = preprocess_text(evidence_text)"
      ]
    },
    {
      "cell_type": "markdown",
      "metadata": {
        "id": "LrDOMyFv04N9"
      },
      "source": [
        "Next, we will use the Keras Tokeniser to tokenise our preprocessed texts into integer vectors and pad them to sequences of uniform length to ensure that they can be properly fed into neural networks later.\n",
        "\n",
        "We will also calculate the vocabulary size here for use in model building later."
      ]
    },
    {
      "cell_type": "code",
      "execution_count": null,
      "metadata": {
        "id": "xxjRxdAdexSF"
      },
      "outputs": [],
      "source": [
        "# Combine all claim texts and evidence texts\n",
        "all_texts = [claim_data['claim_text'] for dataset in (train_claims, dev_claims, test_claims) for claim_id, claim_data in dataset.items()]\n",
        "all_texts += list(evidence.values())\n",
        "\n",
        "# Tokenize all texts\n",
        "tokenizer = Tokenizer()\n",
        "tokenizer.fit_on_texts(all_texts)\n",
        "\n",
        "# Define maximum sequence length\n",
        "max_length = 20\n",
        "\n",
        "# Calculate vocabulary size\n",
        "vocab_size = len(tokenizer.word_index) + 1"
      ]
    },
    {
      "cell_type": "code",
      "execution_count": null,
      "metadata": {
        "colab": {
          "base_uri": "https://localhost:8080/"
        },
        "id": "-IHblIfvfNrY",
        "outputId": "786226e1-07d0-47c6-fc0f-8c733a146844"
      },
      "outputs": [
        {
          "output_type": "stream",
          "name": "stderr",
          "text": [
            "Processing claim set 0: 100%|██████████| 1228/1228 [00:00<00:00, 26528.45it/s]\n",
            "Processing claim set 1: 100%|██████████| 154/154 [00:00<00:00, 23030.01it/s]\n",
            "Processing claim set 2: 100%|██████████| 153/153 [00:00<00:00, 22499.42it/s]\n",
            "Processing evidences: 100%|██████████| 1208827/1208827 [00:56<00:00, 21360.51it/s]\n"
          ]
        }
      ],
      "source": [
        "# Prepare sequences for claims and evidence\n",
        "for i, dataset in enumerate([train_claims, dev_claims, test_claims]):\n",
        "    for claim_id, claim_data in tqdm(dataset.items(), desc=f'Processing claim set {i}'):\n",
        "        claim_text = claim_data['claim_text']\n",
        "        dataset[claim_id]['padded_sequence'] = prepare_sequences([claim_text], tokenizer, max_length)[0]\n",
        "\n",
        "for evidence_id, evidence_text in tqdm(evidence.items(), desc='Processing evidences'):\n",
        "    evidence[evidence_id] = {\n",
        "        'evidence_text': evidence_text,\n",
        "        'padded_sequence': prepare_sequences([evidence_text], tokenizer, max_length)[0]\n",
        "    }"
      ]
    },
    {
      "cell_type": "markdown",
      "metadata": {
        "id": "1FA2ao2l8hOg"
      },
      "source": [
        "# 2. Model Implementation\n",
        "(You can add as many code blocks and text blocks as you need. However, YOU SHOULD NOT MODIFY the section title)"
      ]
    },
    {
      "cell_type": "markdown",
      "metadata": {
        "id": "5DrorFbuMjkD"
      },
      "source": [
        "## Evidence Retrieval Task\n",
        "\n",
        "Now we wish to perform the following task: for each claim we want to predict relevant evidences based on similarity scores.\n",
        "\n",
        "For this we will use a Siamese architecture with bidirectional LSTM and cosine similarity score."
      ]
    },
    {
      "cell_type": "markdown",
      "metadata": {
        "id": "t5xOlPtzVFCu"
      },
      "source": [
        "### Prepare Training Data\n",
        "First, we will prepare the training data into an appropriate format.\n",
        "\n",
        "For each claim, we will have multiple evidences, and a label (1=relevant, 0=irrelevant). Since the evidence contains more than a million elements, we will only have a fixed number of evidences per claim.\n",
        "\n",
        "So for each claim, we will have all the relevant evidences and a number of random irrelevant evidences, such that the total number of evidences used per claim is:\n",
        "\n",
        "$\\min(\\text{number of available evidences}, \\max(2⋅\\text{number of relevant evidences}, n))$\n",
        "\n",
        "to ensure $\\text{number of irrelevant evidences}\\geq\\text{number of relevant evidences}$ in most cases such that the $\\text{number of evidences per claim}\\leq\\text{number of available evidences}$."
      ]
    },
    {
      "cell_type": "code",
      "execution_count": null,
      "metadata": {
        "id": "pANxnyfvVLlq"
      },
      "outputs": [],
      "source": [
        "import numpy as np\n",
        "\n",
        "# Prepare training data function\n",
        "def prepare_siamese_training_data(claims_data, evidence_data, n=100):\n",
        "    \"\"\"\n",
        "    Prepares training data for Siamese network training.\n",
        "\n",
        "    Args:\n",
        "    claims_data (dict): Dictionary containing claim data.\n",
        "    evidence_data (dict): Dictionary containing evidence data.\n",
        "    n (int): Total number of evidences to use per claim. Defaults to 100.\n",
        "\n",
        "    Returns:\n",
        "    tuple: Tuple containing claim sequences, evidence sequences, and labels.\n",
        "    \"\"\"\n",
        "    claim_sequences = []\n",
        "    evidence_sequences = []\n",
        "    labels = []\n",
        "\n",
        "    # Calculate the number of available evidences and retrieve all evidence ids\n",
        "    all_evidence_id = evidence_data.keys()\n",
        "    available_evidences = len(all_evidence_id)\n",
        "\n",
        "    # Iterate over claims data\n",
        "    for claim_id, claim_info in tqdm(claims_data.items(), desc='Processing training data'):\n",
        "        claim_sequence = claim_info['padded_sequence']\n",
        "        relevant_evidences = claim_info['evidences']\n",
        "        num_relevant_evidences = len(relevant_evidences)\n",
        "\n",
        "        # Iterate over relevant evidences\n",
        "        for evidence_id in relevant_evidences:\n",
        "            evidence_sequence = evidence_data[evidence_id]['padded_sequence']\n",
        "            claim_sequences.append(claim_sequence)\n",
        "            evidence_sequences.append(evidence_sequence)\n",
        "            labels.append(1) # Relevant evidence\n",
        "\n",
        "        # Calculate how many irrelevant evidences required\n",
        "        total_evidences_needed = min(available_evidences, max(2 * num_relevant_evidences, n))\n",
        "        irrelevant_evidences_needed = total_evidences_needed - num_relevant_evidences\n",
        "\n",
        "        # Find the list of irrelevant evidences\n",
        "        irrelevant_evidences = list(set(all_evidence_id).difference(set(relevant_evidences)))\n",
        "\n",
        "        # Randomly choose required number of irrelvant evidence ids (without replacement)\n",
        "        chosen_irrelevant_evidences = np.random.choice(irrelevant_evidences, size=irrelevant_evidences_needed, replace=False)\n",
        "\n",
        "        # Iterate over irrelevant evidences\n",
        "        for evidence_id in chosen_irrelevant_evidences:\n",
        "            evidence_sequence = evidence_data[evidence_id]['padded_sequence']\n",
        "            claim_sequences.append(claim_sequence)\n",
        "            evidence_sequences.append(evidence_sequence)\n",
        "            labels.append(0) # Irrelevant evidence\n",
        "\n",
        "    claim_sequences = np.array(claim_sequences)\n",
        "    evidence_sequences = np.array(evidence_sequences)\n",
        "    labels = np.array(labels, dtype='float32')\n",
        "\n",
        "    return claim_sequences, evidence_sequences, labels"
      ]
    },
    {
      "cell_type": "code",
      "execution_count": null,
      "metadata": {
        "colab": {
          "base_uri": "https://localhost:8080/"
        },
        "id": "2FLjBqJrVPcz",
        "outputId": "a1f6eba5-e372-462d-d1dd-ba050ca83dc3"
      },
      "outputs": [
        {
          "name": "stderr",
          "output_type": "stream",
          "text": [
            "Processing training data: 100%|██████████| 1228/1228 [21:48<00:00,  1.07s/it]\n"
          ]
        }
      ],
      "source": [
        "# Set the number of evidences to use per claim\n",
        "num_evidences = 40\n",
        "\n",
        "# Prepare training data\n",
        "train_claim_sequence, train_evidence_sequence, train_labels = prepare_siamese_training_data(train_claims, evidence, n=num_evidences)"
      ]
    },
    {
      "cell_type": "markdown",
      "metadata": {
        "id": "i4io4dBnM88E"
      },
      "source": [
        "### Siamese Model\n",
        "The Siamese architecture is a neural network design used for comparing pairs of inputs. In claim-evidence relevance prediction, it compares a claim with multiple evidence items to determine which evidence is relevant. The shared representation learning in Siamese networks allows for efficient pairwise comparison and capturing of semantic similarities between claims and evidence. This architecture is chosen for its ability to handle pairwise comparisons effectively and learn meaningful representations of claims and evidence items, leading to accurate relevance predictions."
      ]
    },
    {
      "cell_type": "code",
      "execution_count": null,
      "metadata": {
        "id": "eTd_4DxDe2G_"
      },
      "outputs": [],
      "source": [
        "from tensorflow.keras.layers import Input, Embedding, LSTM, Bidirectional, Dense, Dot, Concatenate, Dropout, Flatten, BatchNormalization\n",
        "from tensorflow.keras.models import Model\n",
        "\n",
        "# Define Siamese network architecture\n",
        "def build_siamese_network(max_length, vocab_size, embedding_dim=128, lstm_units=64):\n",
        "    \"\"\"\n",
        "    Constructs a Siamese network with Bidirectional LSTM for relevance prediction.\n",
        "\n",
        "    Args:\n",
        "    max_length (int): Maximum sequence length.\n",
        "    vocab_size (int): Vocabulary size.\n",
        "    embedding_dim (int): Dimensionality of the embedding space. Defaults to 128.\n",
        "    lstm_units (int): Number of LSTM units. Defaults to 64.\n",
        "\n",
        "    Returns:\n",
        "    tensorflow.keras.models.Model: Siamese network model.\n",
        "    \"\"\"\n",
        "    # Input layer\n",
        "    input_claim = Input(shape=(max_length,), name='input_claim')\n",
        "    input_evidence = Input(shape=(max_length,), name='input_evidence')\n",
        "\n",
        "    # Embedding layer; mask_zero=True to skip the extra padding tokens\n",
        "    embedding_layer = Embedding(input_dim=vocab_size, output_dim=embedding_dim, input_length=max_length, mask_zero=True)\n",
        "\n",
        "    # Bidirectional LSTM layer\n",
        "    lstm_layer = Bidirectional(LSTM(units=lstm_units, activation=\"relu\", return_sequences=True))\n",
        "\n",
        "    # Claim branch\n",
        "    claim_embedded = embedding_layer(input_claim)\n",
        "    claim_encoded = lstm_layer(claim_embedded)\n",
        "\n",
        "    # Evidence branch\n",
        "    evidence_embedded = embedding_layer(input_evidence)\n",
        "    evidence_encoded = lstm_layer(evidence_embedded)\n",
        "\n",
        "    # Similarity calculation using dot product wih normalization (cosine similarity)\n",
        "    similarity = Dot(axes=-1, normalize=True)([claim_encoded, evidence_encoded])\n",
        "\n",
        "    # Concatenate claim and evidence encodings\n",
        "    merged = Concatenate(axis=-1)([claim_encoded, evidence_encoded, similarity])\n",
        "\n",
        "    # Add dense layers with dropout and BatchNormalisation\n",
        "    hidden_1 = Dense(units=128, activation=\"relu\")(merged)\n",
        "    hidden_1 = Dropout(0.2)(hidden_1)\n",
        "\n",
        "    normal_1 = BatchNormalization()(hidden_1)\n",
        "\n",
        "    hidden_2 = Dense(units=128, activation=\"relu\")(normal_1)\n",
        "    hidden_2 = Dropout(0.2)(hidden_2)\n",
        "\n",
        "    normal_2 = BatchNormalization()(hidden_2)\n",
        "\n",
        "    # Flatten the layer into 1D tensor\n",
        "    flatten = Flatten()(normal_2)\n",
        "\n",
        "    # Output layer for classification\n",
        "    output = Dense(units=1, activation='sigmoid')(flatten)\n",
        "\n",
        "    # Model definition\n",
        "    model = Model(inputs=[input_claim, input_evidence], outputs=output)\n",
        "\n",
        "    return model"
      ]
    },
    {
      "cell_type": "markdown",
      "metadata": {
        "id": "Jv_O0ETZPgtR"
      },
      "source": [
        "### Contrastive Loss\n",
        "For the loss function of the Siamese model, we will use a custom contrastive loss. The contrastive loss function is commonly used in Siamese networks and related architectures for tasks such as text similarity, image similarity, and more. It encourages the model to learn embeddings that map similar text inputs closer together while pushing dissimilar pairs apart by a specified margin. Mathematically, it penalizes the model based on the discrepancy between predicted and true labels, promoting discriminative embeddings.\n",
        "\n",
        "**Mathematical expression:**\n",
        "\n",
        "$L(y, \\hat{y}) = \\frac{1}{2N} \\sum_{i=1}^{N} y_i \\cdot d_i^2 + (1 - y_i) \\cdot \\max(margin - d_i, 0)^2$\n",
        "\n",
        "Where:\n",
        "- $y_i$ represents the true label for the pair of inputs, indicating similarity (1) or dissimilarity (0).\n",
        "- $\\hat{y}_i$ is the predicted output (distance or dissimilarity) for the pair of inputs.\n",
        "- $d_i$ denotes the distance or dissimilarity between the embeddings of the input pair.\n",
        "- $N$ is the total number of input pairs."
      ]
    },
    {
      "cell_type": "code",
      "execution_count": null,
      "metadata": {
        "id": "AF9q9nEpRAgI"
      },
      "outputs": [],
      "source": [
        "def loss(margin=1):\n",
        "    \"\"\"\n",
        "    Creates a contrastive loss function with a specified margin.\n",
        "\n",
        "    Parameters:\n",
        "        margin (float): The margin parameter for the contrastive loss function. Defaults to 1.\n",
        "\n",
        "    Returns:\n",
        "        function: A TensorFlow function representing the contrastive loss.\n",
        "    \"\"\"\n",
        "    def contrastive_loss(y_true, y_pred):\n",
        "        \"\"\"\n",
        "        Computes the contrastive loss between the true labels and predicted probabilities.\n",
        "\n",
        "        Parameters:\n",
        "            y_true (tensor): True labels (0 for irrelevant pairs, 1 for relevant pairs).\n",
        "            y_pred (tensor): Predicted probabilities.\n",
        "\n",
        "        Returns:\n",
        "            tensor: The contrastive loss value.\n",
        "        \"\"\"\n",
        "        # Ensure inputs are in float32\n",
        "        y_pred = tf.cast(y_pred, tf.float32)\n",
        "        y_true = tf.cast(y_true, tf.float32)\n",
        "\n",
        "        # Compute square of predicted probabilities\n",
        "        square_pred = tf.math.square(y_pred)\n",
        "\n",
        "        # Compute hinge loss component\n",
        "        margin_square = tf.math.square(tf.math.maximum(margin - y_pred, 0))\n",
        "\n",
        "        # Compute contrastive loss as a combination of squared loss and hinge loss\n",
        "        con_loss = tf.math.reduce_mean((1 - y_true) * square_pred + (y_true) * margin_square)\n",
        "\n",
        "        return con_loss\n",
        "\n",
        "    return contrastive_loss"
      ]
    },
    {
      "cell_type": "markdown",
      "metadata": {
        "id": "rjhUmxa3x_mq"
      },
      "source": [
        "### Cyclical Learning Rate (Triangle2)\n",
        "Given the size of the training dataset we will use for the project, it is expected to take a very long time for the Siamese model to converge using fixed learning rates. Hence, we opted for using cyclical learning rate that is known for its ability of super convergence.\n",
        "\n",
        "Cyclical learning rates, such as the triangle2 policy, involve cyclically increasing and decreasing the learning rate within a specified range during training. Here's how it works:\n",
        "\n",
        "1. Initialization: Define an initial learning rate (base_lr) and a maximum learning rate (max_lr). These values determine the lower and upper bounds of the learning rate range.\n",
        "\n",
        "2. Cyclic Variation: During training, the learning rate oscillates between base_lr and max_lr following a triangular waveform pattern.\n",
        "\n",
        "3. Triangular Pattern: The learning rate starts at base_lr and linearly increases to max_lr over a certain number of iterations (called the step size). This phase is known as the \"increase\" phase.\n",
        "\n",
        "4. Decrease Phase: After reaching max_lr, the learning rate linearly decreases back to base_lr over the remaining iterations.\n",
        "\n",
        "5. Cycle Completion: This process forms a complete cycle of learning rate variation. In every subsequent cycle, the \"triangular2\" policy cuts the max learning rate bound in half. This allows to oscillate our learning rate to break out of saddle points/local minima and at the same time decrease our learning rate, enabling us to descend into lower loss areas of the loss landscape. Multiple cycles can be performed during training to explore different regions of the loss landscape.\n",
        "\n",
        "Key Aspects:\n",
        "\n",
        "- Dynamic Adjustment: The learning rate dynamically adjusts within the specified range, allowing the model to explore a broader range of solutions.\n",
        "\n",
        "- Accelerated Convergence: The cyclic variation helps in escaping sharp minima and accelerating convergence towards potentially better solutions.\n",
        "\n",
        "- Regularization Effect: The cyclical nature of learning rates can act as a form of regularization, enhancing the model's generalization capability.\n",
        "\n",
        "\n"
      ]
    },
    {
      "cell_type": "code",
      "execution_count": null,
      "metadata": {
        "colab": {
          "base_uri": "https://localhost:8080/"
        },
        "id": "XUK-TuQwzziE",
        "outputId": "35b993e1-be3e-4c10-90e3-15728048fe93"
      },
      "outputs": [
        {
          "name": "stderr",
          "output_type": "stream",
          "text": [
            "/usr/local/lib/python3.10/dist-packages/tensorflow_addons/utils/tfa_eol_msg.py:23: UserWarning: \n",
            "\n",
            "TensorFlow Addons (TFA) has ended development and introduction of new features.\n",
            "TFA has entered a minimal maintenance and release mode until a planned end of life in May 2024.\n",
            "Please modify downstream libraries to take dependencies from other repositories in our TensorFlow community (e.g. Keras, Keras-CV, and Keras-NLP). \n",
            "\n",
            "For more information see: https://github.com/tensorflow/addons/issues/2807 \n",
            "\n",
            "  warnings.warn(\n"
          ]
        }
      ],
      "source": [
        "from tensorflow_addons.optimizers import CyclicalLearningRate\n",
        "\n",
        "def make_cyclical_lr(train_seq_length, batch_size, base_lr=1e-4, max_lr=1e-2):\n",
        "    \"\"\"\n",
        "    Creates a CyclicalLearningRate object for implementing cyclical learning rate policy.\n",
        "\n",
        "    Args:\n",
        "    train_seq_length (int): Total length of the training dataset.\n",
        "    batch_size (int): Size of each training batch.\n",
        "    base_lr (float): Initial learning rate at the start of the cycle. Defaults to 1e-4.\n",
        "    max_lr (float): Maximum learning rate achieved during the cycle. Defaults to 1e-2.\n",
        "\n",
        "    Returns:\n",
        "    tensorflow_addons.optimizers.CyclicalLearningRate: CyclicalLearningRate object.\n",
        "    \"\"\"\n",
        "    # Calculate the number of steps (batches) per epoch\n",
        "    steps_per_epoch = train_seq_length // batch_size\n",
        "\n",
        "    # Define the CyclicalLearningRate object with the specified parameters\n",
        "    clr = CyclicalLearningRate(\n",
        "        initial_learning_rate = base_lr,\n",
        "        maximal_learning_rate = max_lr,\n",
        "        scale_fn = lambda x: 1 / (2.**(x - 1)),  # Triangular2 scale function\n",
        "        step_size = 3 * steps_per_epoch  # Total steps per cycle (3 full epochs)\n",
        "    )\n",
        "\n",
        "    return clr"
      ]
    },
    {
      "cell_type": "markdown",
      "metadata": {
        "id": "E1zcv17YRvtK"
      },
      "source": [
        "### Model Compilation\n",
        "Now that we have defined the architecture of the neural network, the loss function, and the learning rate scheduler it is time to compile the model and train it on our dataset.\n",
        "\n",
        "Let's build the model using custom hyperparameters and compile it. We will also use eraly stopping to prevent overfitting."
      ]
    },
    {
      "cell_type": "code",
      "execution_count": null,
      "metadata": {
        "colab": {
          "base_uri": "https://localhost:8080/",
          "height": 1000
        },
        "id": "hk6OvG9YSmd9",
        "outputId": "f8052a9d-8019-41b3-c5d9-5f51142168a4"
      },
      "outputs": [
        {
          "name": "stderr",
          "output_type": "stream",
          "text": [
            "WARNING:tensorflow:Layer lstm_11 will not use cuDNN kernels since it doesn't meet the criteria. It will use a generic GPU kernel as fallback when running on GPU.\n",
            "WARNING:tensorflow:Layer lstm_11 will not use cuDNN kernels since it doesn't meet the criteria. It will use a generic GPU kernel as fallback when running on GPU.\n",
            "WARNING:tensorflow:Layer lstm_11 will not use cuDNN kernels since it doesn't meet the criteria. It will use a generic GPU kernel as fallback when running on GPU.\n"
          ]
        },
        {
          "name": "stdout",
          "output_type": "stream",
          "text": [
            "Model: \"model_10\"\n",
            "__________________________________________________________________________________________________\n",
            " Layer (type)                Output Shape                 Param #   Connected to                  \n",
            "==================================================================================================\n",
            " input_claim (InputLayer)    [(None, 20)]                 0         []                            \n",
            "                                                                                                  \n",
            " input_evidence (InputLayer  [(None, 20)]                 0         []                            \n",
            " )                                                                                                \n",
            "                                                                                                  \n",
            " embedding_11 (Embedding)    (None, 20, 128)              7061772   ['input_claim[0][0]',         \n",
            "                                                          8          'input_evidence[0][0]']      \n",
            "                                                                                                  \n",
            " bidirectional_11 (Bidirect  (None, 20, 128)              98816     ['embedding_11[0][0]',        \n",
            " ional)                                                              'embedding_11[1][0]']        \n",
            "                                                                                                  \n",
            " dot_10 (Dot)                (None, 20, 20)               0         ['bidirectional_11[0][0]',    \n",
            "                                                                     'bidirectional_11[1][0]']    \n",
            "                                                                                                  \n",
            " concatenate_10 (Concatenat  (None, 20, 276)              0         ['bidirectional_11[0][0]',    \n",
            " e)                                                                  'bidirectional_11[1][0]',    \n",
            "                                                                     'dot_10[0][0]']              \n",
            "                                                                                                  \n",
            " dense_30 (Dense)            (None, 20, 128)              35456     ['concatenate_10[0][0]']      \n",
            "                                                                                                  \n",
            " dropout_20 (Dropout)        (None, 20, 128)              0         ['dense_30[0][0]']            \n",
            "                                                                                                  \n",
            " batch_normalization_20 (Ba  (None, 20, 128)              512       ['dropout_20[0][0]']          \n",
            " tchNormalization)                                                                                \n",
            "                                                                                                  \n",
            " dense_31 (Dense)            (None, 20, 128)              16512     ['batch_normalization_20[0][0]\n",
            "                                                                    ']                            \n",
            "                                                                                                  \n",
            " dropout_21 (Dropout)        (None, 20, 128)              0         ['dense_31[0][0]']            \n",
            "                                                                                                  \n",
            " batch_normalization_21 (Ba  (None, 20, 128)              512       ['dropout_21[0][0]']          \n",
            " tchNormalization)                                                                                \n",
            "                                                                                                  \n",
            " flatten_10 (Flatten)        (None, 2560)                 0         ['batch_normalization_21[0][0]\n",
            "                                                                    ']                            \n",
            "                                                                                                  \n",
            " dense_32 (Dense)            (None, 1)                    2561      ['flatten_10[0][0]']          \n",
            "                                                                                                  \n",
            "==================================================================================================\n",
            "Total params: 70772097 (269.97 MB)\n",
            "Trainable params: 70771585 (269.97 MB)\n",
            "Non-trainable params: 512 (2.00 KB)\n",
            "__________________________________________________________________________________________________\n"
          ]
        },
        {
          "data": {
            "image/png": "[encoded data removed]",
            "text/plain": [
              "<IPython.core.display.Image object>"
            ]
          },
          "execution_count": 35,
          "metadata": {},
          "output_type": "execute_result"
        }
      ],
      "source": [
        "from tensorflow.keras.optimizers import Adam\n",
        "from tensorflow.keras.callbacks import EarlyStopping\n",
        "\n",
        "# Define constants\n",
        "embedding_dim = 128\n",
        "lstm_units = 64\n",
        "batch_size = 128\n",
        "patience = 3\n",
        "base_lr = 1e-4\n",
        "max_lr = 1e-2\n",
        "margin = 1\n",
        "epochs = 10\n",
        "\n",
        "# Get the length of the training dataset\n",
        "train_seq_length = len(train_claim_sequence)\n",
        "\n",
        "# Create the cyclical learning rate scheduler\n",
        "clr = make_cyclical_lr(train_seq_length, batch_size, base_lr, max_lr)\n",
        "\n",
        "# Build Siamese network model\n",
        "siamese_model = build_siamese_network(max_length, vocab_size, embedding_dim, lstm_units)\n",
        "\n",
        "# Compile the model\n",
        "siamese_model.compile(optimizer=Adam(learning_rate=clr), loss=loss(margin), metrics=['acc'])\n",
        "\n",
        "# Stop the training when there is no improvement in the val_loss for three consecutive epochs\n",
        "callback = EarlyStopping(patience=patience)\n",
        "\n",
        "# Print model summary\n",
        "siamese_model.summary()\n",
        "tf.keras.utils.plot_model(siamese_model, to_file='output/siamese_model.png', show_shapes=True, expand_nested=True)"
      ]
    },
    {
      "cell_type": "markdown",
      "metadata": {
        "id": "w5Jsk2DGcbhx"
      },
      "source": [
        "Let's train the model on the training data."
      ]
    },
    {
      "cell_type": "code",
      "execution_count": null,
      "metadata": {
        "colab": {
          "base_uri": "https://localhost:8080/"
        },
        "id": "Kx56du8rcZN9",
        "outputId": "a5f42821-adbc-4bb6-be07-f57e678c2d30"
      },
      "outputs": [
        {
          "name": "stdout",
          "output_type": "stream",
          "text": [
            "Epoch 1/10\n",
            "307/307 [==============================] - 57s 162ms/step - loss: 0.0763 - acc: 0.9064 - val_loss: 0.0355 - val_acc: 0.9585\n",
            "Epoch 2/10\n",
            "307/307 [==============================] - 40s 131ms/step - loss: 0.0359 - acc: 0.9591 - val_loss: 0.0689 - val_acc: 0.9226\n",
            "Epoch 3/10\n",
            "307/307 [==============================] - 37s 120ms/step - loss: 0.0316 - acc: 0.9646 - val_loss: 0.0404 - val_acc: 0.9555\n",
            "Epoch 4/10\n",
            "307/307 [==============================] - 37s 122ms/step - loss: 0.0310 - acc: 0.9659 - val_loss: 0.0384 - val_acc: 0.9585\n"
          ]
        }
      ],
      "source": [
        "# Train the model\n",
        "siamese_history = siamese_model.fit([train_claim_sequence, train_evidence_sequence], train_labels.reshape(-1, 1), epochs=epochs, batch_size=batch_size, verbose=1, validation_split=0.2, callbacks=[callback])"
      ]
    },
    {
      "cell_type": "markdown",
      "metadata": {
        "id": "NTQ-DntFJO0v"
      },
      "source": [
        "### Making Predictions\n",
        "Now that we have trained our model on the training set, it's time to make predictions on both the train (used for training the classification model later) and dev claims. For this we will use a top-k method based on predicted probabilities. If the predicted probability of an evidence being relevant is among the top-k highest predicted probabilities, we accept that evidence as being relevant.\n",
        "\n",
        "Thus, we extract $\\text{min(number of available evidences, }k)$ evidences per claim."
      ]
    },
    {
      "cell_type": "code",
      "execution_count": null,
      "metadata": {
        "id": "KszO8aqrKewx"
      },
      "outputs": [],
      "source": [
        "def predict_relevant_evidences(model, claims_data, evidence_data, k=3, name=''):\n",
        "    \"\"\"\n",
        "    Predicts relevant evidences for claims based on the top k probabilities.\n",
        "\n",
        "    Args:\n",
        "    model (tensorflow.keras.models.Model): Trained evidence retrieval model.\n",
        "    claims_data (dict): Dictionary containing claim data.\n",
        "    evidence_data (dict): Dictionary containing evidence data.\n",
        "    k (int): Number of top evidences to store per claim. Defaults to 3.\n",
        "    name (str): Name of the claims data. Defaults to empty string.\n",
        "\n",
        "    Returns:\n",
        "    dict: Predicted relevant evidences for each claim in the format {claim_id: {padded_sequence: original_padded_sequence, evidences: [list of predicted relevant evidences], claim_label: original_label}}.\n",
        "    \"\"\"\n",
        "    predicted_data = {}\n",
        "\n",
        "    # Retrieve all the evidence ids and padded sequences\n",
        "    evidence_keys = list(evidence_data.keys())\n",
        "    evidence_sequences = np.array([evidence_data[id]['padded_sequence'] for id in evidence_keys])\n",
        "    num_evidences = len(evidence_keys)\n",
        "\n",
        "    # Iterate over claims data\n",
        "    for claim_id, claim_info in tqdm(claims_data.items(), desc=f'Predicting over {name}'):\n",
        "        claim_sequence = claim_info['padded_sequence']\n",
        "        claim_sequence_for_prediction = np.tile(claim_sequence, (num_evidences, 1))\n",
        "\n",
        "        # Get the predicted probabilities from the model for current claim and all evidences\n",
        "        predicted_probs = model.predict([claim_sequence_for_prediction, evidence_sequences], batch_size=1024, verbose=0)\n",
        "\n",
        "        # Create a list of evidence indices and probabilities\n",
        "        evidence_indices_with_probs = list(enumerate(predicted_probs))\n",
        "\n",
        "        # Sort evidences by probability in descending order\n",
        "        evidence_indices_with_probs.sort(key=lambda x: x[1], reverse=True)\n",
        "\n",
        "        # Select the top k evidences\n",
        "        top_k_evidence_indices = [evidence_indices_with_probs[i][0] for i in range(min(k, len(evidence_indices_with_probs)))]\n",
        "\n",
        "        # Retrieve evidence ids for the top k evidences\n",
        "        predicted_evidences = [evidence_keys[idx] for idx in top_k_evidence_indices]\n",
        "\n",
        "        # Store predicted data for each claim\n",
        "        predicted_data[claim_id] = {\n",
        "            'padded_sequence': claim_sequence.tolist(),\n",
        "            'evidences': predicted_evidences,\n",
        "            'claim_label': claim_info['claim_label']  # Include original label\n",
        "        }\n",
        "\n",
        "    return predicted_data\n"
      ]
    },
    {
      "cell_type": "markdown",
      "metadata": {
        "id": "xHM1pyPwsOMu"
      },
      "source": [
        "Let's now make predictions on the data. For this we will use a top-k value such that we get the best F-Score for evidence retrieval."
      ]
    },
    {
      "cell_type": "code",
      "execution_count": null,
      "metadata": {
        "colab": {
          "base_uri": "https://localhost:8080/"
        },
        "id": "3ZnWvlNZbcFM",
        "outputId": "249212ce-efff-48f0-a021-55c519d25690"
      },
      "outputs": [
        {
          "output_type": "stream",
          "name": "stderr",
          "text": [
            "Predicting over train_claims: 100%|██████████| 1228/1228 [10:03<00:00,  2.03it/s]\n",
            "Predicting over dev_claims: 100%|██████████| 154/154 [01:02<00:00,  2.47it/s]\n"
          ]
        }
      ],
      "source": [
        "# Fix top-k evidences to retrieve\n",
        "top_k = 5\n",
        "\n",
        "# Predict relevant evidences for train_claims\n",
        "train_predicted_data = predict_relevant_evidences(siamese_model, train_claims, evidence, k=top_k, name='train_claims')\n",
        "\n",
        "# Predict relevant evidences for dev_claims\n",
        "dev_predicted_data = predict_relevant_evidences(siamese_model, dev_claims, evidence, k=top_k, name='dev_claims')"
      ]
    },
    {
      "cell_type": "markdown",
      "metadata": {
        "id": "HVA7Gndgy206"
      },
      "source": [
        "### Saving the Outputs\n",
        "As can be seen from the execution history above, the whole preparing datasets for training and training the model itself takes quite a long time. Hence, we will be saving the `train_predicted_data`, `dev_predicted_data` and `evidence` to an output folder so that they can be used directly in the next phases without having to re-run all the evidence-retrieval tasks every time."
      ]
    },
    {
      "cell_type": "code",
      "execution_count": null,
      "metadata": {
        "id": "di0OezAGza1y",
        "colab": {
          "base_uri": "https://localhost:8080/"
        },
        "outputId": "4616818d-75c8-4ef5-b7c0-61b86f651532"
      },
      "outputs": [
        {
          "output_type": "stream",
          "name": "stderr",
          "text": [
            "100%|██████████| 1208827/1208827 [00:07<00:00, 160331.55it/s]\n"
          ]
        }
      ],
      "source": [
        "# Convert and write JSON object to file\n",
        "with open('output/train_predicted_data.json', \"w\") as outfile:\n",
        "    json.dump(train_predicted_data, outfile)\n",
        "\n",
        "with open('output/dev_predicted_data.json', \"w\") as outfile:\n",
        "    json.dump(dev_predicted_data, outfile)\n",
        "\n",
        "# Convert evidence sequence into list and write JSON object to file\n",
        "for id, info in tqdm(evidence.items()):\n",
        "    sequence = info['padded_sequence'].tolist()\n",
        "    evidence[id]['padded_sequence'] = sequence\n",
        "\n",
        "with open('output/evidence.json', \"w\") as outfile:\n",
        "    json.dump(evidence, outfile)"
      ]
    },
    {
      "cell_type": "markdown",
      "metadata": {
        "id": "wnvf82L0iiZ5"
      },
      "source": [
        "## Label Classification Task\n",
        "Now we wish to to perform the following task: for a given claim and a list of relevant evidences, predict whether the evidences supports, refutes or disputes the claim or if there's not enough information to make a prediction."
      ]
    },
    {
      "cell_type": "markdown",
      "metadata": {
        "id": "o8YP2b2win1j"
      },
      "source": [
        "### Load the Dataset\n",
        "First, let's load the dataset produced by the evidence retrieval model and convert the padded sequence into a numpy array as they were stored in as a list."
      ]
    },
    {
      "cell_type": "code",
      "execution_count": null,
      "metadata": {
        "id": "jY_cxpoAjFpr"
      },
      "outputs": [],
      "source": [
        "# Load the datasets\n",
        "train_predicted_data = load_data('output/train_predicted_data.json')\n",
        "dev_predicted_data = load_data('output/dev_predicted_data.json')\n",
        "evidence = load_data('output/evidence.json')"
      ]
    },
    {
      "cell_type": "code",
      "execution_count": null,
      "metadata": {
        "id": "f6s70OvvjHWi"
      },
      "outputs": [],
      "source": [
        "import numpy as np\n",
        "# Convert the padded_sequence into ndarray\n",
        "for claims_id, claims_info in train_predicted_data.items():\n",
        "    sequence = claims_info['padded_sequence']\n",
        "    train_predicted_data[claims_id]['padded_sequence'] = np.array(sequence)\n",
        "\n",
        "for claims_id, claims_info in dev_predicted_data.items():\n",
        "    sequence = claims_info['padded_sequence']\n",
        "    dev_predicted_data[claims_id]['padded_sequence'] = np.array(sequence)\n",
        "\n",
        "for evidence_id, evidence_info in evidence.items():\n",
        "    sequence = evidence_info['padded_sequence']\n",
        "    evidence[evidence_id]['padded_sequence'] = np.array(sequence)"
      ]
    },
    {
      "cell_type": "markdown",
      "metadata": {
        "id": "1iU48IgdjMBC"
      },
      "source": [
        "### Prepare Training Data\n",
        "Now let's prepare the training data by creating a 3D features array where each element is a 2D numpy array consisiting of the claim sequence and all its relevant evidence sequences. The final shape of the features array should be [number of claims, k + 1, max_length].\n",
        "\n",
        "For the labels, we will transform them into integers using the LabelEncoder() module of scikit-learn."
      ]
    },
    {
      "cell_type": "code",
      "execution_count": null,
      "metadata": {
        "id": "2YbYlZZPkGYm"
      },
      "outputs": [],
      "source": [
        "def prepare_transformer_training_data(claims_data, evidence_data):\n",
        "    \"\"\"\n",
        "    Prepares training data for a Transformer-based classifier model by combining claim sequences with predicted relevant evidence sequences.\n",
        "\n",
        "    Args:\n",
        "    claims_data (dict): Dictionary containing claim data.\n",
        "    evidence_data (dict): Dictionary containing evidence data.\n",
        "\n",
        "    Returns:\n",
        "    tuple: Combined sequences of claim texts and predicted evidence texts, and labels corresponding to the combined sequences.\n",
        "\n",
        "    \"\"\"\n",
        "    # Initialize empty lists for combined sequences and labels\n",
        "    combined_sequences = []\n",
        "    train_labels = []\n",
        "\n",
        "    # Iterate over each claim in the claims_data dictionary\n",
        "    for claim_id, claim_info in tqdm(claims_data.items(), desc='Processing data'):\n",
        "        claim_sequence = claim_info['padded_sequence']  # Padded sequence of claim text\n",
        "        evidences = claim_info['evidences']  # List of predicted evidence ids\n",
        "\n",
        "        # Collect the padded sequences of predicted evidences for the claim\n",
        "        evidence_sequences = [evidence_data[eid]['padded_sequence'] for eid in evidences]\n",
        "\n",
        "        # Reshape claim_sequence to a 2D array (row vector)\n",
        "        claim_sequence_2d = claim_sequence[np.newaxis, :]\n",
        "\n",
        "        # Reshape each evidence_sequence to a 2D array (row vector)\n",
        "        evidence_sequences_2d = [e_seq[np.newaxis, :] for e_seq in evidence_sequences]\n",
        "\n",
        "        # Concatenate claim_sequence_2d with all evidence_sequences_2d along axis 0\n",
        "        concatenated_sequence = np.concatenate([claim_sequence_2d] + evidence_sequences_2d, axis=0)\n",
        "\n",
        "        # Append the concatenated sequence to the list of combined_sequences\n",
        "        combined_sequences.append(concatenated_sequence)\n",
        "\n",
        "        # Append the label of the claim to the list of train_labels\n",
        "        train_labels.append(claim_info['claim_label'])\n",
        "\n",
        "    # Convert lists to numpy arrays\n",
        "    combined_sequences = np.array(combined_sequences)\n",
        "    train_labels = np.array(train_labels)\n",
        "\n",
        "    return combined_sequences, train_labels"
      ]
    },
    {
      "cell_type": "code",
      "execution_count": null,
      "metadata": {
        "colab": {
          "base_uri": "https://localhost:8080/"
        },
        "id": "my0_HqtkkI7u",
        "outputId": "487cf905-bf49-4078-a588-0d79a3251faf"
      },
      "outputs": [
        {
          "output_type": "stream",
          "name": "stderr",
          "text": [
            "Processing data: 100%|██████████| 1228/1228 [00:00<00:00, 53193.90it/s]\n"
          ]
        }
      ],
      "source": [
        "from sklearn.preprocessing import LabelEncoder\n",
        "# Prepare the training data\n",
        "combined_train_sequences, train_labels = prepare_transformer_training_data(train_predicted_data, evidence)\n",
        "\n",
        "# Use LabelEncoder to convert string labels to integer labels\n",
        "label_encoder = LabelEncoder()\n",
        "train_labels_encoded = label_encoder.fit_transform(train_labels)"
      ]
    },
    {
      "cell_type": "markdown",
      "metadata": {
        "id": "ztX3sqiVkc9j"
      },
      "source": [
        "Check the shapes of the arrays."
      ]
    },
    {
      "cell_type": "code",
      "execution_count": null,
      "metadata": {
        "colab": {
          "base_uri": "https://localhost:8080/"
        },
        "id": "xzJ3_-jOkf9_",
        "outputId": "77e8f1be-9160-42a0-9173-0873e9acddf6"
      },
      "outputs": [
        {
          "output_type": "stream",
          "name": "stdout",
          "text": [
            "(1228, 6, 20)\n",
            "(1228,)\n"
          ]
        }
      ],
      "source": [
        "print(combined_train_sequences.shape)\n",
        "print(train_labels_encoded.shape)"
      ]
    },
    {
      "cell_type": "markdown",
      "metadata": {
        "id": "oQhscJnBkkzg"
      },
      "source": [
        "### Transformer-Encoder Network\n",
        "For the classification task we will be using a Transformer-Encoder model that will be built from scratch."
      ]
    },
    {
      "cell_type": "code",
      "execution_count": null,
      "metadata": {
        "id": "k25in-HakunJ"
      },
      "outputs": [],
      "source": [
        "import tensorflow as tf\n",
        "from tensorflow.keras.layers import Input, Dense, Dropout, LayerNormalization, GlobalAveragePooling2D, Embedding, MultiHeadAttention, Flatten\n",
        "from tensorflow.keras.models import Model\n",
        "from tensorflow.keras.optimizers import Adam\n",
        "from tensorflow.keras.losses import SparseCategoricalCrossentropy\n",
        "from tensorflow.keras.metrics import SparseCategoricalAccuracy"
      ]
    },
    {
      "cell_type": "code",
      "execution_count": null,
      "metadata": {
        "id": "8GeTR2H1k3qH"
      },
      "outputs": [],
      "source": [
        "class TransformerEncoderLayer(tf.keras.layers.Layer):\n",
        "    \"\"\"\n",
        "    Custom layer implementing a single Transformer Encoder Layer.\n",
        "\n",
        "    Parameters:\n",
        "        embedding_dim (int): Dimensionality of the embedding.\n",
        "        num_heads (int): Number of attention heads.\n",
        "        ff_dim (int): Number of units in the feed-forward network.\n",
        "        dropout_rate (float): Dropout rate.\n",
        "    \"\"\"\n",
        "    def __init__(self, embedding_dim, num_heads, ff_dim, dropout_rate=0.1):\n",
        "        super(TransformerEncoderLayer, self).__init__()\n",
        "\n",
        "        # Multi-head self-attention layer\n",
        "        self.mha = MultiHeadAttention(num_heads=num_heads, key_dim=embedding_dim)\n",
        "\n",
        "        # Feed-forward network (2 dense layers with ReLU activation)\n",
        "        self.ffn = tf.keras.Sequential([\n",
        "            Dense(ff_dim, activation='relu'),\n",
        "            Dense(embedding_dim)\n",
        "        ])\n",
        "\n",
        "        # Layer normalization layers after attention and feed-forward network\n",
        "        self.layernorm1 = LayerNormalization(epsilon=1e-6)\n",
        "        self.layernorm2 = LayerNormalization(epsilon=1e-6)\n",
        "\n",
        "        # Dropout layers for regularization\n",
        "        self.dropout1 = Dropout(dropout_rate)\n",
        "        self.dropout2 = Dropout(dropout_rate)\n",
        "\n",
        "    def call(self, inputs, training):\n",
        "        \"\"\"\n",
        "        Forward pass of the layer.\n",
        "\n",
        "        Args:\n",
        "            inputs (tf.Tensor): Input tensor.\n",
        "            training (bool): Whether the model is in training mode.\n",
        "\n",
        "        Returns:\n",
        "            tf.Tensor: Output tensor.\n",
        "        \"\"\"\n",
        "        # Multi-head self-attention\n",
        "        attn_output = self.mha(inputs, inputs)\n",
        "        attn_output = self.dropout1(attn_output, training=training)\n",
        "        out1 = self.layernorm1(inputs + attn_output)  # Residual connection and layer normalization\n",
        "\n",
        "        # Feed-forward network\n",
        "        ffn_output = self.ffn(out1)\n",
        "        ffn_output = self.dropout2(ffn_output, training=training)\n",
        "        out2 = self.layernorm2(out1 + ffn_output)  # Residual connection and layer normalization\n",
        "\n",
        "        return out2\n",
        "\n",
        "class TransformerEncoder(tf.keras.layers.Layer):\n",
        "    \"\"\"\n",
        "    Custom layer implementing a Transformer Encoder.\n",
        "\n",
        "    Parameters:\n",
        "        num_layers (int): Number of encoder layers.\n",
        "        embedding_dim (int): Dimensionality of the embedding.\n",
        "        num_heads (int): Number of attention heads.\n",
        "        ff_dim (int): Number of units in the feed-forward network.\n",
        "        input_vocab_size (int): Size of the input vocabulary.\n",
        "        maximum_position_encoding (int): Maximum length of position encoding.\n",
        "        dropout_rate (float): Dropout rate.\n",
        "    \"\"\"\n",
        "    def __init__(self, num_layers, embedding_dim, num_heads, ff_dim, input_vocab_size, maximum_position_encoding, dropout_rate=0.1):\n",
        "        super(TransformerEncoder, self).__init__()\n",
        "\n",
        "        self.embedding_dim = embedding_dim\n",
        "        self.num_layers = num_layers\n",
        "\n",
        "        # Embedding layer to convert token indices to embeddings\n",
        "        self.embedding = Embedding(input_vocab_size, embedding_dim, mask_zero=True)\n",
        "\n",
        "        # Positional encoding for handling sequence order\n",
        "        self.pos_encoding = self.positional_encoding(maximum_position_encoding, embedding_dim)\n",
        "\n",
        "        # List of TransformerEncoderLayer instances (to stack multiple encoder layers)\n",
        "        self.enc_layers = [TransformerEncoderLayer(embedding_dim, num_heads, ff_dim, dropout_rate)\n",
        "                           for _ in range(num_layers)]\n",
        "\n",
        "        # Dropout layer for regularization\n",
        "        self.dropout = Dropout(dropout_rate)\n",
        "\n",
        "    def call(self, inputs, training):\n",
        "        \"\"\"\n",
        "        Forward pass of the layer.\n",
        "\n",
        "        Args:\n",
        "            inputs (tf.Tensor): Input tensor.\n",
        "            training (bool): Whether the model is in training mode.\n",
        "\n",
        "        Returns:\n",
        "            tf.Tensor: Output tensor.\n",
        "        \"\"\"\n",
        "        seq_len = tf.shape(inputs)[2]\n",
        "\n",
        "        # Convert input token indices to embeddings\n",
        "        x = self.embedding(inputs)\n",
        "\n",
        "        # Scale embeddings by sqrt(embedding_dim) to stabilize gradients\n",
        "        x *= tf.math.sqrt(tf.cast(self.embedding_dim, tf.float32))\n",
        "\n",
        "        # Add positional encoding to embeddings to capture sequence order\n",
        "        x += self.pos_encoding[:, :seq_len, :]  # Broadcasting pos_encoding to match the shape of x\n",
        "\n",
        "        # Apply dropout for regularization\n",
        "        x = self.dropout(x, training=training)\n",
        "\n",
        "        # Pass input through each TransformerEncoderLayer in sequence\n",
        "        for i in range(self.num_layers):\n",
        "            x = self.enc_layers[i](x, training)\n",
        "\n",
        "        return x\n",
        "\n",
        "    def positional_encoding(self, position, embedding_dim):\n",
        "        \"\"\"\n",
        "        Function to create positional encodings.\n",
        "\n",
        "        Args:\n",
        "            position (int): Maximum position for the positional encoding.\n",
        "            embedding_dim (int): Dimensionality of the embedding dimension.\n",
        "\n",
        "        Returns:\n",
        "            tf.Tensor: Positional encodings of shape (1, position, embedding_dim).\n",
        "        \"\"\"\n",
        "        # Compute angles for positional encodings\n",
        "        angle_rads = np.arange(position)[:, np.newaxis] / np.power(10000, (2 * (np.arange(embedding_dim)[np.newaxis, :] // 2)) / np.float32(embedding_dim))\n",
        "\n",
        "        # Apply sine to even indices in the array (2i)\n",
        "        angle_rads[:, 0::2] = np.sin(angle_rads[:, 0::2])\n",
        "\n",
        "        # Apply cosine to odd indices in the array (2i+1)\n",
        "        angle_rads[:, 1::2] = np.cos(angle_rads[:, 1::2])\n",
        "\n",
        "        # Add batch dimension to positional encodings and cast to float32\n",
        "        pos_encoding = angle_rads[np.newaxis, ...]\n",
        "\n",
        "        return tf.cast(pos_encoding, dtype=tf.float32)\n",
        "\n",
        "def build_transformer_classifier(num_layers, embedding_dim, num_heads, ff_dim, input_vocab_size, input_shape, maximum_position_encoding, dropout_rate, num_classes):\n",
        "    \"\"\"\n",
        "    Build a Transformer-based classifier model for claim classification.\n",
        "\n",
        "    Args:\n",
        "        num_layers (int): Number of encoder layers.\n",
        "        embedding_dim (int): Dimensionality of the embedding.\n",
        "        num_heads (int): Number of attention heads.\n",
        "        ff_dim (int): Number of units in the feed-forward network.\n",
        "        input_vocab_size (int): Size of the input vocabulary.\n",
        "        input_shape (tuple): Shape of input sequence.\n",
        "        maximum_position_encoding (int): Maximum length of position encoding.\n",
        "        dropout_rate (float): Dropout rate.\n",
        "        num_classes (int): Number of output classes.\n",
        "\n",
        "    Returns:\n",
        "        tf.keras.Model: Transformer-based classifier model.\n",
        "    \"\"\"\n",
        "    inputs = Input(shape=input_shape)\n",
        "    encoder = TransformerEncoder(num_layers, embedding_dim, num_heads, ff_dim, input_vocab_size, maximum_position_encoding, dropout_rate)\n",
        "    encoder_output = encoder(inputs)\n",
        "\n",
        "    # Global average pooling to reduce sequence dimensionality\n",
        "    pooled_output = GlobalAveragePooling2D(keepdims=True)(encoder_output)\n",
        "\n",
        "    # Flatten the outputs\n",
        "    flatten = Flatten()(pooled_output)\n",
        "\n",
        "    # Additional dense layers for classification\n",
        "    outputs = Dense(num_classes, activation='softmax')(flatten)\n",
        "\n",
        "    # Create and compile the model\n",
        "    model = Model(inputs, outputs)\n",
        "\n",
        "    return model"
      ]
    },
    {
      "cell_type": "markdown",
      "metadata": {
        "id": "gfxkHbDik4nN"
      },
      "source": [
        "### Sparse Categorical Focal Loss\n",
        "To fine tune our transformer model to be used for the task at hand, it is important to choose an appropriate loss function. Since our data is imbalanced, we will employ focal loss for this.\n",
        "\n",
        "It is defined as:\n",
        "$\\text{focal loss} = -\\frac{1}{N} \\sum_{i=1}^{N} \\left( \\alpha (1 - p_i)^{\\gamma} \\log(p_i) \\right)$, where,\n",
        "\n",
        "- $N$: Number of samples\n",
        "- $K$: Number of classes\n",
        "- $y_i$: Integer class label (0 to $K-1$)\n",
        "- $p_i$: Model's predicted probabilities (logits or probabilities, depending on the `from_logits` parameter)"
      ]
    },
    {
      "cell_type": "code",
      "execution_count": null,
      "metadata": {
        "colab": {
          "base_uri": "https://localhost:8080/"
        },
        "id": "-wKYy7vElDk4",
        "outputId": "2ea886ce-61f2-45b7-ae74-896d3c26b106"
      },
      "outputs": [
        {
          "output_type": "stream",
          "name": "stdout",
          "text": [
            "Counter({'SUPPORTS': 519, 'NOT_ENOUGH_INFO': 386, 'REFUTES': 199, 'DISPUTED': 124})\n"
          ]
        }
      ],
      "source": [
        "from collections import Counter\n",
        "\n",
        "# Initialize an empty list to store labels\n",
        "labels = []\n",
        "\n",
        "# Iterate through items in train_predicted_data dictionary\n",
        "for key, value in train_predicted_data.items():\n",
        "    # Append the 'claim_label' value of each item to the labels list\n",
        "    labels.append(value[\"claim_label\"])\n",
        "\n",
        "# Count occurrences of each label using Counter from collections\n",
        "label_counts = Counter(labels)\n",
        "\n",
        "# Print the count of each label\n",
        "print(label_counts)"
      ]
    },
    {
      "cell_type": "markdown",
      "metadata": {
        "id": "inNcs-yslF6w"
      },
      "source": [
        "There is some degree of data imbalance in our dataset. In this case, the classes 'SUPPORTS' and 'NOT_ENOUGH_INFO' are overrepresented, while 'REFUTES' and 'DISPUTED' are underrepresented."
      ]
    },
    {
      "cell_type": "code",
      "execution_count": null,
      "metadata": {
        "id": "1dOT0niqlHQ5"
      },
      "outputs": [],
      "source": [
        "from tensorflow.keras.losses import Loss\n",
        "\n",
        "class CustomFocalLoss(Loss):\n",
        "    def __init__(self, alpha=0.25, gamma=2.0, num_classes=4, reduction=tf.keras.losses.Reduction.AUTO):\n",
        "        \"\"\"\n",
        "        Initializes the CustomFocalLoss.\n",
        "\n",
        "        Parameters:\n",
        "        - alpha: Weighting factor for the rare class (default is 0.25)\n",
        "        - gamma: Exponent of the modulating factor (default is 2.0)\n",
        "        - num_classes: Number of classes in the classification task (default is 4)\n",
        "        - reduction: Type of reduction to apply to the loss (default is AUTO)\n",
        "        \"\"\"\n",
        "        super(CustomFocalLoss, self).__init__(reduction=reduction)\n",
        "        self.alpha = alpha\n",
        "        self.gamma = gamma\n",
        "        self.num_classes = num_classes\n",
        "\n",
        "    def call(self, y_true, y_pred):\n",
        "        \"\"\"\n",
        "        Computes the focal loss.\n",
        "\n",
        "        Parameters:\n",
        "        - y_true: True labels (ground truth)\n",
        "        - y_pred: Predicted labels (predicted probabilities)\n",
        "\n",
        "        Returns:\n",
        "        - Focal loss value\n",
        "        \"\"\"\n",
        "        # Compute categorical cross-entropy loss\n",
        "        ce_loss = tf.keras.losses.sparse_categorical_crossentropy(y_true, y_pred)  # Calculate categorical cross-entropy\n",
        "        p_t = tf.exp(-ce_loss)  # Compute predicted probabilities\n",
        "        # Calculate focal loss using the defined formula\n",
        "        focal_loss = self.alpha * (1 - p_t) ** self.gamma * ce_loss\n",
        "\n",
        "        return focal_loss"
      ]
    },
    {
      "cell_type": "markdown",
      "metadata": {
        "id": "qqQAjvLblVVT"
      },
      "source": [
        "### Compiling the Model\n",
        "Now that the model and the custom loss function are defined, we may compile the transformer model."
      ]
    },
    {
      "cell_type": "code",
      "execution_count": null,
      "metadata": {
        "colab": {
          "base_uri": "https://localhost:8080/",
          "height": 908
        },
        "id": "f4-SLQfwlV8E",
        "outputId": "d2b244c2-7b23-40cb-a235-8ee189880947"
      },
      "outputs": [
        {
          "output_type": "stream",
          "name": "stdout",
          "text": [
            "Model: \"model_1\"\n",
            "_________________________________________________________________\n",
            " Layer (type)                Output Shape              Param #   \n",
            "=================================================================\n",
            " input_2 (InputLayer)        [(None, 6, 20)]           0         \n",
            "                                                                 \n",
            " transformer_encoder_1 (Tra  (None, 6, 20, 128)        72861824  \n",
            " nsformerEncoder)                                                \n",
            "                                                                 \n",
            " global_average_pooling2d_1  (None, 1, 1, 128)         0         \n",
            "  (GlobalAveragePooling2D)                                       \n",
            "                                                                 \n",
            " flatten_1 (Flatten)         (None, 128)               0         \n",
            "                                                                 \n",
            " dense_15 (Dense)            (None, 4)                 516       \n",
            "                                                                 \n",
            "=================================================================\n",
            "Total params: 72862340 (277.95 MB)\n",
            "Trainable params: 72862340 (277.95 MB)\n",
            "Non-trainable params: 0 (0.00 Byte)\n",
            "_________________________________________________________________\n"
          ]
        },
        {
          "output_type": "execute_result",
          "data": {
            "image/png": "[encoded data removed]",
            "text/plain": [
              "<IPython.core.display.Image object>"
            ]
          },
          "metadata": {},
          "execution_count": 44
        }
      ],
      "source": [
        "# Parameters for the Transformer-Encoder\n",
        "num_layers = 3  # Number of Transformer Encoder layers\n",
        "embedding_dim = 128  # Embedding dimension for output\n",
        "num_heads = 8  # Number of attention heads\n",
        "ff_dim = 128  # Feed-forward dimension\n",
        "dropout_rate = 0.2 # Dropout rate\n",
        "\n",
        "input_vocab_size = vocab_size # Size of the input vocabulary\n",
        "input_shape = (combined_train_sequences.shape[1], combined_train_sequences.shape[2]) # Shape of the input sequence.\n",
        "maximum_position_encoding = max_length # Maximum length of position encoding\n",
        "num_classes = 4  # Number of output classes\n",
        "\n",
        "\n",
        "# Build and compile the Transformer-Encoder model\n",
        "transformer_encoder = build_transformer_classifier(num_layers, embedding_dim,\n",
        "                                                   num_heads, ff_dim, input_vocab_size,\n",
        "                                                   input_shape, maximum_position_encoding,\n",
        "                                                   dropout_rate, num_classes)\n",
        "\n",
        "transformer_encoder.compile(optimizer=Adam(learning_rate=1e-4),\n",
        "                            loss=CustomFocalLoss(alpha=0.25, gamma=2.0, num_classes=4),\n",
        "                            metrics=['acc'])\n",
        "\n",
        "\n",
        "# Print the summary of the model\n",
        "transformer_encoder.summary()\n",
        "\n",
        "tf.keras.utils.plot_model(transformer_encoder,\n",
        "                          to_file='output/transformer_encoder_CustomFocalLoss.png',\n",
        "                          show_shapes=True, expand_nested=True)"
      ]
    },
    {
      "cell_type": "markdown",
      "metadata": {
        "id": "laz0l-p2lgqd"
      },
      "source": [
        "### Training on Train Dataset\n",
        "With the model compiled and the training dataset ready, we may train the model on this data. We will also use early stopping to prevent overfitting and set `restore_best_weights = True` to get the best fitted weights."
      ]
    },
    {
      "cell_type": "code",
      "execution_count": null,
      "metadata": {
        "colab": {
          "base_uri": "https://localhost:8080/"
        },
        "id": "cksxnH_llhRT",
        "outputId": "9f286150-607e-4319-af45-c43ce60686a2"
      },
      "outputs": [
        {
          "output_type": "stream",
          "name": "stdout",
          "text": [
            "Epoch 1/10\n",
            "31/31 [==============================] - 19s 205ms/step - loss: 0.1867 - acc: 0.3727 - val_loss: 0.2039 - val_acc: 0.2967\n",
            "Epoch 2/10\n",
            "31/31 [==============================] - 6s 181ms/step - loss: 0.1770 - acc: 0.4053 - val_loss: 0.1643 - val_acc: 0.4675\n",
            "Epoch 3/10\n",
            "31/31 [==============================] - 4s 136ms/step - loss: 0.1693 - acc: 0.4134 - val_loss: 0.1616 - val_acc: 0.4593\n",
            "Epoch 4/10\n",
            "31/31 [==============================] - 4s 129ms/step - loss: 0.1687 - acc: 0.4267 - val_loss: 0.1689 - val_acc: 0.3455\n",
            "Epoch 5/10\n",
            "31/31 [==============================] - 5s 156ms/step - loss: 0.1676 - acc: 0.4481 - val_loss: 0.1601 - val_acc: 0.4756\n",
            "Epoch 6/10\n",
            "31/31 [==============================] - 3s 114ms/step - loss: 0.1581 - acc: 0.5041 - val_loss: 0.1597 - val_acc: 0.4756\n",
            "Epoch 7/10\n",
            "31/31 [==============================] - 3s 110ms/step - loss: 0.1492 - acc: 0.5509 - val_loss: 0.1617 - val_acc: 0.5000\n",
            "Epoch 8/10\n",
            "31/31 [==============================] - 3s 93ms/step - loss: 0.1441 - acc: 0.5652 - val_loss: 0.2333 - val_acc: 0.3415\n",
            "Epoch 9/10\n",
            "31/31 [==============================] - 3s 107ms/step - loss: 0.1197 - acc: 0.6100 - val_loss: 0.2141 - val_acc: 0.4431\n",
            "Epoch 10/10\n",
            "31/31 [==============================] - 4s 116ms/step - loss: 0.1005 - acc: 0.6466 - val_loss: 0.2713 - val_acc: 0.4106\n"
          ]
        }
      ],
      "source": [
        "from tensorflow.keras.callbacks import EarlyStopping\n",
        "\n",
        "# Define constants\n",
        "batch_size = 32\n",
        "epochs = 10\n",
        "\n",
        "\n",
        "# Define early stopping\n",
        "early_stopping = EarlyStopping(monitor='val_acc', patience=3, restore_best_weights=True)\n",
        "\n",
        "# Train the model with early stopping\n",
        "transformer_history = transformer_encoder.fit(combined_train_sequences, train_labels_encoded.reshape(-1, 1), batch_size=batch_size, epochs=epochs, validation_split=0.2, callbacks=[early_stopping], verbose=1)"
      ]
    },
    {
      "cell_type": "markdown",
      "metadata": {
        "id": "qIVf1E2plyHG"
      },
      "source": [
        "### Making Predictions on Dev Dataset\n",
        "With the model now trained, we can make predictions on the dev dataset and see how the model performs."
      ]
    },
    {
      "cell_type": "code",
      "execution_count": null,
      "metadata": {
        "id": "KV3mVdQXly7Z"
      },
      "outputs": [],
      "source": [
        "def get_classification_predictions(model, label_encoder, claims_data, evidence_data):\n",
        "    \"\"\"\n",
        "    Generate classification predictions for given claims and evidence using a trained model.\n",
        "\n",
        "    Args:\n",
        "        model (keras.Model): The trained classification model.\n",
        "        label_encoder (LabelEncoder): The label encoder used to encode true labels.\n",
        "        claims_data (dict): Dictionary of claim text.\n",
        "        evidence_data (dict): Dictionary of evidence text.\n",
        "\n",
        "    Returns:\n",
        "        tuple: A tuple containing true labels (list) and predicted labels (list).\n",
        "    \"\"\"\n",
        "    # Prepare combined sequences and true labels\n",
        "    combined_sequences, true_labels = prepare_transformer_training_data(claims_data, evidence_data)\n",
        "\n",
        "    # Encode true labels\n",
        "    true_labels_encoded = label_encoder.transform(true_labels)\n",
        "\n",
        "    # Predict class probabilities\n",
        "    class_probabilities = model.predict(combined_sequences)\n",
        "\n",
        "    # Convert predicted probabilities to class labels\n",
        "    predicted_labels = [np.argmax(prob) for prob in class_probabilities]\n",
        "\n",
        "    return true_labels_encoded, predicted_labels"
      ]
    },
    {
      "cell_type": "code",
      "execution_count": null,
      "metadata": {
        "colab": {
          "base_uri": "https://localhost:8080/"
        },
        "id": "JgrIbOW9l2ej",
        "outputId": "9b6a9a06-0d12-4009-929f-4e3adf00e8eb"
      },
      "outputs": [
        {
          "output_type": "stream",
          "name": "stderr",
          "text": [
            "Processing data: 100%|██████████| 154/154 [00:00<00:00, 34924.19it/s]\n"
          ]
        },
        {
          "output_type": "stream",
          "name": "stdout",
          "text": [
            "5/5 [==============================] - 1s 33ms/step\n"
          ]
        }
      ],
      "source": [
        "# Get the true and predicted labels\n",
        "true_dev_labels, predicted_dev_labels = get_classification_predictions(transformer_encoder, label_encoder, dev_predicted_data, evidence)"
      ]
    },
    {
      "cell_type": "markdown",
      "metadata": {
        "id": "XB-ffAH-iOT9"
      },
      "source": [
        "# 3.Testing and Evaluation\n",
        "(You can add as many code blocks and text blocks as you need. However, YOU SHOULD NOT MODIFY the section title)"
      ]
    },
    {
      "cell_type": "markdown",
      "metadata": {
        "id": "0pXjzvSCMRsk"
      },
      "source": [
        "## Metrics for Evidence Retrieval"
      ]
    },
    {
      "cell_type": "markdown",
      "metadata": {
        "id": "Y8_qCPOAmWWo"
      },
      "source": [
        "### Precision, Recall and F1-Score\n",
        "Since the data was imbalanced (more irrelevant evidences), mere accuracy will not give a clear picture of the performance of the Siamese model. Hence, we should check the precision, recall and F1-scores."
      ]
    },
    {
      "cell_type": "code",
      "execution_count": null,
      "metadata": {
        "id": "Gn99dkZhMcZw"
      },
      "outputs": [],
      "source": [
        "def calculate_siamese_metrics(predicted_data, claims_data):\n",
        "    \"\"\"\n",
        "    Calculates precision, recall, and F-score for the predicted data.\n",
        "\n",
        "    Args:\n",
        "    predicted_data (dict): Predicted relevant evidences for each claim.\n",
        "    claims_data (dict): Dictionary containing claim data including true evidences.\n",
        "\n",
        "    Returns:\n",
        "    tuple: Mean precision, recall and F score.\n",
        "    \"\"\"\n",
        "    precision_scores = []\n",
        "    recall_scores = []\n",
        "\n",
        "    for claim_id, claim_info in predicted_data.items():\n",
        "        true_evidences = set(claims_data[claim_id]['evidences'])\n",
        "        predicted_evidences = set(claim_info['evidences'])\n",
        "\n",
        "        # Calculate precision\n",
        "        common_evidences = true_evidences.intersection(predicted_evidences)\n",
        "        precision = len(common_evidences) / len(predicted_evidences) if len(predicted_evidences) > 0 else 0\n",
        "        precision_scores.append(precision)\n",
        "\n",
        "        # Calculate recall\n",
        "        recall = len(common_evidences) / len(true_evidences) if len(true_evidences) > 0 else 0\n",
        "        recall_scores.append(recall)\n",
        "\n",
        "    # Calculate mean precision and recall\n",
        "    mean_precision = np.mean(precision_scores)\n",
        "    mean_recall = np.mean(recall_scores)\n",
        "\n",
        "    # Calculate F-score\n",
        "    f_score = (2 * mean_precision * mean_recall) / (mean_precision + mean_recall) if mean_precision + mean_recall > 0 else 0\n",
        "\n",
        "    return mean_precision, mean_recall, f_score"
      ]
    },
    {
      "cell_type": "code",
      "execution_count": null,
      "metadata": {
        "colab": {
          "base_uri": "https://localhost:8080/"
        },
        "id": "J9QTthMKbkr9",
        "outputId": "e0211a1d-590e-44ef-fd74-19ac84b516db"
      },
      "outputs": [
        {
          "output_type": "stream",
          "name": "stdout",
          "text": [
            "Metrics for train_predicted_data:\n",
            "precision = 0.551; recall = 0.866; F-score = 0.673\n",
            "Metrics for dev_predicted_data:\n",
            "precision = 0.534; recall = 0.883; F-score = 0.665\n"
          ]
        }
      ],
      "source": [
        "# Calculate metrics for train_predicted_data\n",
        "train_metrics = calculate_siamese_metrics(train_predicted_data, train_claims)\n",
        "\n",
        "# Calculate metrics for dev_predicted_data\n",
        "dev_metrics = calculate_siamese_metrics(dev_predicted_data, dev_claims)\n",
        "\n",
        "print(\"Metrics for train_predicted_data:\")\n",
        "print(f\"precision = {round(train_metrics[0], 3)}; recall = {round(train_metrics[1], 3)}; F-score = {round(train_metrics[2], 3)}\")\n",
        "print(\"Metrics for dev_predicted_data:\")\n",
        "print(f\"precision = {round(dev_metrics[0], 3)}; recall = {round(dev_metrics[1], 3)}; F-score = {round(dev_metrics[2], 3)}\")"
      ]
    },
    {
      "cell_type": "markdown",
      "metadata": {
        "id": "H609A1etmOnJ"
      },
      "source": [
        "## Metrics for Claim Classification"
      ]
    },
    {
      "cell_type": "markdown",
      "metadata": {
        "id": "Bz1jFg9Pma_f"
      },
      "source": [
        "### Accuracy Score"
      ]
    },
    {
      "cell_type": "code",
      "execution_count": null,
      "metadata": {
        "colab": {
          "base_uri": "https://localhost:8080/"
        },
        "id": "kkK32Msum4MP",
        "outputId": "20b95ccc-b5fd-4263-af12-b86fb2b81fad"
      },
      "outputs": [
        {
          "output_type": "stream",
          "name": "stdout",
          "text": [
            "Accuracy:  0.487012987012987\n"
          ]
        }
      ],
      "source": [
        "from sklearn.metrics import accuracy_score\n",
        "# Print the accuracy score\n",
        "print(\"Accuracy: \", accuracy_score(true_dev_labels, predicted_dev_labels))"
      ]
    },
    {
      "cell_type": "markdown",
      "metadata": {
        "id": "8mbDr22Um7VX"
      },
      "source": [
        "### Classification Report"
      ]
    },
    {
      "cell_type": "code",
      "execution_count": null,
      "metadata": {
        "colab": {
          "base_uri": "https://localhost:8080/"
        },
        "id": "htxdA3a9m_0a",
        "outputId": "75ee90a8-1abf-459d-fa3a-34a5fd433a79"
      },
      "outputs": [
        {
          "output_type": "stream",
          "name": "stdout",
          "text": [
            "True Label Counts: [['DISPUTED' 'NOT_ENOUGH_INFO' 'REFUTES' 'SUPPORTS']\n",
            " ['18' '41' '27' '68']]\n",
            "Predicted Label Counts: [['NOT_ENOUGH_INFO' 'SUPPORTS']\n",
            " ['42' '112']]\n"
          ]
        }
      ],
      "source": [
        "# Convert integer labels to string\n",
        "true_dev_labels_str = label_encoder.inverse_transform(true_dev_labels)\n",
        "predicted_dev_labels_str = label_encoder.inverse_transform(predicted_dev_labels)\n",
        "\n",
        "# Get counts of each label\n",
        "print(f'True Label Counts: {np.array(np.unique(true_dev_labels_str, return_counts=True))}')\n",
        "print(f'Predicted Label Counts: {np.array(np.unique(predicted_dev_labels_str, return_counts=True))}')"
      ]
    },
    {
      "cell_type": "code",
      "execution_count": null,
      "metadata": {
        "colab": {
          "base_uri": "https://localhost:8080/"
        },
        "id": "y-v0RHQenB8s",
        "outputId": "378ba276-a379-4d9d-ec8f-2a4e97229759"
      },
      "outputs": [
        {
          "output_type": "stream",
          "name": "stdout",
          "text": [
            "Classification Report:\n",
            "                 precision    recall  f1-score   support\n",
            "\n",
            "       DISPUTED       0.00      0.00      0.00        18\n",
            "NOT_ENOUGH_INFO       0.43      0.44      0.43        41\n",
            "        REFUTES       0.00      0.00      0.00        27\n",
            "       SUPPORTS       0.51      0.84      0.63        68\n",
            "\n",
            "       accuracy                           0.49       154\n",
            "      macro avg       0.23      0.32      0.27       154\n",
            "   weighted avg       0.34      0.49      0.40       154\n",
            "\n"
          ]
        }
      ],
      "source": [
        "from sklearn.metrics import classification_report\n",
        "# Get classfication report to evaluate each label\n",
        "print(\"Classification Report:\")\n",
        "print(classification_report(true_dev_labels_str, predicted_dev_labels_str, zero_division=0.0))"
      ]
    },
    {
      "cell_type": "markdown",
      "metadata": {
        "id": "7LP3QdnsnDaN"
      },
      "source": [
        "### Accuracy and Loss Performance across the Epochs"
      ]
    },
    {
      "cell_type": "code",
      "execution_count": null,
      "metadata": {
        "colab": {
          "base_uri": "https://localhost:8080/",
          "height": 720
        },
        "id": "c2dAv5o3nLZc",
        "outputId": "32f213cc-af19-4663-c6f5-19b0e7855d04"
      },
      "outputs": [
        {
          "output_type": "stream",
          "name": "stdout",
          "text": [
            "max train accuracy: 0.6466395258903503\n",
            "max val_acc: 0.5\n",
            "maxtrain loss: 0.18671193718910217\n",
            "max val_loss: 0.2712700068950653\n"
          ]
        },
        {
          "output_type": "display_data",
          "data": {
            "text/plain": [
              "<Figure size 600x300 with 1 Axes>"
            ],
            "image/png": "[encoded data removed]"
          },
          "metadata": {}
        },
        {
          "output_type": "display_data",
          "data": {
            "text/plain": [
              "<Figure size 600x300 with 1 Axes>"
            ],
            "image/png": "[encoded data removed]"
          },
          "metadata": {}
        }
      ],
      "source": [
        "import matplotlib.pyplot as plt\n",
        "from matplotlib.ticker import FormatStrFormatter\n",
        "\n",
        "# Extract data from the transformer_history object\n",
        "acc = transformer_history.history['acc']\n",
        "val_acc = transformer_history.history['val_acc']\n",
        "loss = transformer_history.history['loss']\n",
        "val_loss = transformer_history.history['val_loss']\n",
        "epochs = range(1, len(acc) + 1)\n",
        "\n",
        "print(\"max train accuracy:\", max(acc))\n",
        "print(\"max val_acc:\", max(val_acc))\n",
        "print(\"maxtrain loss:\", max(loss))\n",
        "print(\"max val_loss:\", max(val_loss))\n",
        "\n",
        "# Plotting the accuracy over epochs\n",
        "plt.figure(figsize=(6, 3))\n",
        "plt.plot(epochs, acc, label='Training acc')\n",
        "plt.plot(epochs, val_acc, label='Validation acc')\n",
        "plt.ylim([0.2, 0.7])\n",
        "plt.gca().yaxis.set_major_formatter(FormatStrFormatter('%.2f'))\n",
        "plt.title('Training and Validation Accuracy')\n",
        "plt.xlabel('Epochs')\n",
        "plt.ylabel('Accuracy')\n",
        "plt.legend()\n",
        "plt.show()\n",
        "\n",
        "# Plotting the loss over epochs\n",
        "plt.figure(figsize=(6, 3))\n",
        "plt.plot(epochs, loss, label='Training loss')\n",
        "plt.plot(epochs, val_loss, label='Validation loss')\n",
        "plt.ylim([0, 0.4])\n",
        "plt.gca().yaxis.set_major_formatter(FormatStrFormatter('%.2f'))\n",
        "plt.title('Training and Validation Loss')\n",
        "plt.xlabel('Epochs')\n",
        "plt.ylabel('Loss')\n",
        "plt.legend()\n",
        "plt.show()"
      ]
    },
    {
      "cell_type": "markdown",
      "metadata": {
        "id": "_mW5FpctmUkK"
      },
      "source": [
        "## Get Final Outputs and Evaluate Overall Results\n",
        "With the training and predictions now complete, we may output the final results, and use the given `eval.py` script to evaluate the final overall performance of the models."
      ]
    },
    {
      "cell_type": "code",
      "execution_count": null,
      "metadata": {
        "id": "l901UT6vni8Z"
      },
      "outputs": [],
      "source": [
        "# Initialize an empty dictionary to store final output for development data\n",
        "final_dev_output = dict()\n",
        "\n",
        "# Initialize an index counter to keep track of the position in predicted_dev_labels_str\n",
        "index_count = 0\n",
        "\n",
        "# Iterate over each claim_id in dev_predicted_data\n",
        "for claim_id in dev_predicted_data:\n",
        "    # Get the predicted label from predicted_dev_labels_str using the current index\n",
        "    predicted_label = predicted_dev_labels_str[index_count]\n",
        "\n",
        "    # Populate final_dev_output dictionary with relevant data\n",
        "    final_dev_output[claim_id] = {\n",
        "        'evidences': dev_predicted_data[claim_id]['evidences'],  # Copy evidences from dev_predicted_data\n",
        "        'claim_label': predicted_label  # Assign predicted label to 'claim_label' field\n",
        "    }\n",
        "\n",
        "    # Increment index_count to move to the next predicted label\n",
        "    index_count += 1\n",
        "\n",
        "# Write final_dev_output dictionary to a JSON file\n",
        "with open('output/final_dev_output.json', 'w') as outfile:\n",
        "    json.dump(final_dev_output, outfile)"
      ]
    },
    {
      "cell_type": "code",
      "execution_count": null,
      "metadata": {
        "id": "Sl_ulu-Wnku_",
        "colab": {
          "base_uri": "https://localhost:8080/"
        },
        "outputId": "82ff47ce-0821-47ba-9a52-1f6fe6a632f6"
      },
      "outputs": [
        {
          "output_type": "stream",
          "name": "stdout",
          "text": [
            "Evidence Retrieval F-score (F)    = 0.622253143681715\n",
            "Claim Classification Accuracy (A) = 0.487012987012987\n",
            "Harmonic Mean of F and A          = 0.5463889211020347\n"
          ]
        }
      ],
      "source": [
        "# Call eval.py with the predicted and ground-truth data\n",
        "!python3 eval.py --predictions output/final_dev_output.json --groundtruth data/dev-claims.json"
      ]
    },
    {
      "cell_type": "markdown",
      "metadata": {
        "id": "mefSOe8eTmGP"
      },
      "source": [
        "## Object Oriented Programming codes here\n",
        "\n",
        "*You can use multiple code snippets. Just add more if needed*"
      ]
    }
  ],
  "metadata": {
    "accelerator": "GPU",
    "colab": {
      "gpuType": "T4",
      "provenance": []
    },
    "kernelspec": {
      "display_name": "Python 3",
      "name": "python3"
    },
    "language_info": {
      "name": "python"
    }
  },
  "nbformat": 4,
  "nbformat_minor": 0
}